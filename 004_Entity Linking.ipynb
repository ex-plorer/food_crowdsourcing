{
 "cells": [
  {
   "cell_type": "markdown",
   "metadata": {},
   "source": [
    "> 27183 food items with reviews"
   ]
  },
  {
   "cell_type": "markdown",
   "metadata": {},
   "source": [
    "** retrive Burpple data from ES **"
   ]
  },
  {
   "cell_type": "code",
   "execution_count": 1,
   "metadata": {},
   "outputs": [
    {
     "data": {
      "text/plain": [
       "'20180313'"
      ]
     },
     "execution_count": 1,
     "metadata": {},
     "output_type": "execute_result"
    }
   ],
   "source": [
    "%load_ext autoreload\n",
    "%autoreload 2\n",
    "import myfunctions as f\n",
    "f.today()"
   ]
  },
  {
   "cell_type": "code",
   "execution_count": 4,
   "metadata": {
    "collapsed": true
   },
   "outputs": [],
   "source": [
    "# burpple parameters\n",
    "burpple, burppleinitial, burpples = f.burpple_para()"
   ]
  },
  {
   "cell_type": "code",
   "execution_count": 7,
   "metadata": {},
   "outputs": [
    {
     "name": "stdout",
     "output_type": "stream",
     "text": [
      "{\n",
      "  \"name\" : \"star7\",\n",
      "  \"cluster_name\" : \"star\",\n",
      "  \"cluster_uuid\" : \"VDcV69ThThyb00sd6PgeMA\",\n",
      "  \"version\" : {\n",
      "    \"number\" : \"2.4.5\",\n",
      "    \"build_hash\" : \"c849dd13904f53e63e88efc33b2ceeda0b6a1276\",\n",
      "    \"build_timestamp\" : \"2017-04-24T16:18:17Z\",\n",
      "    \"build_snapshot\" : false,\n",
      "    \"lucene_version\" : \"5.5.4\"\n",
      "  },\n",
      "  \"tagline\" : \"You Know, for Search\"\n",
      "}\n",
      "\n",
      "\n",
      "25709\n",
      "ES location: burpple, review\n",
      "Dimention: 25709 , 43\n",
      "Column names::_id, _index, _score, _source.body, _source.crawlTimeStamp, _source.feedDatetime, _source.foodImgUrl, _source.id, _source.name, _source.postDatetime, _source.restaurant, _source.restaurant.address, _source.restaurant.areaUrls, _source.restaurant.avgPrice, _source.restaurant.crawlTimeStamp, _source.restaurant.id, _source.restaurant.name, _source.restaurant.openingHours, _source.restaurant.phone, _source.restaurant.tags, _source.restaurant.url, _source.restaurant.website, _source.restaurantUrl, _source.title, _source.url, _source.user, _source.user.awards, _source.user.badges, _source.user.bio, _source.user.country, _source.user.crawlTimeStamp, _source.user.name, _source.user.numOfFollowers, _source.user.numOfFollowing, _source.user.numOfReviews, _source.user.numOfWishlists, _source.user.url, _source.user.userImgUrl, _source.user.username, _source.user.website, _source.userImgUrl, _source.username, _type\n",
      "\n",
      "\n",
      "CPU times: user 2min 30s, sys: 3.69 s, total: 2min 33s\n",
      "Wall time: 2min 33s\n"
     ]
    }
   ],
   "source": [
    "%%time\n",
    "# make sure ES is up and running\n",
    "f.initialise_es(1)\n",
    "print \"\"\n",
    "website = burpples[0]\n",
    "website.update({\"all_rec_review\" : f.retrive_from_es(website, \"review\", _print=True)})"
   ]
  },
  {
   "cell_type": "code",
   "execution_count": 8,
   "metadata": {},
   "outputs": [
    {
     "name": "stdout",
     "output_type": "stream",
     "text": [
      "297480\n",
      "ES location: burppleinitial, review\n",
      "Dimention: 297480 , 44\n",
      "Column names::_id, _index, _score, _source.areaName, _source.body, _source.crawlTimeStamp, _source.datetime, _source.foodImgUrl, _source.id, _source.name, _source.offset, _source.restaurant, _source.restaurant.address, _source.restaurant.areaUrls, _source.restaurant.avgPrice, _source.restaurant.crawlTimeStamp, _source.restaurant.id, _source.restaurant.name, _source.restaurant.openingHours, _source.restaurant.phone, _source.restaurant.tags, _source.restaurant.url, _source.restaurant.website, _source.restaurantUrl, _source.title, _source.url, _source.user, _source.user.awards, _source.user.badges, _source.user.bio, _source.user.country, _source.user.crawlTimeStamp, _source.user.name, _source.user.numOfFollowers, _source.user.numOfFollowing, _source.user.numOfReviews, _source.user.numOfWishlists, _source.user.url, _source.user.userImgUrl, _source.user.username, _source.user.website, _source.userImgUrl, _source.username, _type\n",
      "\n",
      "\n",
      "CPU times: user 29min 58s, sys: 37.1 s, total: 30min 35s\n",
      "Wall time: 30min 49s\n"
     ]
    }
   ],
   "source": [
    "%%time\n",
    "website = burpples[1]\n",
    "website.update({\"all_rec_review\" : f.retrive_from_es(website, \"review\", _print=True)})"
   ]
  },
  {
   "cell_type": "markdown",
   "metadata": {},
   "source": [
    "** consolidate burpple records **"
   ]
  },
  {
   "cell_type": "code",
   "execution_count": 10,
   "metadata": {},
   "outputs": [
    {
     "name": "stdout",
     "output_type": "stream",
     "text": [
      "Got 323104 unique records of review\n",
      "Got 323051 unique records of images\n",
      "Got 11180 unique users\n",
      "Got 14547 unique vendors\n",
      "Review time from 2011-11-08 00:00:00.000000 to 2017-07-20 23:04:45.837391\n",
      "CPU times: user 8.06 s, sys: 276 ms, total: 8.33 s\n",
      "Wall time: 8.33 s\n"
     ]
    }
   ],
   "source": [
    "%%time\n",
    "df = f.consolidate_burpple_records(burpples)"
   ]
  },
  {
   "cell_type": "code",
   "execution_count": 11,
   "metadata": {},
   "outputs": [
    {
     "data": {
      "text/html": [
       "<div>\n",
       "<style scoped>\n",
       "    .dataframe tbody tr th:only-of-type {\n",
       "        vertical-align: middle;\n",
       "    }\n",
       "\n",
       "    .dataframe tbody tr th {\n",
       "        vertical-align: top;\n",
       "    }\n",
       "\n",
       "    .dataframe thead th {\n",
       "        text-align: right;\n",
       "    }\n",
       "</style>\n",
       "<table border=\"1\" class=\"dataframe\">\n",
       "  <thead>\n",
       "    <tr style=\"text-align: right;\">\n",
       "      <th></th>\n",
       "      <th>_id</th>\n",
       "      <th>_type</th>\n",
       "      <th>_index</th>\n",
       "      <th>_source.title</th>\n",
       "      <th>_source.body</th>\n",
       "      <th>_source.crawlTimeStamp</th>\n",
       "      <th>_source.foodImgUrl</th>\n",
       "      <th>_source.username</th>\n",
       "      <th>_source.restaurant.id</th>\n",
       "      <th>_source.restaurant.name</th>\n",
       "      <th>feedTime</th>\n",
       "    </tr>\n",
       "  </thead>\n",
       "  <tbody>\n",
       "    <tr>\n",
       "      <th>0</th>\n",
       "      <td>--0EG2cp</td>\n",
       "      <td>review</td>\n",
       "      <td>burppleinitial</td>\n",
       "      <td>Sicilian Lemon Creme andCaramelized Red Mixed ...</td>\n",
       "      <td></td>\n",
       "      <td>2017-04-03 11:00:52.282519</td>\n",
       "      <td>https://s3.burpple.com/foods/376d87a944deb0499...</td>\n",
       "      <td>@ieatkows</td>\n",
       "      <td>34166</td>\n",
       "      <td>OSO Ristorante</td>\n",
       "      <td>2014-12-22 00:00:00.000000</td>\n",
       "    </tr>\n",
       "    <tr>\n",
       "      <th>1</th>\n",
       "      <td>--0ck5YP</td>\n",
       "      <td>review</td>\n",
       "      <td>burppleinitial</td>\n",
       "      <td>Just look at their soy sauce chicken.</td>\n",
       "      <td>The tender and juicy thigh meat with their fra...</td>\n",
       "      <td>2017-04-03 11:00:52.282519</td>\n",
       "      <td>https://s3.burpple.com/foods/2fbab5e890cf97f31...</td>\n",
       "      <td>@jiaknonstop</td>\n",
       "      <td>164762</td>\n",
       "      <td>Fatty Ox Hong Kong Kitchen (Chinatown Complex ...</td>\n",
       "      <td>2014-12-15 00:00:00.000000</td>\n",
       "    </tr>\n",
       "    <tr>\n",
       "      <th>2</th>\n",
       "      <td>--0gMGRO</td>\n",
       "      <td>review</td>\n",
       "      <td>burppleinitial</td>\n",
       "      <td>Holy, smokin' Burnt Corn Tacos - it's their WE...</td>\n",
       "      <td>(Read: time for MORE alcohol.)  #AntiDoteBar #...</td>\n",
       "      <td>2017-04-03 11:00:52.282519</td>\n",
       "      <td>https://s3.burpple.com/foods/16ff778f20e5f8614...</td>\n",
       "      <td>@Jazpster</td>\n",
       "      <td>539</td>\n",
       "      <td>Asian Market Caf (Fairmont Singapore)</td>\n",
       "      <td>2016-11-18 00:00:00.000000</td>\n",
       "    </tr>\n",
       "  </tbody>\n",
       "</table>\n",
       "</div>"
      ],
      "text/plain": [
       "        _id   _type          _index  \\\n",
       "0  --0EG2cp  review  burppleinitial   \n",
       "1  --0ck5YP  review  burppleinitial   \n",
       "2  --0gMGRO  review  burppleinitial   \n",
       "\n",
       "                                       _source.title  \\\n",
       "0  Sicilian Lemon Creme andCaramelized Red Mixed ...   \n",
       "1              Just look at their soy sauce chicken.   \n",
       "2  Holy, smokin' Burnt Corn Tacos - it's their WE...   \n",
       "\n",
       "                                        _source.body  \\\n",
       "0                                                      \n",
       "1  The tender and juicy thigh meat with their fra...   \n",
       "2  (Read: time for MORE alcohol.)  #AntiDoteBar #...   \n",
       "\n",
       "       _source.crawlTimeStamp  \\\n",
       "0  2017-04-03 11:00:52.282519   \n",
       "1  2017-04-03 11:00:52.282519   \n",
       "2  2017-04-03 11:00:52.282519   \n",
       "\n",
       "                                  _source.foodImgUrl _source.username  \\\n",
       "0  https://s3.burpple.com/foods/376d87a944deb0499...        @ieatkows   \n",
       "1  https://s3.burpple.com/foods/2fbab5e890cf97f31...     @jiaknonstop   \n",
       "2  https://s3.burpple.com/foods/16ff778f20e5f8614...        @Jazpster   \n",
       "\n",
       "  _source.restaurant.id                            _source.restaurant.name  \\\n",
       "0                 34166                                     OSO Ristorante   \n",
       "1                164762  Fatty Ox Hong Kong Kitchen (Chinatown Complex ...   \n",
       "2                   539              Asian Market Caf (Fairmont Singapore)   \n",
       "\n",
       "                     feedTime  \n",
       "0  2014-12-22 00:00:00.000000  \n",
       "1  2014-12-15 00:00:00.000000  \n",
       "2  2016-11-18 00:00:00.000000  "
      ]
     },
     "execution_count": 11,
     "metadata": {},
     "output_type": "execute_result"
    }
   ],
   "source": [
    "df.head(3)"
   ]
  },
  {
   "cell_type": "code",
   "execution_count": 13,
   "metadata": {},
   "outputs": [
    {
     "name": "stdout",
     "output_type": "stream",
     "text": [
      "burpple__review__unique__20180313.p\n",
      "CPU times: user 17.5 s, sys: 452 ms, total: 18 s\n",
      "Wall time: 18 s\n"
     ]
    }
   ],
   "source": [
    "%%time\n",
    "file_name = \"burpple__review__unique__\"+f.today()+\".p\"\n",
    "f.save_file(df, file_name)"
   ]
  },
  {
   "cell_type": "markdown",
   "metadata": {},
   "source": [
    "** obtain review objects with clean text **"
   ]
  },
  {
   "cell_type": "code",
   "execution_count": 4,
   "metadata": {
    "collapsed": true
   },
   "outputs": [],
   "source": [
    "# add new columns\n",
    "import pandas as pd\n",
    "pd.options.mode.chained_assignment = None # default is warn\n",
    "# new col: loc\n",
    "df[\"loc\"] = df[\"_index\"] + \"/\" + df[\"_type\"] + \"/\" + df[\"_id\"] \n",
    "cols = ['loc','_source.title','_source.body','_source.restaurant.name']\n",
    "df = df[cols]\n",
    "rename_cols = [col.replace(\"_source.\", \"\") for col in cols]\n",
    "df.columns = rename_cols\n",
    "# new col: full_review\n",
    "df[\"full_review\"] = df['title'] + \" \" + df['body']"
   ]
  },
  {
   "cell_type": "code",
   "execution_count": 6,
   "metadata": {},
   "outputs": [
    {
     "name": "stdout",
     "output_type": "stream",
     "text": [
      "CPU times: user 15.3 s, sys: 652 ms, total: 16 s\n",
      "Wall time: 15.8 s\n"
     ]
    }
   ],
   "source": [
    "%%time\n",
    "# twitter style cleaning\n",
    "df[\"review_text\"], df[\"hashtags\"], df[\"mentions\"], df[\"dollars\"], df[\"scores\"], df[\"urls\"] = \\\n",
    "zip(*df[\"full_review\"].apply(f.clean_review))\n",
    "cols = df.columns.tolist()\n",
    "cols.remove(\"full_review\")\n",
    "df = df[cols]"
   ]
  },
  {
   "cell_type": "code",
   "execution_count": 7,
   "metadata": {},
   "outputs": [
    {
     "name": "stdout",
     "output_type": "stream",
     "text": [
      "CPU times: user 22.8 s, sys: 56 ms, total: 22.9 s\n",
      "Wall time: 22.9 s\n"
     ]
    }
   ],
   "source": [
    "%%time\n",
    "# On review text, perform clean_name_v2()\n",
    "df[\"clean_review\"] = df[\"review_text\"].apply(f.clean_name_v2)"
   ]
  },
  {
   "cell_type": "code",
   "execution_count": 8,
   "metadata": {},
   "outputs": [
    {
     "name": "stdout",
     "output_type": "stream",
     "text": [
      "(323104, 11)\n",
      "['loc', 'title', 'body', 'restaurant.name', 'review_text', 'hashtags', 'mentions', 'dollars', 'scores', 'urls', 'clean_review']\n"
     ]
    },
    {
     "data": {
      "text/html": [
       "<div>\n",
       "<style scoped>\n",
       "    .dataframe tbody tr th:only-of-type {\n",
       "        vertical-align: middle;\n",
       "    }\n",
       "\n",
       "    .dataframe tbody tr th {\n",
       "        vertical-align: top;\n",
       "    }\n",
       "\n",
       "    .dataframe thead th {\n",
       "        text-align: right;\n",
       "    }\n",
       "</style>\n",
       "<table border=\"1\" class=\"dataframe\">\n",
       "  <thead>\n",
       "    <tr style=\"text-align: right;\">\n",
       "      <th></th>\n",
       "      <th>loc</th>\n",
       "      <th>title</th>\n",
       "      <th>body</th>\n",
       "      <th>restaurant.name</th>\n",
       "      <th>review_text</th>\n",
       "      <th>hashtags</th>\n",
       "      <th>mentions</th>\n",
       "      <th>dollars</th>\n",
       "      <th>scores</th>\n",
       "      <th>urls</th>\n",
       "      <th>clean_review</th>\n",
       "    </tr>\n",
       "  </thead>\n",
       "  <tbody>\n",
       "    <tr>\n",
       "      <th>242662</th>\n",
       "      <td>burppleinitial/review/jnF_zvaY</td>\n",
       "      <td>Aged Cheddar, Fig &amp; #Cognac Jam and Candied Wa...</td>\n",
       "      <td>Aged Cheddar, Fig &amp; #Cognac Jam and Candied Wa...</td>\n",
       "      <td>The Humble Loaf</td>\n",
       "      <td>Aged Cheddar, Fig and Jam and Candied Walnuts ...</td>\n",
       "      <td>(#Cognac, #lunch, #weekend, #Cognac, #lunch, #...</td>\n",
       "      <td>()</td>\n",
       "      <td>()</td>\n",
       "      <td>()</td>\n",
       "      <td>()</td>\n",
       "      <td>aged cheddar fig and jam and candied walnuts o...</td>\n",
       "    </tr>\n",
       "    <tr>\n",
       "      <th>74846</th>\n",
       "      <td>burppleinitial/review/CzDetUln</td>\n",
       "      <td>Orange Brioche</td>\n",
       "      <td></td>\n",
       "      <td>Artisan Boulangerie Co. (Great World City)</td>\n",
       "      <td>Orange Brioche</td>\n",
       "      <td>()</td>\n",
       "      <td>()</td>\n",
       "      <td>()</td>\n",
       "      <td>()</td>\n",
       "      <td>()</td>\n",
       "      <td>orange brioche</td>\n",
       "    </tr>\n",
       "  </tbody>\n",
       "</table>\n",
       "</div>"
      ],
      "text/plain": [
       "                                   loc  \\\n",
       "242662  burppleinitial/review/jnF_zvaY   \n",
       "74846   burppleinitial/review/CzDetUln   \n",
       "\n",
       "                                                    title  \\\n",
       "242662  Aged Cheddar, Fig & #Cognac Jam and Candied Wa...   \n",
       "74846                                      Orange Brioche   \n",
       "\n",
       "                                                     body  \\\n",
       "242662  Aged Cheddar, Fig & #Cognac Jam and Candied Wa...   \n",
       "74846                                                       \n",
       "\n",
       "                                   restaurant.name  \\\n",
       "242662                             The Humble Loaf   \n",
       "74846   Artisan Boulangerie Co. (Great World City)   \n",
       "\n",
       "                                              review_text  \\\n",
       "242662  Aged Cheddar, Fig and Jam and Candied Walnuts ...   \n",
       "74846                                      Orange Brioche   \n",
       "\n",
       "                                                 hashtags mentions dollars  \\\n",
       "242662  (#Cognac, #lunch, #weekend, #Cognac, #lunch, #...       ()      ()   \n",
       "74846                                                  ()       ()      ()   \n",
       "\n",
       "       scores urls                                       clean_review  \n",
       "242662     ()   ()  aged cheddar fig and jam and candied walnuts o...  \n",
       "74846      ()   ()                                     orange brioche  "
      ]
     },
     "execution_count": 8,
     "metadata": {},
     "output_type": "execute_result"
    }
   ],
   "source": [
    "print df.shape\n",
    "print df.columns.tolist()\n",
    "df.sample(2,random_state=2008)"
   ]
  },
  {
   "cell_type": "code",
   "execution_count": 9,
   "metadata": {},
   "outputs": [
    {
     "name": "stdout",
     "output_type": "stream",
     "text": [
      "saved: burpple__review__clean__20180317.p\n",
      "CPU times: user 17.3 s, sys: 632 ms, total: 17.9 s\n",
      "Wall time: 17.9 s\n"
     ]
    }
   ],
   "source": [
    "%%time\n",
    "file_name = \"burpple__review__clean__\"+f.today()+\".p\"\n",
    "f.save_file(df, file_name)"
   ]
  },
  {
   "cell_type": "code",
   "execution_count": 10,
   "metadata": {},
   "outputs": [
    {
     "name": "stdout",
     "output_type": "stream",
     "text": [
      "number of unique reviews: 277772\n"
     ]
    }
   ],
   "source": [
    "all_reviews = sorted([s for s in set(df[\"clean_review\"].tolist()) if len(s)>0])\n",
    "print \"number of unique reviews: %d\"%len(all_reviews)"
   ]
  },
  {
   "cell_type": "markdown",
   "metadata": {},
   "source": [
    "** retrive food entities **"
   ]
  },
  {
   "cell_type": "code",
   "execution_count": 13,
   "metadata": {},
   "outputs": [
    {
     "name": "stdout",
     "output_type": "stream",
     "text": [
      "retrived: food_entities__20180317.p\n"
     ]
    }
   ],
   "source": [
    "file_name = \"food_entities__20180317.p\"\n",
    "food = f.retrive_file(file_name)"
   ]
  },
  {
   "cell_type": "code",
   "execution_count": 22,
   "metadata": {},
   "outputs": [
    {
     "name": "stdout",
     "output_type": "stream",
     "text": [
      "number of food searched for: 139083\n"
     ]
    }
   ],
   "source": [
    "food_entities = food.reset_index()\n",
    "# remove food of \" and \"-PRON-\"\n",
    "food_entities = food_entities[~food_entities[\"assigned_name\"].isin([\"\", \"-PRON-\"])]\n",
    "# food name variant : food_item_index\n",
    "index_ref = dict()\n",
    "def add_ref(line):\n",
    "    v = line[\"index\"]\n",
    "    index_ref.update({k:v for k in line[\"name_variants\"]})\n",
    "food_entities.apply(add_ref, axis =1)\n",
    "food_items = index_ref.keys()\n",
    "print \"number of food searched for: %d\"%len(food_items)"
   ]
  },
  {
   "cell_type": "code",
   "execution_count": 23,
   "metadata": {
    "collapsed": true
   },
   "outputs": [],
   "source": [
    "file_name = \"words_to_remove_20180308.csv\"\n",
    "rmv = pd.read_csv(file_name, header=None)[0].tolist()\n",
    "rmv = rmv+['can', 'sweet', 'love', 'up', 'no', 'me', 'back', 'fluffy', 'hot', 'spicy', 'crisp', 'salty', 'house', 'red', 'fat', 'roasted', 'white', 'refreshing', 'black', 'cold', 'deep fried', 'pieces', 'toasted', 'skin', 'cheesy', 'hungry', 'pop', 'miss', 'option', 'fried', 'tomato', 'vanilla', 'plus', 'potato', 'thai', 'spice', 'infused', 'sauces', 'to share', 'lover', 'surprise', 'balanced', 'choice', 'french', 'green', 'steamed', 'italian', 'wake up', 'silver', 'savoury flavours', 'western', 'set for', 'pan fried', 'the original', 'decadence', 'the great', 'uplifting', 'all in', 'meaty', 'spice level', 'per slice', 'discovery', 'smokey', 'all time favourites', 'sticky', 'the double', 'pint', 'mad', 'singapore style', 'alcoholic', 'serves', 'nutty', 'salted', 'lunch set', 'boost', 'anything', 'dips', 'vietnamese', 'set lunch', 'lager', 'for pax', 'below', 'bundle']"
   ]
  },
  {
   "cell_type": "markdown",
   "metadata": {},
   "source": [
    "** search for food entities **"
   ]
  },
  {
   "cell_type": "code",
   "execution_count": 30,
   "metadata": {},
   "outputs": [
    {
     "name": "stdout",
     "output_type": "stream",
     "text": [
      "saved: burpple__review__food__20180318.p\n",
      "CPU times: user 4h 48min 43s, sys: 1min 31s, total: 4h 50min 15s\n",
      "Wall time: 4h 47min 42s\n"
     ]
    }
   ],
   "source": [
    "%%time\n",
    "\"\"\"\n",
    "saved: burpple__review__food__20180318.p\n",
    "CPU times: user 4h 48min 43s, sys: 1min 31s, total: 4h 50min 15s\n",
    "Wall time: 4h 47min 42s\n",
    "\"\"\"\n",
    "def search_food(review):\n",
    "    return [s for s in f.search_food(review, values=food_items) if s not in rmv]\n",
    "\n",
    "if 1==1:\n",
    "    df[\"food_items\"] = df[\"clean_review\"].apply(search_food)    \n",
    "    # ref name_variation to food index\n",
    "    df[\"food_index\"] = df[\"food_items\"].apply(lambda l: \n",
    "                                              sorted([index_ref[s] for s in l]))\n",
    "    # remove original review_text\n",
    "    cols = df.columns.tolist()\n",
    "    cols.remove(\"review_text\")\n",
    "    df = df[cols]"
   ]
  },
  {
   "cell_type": "code",
   "execution_count": 59,
   "metadata": {},
   "outputs": [
    {
     "name": "stdout",
     "output_type": "stream",
     "text": [
      "saved: burpple__review__food__20180319.p\n"
     ]
    }
   ],
   "source": [
    "file_name = \"burpple__review__food__\"+f.today()+\".p\" \n",
    "f.save_file(df, file_name)"
   ]
  },
  {
   "cell_type": "code",
   "execution_count": 76,
   "metadata": {},
   "outputs": [
    {
     "data": {
      "text/plain": [
       "['loc',\n",
       " 'title',\n",
       " 'body',\n",
       " 'restaurant.name',\n",
       " 'hashtags',\n",
       " 'mentions',\n",
       " 'dollars',\n",
       " 'scores',\n",
       " 'urls',\n",
       " 'clean_review',\n",
       " 'food_items',\n",
       " 'food_index']"
      ]
     },
     "execution_count": 76,
     "metadata": {},
     "output_type": "execute_result"
    }
   ],
   "source": [
    "df.columns.tolist()"
   ]
  },
  {
   "cell_type": "code",
   "execution_count": null,
   "metadata": {
    "collapsed": true
   },
   "outputs": [],
   "source": []
  },
  {
   "cell_type": "code",
   "execution_count": 58,
   "metadata": {},
   "outputs": [
    {
     "data": {
      "text/html": [
       "<div>\n",
       "<style scoped>\n",
       "    .dataframe tbody tr th:only-of-type {\n",
       "        vertical-align: middle;\n",
       "    }\n",
       "\n",
       "    .dataframe tbody tr th {\n",
       "        vertical-align: top;\n",
       "    }\n",
       "\n",
       "    .dataframe thead th {\n",
       "        text-align: right;\n",
       "    }\n",
       "</style>\n",
       "<table border=\"1\" class=\"dataframe\">\n",
       "  <thead>\n",
       "    <tr style=\"text-align: right;\">\n",
       "      <th></th>\n",
       "      <th>loc</th>\n",
       "      <th>title</th>\n",
       "      <th>body</th>\n",
       "      <th>restaurant.name</th>\n",
       "      <th>hashtags</th>\n",
       "      <th>mentions</th>\n",
       "      <th>dollars</th>\n",
       "      <th>scores</th>\n",
       "      <th>urls</th>\n",
       "      <th>clean_review</th>\n",
       "      <th>food_items</th>\n",
       "      <th>food_index</th>\n",
       "    </tr>\n",
       "  </thead>\n",
       "  <tbody>\n",
       "    <tr>\n",
       "      <th>242662</th>\n",
       "      <td>burppleinitial/review/jnF_zvaY</td>\n",
       "      <td>Aged Cheddar, Fig &amp; #Cognac Jam and Candied Wa...</td>\n",
       "      <td>Aged Cheddar, Fig &amp; #Cognac Jam and Candied Wa...</td>\n",
       "      <td>The Humble Loaf</td>\n",
       "      <td>(#Cognac, #lunch, #weekend, #Cognac, #lunch, #...</td>\n",
       "      <td>()</td>\n",
       "      <td>()</td>\n",
       "      <td>()</td>\n",
       "      <td>()</td>\n",
       "      <td>aged cheddar fig and jam and candied walnuts o...</td>\n",
       "      <td>[toast, jam, walnuts]</td>\n",
       "      <td>[food_item_102154, food_item_47881, food_item_...</td>\n",
       "    </tr>\n",
       "    <tr>\n",
       "      <th>74846</th>\n",
       "      <td>burppleinitial/review/CzDetUln</td>\n",
       "      <td>Orange Brioche</td>\n",
       "      <td></td>\n",
       "      <td>Artisan Boulangerie Co. (Great World City)</td>\n",
       "      <td>()</td>\n",
       "      <td>()</td>\n",
       "      <td>()</td>\n",
       "      <td>()</td>\n",
       "      <td>()</td>\n",
       "      <td>orange brioche</td>\n",
       "      <td>[orange brioche]</td>\n",
       "      <td>[food_item_65293]</td>\n",
       "    </tr>\n",
       "  </tbody>\n",
       "</table>\n",
       "</div>"
      ],
      "text/plain": [
       "                                   loc  \\\n",
       "242662  burppleinitial/review/jnF_zvaY   \n",
       "74846   burppleinitial/review/CzDetUln   \n",
       "\n",
       "                                                    title  \\\n",
       "242662  Aged Cheddar, Fig & #Cognac Jam and Candied Wa...   \n",
       "74846                                      Orange Brioche   \n",
       "\n",
       "                                                     body  \\\n",
       "242662  Aged Cheddar, Fig & #Cognac Jam and Candied Wa...   \n",
       "74846                                                       \n",
       "\n",
       "                                   restaurant.name  \\\n",
       "242662                             The Humble Loaf   \n",
       "74846   Artisan Boulangerie Co. (Great World City)   \n",
       "\n",
       "                                                 hashtags mentions dollars  \\\n",
       "242662  (#Cognac, #lunch, #weekend, #Cognac, #lunch, #...       ()      ()   \n",
       "74846                                                  ()       ()      ()   \n",
       "\n",
       "       scores urls                                       clean_review  \\\n",
       "242662     ()   ()  aged cheddar fig and jam and candied walnuts o...   \n",
       "74846      ()   ()                                     orange brioche   \n",
       "\n",
       "                   food_items  \\\n",
       "242662  [toast, jam, walnuts]   \n",
       "74846        [orange brioche]   \n",
       "\n",
       "                                               food_index  \n",
       "242662  [food_item_102154, food_item_47881, food_item_...  \n",
       "74846                                   [food_item_65293]  "
      ]
     },
     "execution_count": 58,
     "metadata": {},
     "output_type": "execute_result"
    }
   ],
   "source": [
    "df.sample(2, random_state=2008)"
   ]
  },
  {
   "cell_type": "code",
   "execution_count": 61,
   "metadata": {},
   "outputs": [
    {
     "name": "stdout",
     "output_type": "stream",
     "text": [
      "number of food name variations itendtified: 27183\n"
     ]
    }
   ],
   "source": [
    "freq = f.count_freq(f.flatten(df[\"food_items\"].tolist()))\n",
    "print \"number of food name variations itendtified: %d\"%len(freq)"
   ]
  },
  {
   "cell_type": "code",
   "execution_count": 60,
   "metadata": {},
   "outputs": [
    {
     "name": "stdout",
     "output_type": "stream",
     "text": [
      "number of unique food items itendtified: 21273\n"
     ]
    }
   ],
   "source": [
    "freq = f.count_freq(f.flatten(df[\"food_index\"].tolist()))\n",
    "print \"number of unique food items itendtified: %d\"%len(freq)"
   ]
  },
  {
   "cell_type": "code",
   "execution_count": 41,
   "metadata": {},
   "outputs": [
    {
     "data": {
      "text/plain": [
       "[('coffee', 9807),\n",
       " ('meat', 7097),\n",
       " ('ice cream', 5983),\n",
       " ('rice', 5537),\n",
       " ('soup', 5145),\n",
       " ('egg', 4536),\n",
       " ('noodles', 4500),\n",
       " ('cake', 4016),\n",
       " ('cheese', 3925),\n",
       " ('pork', 3771)]"
      ]
     },
     "execution_count": 41,
     "metadata": {},
     "output_type": "execute_result"
    }
   ],
   "source": [
    "# most popular food items\n",
    "freq[:10]"
   ]
  },
  {
   "cell_type": "markdown",
   "metadata": {},
   "source": [
    "** link review locs to entities ** "
   ]
  },
  {
   "cell_type": "code",
   "execution_count": 42,
   "metadata": {
    "collapsed": true
   },
   "outputs": [],
   "source": [
    "# obtain review locs for each food item\n",
    "loc_ref = df.set_index(\"loc\").to_dict()[\"food_index\"]\n",
    "inv_loc_ref = f.inverse_dict(loc_ref)\n",
    "# append review locs to food entities\n",
    "food.reset_index(inplace=True)\n",
    "def map_loc(s):\n",
    "    try:\n",
    "        return inv_loc_ref[s]\n",
    "    except:\n",
    "        return []\n",
    "food[\"review_loc\"] = food[\"index\"].apply(map_loc)\n",
    "food.set_index(\"index\", inplace=True)"
   ]
  },
  {
   "cell_type": "code",
   "execution_count": 73,
   "metadata": {},
   "outputs": [
    {
     "data": {
      "text/html": [
       "<div>\n",
       "<style scoped>\n",
       "    .dataframe tbody tr th:only-of-type {\n",
       "        vertical-align: middle;\n",
       "    }\n",
       "\n",
       "    .dataframe tbody tr th {\n",
       "        vertical-align: top;\n",
       "    }\n",
       "\n",
       "    .dataframe thead th {\n",
       "        text-align: right;\n",
       "    }\n",
       "</style>\n",
       "<table border=\"1\" class=\"dataframe\">\n",
       "  <thead>\n",
       "    <tr style=\"text-align: right;\">\n",
       "      <th></th>\n",
       "      <th>assigned_name</th>\n",
       "      <th>name_variants</th>\n",
       "      <th>menu_name</th>\n",
       "      <th>tag</th>\n",
       "      <th>price</th>\n",
       "      <th>desc</th>\n",
       "      <th>vendors</th>\n",
       "      <th>identification_index</th>\n",
       "      <th>loc</th>\n",
       "      <th>price_average</th>\n",
       "      <th>review_loc</th>\n",
       "      <th>first_record</th>\n",
       "      <th>latest_record</th>\n",
       "    </tr>\n",
       "    <tr>\n",
       "      <th>index</th>\n",
       "      <th></th>\n",
       "      <th></th>\n",
       "      <th></th>\n",
       "      <th></th>\n",
       "      <th></th>\n",
       "      <th></th>\n",
       "      <th></th>\n",
       "      <th></th>\n",
       "      <th></th>\n",
       "      <th></th>\n",
       "      <th></th>\n",
       "      <th></th>\n",
       "      <th></th>\n",
       "    </tr>\n",
       "  </thead>\n",
       "  <tbody>\n",
       "    <tr>\n",
       "      <th>food_item_13994</th>\n",
       "      <td>cannelloni di malanzane</td>\n",
       "      <td>[cannelloni di malanzane]</td>\n",
       "      <td>[(Cannelloni Di Malanzane, 15)]</td>\n",
       "      <td>[Specialita]</td>\n",
       "      <td>[31.03, 31.03, 31.03, 31.03, 31.03, 31.03, 31....</td>\n",
       "      <td>[, Baked eggplant cannelloni, goat ricotta che...</td>\n",
       "      <td>[delivery_3055, delivery_3056]</td>\n",
       "      <td>(food_17362,)</td>\n",
       "      <td>[deliveroo/food/39541, deliveroo/food/82634, d...</td>\n",
       "      <td>31.03</td>\n",
       "      <td>[]</td>\n",
       "      <td>2017-07-03</td>\n",
       "      <td>2018-03-01</td>\n",
       "    </tr>\n",
       "    <tr>\n",
       "      <th>food_item_6491</th>\n",
       "      <td>beef mandi</td>\n",
       "      <td>[beef mandi]</td>\n",
       "      <td>[(Beef Mandi, 18)]</td>\n",
       "      <td>[Favourites, Mandi]</td>\n",
       "      <td>[8.0, 8.0, 8.0, 8.0, 8.0, 8.0, 8.0, 8.0, 8.0, ...</td>\n",
       "      <td>[, Default]</td>\n",
       "      <td>[delivery_199]</td>\n",
       "      <td>(food_8022,)</td>\n",
       "      <td>[foodpanda/menu_item/112620, foodpanda/menu_it...</td>\n",
       "      <td>8.00</td>\n",
       "      <td>[]</td>\n",
       "      <td>2017-07-11</td>\n",
       "      <td>2018-03-01</td>\n",
       "    </tr>\n",
       "  </tbody>\n",
       "</table>\n",
       "</div>"
      ],
      "text/plain": [
       "                           assigned_name              name_variants  \\\n",
       "index                                                                 \n",
       "food_item_13994  cannelloni di malanzane  [cannelloni di malanzane]   \n",
       "food_item_6491                beef mandi               [beef mandi]   \n",
       "\n",
       "                                       menu_name                  tag  \\\n",
       "index                                                                   \n",
       "food_item_13994  [(Cannelloni Di Malanzane, 15)]         [Specialita]   \n",
       "food_item_6491                [(Beef Mandi, 18)]  [Favourites, Mandi]   \n",
       "\n",
       "                                                             price  \\\n",
       "index                                                                \n",
       "food_item_13994  [31.03, 31.03, 31.03, 31.03, 31.03, 31.03, 31....   \n",
       "food_item_6491   [8.0, 8.0, 8.0, 8.0, 8.0, 8.0, 8.0, 8.0, 8.0, ...   \n",
       "\n",
       "                                                              desc  \\\n",
       "index                                                                \n",
       "food_item_13994  [, Baked eggplant cannelloni, goat ricotta che...   \n",
       "food_item_6491                                         [, Default]   \n",
       "\n",
       "                                        vendors identification_index  \\\n",
       "index                                                                  \n",
       "food_item_13994  [delivery_3055, delivery_3056]        (food_17362,)   \n",
       "food_item_6491                   [delivery_199]         (food_8022,)   \n",
       "\n",
       "                                                               loc  \\\n",
       "index                                                                \n",
       "food_item_13994  [deliveroo/food/39541, deliveroo/food/82634, d...   \n",
       "food_item_6491   [foodpanda/menu_item/112620, foodpanda/menu_it...   \n",
       "\n",
       "                 price_average review_loc first_record latest_record  \n",
       "index                                                                 \n",
       "food_item_13994          31.03         []   2017-07-03    2018-03-01  \n",
       "food_item_6491            8.00         []   2017-07-11    2018-03-01  "
      ]
     },
     "execution_count": 73,
     "metadata": {},
     "output_type": "execute_result"
    }
   ],
   "source": [
    "food.sample(2, random_state=2008)"
   ]
  },
  {
   "cell_type": "code",
   "execution_count": 74,
   "metadata": {},
   "outputs": [
    {
     "name": "stdout",
     "output_type": "stream",
     "text": [
      "saved: food_entities__20180320.json\n"
     ]
    }
   ],
   "source": [
    "## save to json\n",
    "file_name = \"__\".join([\"food_entities\", f.today()]) + \".json\"\n",
    "food.to_json(file_name, orient='index')\n",
    "print \"saved: %s\"%file_name"
   ]
  },
  {
   "cell_type": "code",
   "execution_count": 75,
   "metadata": {},
   "outputs": [
    {
     "name": "stdout",
     "output_type": "stream",
     "text": [
      "saved: food_entities__20180320.p\n"
     ]
    }
   ],
   "source": [
    "## save to p file\n",
    "file_name = \"__\".join([\"food_entities\", f.today()]) + \".p\"\n",
    "f.save_file(food, file_name)"
   ]
  },
  {
   "cell_type": "code",
   "execution_count": null,
   "metadata": {
    "collapsed": true
   },
   "outputs": [],
   "source": []
  }
 ],
 "metadata": {
  "kernelspec": {
   "display_name": "Python 2",
   "language": "python",
   "name": "python2"
  },
  "language_info": {
   "codemirror_mode": {
    "name": "ipython",
    "version": 2
   },
   "file_extension": ".py",
   "mimetype": "text/x-python",
   "name": "python",
   "nbconvert_exporter": "python",
   "pygments_lexer": "ipython2",
   "version": "2.7.14"
  }
 },
 "nbformat": 4,
 "nbformat_minor": 2
}
