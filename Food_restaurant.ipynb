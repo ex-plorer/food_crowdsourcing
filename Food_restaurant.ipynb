{
 "cells": [
  {
   "cell_type": "markdown",
   "metadata": {},
   "source": [
    "# Food-restaurant edges"
   ]
  },
  {
   "cell_type": "markdown",
   "metadata": {},
   "source": [
    "Food offered by the restaurant based on delivery menus, or mentioned in reviews of the restaurant"
   ]
  },
  {
   "cell_type": "code",
   "execution_count": 10,
   "metadata": {},
   "outputs": [
    {
     "name": "stdout",
     "output_type": "stream",
     "text": [
      "system_info: 2.7.14 |Anaconda custom (64-bit)| (default, Oct 27 2017, 18:21:12) \n",
      "[GCC 7.2.0]\n",
      "path_info: /home/yueliu/Desktop/workspace_yue/Documentation_201712\n"
     ]
    }
   ],
   "source": [
    "# python version\n",
    "import sys\n",
    "print \"system_info: %s\"%sys.version\n",
    "# current working directory\n",
    "import os\n",
    "print \"path_info: %s\"%os.getcwd() "
   ]
  },
  {
   "cell_type": "code",
   "execution_count": 11,
   "metadata": {},
   "outputs": [
    {
     "name": "stdout",
     "output_type": "stream",
     "text": [
      "20180208\n"
     ]
    }
   ],
   "source": [
    "import myfunctions as f\n",
    "print f.today()"
   ]
  },
  {
   "cell_type": "code",
   "execution_count": 12,
   "metadata": {},
   "outputs": [
    {
     "name": "stdout",
     "output_type": "stream",
     "text": [
      "retrived: food_entities__20180208.p\n"
     ]
    }
   ],
   "source": [
    "file_name = \"food_entities__20180208.p\"   \n",
    "df_retrived = f.retrive_file(file_name)"
   ]
  },
  {
   "cell_type": "code",
   "execution_count": 13,
   "metadata": {},
   "outputs": [
    {
     "name": "stdout",
     "output_type": "stream",
     "text": [
      "(92298, 11)\n",
      "['index', 'food_name', 'locs', 'synonyms', 'menu_names', 'restaurant', 'review', 'review.clean_text', 'review.restaurant', 'review.text', 'review.image']\n"
     ]
    },
    {
     "data": {
      "text/html": [
       "<div>\n",
       "<style scoped>\n",
       "    .dataframe tbody tr th:only-of-type {\n",
       "        vertical-align: middle;\n",
       "    }\n",
       "\n",
       "    .dataframe tbody tr th {\n",
       "        vertical-align: top;\n",
       "    }\n",
       "\n",
       "    .dataframe thead th {\n",
       "        text-align: right;\n",
       "    }\n",
       "</style>\n",
       "<table border=\"1\" class=\"dataframe\">\n",
       "  <thead>\n",
       "    <tr style=\"text-align: right;\">\n",
       "      <th></th>\n",
       "      <th>index</th>\n",
       "      <th>food_name</th>\n",
       "      <th>locs</th>\n",
       "      <th>synonyms</th>\n",
       "      <th>menu_names</th>\n",
       "      <th>restaurant</th>\n",
       "      <th>review</th>\n",
       "      <th>review.clean_text</th>\n",
       "      <th>review.restaurant</th>\n",
       "      <th>review.text</th>\n",
       "      <th>review.image</th>\n",
       "    </tr>\n",
       "  </thead>\n",
       "  <tbody>\n",
       "    <tr>\n",
       "      <th>0</th>\n",
       "      <td>food_0</td>\n",
       "      <td>-PRON- ann</td>\n",
       "      <td>[deliveroo/food/68155, deliveroo/food/AV062oM7...</td>\n",
       "      <td>[em ann]</td>\n",
       "      <td>[(Em Ann M., 3)]</td>\n",
       "      <td>[delivery_3748, delivery_3749, delivery_3750]</td>\n",
       "      <td>[burppleinitial/review/vGui2G8q]</td>\n",
       "      <td>[maggie mee goreng from the rooftop at screeni...</td>\n",
       "      <td>[(burpple_12581, 1)]</td>\n",
       "      <td>[Maggi Mee Goreng from The Rooftop at Screenin...</td>\n",
       "      <td>[vGui2G8q]</td>\n",
       "    </tr>\n",
       "  </tbody>\n",
       "</table>\n",
       "</div>"
      ],
      "text/plain": [
       "    index   food_name                                               locs  \\\n",
       "0  food_0  -PRON- ann  [deliveroo/food/68155, deliveroo/food/AV062oM7...   \n",
       "\n",
       "   synonyms        menu_names                                     restaurant  \\\n",
       "0  [em ann]  [(Em Ann M., 3)]  [delivery_3748, delivery_3749, delivery_3750]   \n",
       "\n",
       "                             review  \\\n",
       "0  [burppleinitial/review/vGui2G8q]   \n",
       "\n",
       "                                   review.clean_text     review.restaurant  \\\n",
       "0  [maggie mee goreng from the rooftop at screeni...  [(burpple_12581, 1)]   \n",
       "\n",
       "                                         review.text review.image  \n",
       "0  [Maggi Mee Goreng from The Rooftop at Screenin...   [vGui2G8q]  "
      ]
     },
     "execution_count": 13,
     "metadata": {},
     "output_type": "execute_result"
    }
   ],
   "source": [
    "print df_retrived.shape\n",
    "print df_retrived.columns.tolist()\n",
    "df_retrived.head(1)"
   ]
  },
  {
   "cell_type": "markdown",
   "metadata": {},
   "source": [
    "## 1. based on delivery menus\n"
   ]
  },
  {
   "cell_type": "code",
   "execution_count": 14,
   "metadata": {
    "collapsed": true
   },
   "outputs": [],
   "source": [
    "# food restaurant_delivery_boolean\n",
    "type = \"fr_de_boo\""
   ]
  },
  {
   "cell_type": "code",
   "execution_count": 15,
   "metadata": {},
   "outputs": [
    {
     "name": "stdout",
     "output_type": "stream",
     "text": [
      "number of fr_de_boo relations found: 297458\n",
      "CPU times: user 1.24 s, sys: 76 ms, total: 1.32 s\n",
      "Wall time: 1.31 s\n"
     ]
    }
   ],
   "source": [
    "%%time\n",
    "restaurant_food = df_retrived.set_index(\"index\").to_dict()[\"restaurant\"]\n",
    "fr_de_boo = []\n",
    "index = 0\n",
    "\n",
    "for food in df_retrived[\"index\"].tolist():\n",
    "    for r in restaurant_food[food]:\n",
    "        fr_de_boo.append([index, food, 1, r, type])\n",
    "        index+=1\n",
    "print \"number of fr_de_boo relations found: %d\"%index"
   ]
  },
  {
   "cell_type": "code",
   "execution_count": 16,
   "metadata": {},
   "outputs": [
    {
     "name": "stdout",
     "output_type": "stream",
     "text": [
      "saved: fr_de_boo__20180208.p\n"
     ]
    }
   ],
   "source": [
    "file_name = \"__\".join([\"fr_de_boo\", f.today()]) + \".p\"\n",
    "f.save_file(fr_de_boo, file_name)"
   ]
  },
  {
   "cell_type": "markdown",
   "metadata": {},
   "source": [
    "## 2. based on reviews\n"
   ]
  },
  {
   "cell_type": "code",
   "execution_count": 17,
   "metadata": {
    "collapsed": true
   },
   "outputs": [],
   "source": [
    "# food restaurant_review_cnt\n",
    "type = \"fr_de_cnt\""
   ]
  },
  {
   "cell_type": "code",
   "execution_count": 26,
   "metadata": {},
   "outputs": [
    {
     "name": "stdout",
     "output_type": "stream",
     "text": [
      "number of fr_de_cnt relations found: 458593\n",
      "CPU times: user 1.35 s, sys: 4 ms, total: 1.36 s\n",
      "Wall time: 1.35 s\n"
     ]
    }
   ],
   "source": [
    "%%time\n",
    "restaurant_food = df_retrived.set_index(\"index\").to_dict()[\"review.restaurant\"]\n",
    "fr_de_cnt = []\n",
    "index = 0\n",
    "for food in df_retrived[\"index\"].tolist():\n",
    "    if restaurant_food[food] == restaurant_food[food]: # check for nan\n",
    "        for r in restaurant_food[food]:\n",
    "            fr_de_cnt.append([index, food, r[1], r[0], type])\n",
    "            index+=1\n",
    "print \"number of fr_de_cnt relations found: %d\"%index"
   ]
  },
  {
   "cell_type": "code",
   "execution_count": 27,
   "metadata": {},
   "outputs": [
    {
     "name": "stdout",
     "output_type": "stream",
     "text": [
      "saved: fr_de_cnt__20180208.p\n"
     ]
    }
   ],
   "source": [
    "file_name = \"__\".join([\"fr_de_cnt\", f.today()]) + \".p\"\n",
    "f.save_file(fr_de_cnt, file_name)"
   ]
  },
  {
   "cell_type": "code",
   "execution_count": null,
   "metadata": {
    "collapsed": true
   },
   "outputs": [],
   "source": []
  }
 ],
 "metadata": {
  "kernelspec": {
   "display_name": "Python 2",
   "language": "python",
   "name": "python2"
  },
  "language_info": {
   "codemirror_mode": {
    "name": "ipython",
    "version": 2
   },
   "file_extension": ".py",
   "mimetype": "text/x-python",
   "name": "python",
   "nbconvert_exporter": "python",
   "pygments_lexer": "ipython2",
   "version": "2.7.14"
  }
 },
 "nbformat": 4,
 "nbformat_minor": 2
}
