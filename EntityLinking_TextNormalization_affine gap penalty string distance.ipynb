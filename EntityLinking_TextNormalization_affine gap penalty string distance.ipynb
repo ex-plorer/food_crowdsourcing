{
 "cells": [
  {
   "cell_type": "markdown",
   "metadata": {},
   "source": [
    "## affine gap penalty string distance\n",
    "\n",
    "> input: food names\n",
    "\n",
    "> output: words to remove / synomyms"
   ]
  },
  {
   "cell_type": "code",
   "execution_count": 1,
   "metadata": {},
   "outputs": [
    {
     "name": "stdout",
     "output_type": "stream",
     "text": [
      "system_info: 2.7.14 |Anaconda custom (64-bit)| (default, Oct 27 2017, 18:21:12) \n",
      "[GCC 7.2.0]\n",
      "path_info: /home/yueliu/Desktop/workspace_yue/Documentation_201712\n"
     ]
    }
   ],
   "source": [
    "# python version\n",
    "import sys\n",
    "print \"system_info: %s\"%sys.version\n",
    "# current working directory\n",
    "import os\n",
    "print \"path_info: %s\"%os.getcwd() "
   ]
  },
  {
   "cell_type": "code",
   "execution_count": 2,
   "metadata": {},
   "outputs": [
    {
     "data": {
      "text/plain": [
       "'20180308'"
      ]
     },
     "execution_count": 2,
     "metadata": {},
     "output_type": "execute_result"
    }
   ],
   "source": [
    "import myfunctions as f\n",
    "f.today()"
   ]
  },
  {
   "cell_type": "code",
   "execution_count": 3,
   "metadata": {},
   "outputs": [
    {
     "name": "stdout",
     "output_type": "stream",
     "text": [
      "retrived: food_entities__20180308.p\n"
     ]
    }
   ],
   "source": [
    "## output from food synset entities\n",
    "file_name = \"food_entities__20180308.p\"\n",
    "df_retrived = f.retrive_file(file_name)"
   ]
  },
  {
   "cell_type": "code",
   "execution_count": 4,
   "metadata": {
    "scrolled": true
   },
   "outputs": [
    {
     "name": "stdout",
     "output_type": "stream",
     "text": [
      "(92298, 12)\n"
     ]
    },
    {
     "data": {
      "text/html": [
       "<div>\n",
       "<style scoped>\n",
       "    .dataframe tbody tr th:only-of-type {\n",
       "        vertical-align: middle;\n",
       "    }\n",
       "\n",
       "    .dataframe tbody tr th {\n",
       "        vertical-align: top;\n",
       "    }\n",
       "\n",
       "    .dataframe thead th {\n",
       "        text-align: right;\n",
       "    }\n",
       "</style>\n",
       "<table border=\"1\" class=\"dataframe\">\n",
       "  <thead>\n",
       "    <tr style=\"text-align: right;\">\n",
       "      <th></th>\n",
       "      <th>index</th>\n",
       "      <th>food_name</th>\n",
       "      <th>locs</th>\n",
       "      <th>synonyms</th>\n",
       "      <th>menu_names</th>\n",
       "      <th>restaurant</th>\n",
       "      <th>review</th>\n",
       "      <th>review.clean_text</th>\n",
       "      <th>review.restaurant</th>\n",
       "      <th>review.text</th>\n",
       "      <th>review.image</th>\n",
       "      <th>short_name</th>\n",
       "    </tr>\n",
       "  </thead>\n",
       "  <tbody>\n",
       "    <tr>\n",
       "      <th>0</th>\n",
       "      <td>food_0</td>\n",
       "      <td>-PRON- ann</td>\n",
       "      <td>[deliveroo/food/68155, deliveroo/food/AV062oM7...</td>\n",
       "      <td>[em ann]</td>\n",
       "      <td>[(Em Ann M., 3)]</td>\n",
       "      <td>[delivery_3748, delivery_3749, delivery_3750]</td>\n",
       "      <td>[burppleinitial/review/vGui2G8q]</td>\n",
       "      <td>[maggie mee goreng from the rooftop at screeni...</td>\n",
       "      <td>[(burpple_12581, 1)]</td>\n",
       "      <td>[Maggi Mee Goreng from The Rooftop at Screenin...</td>\n",
       "      <td>[vGui2G8q]</td>\n",
       "      <td>-PRON- ann</td>\n",
       "    </tr>\n",
       "    <tr>\n",
       "      <th>1</th>\n",
       "      <td>food_1</td>\n",
       "      <td>-PRON- bai vege</td>\n",
       "      <td>[foodpanda/menu_item/AV44Ejd8W4PLiMnQOaiu, foo...</td>\n",
       "      <td>[you bai vege]</td>\n",
       "      <td>[(H6. You Bai Vege, 2)]</td>\n",
       "      <td>[delivery_221, delivery_222]</td>\n",
       "      <td>NaN</td>\n",
       "      <td>NaN</td>\n",
       "      <td>NaN</td>\n",
       "      <td>NaN</td>\n",
       "      <td>NaN</td>\n",
       "      <td>-PRON- bai vege</td>\n",
       "    </tr>\n",
       "  </tbody>\n",
       "</table>\n",
       "</div>"
      ],
      "text/plain": [
       "    index        food_name                                               locs  \\\n",
       "0  food_0       -PRON- ann  [deliveroo/food/68155, deliveroo/food/AV062oM7...   \n",
       "1  food_1  -PRON- bai vege  [foodpanda/menu_item/AV44Ejd8W4PLiMnQOaiu, foo...   \n",
       "\n",
       "         synonyms               menu_names  \\\n",
       "0        [em ann]         [(Em Ann M., 3)]   \n",
       "1  [you bai vege]  [(H6. You Bai Vege, 2)]   \n",
       "\n",
       "                                      restaurant  \\\n",
       "0  [delivery_3748, delivery_3749, delivery_3750]   \n",
       "1                   [delivery_221, delivery_222]   \n",
       "\n",
       "                             review  \\\n",
       "0  [burppleinitial/review/vGui2G8q]   \n",
       "1                               NaN   \n",
       "\n",
       "                                   review.clean_text     review.restaurant  \\\n",
       "0  [maggie mee goreng from the rooftop at screeni...  [(burpple_12581, 1)]   \n",
       "1                                                NaN                   NaN   \n",
       "\n",
       "                                         review.text review.image  \\\n",
       "0  [Maggi Mee Goreng from The Rooftop at Screenin...   [vGui2G8q]   \n",
       "1                                                NaN          NaN   \n",
       "\n",
       "        short_name  \n",
       "0       -PRON- ann  \n",
       "1  -PRON- bai vege  "
      ]
     },
     "execution_count": 4,
     "metadata": {},
     "output_type": "execute_result"
    }
   ],
   "source": [
    "print df_retrived.shape\n",
    "df_retrived.head(2)"
   ]
  },
  {
   "cell_type": "code",
   "execution_count": 5,
   "metadata": {
    "collapsed": true
   },
   "outputs": [],
   "source": [
    "food_names = df_retrived[\"food_name\"].tolist()"
   ]
  },
  {
   "cell_type": "code",
   "execution_count": null,
   "metadata": {
    "collapsed": true
   },
   "outputs": [],
   "source": [
    "import pandas as pd \n",
    "try:\n",
    "    file_name = \"drink_20180308.csv\"\n",
    "    drink_lst = pd.read_csv(file_name, header=None)[0].tolist()\n",
    "except:\n",
    "    drinl_lst = []\n",
    "drink_lst = [\"\"] + drink_lst"
   ]
  },
  {
   "cell_type": "code",
   "execution_count": null,
   "metadata": {
    "collapsed": true
   },
   "outputs": [],
   "source": [
    "food_names = [s for s in sorted(list(set(food_names))) if s not in drink_lst]\n",
    "print len(food_names)"
   ]
  },
  {
   "cell_type": "code",
   "execution_count": null,
   "metadata": {},
   "outputs": [],
   "source": [
    "# count frequency of occurance of the unigram tokens\n",
    "tokens = [s.split() for s in food_names]\n",
    "from collections import Counter\n",
    "c = Counter([item for sublist in tokens for item in sublist])\n",
    "count_tokens = sorted(c.items(), key=lambda x: -x[1])\n",
    "count_tokens[:5]"
   ]
  },
  {
   "cell_type": "code",
   "execution_count": null,
   "metadata": {},
   "outputs": [],
   "source": [
    "# all tokens\n",
    "unique_tokens = [s[0] for s in count_tokens]\n",
    "print \"number of uinique tokens: %d\"%len(unique_tokens)"
   ]
  },
  {
   "cell_type": "markdown",
   "metadata": {},
   "source": [
    "# Use affine gap penalty string distance"
   ]
  },
  {
   "cell_type": "code",
   "execution_count": null,
   "metadata": {},
   "outputs": [],
   "source": [
    "# example \n",
    "import affinegap\n",
    "d1 = affinegap.affineGapDistance('foo', 'bar')\n",
    "d2 = affinegap.affineGapDistance('foo', 'bar',\n",
    "                                 matchWeight = 1,\n",
    "                                 mismatchWeight = 11,\n",
    "                                 gapWeight = 10,\n",
    "                                 spaceWeight = 7,\n",
    "                                 abbreviation_scale = .125)\n",
    "d3 = affinegap.normalizedAffineGapDistance('foo', 'bar')\n",
    "\n",
    "print d1, d2, d3"
   ]
  },
  {
   "cell_type": "code",
   "execution_count": null,
   "metadata": {},
   "outputs": [],
   "source": [
    "sample_names = food_names[140:150]\n",
    "sample_names "
   ]
  },
  {
   "cell_type": "code",
   "execution_count": null,
   "metadata": {
    "collapsed": true
   },
   "outputs": [],
   "source": [
    "sample_dist = []\n",
    "sample_dist_norm = []\n",
    "import itertools\n",
    "for s0, s1 in itertools.combinations(sample_names,2):\n",
    "    sample_dist.append([affinegap.affineGapDistance(s0, s1), s0, s1])\n",
    "    sample_dist_norm.append([affinegap.normalizedAffineGapDistance(s0, s1), s0, s1]) \n",
    "sample_dist = sorted(sample_dist, key=lambda x: x[0])\n",
    "sample_dist_norm = sorted(sample_dist_norm, key=lambda x: x[0])"
   ]
  },
  {
   "cell_type": "code",
   "execution_count": null,
   "metadata": {},
   "outputs": [],
   "source": [
    "sample_dist[:5]"
   ]
  },
  {
   "cell_type": "code",
   "execution_count": null,
   "metadata": {
    "scrolled": false
   },
   "outputs": [],
   "source": [
    "sample_dist_norm[:5]"
   ]
  },
  {
   "cell_type": "code",
   "execution_count": null,
   "metadata": {},
   "outputs": [],
   "source": [
    "%%time\n",
    "dist_norm = []\n",
    "import itertools\n",
    "for s0, s1 in itertools.combinations(food_names[1000:2000],2):\n",
    "    try:\n",
    "        d = affinegap.normalizedAffineGapDistance(s0, s1)\n",
    "    except: \n",
    "        d = -1\n",
    "    dist_norm.append([d, s0, s1])"
   ]
  },
  {
   "cell_type": "code",
   "execution_count": null,
   "metadata": {
    "collapsed": true
   },
   "outputs": [],
   "source": [
    "%%time\n",
    "dist_norm = []\n",
    "import itertools\n",
    "for s0, s1 in itertools.combinations(food_names,2):\n",
    "    try:\n",
    "        d = affinegap.normalizedAffineGapDistance(s0, s1)\n",
    "    except: \n",
    "        d = -1\n",
    "    dist_norm.append([d, s0, s1])"
   ]
  },
  {
   "cell_type": "code",
   "execution_count": null,
   "metadata": {
    "collapsed": true
   },
   "outputs": [],
   "source": [
    "dist_norm = sorted(dist_norm, key=lambda x: x[0])\n",
    "print \"dist pairs: %d\"%len(dist_norm)\n",
    "threshold = 1\n",
    "res = [l for l in dist_norm if (l[0] <threshold and l[0]>0.5)]\n",
    "print \"dist smaller than threshold=%d: %d\"%(threshold, len(res))"
   ]
  },
  {
   "cell_type": "code",
   "execution_count": null,
   "metadata": {
    "collapsed": true
   },
   "outputs": [],
   "source": [
    "# save the file back to words to remove\n",
    "import myfunctions as f\n",
    "file_name = \"dist_norm_\" + f.today() + \".csv\"\n",
    "import csv\n",
    "with open(file_name, \"wb\") as output:\n",
    "    writer = csv.writer(output)\n",
    "    writer.writerows(res) \n",
    "print (\"saved: %s\" % file_name)"
   ]
  },
  {
   "cell_type": "code",
   "execution_count": null,
   "metadata": {
    "collapsed": true
   },
   "outputs": [],
   "source": []
  },
  {
   "cell_type": "markdown",
   "metadata": {},
   "source": [
    ">  Example pair \n",
    "\n",
    "> 0.559782624,\taloo mutter sukhewali,\taloo mutter sukhewali ali\n",
    "\n",
    "    consider multi-filed matching\n",
    "    -> description similarity > some desc_sim threshold\n",
    "    -> offered by the same restaurants \n"
   ]
  },
  {
   "cell_type": "code",
   "execution_count": null,
   "metadata": {
    "collapsed": true
   },
   "outputs": [],
   "source": []
  }
 ],
 "metadata": {
  "kernelspec": {
   "display_name": "Python 2",
   "language": "python",
   "name": "python2"
  },
  "language_info": {
   "codemirror_mode": {
    "name": "ipython",
    "version": 2
   },
   "file_extension": ".py",
   "mimetype": "text/x-python",
   "name": "python",
   "nbconvert_exporter": "python",
   "pygments_lexer": "ipython2",
   "version": "2.7.14"
  }
 },
 "nbformat": 4,
 "nbformat_minor": 2
}
