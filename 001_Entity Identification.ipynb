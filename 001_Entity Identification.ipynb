{
 "cells": [
  {
   "cell_type": "markdown",
   "metadata": {},
   "source": [
    "# Data retrival"
   ]
  },
  {
   "cell_type": "code",
   "execution_count": 1,
   "metadata": {
    "collapsed": true
   },
   "outputs": [],
   "source": [
    "%load_ext autotime\n",
    "%load_ext autoreload\n",
    "%autoreload 2\n",
    "from datetime import datetime\n",
    "startTime = datetime.now()\n",
    "# total time\n",
    "# print datetime.now() - startTime "
   ]
  },
  {
   "cell_type": "code",
   "execution_count": 2,
   "metadata": {},
   "outputs": [
    {
     "data": {
      "text/plain": [
       "'20180409'"
      ]
     },
     "execution_count": 2,
     "metadata": {},
     "output_type": "execute_result"
    },
    {
     "name": "stdout",
     "output_type": "stream",
     "text": [
      "time: 207 ms\n"
     ]
    }
   ],
   "source": [
    "import myfunctions as f\n",
    "f.today()"
   ]
  },
  {
   "cell_type": "code",
   "execution_count": 3,
   "metadata": {},
   "outputs": [
    {
     "name": "stdout",
     "output_type": "stream",
     "text": [
      "system_info: 2.7.14 |Anaconda custom (64-bit)| (default, Oct 27 2017, 18:21:12) \n",
      "[GCC 7.2.0]\n",
      "path_info: /home/yueliu/Desktop/workspace_yue/Documentation_201712\n",
      "time: 13.5 ms\n"
     ]
    }
   ],
   "source": [
    "# python version\n",
    "import sys\n",
    "print \"system_info: %s\"%sys.version\n",
    "# current working directory\n",
    "import os\n",
    "print \"path_info: %s\"%os.getcwd() "
   ]
  },
  {
   "cell_type": "code",
   "execution_count": 4,
   "metadata": {},
   "outputs": [
    {
     "name": "stdout",
     "output_type": "stream",
     "text": [
      "time: 16.1 ms\n"
     ]
    }
   ],
   "source": [
    "websites = f.delivery_para()"
   ]
  },
  {
   "cell_type": "markdown",
   "metadata": {
    "collapsed": true
   },
   "source": [
    "> Timing\n",
    "\n",
    "    fp - 7min 44s\n",
    "    de - 5min 35s\n",
    "    wte - 1min 26s"
   ]
  },
  {
   "cell_type": "code",
   "execution_count": 6,
   "metadata": {},
   "outputs": [
    {
     "name": "stdout",
     "output_type": "stream",
     "text": [
      "time: 19.2 ms\n"
     ]
    }
   ],
   "source": [
    "i = 2\n",
    "dfs = []"
   ]
  },
  {
   "cell_type": "code",
   "execution_count": 9,
   "metadata": {},
   "outputs": [
    {
     "name": "stdout",
     "output_type": "stream",
     "text": [
      "time: 1min 26s\n"
     ]
    }
   ],
   "source": [
    "df = f.process_rec(websites[i])\n",
    "i = i-1\n",
    "dfs.append(df)"
   ]
  },
  {
   "cell_type": "code",
   "execution_count": 10,
   "metadata": {},
   "outputs": [
    {
     "name": "stdout",
     "output_type": "stream",
     "text": [
      "time: 5min 35s\n"
     ]
    }
   ],
   "source": [
    "df = f.process_rec(websites[i])\n",
    "i = i-1\n",
    "dfs.append(df)"
   ]
  },
  {
   "cell_type": "code",
   "execution_count": 11,
   "metadata": {},
   "outputs": [
    {
     "name": "stdout",
     "output_type": "stream",
     "text": [
      "time: 7min 44s\n"
     ]
    }
   ],
   "source": [
    "df = f.process_rec(websites[i])\n",
    "dfs.append(df)"
   ]
  },
  {
   "cell_type": "code",
   "execution_count": 13,
   "metadata": {},
   "outputs": [
    {
     "name": "stdout",
     "output_type": "stream",
     "text": [
      "time: 3.11 s\n"
     ]
    }
   ],
   "source": [
    "import pandas as pd\n",
    "df1 = pd.concat(dfs)\n",
    "df1.reset_index(inplace=True, drop=True)"
   ]
  },
  {
   "cell_type": "code",
   "execution_count": 14,
   "metadata": {},
   "outputs": [
    {
     "name": "stdout",
     "output_type": "stream",
     "text": [
      "(4048605, 13)\n",
      "['address', 'desc', 'food_name', 'loc', 'neighbourhood', 'opening', 'phone', 'price', 'rating', 'restaurant.cuisine', 'tag', 'timestamp', 'vendor_name']\n"
     ]
    },
    {
     "data": {
      "text/html": [
       "<div>\n",
       "<style scoped>\n",
       "    .dataframe tbody tr th:only-of-type {\n",
       "        vertical-align: middle;\n",
       "    }\n",
       "\n",
       "    .dataframe tbody tr th {\n",
       "        vertical-align: top;\n",
       "    }\n",
       "\n",
       "    .dataframe thead th {\n",
       "        text-align: right;\n",
       "    }\n",
       "</style>\n",
       "<table border=\"1\" class=\"dataframe\">\n",
       "  <thead>\n",
       "    <tr style=\"text-align: right;\">\n",
       "      <th></th>\n",
       "      <th>address</th>\n",
       "      <th>desc</th>\n",
       "      <th>food_name</th>\n",
       "      <th>loc</th>\n",
       "      <th>neighbourhood</th>\n",
       "      <th>opening</th>\n",
       "      <th>phone</th>\n",
       "      <th>price</th>\n",
       "      <th>rating</th>\n",
       "      <th>restaurant.cuisine</th>\n",
       "      <th>tag</th>\n",
       "      <th>timestamp</th>\n",
       "      <th>vendor_name</th>\n",
       "    </tr>\n",
       "  </thead>\n",
       "  <tbody>\n",
       "    <tr>\n",
       "      <th>2199073</th>\n",
       "      <td>NaN</td>\n",
       "      <td>NaN</td>\n",
       "      <td>Calamansi Asam Boi Juice</td>\n",
       "      <td>foodpanda/menu_item/54301</td>\n",
       "      <td>NaN</td>\n",
       "      <td>NaN</td>\n",
       "      <td>NaN</td>\n",
       "      <td>6.9</td>\n",
       "      <td>4.5</td>\n",
       "      <td>[Halal, Malaysian]</td>\n",
       "      <td>Beverages</td>\n",
       "      <td>2017-07-11 01:13:18.670689</td>\n",
       "      <td>Agrobazaar Malaysia</td>\n",
       "    </tr>\n",
       "    <tr>\n",
       "      <th>1063485</th>\n",
       "      <td>370 Alexandra Road, #B1-08, Singapore, 159953</td>\n",
       "      <td>NaN</td>\n",
       "      <td>CH24 VEUVE MOISANS \"Blanc de Blancs\" - Loire V...</td>\n",
       "      <td>deliveroo/food/AWCwedZUvFWOHWF15nx0</td>\n",
       "      <td>Queensway</td>\n",
       "      <td>Open until 22:00</td>\n",
       "      <td>+6564768997</td>\n",
       "      <td>30.0</td>\n",
       "      <td>NaN</td>\n",
       "      <td>Wine</td>\n",
       "      <td>Sparkling Wine</td>\n",
       "      <td>2018-01-01T04:00:05.703635</td>\n",
       "      <td>Wine Connection Shop@Anchorpoint - Anchorpoint</td>\n",
       "    </tr>\n",
       "  </tbody>\n",
       "</table>\n",
       "</div>"
      ],
      "text/plain": [
       "                                               address desc  \\\n",
       "2199073                                            NaN  NaN   \n",
       "1063485  370 Alexandra Road, #B1-08, Singapore, 159953  NaN   \n",
       "\n",
       "                                                 food_name  \\\n",
       "2199073                           Calamansi Asam Boi Juice   \n",
       "1063485  CH24 VEUVE MOISANS \"Blanc de Blancs\" - Loire V...   \n",
       "\n",
       "                                         loc neighbourhood           opening  \\\n",
       "2199073            foodpanda/menu_item/54301           NaN               NaN   \n",
       "1063485  deliveroo/food/AWCwedZUvFWOHWF15nx0     Queensway  Open until 22:00   \n",
       "\n",
       "               phone  price rating  restaurant.cuisine             tag  \\\n",
       "2199073          NaN    6.9    4.5  [Halal, Malaysian]       Beverages   \n",
       "1063485  +6564768997   30.0    NaN                Wine  Sparkling Wine   \n",
       "\n",
       "                          timestamp  \\\n",
       "2199073  2017-07-11 01:13:18.670689   \n",
       "1063485  2018-01-01T04:00:05.703635   \n",
       "\n",
       "                                            vendor_name  \n",
       "2199073                             Agrobazaar Malaysia  \n",
       "1063485  Wine Connection Shop@Anchorpoint - Anchorpoint  "
      ]
     },
     "execution_count": 14,
     "metadata": {},
     "output_type": "execute_result"
    },
    {
     "name": "stdout",
     "output_type": "stream",
     "text": [
      "time: 4.11 s\n"
     ]
    }
   ],
   "source": [
    "print df1.shape\n",
    "print df1.columns.tolist()\n",
    "df1.sample(2,random_state=2008)"
   ]
  },
  {
   "cell_type": "markdown",
   "metadata": {},
   "source": [
    "** Save food data with all details **"
   ]
  },
  {
   "cell_type": "markdown",
   "metadata": {},
   "source": [
    "# Restaurant entities"
   ]
  },
  {
   "cell_type": "code",
   "execution_count": 16,
   "metadata": {},
   "outputs": [
    {
     "name": "stdout",
     "output_type": "stream",
     "text": [
      "time: 15.8 s\n"
     ]
    }
   ],
   "source": [
    "restaurant = f.get_restaurant_details(df1)"
   ]
  },
  {
   "cell_type": "code",
   "execution_count": 19,
   "metadata": {},
   "outputs": [
    {
     "name": "stdout",
     "output_type": "stream",
     "text": [
      "(7101, 9)\n",
      "['vendor_name', 'rating', 'opening', 'loc', 'crawling_range', 'address', 'phone', 'neighbourhood', 'restaurant.cuisine']\n"
     ]
    },
    {
     "data": {
      "text/html": [
       "<div>\n",
       "<style scoped>\n",
       "    .dataframe tbody tr th:only-of-type {\n",
       "        vertical-align: middle;\n",
       "    }\n",
       "\n",
       "    .dataframe tbody tr th {\n",
       "        vertical-align: top;\n",
       "    }\n",
       "\n",
       "    .dataframe thead th {\n",
       "        text-align: right;\n",
       "    }\n",
       "</style>\n",
       "<table border=\"1\" class=\"dataframe\">\n",
       "  <thead>\n",
       "    <tr style=\"text-align: right;\">\n",
       "      <th></th>\n",
       "      <th>vendor_name</th>\n",
       "      <th>rating</th>\n",
       "      <th>opening</th>\n",
       "      <th>loc</th>\n",
       "      <th>crawling_range</th>\n",
       "      <th>address</th>\n",
       "      <th>phone</th>\n",
       "      <th>neighbourhood</th>\n",
       "      <th>restaurant.cuisine</th>\n",
       "    </tr>\n",
       "    <tr>\n",
       "      <th>index</th>\n",
       "      <th></th>\n",
       "      <th></th>\n",
       "      <th></th>\n",
       "      <th></th>\n",
       "      <th></th>\n",
       "      <th></th>\n",
       "      <th></th>\n",
       "      <th></th>\n",
       "      <th></th>\n",
       "    </tr>\n",
       "  </thead>\n",
       "  <tbody>\n",
       "    <tr>\n",
       "      <th>delivery_2584</th>\n",
       "      <td>Jack's Place - Clementi</td>\n",
       "      <td>NaN</td>\n",
       "      <td>[Open until 22:30, Opens at 11:30]</td>\n",
       "      <td>(deliveroo/food/157751, deliveroo/food/157756,...</td>\n",
       "      <td>[2017-07-03, 2018-04-01]</td>\n",
       "      <td>[12 West Coast Walk #01-04/05/06, Singapore, 1...</td>\n",
       "      <td>[+6567762775]</td>\n",
       "      <td>[West Coast]</td>\n",
       "      <td>[Healthier Choices, Western]</td>\n",
       "    </tr>\n",
       "    <tr>\n",
       "      <th>delivery_1735</th>\n",
       "      <td>Fix Café &amp; Grill</td>\n",
       "      <td>NaN</td>\n",
       "      <td>[Open until 20:30, Opens at 11:30]</td>\n",
       "      <td>(deliveroo/food/158930, deliveroo/food/158935,...</td>\n",
       "      <td>[2017-07-03, 2018-02-01]</td>\n",
       "      <td>[31 Ah Hood Road, #01-06 HomeTeam NS-JOM Clubh...</td>\n",
       "      <td>[+6562561484]</td>\n",
       "      <td>[Whampoa]</td>\n",
       "      <td>[Western]</td>\n",
       "    </tr>\n",
       "  </tbody>\n",
       "</table>\n",
       "</div>"
      ],
      "text/plain": [
       "                           vendor_name  rating  \\\n",
       "index                                            \n",
       "delivery_2584  Jack's Place - Clementi     NaN   \n",
       "delivery_1735         Fix Café & Grill     NaN   \n",
       "\n",
       "                                          opening  \\\n",
       "index                                               \n",
       "delivery_2584  [Open until 22:30, Opens at 11:30]   \n",
       "delivery_1735  [Open until 20:30, Opens at 11:30]   \n",
       "\n",
       "                                                             loc  \\\n",
       "index                                                              \n",
       "delivery_2584  (deliveroo/food/157751, deliveroo/food/157756,...   \n",
       "delivery_1735  (deliveroo/food/158930, deliveroo/food/158935,...   \n",
       "\n",
       "                         crawling_range  \\\n",
       "index                                     \n",
       "delivery_2584  [2017-07-03, 2018-04-01]   \n",
       "delivery_1735  [2017-07-03, 2018-02-01]   \n",
       "\n",
       "                                                         address  \\\n",
       "index                                                              \n",
       "delivery_2584  [12 West Coast Walk #01-04/05/06, Singapore, 1...   \n",
       "delivery_1735  [31 Ah Hood Road, #01-06 HomeTeam NS-JOM Clubh...   \n",
       "\n",
       "                       phone neighbourhood            restaurant.cuisine  \n",
       "index                                                                     \n",
       "delivery_2584  [+6567762775]  [West Coast]  [Healthier Choices, Western]  \n",
       "delivery_1735  [+6562561484]     [Whampoa]                     [Western]  "
      ]
     },
     "execution_count": 19,
     "metadata": {},
     "output_type": "execute_result"
    },
    {
     "name": "stdout",
     "output_type": "stream",
     "text": [
      "time: 46.8 ms\n"
     ]
    }
   ],
   "source": [
    "print restaurant.shape\n",
    "print restaurant.columns.tolist()\n",
    "restaurant.sample(2, random_state=2008)"
   ]
  },
  {
   "cell_type": "code",
   "execution_count": 20,
   "metadata": {},
   "outputs": [
    {
     "name": "stdout",
     "output_type": "stream",
     "text": [
      "saved: restaurant_entities__20180409.json\n",
      "time: 1.8 s\n"
     ]
    }
   ],
   "source": [
    "## save to json\n",
    "file_name = \"__\".join([\"restaurant_entities\", f.today()]) + \".json\"\n",
    "restaurant.to_json(file_name, orient='index')\n",
    "print \"saved: %s\"%file_name"
   ]
  },
  {
   "cell_type": "markdown",
   "metadata": {},
   "source": [
    "# Food entities"
   ]
  },
  {
   "cell_type": "code",
   "execution_count": 21,
   "metadata": {},
   "outputs": [
    {
     "name": "stdout",
     "output_type": "stream",
     "text": [
      "time: 47.6 ms\n"
     ]
    }
   ],
   "source": [
    "# ref dict: restaurant name : restaurant index\n",
    "restaurant.reset_index(inplace=True)\n",
    "restaurant_ref = restaurant.set_index([\"vendor_name\"]).to_dict()[\"index\"]"
   ]
  },
  {
   "cell_type": "code",
   "execution_count": 26,
   "metadata": {},
   "outputs": [
    {
     "name": "stdout",
     "output_type": "stream",
     "text": [
      "with 209680 unique menu names in 4048605 records\n",
      "time: 1min 14s\n"
     ]
    }
   ],
   "source": [
    "food_items = f.get_food_entities(df1, restaurant_ref)"
   ]
  },
  {
   "cell_type": "code",
   "execution_count": 27,
   "metadata": {},
   "outputs": [
    {
     "name": "stdout",
     "output_type": "stream",
     "text": [
      "(143973, 8)\n",
      "['clean_name', 'loc', 'food_name', 'timestamp', 'price', 'vendors', 'tag', 'desc']\n"
     ]
    },
    {
     "data": {
      "text/html": [
       "<div>\n",
       "<style scoped>\n",
       "    .dataframe tbody tr th:only-of-type {\n",
       "        vertical-align: middle;\n",
       "    }\n",
       "\n",
       "    .dataframe tbody tr th {\n",
       "        vertical-align: top;\n",
       "    }\n",
       "\n",
       "    .dataframe thead th {\n",
       "        text-align: right;\n",
       "    }\n",
       "</style>\n",
       "<table border=\"1\" class=\"dataframe\">\n",
       "  <thead>\n",
       "    <tr style=\"text-align: right;\">\n",
       "      <th></th>\n",
       "      <th>clean_name</th>\n",
       "      <th>loc</th>\n",
       "      <th>food_name</th>\n",
       "      <th>timestamp</th>\n",
       "      <th>price</th>\n",
       "      <th>vendors</th>\n",
       "      <th>tag</th>\n",
       "      <th>desc</th>\n",
       "    </tr>\n",
       "    <tr>\n",
       "      <th>index</th>\n",
       "      <th></th>\n",
       "      <th></th>\n",
       "      <th></th>\n",
       "      <th></th>\n",
       "      <th></th>\n",
       "      <th></th>\n",
       "      <th></th>\n",
       "      <th></th>\n",
       "    </tr>\n",
       "  </thead>\n",
       "  <tbody>\n",
       "    <tr>\n",
       "      <th>food_53819</th>\n",
       "      <td>grill pepper chicken</td>\n",
       "      <td>[foodpanda/menu_item/10850, foodpanda/menu_ite...</td>\n",
       "      <td>[(W48. Grill Pepper Chicken, 82)]</td>\n",
       "      <td>[2017-07-11 01:13:18.670689, 2017-07-15 00:25:...</td>\n",
       "      <td>(9.63, 9.63, 9.63, 9.63, 9.63, 9.63, 9.63, 9.6...</td>\n",
       "      <td>[delivery_202]</td>\n",
       "      <td>[Western]</td>\n",
       "      <td>[nan, Default]</td>\n",
       "    </tr>\n",
       "    <tr>\n",
       "      <th>food_131936</th>\n",
       "      <td>the roots</td>\n",
       "      <td>[deliveroo/food/26634, deliveroo/food/AV06vmHe...</td>\n",
       "      <td>[(The Roots, 10)]</td>\n",
       "      <td>[2017-07-03T17:55:01.668428, 2017-07-13T14:37:...</td>\n",
       "      <td>(16.05, 16.05, 16.05, 16.05, 16.05, 16.05, 16....</td>\n",
       "      <td>[delivery_6137, delivery_6138]</td>\n",
       "      <td>[Burgers, Burgers ]</td>\n",
       "      <td>[Seasonal vegetables, cheese fritter, coleslaw...</td>\n",
       "    </tr>\n",
       "  </tbody>\n",
       "</table>\n",
       "</div>"
      ],
      "text/plain": [
       "                       clean_name  \\\n",
       "index                               \n",
       "food_53819   grill pepper chicken   \n",
       "food_131936             the roots   \n",
       "\n",
       "                                                           loc  \\\n",
       "index                                                            \n",
       "food_53819   [foodpanda/menu_item/10850, foodpanda/menu_ite...   \n",
       "food_131936  [deliveroo/food/26634, deliveroo/food/AV06vmHe...   \n",
       "\n",
       "                                     food_name  \\\n",
       "index                                            \n",
       "food_53819   [(W48. Grill Pepper Chicken, 82)]   \n",
       "food_131936                  [(The Roots, 10)]   \n",
       "\n",
       "                                                     timestamp  \\\n",
       "index                                                            \n",
       "food_53819   [2017-07-11 01:13:18.670689, 2017-07-15 00:25:...   \n",
       "food_131936  [2017-07-03T17:55:01.668428, 2017-07-13T14:37:...   \n",
       "\n",
       "                                                         price  \\\n",
       "index                                                            \n",
       "food_53819   (9.63, 9.63, 9.63, 9.63, 9.63, 9.63, 9.63, 9.6...   \n",
       "food_131936  (16.05, 16.05, 16.05, 16.05, 16.05, 16.05, 16....   \n",
       "\n",
       "                                    vendors                  tag  \\\n",
       "index                                                              \n",
       "food_53819                   [delivery_202]            [Western]   \n",
       "food_131936  [delivery_6137, delivery_6138]  [Burgers, Burgers ]   \n",
       "\n",
       "                                                          desc  \n",
       "index                                                           \n",
       "food_53819                                      [nan, Default]  \n",
       "food_131936  [Seasonal vegetables, cheese fritter, coleslaw...  "
      ]
     },
     "execution_count": 27,
     "metadata": {},
     "output_type": "execute_result"
    },
    {
     "name": "stdout",
     "output_type": "stream",
     "text": [
      "time: 125 ms\n"
     ]
    }
   ],
   "source": [
    "print food_items.shape\n",
    "print food_items.columns.tolist()\n",
    "food_items.sample(2, random_state=2008)"
   ]
  },
  {
   "cell_type": "code",
   "execution_count": 28,
   "metadata": {},
   "outputs": [
    {
     "name": "stdout",
     "output_type": "stream",
     "text": [
      "saved: food_entities__20180409.p\n",
      "time: 59.4 s\n"
     ]
    }
   ],
   "source": [
    "## save to p file\n",
    "file_name = \"__\".join([\"food_entities\", f.today()]) + \".p\"\n",
    "f.save_file(food_items, file_name)"
   ]
  },
  {
   "cell_type": "markdown",
   "metadata": {},
   "source": [
    "** construct test case **"
   ]
  },
  {
   "cell_type": "code",
   "execution_count": 30,
   "metadata": {},
   "outputs": [
    {
     "name": "stdout",
     "output_type": "stream",
     "text": [
      "saved: 001_entity_identification_test_case_20180409.csv\n",
      "time: 39.5 ms\n"
     ]
    }
   ],
   "source": [
    "# save test case to csv\n",
    "file_name = \"001_entity_identification_test_case_\" + f.today()+\".csv\"\n",
    "test_case = food_items.sample(100, random_state=2008)[[\"food_name\", \"clean_name\"]]\n",
    "test_case[\"food_name\"] = test_case[\"food_name\"].apply(lambda s: f.get_string(s[0][0]))\n",
    "test_case.to_csv(file_name,index=False)\n",
    "print \"saved: %s\"%file_name"
   ]
  }
 ],
 "metadata": {
  "kernelspec": {
   "display_name": "Python 2",
   "language": "python",
   "name": "python2"
  },
  "language_info": {
   "codemirror_mode": {
    "name": "ipython",
    "version": 2
   },
   "file_extension": ".py",
   "mimetype": "text/x-python",
   "name": "python",
   "nbconvert_exporter": "python",
   "pygments_lexer": "ipython2",
   "version": "2.7.14"
  }
 },
 "nbformat": 4,
 "nbformat_minor": 2
}
