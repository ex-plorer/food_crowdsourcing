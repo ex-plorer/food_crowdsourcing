{
 "cells": [
  {
   "cell_type": "markdown",
   "metadata": {},
   "source": [
    "# Data retrival"
   ]
  },
  {
   "cell_type": "code",
   "execution_count": 2,
   "metadata": {},
   "outputs": [
    {
     "data": {
      "text/plain": [
       "'20180314'"
      ]
     },
     "execution_count": 2,
     "metadata": {},
     "output_type": "execute_result"
    }
   ],
   "source": [
    "%load_ext autoreload\n",
    "%autoreload 2\n",
    "import myfunctions as f\n",
    "f.today()"
   ]
  },
  {
   "cell_type": "code",
   "execution_count": 3,
   "metadata": {},
   "outputs": [
    {
     "name": "stdout",
     "output_type": "stream",
     "text": [
      "system_info: 2.7.14 |Anaconda custom (64-bit)| (default, Oct 27 2017, 18:21:12) \n",
      "[GCC 7.2.0]\n",
      "path_info: /home/yueliu/Desktop/workspace_yue/Documentation_201712\n"
     ]
    }
   ],
   "source": [
    "# python version\n",
    "import sys\n",
    "print \"system_info: %s\"%sys.version\n",
    "# current working directory\n",
    "import os\n",
    "print \"path_info: %s\"%os.getcwd() "
   ]
  },
  {
   "cell_type": "code",
   "execution_count": 4,
   "metadata": {},
   "outputs": [
    {
     "name": "stdout",
     "output_type": "stream",
     "text": [
      "{\n",
      "  \"name\" : \"star7\",\n",
      "  \"cluster_name\" : \"star\",\n",
      "  \"cluster_uuid\" : \"VDcV69ThThyb00sd6PgeMA\",\n",
      "  \"version\" : {\n",
      "    \"number\" : \"2.4.5\",\n",
      "    \"build_hash\" : \"c849dd13904f53e63e88efc33b2ceeda0b6a1276\",\n",
      "    \"build_timestamp\" : \"2017-04-24T16:18:17Z\",\n",
      "    \"build_snapshot\" : false,\n",
      "    \"lucene_version\" : \"5.5.4\"\n",
      "  },\n",
      "  \"tagline\" : \"You Know, for Search\"\n",
      "}\n",
      "\n"
     ]
    }
   ],
   "source": [
    "# setup elastic search\n",
    "f.initialise_es(1)\n",
    "foodpanda, deliveroo, wte, websites = f.delivery_para()"
   ]
  },
  {
   "cell_type": "markdown",
   "metadata": {},
   "source": [
    "** Retriving all food items **"
   ]
  },
  {
   "cell_type": "code",
   "execution_count": 5,
   "metadata": {
    "collapsed": true
   },
   "outputs": [],
   "source": [
    "doc_type = \"food\""
   ]
  },
  {
   "cell_type": "code",
   "execution_count": 6,
   "metadata": {},
   "outputs": [
    {
     "name": "stdout",
     "output_type": "stream",
     "text": [
      "CPU times: user 2h 32min 15s, sys: 10min 4s, total: 2h 42min 20s\n",
      "Wall time: 2h 43min 3s\n"
     ]
    }
   ],
   "source": [
    "%%time\n",
    "website = websites[0]\n",
    "f.initialise_es(0)\n",
    "website.update({\"all_rec_\"+doc_type : f.retrive_from_es(website, doc_type)})"
   ]
  },
  {
   "cell_type": "code",
   "execution_count": 7,
   "metadata": {},
   "outputs": [
    {
     "name": "stdout",
     "output_type": "stream",
     "text": [
      "CPU times: user 1h 31min 17s, sys: 5min 15s, total: 1h 36min 32s\n",
      "Wall time: 1h 37min 16s\n"
     ]
    }
   ],
   "source": [
    "%%time\n",
    "website = websites[1]\n",
    "f.initialise_es(0)\n",
    "website.update({\"all_rec_\"+doc_type : f.retrive_from_es(website, doc_type)})"
   ]
  },
  {
   "cell_type": "code",
   "execution_count": 8,
   "metadata": {},
   "outputs": [
    {
     "name": "stdout",
     "output_type": "stream",
     "text": [
      "CPU times: user 14min 50s, sys: 30.9 s, total: 15min 21s\n",
      "Wall time: 15min 27s\n"
     ]
    }
   ],
   "source": [
    "%%time\n",
    "website = websites[2]\n",
    "f.initialise_es(0)\n",
    "website.update({\"all_rec_\"+doc_type : f.retrive_from_es(website, doc_type)})"
   ]
  },
  {
   "cell_type": "markdown",
   "metadata": {},
   "source": [
    "** Data: keep all index and dates **"
   ]
  },
  {
   "cell_type": "code",
   "execution_count": 9,
   "metadata": {
    "collapsed": true
   },
   "outputs": [],
   "source": [
    "### fomulate location\n",
    "def fomulate_loc(w):\n",
    "    \"\"\"formulate storage location according to es data\"\"\"\n",
    "    w['all_rec_food'][\"loc\"] = w['all_rec_food'][\"_index\"] + \"/\" + \\\n",
    "    w[\"food\"] + \"/\" + \\\n",
    "    w['all_rec_food'][\"_id\"]\n",
    "\n",
    "def fomulate_timestamp(w):\n",
    "    if w[\"_index\"] == 'what_to_eat':\n",
    "        w['all_rec_food'][\"timestamp\"] = w['all_rec_food']['_source.startTimestampGMT']\n",
    "    else:\n",
    "        d = f.retrive_from_es(w, \"crawling_cycle\")\n",
    "        cycle_time = d.set_index(w['cycle_id']).to_dict()[w['cycleStart']]\n",
    "        # remove na for food names\n",
    "        w['all_rec_food'] = w['all_rec_food'][~w['all_rec_food'][w[\"food_name\"]].isnull()]\n",
    "        # assign time according to food cycle\n",
    "        w['all_rec_food'][\"timestamp\"] = w['all_rec_food'][w['food_cycle']].apply(lambda s: cycle_time[s])"
   ]
  },
  {
   "cell_type": "code",
   "execution_count": 10,
   "metadata": {},
   "outputs": [
    {
     "name": "stdout",
     "output_type": "stream",
     "text": [
      "foodpanda:: number of records: 2032443\n",
      "deliveroo:: number of records: 1459312\n",
      "what_to_eat:: number of records: 226512\n"
     ]
    }
   ],
   "source": [
    "for w in websites:\n",
    "    fomulate_loc(w)     \n",
    "    fomulate_timestamp(w) \n",
    "    print \"%s:: number of records: %d\"%(w[\"_index\"],\n",
    "                                        w['all_rec_food'].shape[0])"
   ]
  },
  {
   "cell_type": "markdown",
   "metadata": {},
   "source": [
    "** Save food data with all details **"
   ]
  },
  {
   "cell_type": "code",
   "execution_count": 23,
   "metadata": {},
   "outputs": [
    {
     "name": "stdout",
     "output_type": "stream",
     "text": [
      "saved: all_food_records__20180315.p\n"
     ]
    }
   ],
   "source": [
    "## save to p file\n",
    "import pandas as pd\n",
    "df1 = pd.concat(w['all_rec_food'] for w in websites)\n",
    "file_name = \"__\".join([\"all_food_records\", f.today()]) + \".p\"\n",
    "f.save_file(df1, file_name)"
   ]
  },
  {
   "cell_type": "code",
   "execution_count": 29,
   "metadata": {},
   "outputs": [],
   "source": [
    "# ## save to json (TEMP FILE, NOT USED ANYWHERE LATER)\n",
    "# df1.reset_index(inplace=True, drop=True)\n",
    "# file_name = \"__\".join([\"all_food_records\", f.today()]) + \".json\"\n",
    "# df1.to_json(file_name, orient='index')\n",
    "# print file_name"
   ]
  },
  {
   "cell_type": "code",
   "execution_count": 30,
   "metadata": {},
   "outputs": [
    {
     "name": "stdout",
     "output_type": "stream",
     "text": [
      "(3718267, 37)\n",
      "['_id', '_index', '_score', '_source.aggs.group_by_state.terms.field', '_source.category', '_source.currency', '_source.cycle', '_source.description', '_source.image', '_source.imageUrl', '_source.name', '_source.price', '_source.restaurant.address', '_source.restaurant.cuisine', '_source.restaurant.cycle', '_source.restaurant.maxrating', '_source.restaurant.name', '_source.restaurant.neighbourhood', '_source.restaurant.opening', '_source.restaurant.phone', '_source.restaurant.rating', '_source.restaurant.tag', '_source.size', '_source.startTimestampGMT', '_source.title', '_source.variations', '_source.vendor.cycle', '_source.vendor.vendor_address', '_source.vendor.vendor_budget', '_source.vendor.vendor_cuisines', '_source.vendor.vendor_image_url', '_source.vendor.vendor_name', '_source.vendor.vendor_rating', '_source.vendor.vendor_url', '_type', 'loc', 'timestamp']\n"
     ]
    },
    {
     "data": {
      "text/html": [
       "<div>\n",
       "<style scoped>\n",
       "    .dataframe tbody tr th:only-of-type {\n",
       "        vertical-align: middle;\n",
       "    }\n",
       "\n",
       "    .dataframe tbody tr th {\n",
       "        vertical-align: top;\n",
       "    }\n",
       "\n",
       "    .dataframe thead th {\n",
       "        text-align: right;\n",
       "    }\n",
       "</style>\n",
       "<table border=\"1\" class=\"dataframe\">\n",
       "  <thead>\n",
       "    <tr style=\"text-align: right;\">\n",
       "      <th></th>\n",
       "      <th>_id</th>\n",
       "      <th>_index</th>\n",
       "      <th>_score</th>\n",
       "      <th>_source.aggs.group_by_state.terms.field</th>\n",
       "      <th>_source.category</th>\n",
       "      <th>_source.currency</th>\n",
       "      <th>_source.cycle</th>\n",
       "      <th>_source.description</th>\n",
       "      <th>_source.image</th>\n",
       "      <th>_source.imageUrl</th>\n",
       "      <th>...</th>\n",
       "      <th>_source.vendor.vendor_address</th>\n",
       "      <th>_source.vendor.vendor_budget</th>\n",
       "      <th>_source.vendor.vendor_cuisines</th>\n",
       "      <th>_source.vendor.vendor_image_url</th>\n",
       "      <th>_source.vendor.vendor_name</th>\n",
       "      <th>_source.vendor.vendor_rating</th>\n",
       "      <th>_source.vendor.vendor_url</th>\n",
       "      <th>_type</th>\n",
       "      <th>loc</th>\n",
       "      <th>timestamp</th>\n",
       "    </tr>\n",
       "  </thead>\n",
       "  <tbody>\n",
       "    <tr>\n",
       "      <th>1421554</th>\n",
       "      <td>AV2dMfH_cSlXBuMN7wFZ</td>\n",
       "      <td>foodpanda</td>\n",
       "      <td>0.0</td>\n",
       "      <td>NaN</td>\n",
       "      <td>Snacks</td>\n",
       "      <td>NaN</td>\n",
       "      <td>1.501564e+09</td>\n",
       "      <td>Served with chilli mayo</td>\n",
       "      <td>NaN</td>\n",
       "      <td>NaN</td>\n",
       "      <td>...</td>\n",
       "      <td>10, Tebing Lane, #01-02, Sengkang, Singapore, ...</td>\n",
       "      <td>$$</td>\n",
       "      <td>[Burgers, Pizza, Western]</td>\n",
       "      <td>https://asia-public.foodpanda.com/dynamic/prod...</td>\n",
       "      <td>Cafe Frenzie Bistro &amp; Bar</td>\n",
       "      <td>4.5</td>\n",
       "      <td>/restaurant/s2zu/cafe-frenzie-bistro</td>\n",
       "      <td>menu_item</td>\n",
       "      <td>foodpanda/menu_item/AV2dMfH_cSlXBuMN7wFZ</td>\n",
       "      <td>2017-08-01 13:00:06.509207</td>\n",
       "    </tr>\n",
       "    <tr>\n",
       "      <th>2060095</th>\n",
       "      <td>27999</td>\n",
       "      <td>deliveroo</td>\n",
       "      <td>0.0</td>\n",
       "      <td>NaN</td>\n",
       "      <td>Sharing Plates</td>\n",
       "      <td>NaN</td>\n",
       "      <td>1.499105e+09</td>\n",
       "      <td>Quinoa, Garlic</td>\n",
       "      <td>NaN</td>\n",
       "      <td>NaN</td>\n",
       "      <td>...</td>\n",
       "      <td>NaN</td>\n",
       "      <td>NaN</td>\n",
       "      <td>NaN</td>\n",
       "      <td>NaN</td>\n",
       "      <td>NaN</td>\n",
       "      <td>NaN</td>\n",
       "      <td>NaN</td>\n",
       "      <td>food</td>\n",
       "      <td>deliveroo/food/27999</td>\n",
       "      <td>2017-07-03T17:55:01.668428</td>\n",
       "    </tr>\n",
       "  </tbody>\n",
       "</table>\n",
       "<p>2 rows × 37 columns</p>\n",
       "</div>"
      ],
      "text/plain": [
       "                          _id     _index  _score  \\\n",
       "1421554  AV2dMfH_cSlXBuMN7wFZ  foodpanda     0.0   \n",
       "2060095                 27999  deliveroo     0.0   \n",
       "\n",
       "        _source.aggs.group_by_state.terms.field _source.category  \\\n",
       "1421554                                     NaN           Snacks   \n",
       "2060095                                     NaN   Sharing Plates   \n",
       "\n",
       "        _source.currency  _source.cycle      _source.description  \\\n",
       "1421554              NaN   1.501564e+09  Served with chilli mayo   \n",
       "2060095              NaN   1.499105e+09           Quinoa, Garlic   \n",
       "\n",
       "        _source.image _source.imageUrl             ...              \\\n",
       "1421554           NaN              NaN             ...               \n",
       "2060095           NaN              NaN             ...               \n",
       "\n",
       "                             _source.vendor.vendor_address  \\\n",
       "1421554  10, Tebing Lane, #01-02, Sengkang, Singapore, ...   \n",
       "2060095                                                NaN   \n",
       "\n",
       "         _source.vendor.vendor_budget _source.vendor.vendor_cuisines  \\\n",
       "1421554                            $$      [Burgers, Pizza, Western]   \n",
       "2060095                           NaN                            NaN   \n",
       "\n",
       "                           _source.vendor.vendor_image_url  \\\n",
       "1421554  https://asia-public.foodpanda.com/dynamic/prod...   \n",
       "2060095                                                NaN   \n",
       "\n",
       "         _source.vendor.vendor_name  _source.vendor.vendor_rating  \\\n",
       "1421554   Cafe Frenzie Bistro & Bar                           4.5   \n",
       "2060095                         NaN                           NaN   \n",
       "\n",
       "                    _source.vendor.vendor_url      _type  \\\n",
       "1421554  /restaurant/s2zu/cafe-frenzie-bistro  menu_item   \n",
       "2060095                                   NaN       food   \n",
       "\n",
       "                                              loc                   timestamp  \n",
       "1421554  foodpanda/menu_item/AV2dMfH_cSlXBuMN7wFZ  2017-08-01 13:00:06.509207  \n",
       "2060095                      deliveroo/food/27999  2017-07-03T17:55:01.668428  \n",
       "\n",
       "[2 rows x 37 columns]"
      ]
     },
     "execution_count": 30,
     "metadata": {},
     "output_type": "execute_result"
    }
   ],
   "source": [
    "print df1.shape\n",
    "print df1.columns.tolist()\n",
    "df1.sample(2,random_state=2008)"
   ]
  },
  {
   "cell_type": "code",
   "execution_count": null,
   "metadata": {
    "collapsed": true
   },
   "outputs": [],
   "source": []
  },
  {
   "cell_type": "markdown",
   "metadata": {},
   "source": [
    "# Restaurant entities"
   ]
  },
  {
   "cell_type": "code",
   "execution_count": 90,
   "metadata": {},
   "outputs": [
    {
     "name": "stdout",
     "output_type": "stream",
     "text": [
      "CPU times: user 10min 55s, sys: 9.23 s, total: 11min 5s\n",
      "Wall time: 10min 58s\n"
     ]
    }
   ],
   "source": [
    "%%time\n",
    "restaurant_details = f.get_restaurant_details(df1)"
   ]
  },
  {
   "cell_type": "code",
   "execution_count": 92,
   "metadata": {},
   "outputs": [
    {
     "data": {
      "text/html": [
       "<div>\n",
       "<style scoped>\n",
       "    .dataframe tbody tr th:only-of-type {\n",
       "        vertical-align: middle;\n",
       "    }\n",
       "\n",
       "    .dataframe tbody tr th {\n",
       "        vertical-align: top;\n",
       "    }\n",
       "\n",
       "    .dataframe thead th {\n",
       "        text-align: right;\n",
       "    }\n",
       "</style>\n",
       "<table border=\"1\" class=\"dataframe\">\n",
       "  <thead>\n",
       "    <tr style=\"text-align: right;\">\n",
       "      <th></th>\n",
       "      <th>loc</th>\n",
       "      <th>timestamp</th>\n",
       "      <th>address</th>\n",
       "      <th>name</th>\n",
       "      <th>neighbourhood</th>\n",
       "      <th>opening</th>\n",
       "      <th>phone</th>\n",
       "      <th>rating</th>\n",
       "      <th>tag</th>\n",
       "    </tr>\n",
       "  </thead>\n",
       "  <tbody>\n",
       "    <tr>\n",
       "      <th>1421554</th>\n",
       "      <td>foodpanda/menu_item/AV2dMfH_cSlXBuMN7wFZ</td>\n",
       "      <td>2017-08-01 13:00:06.509207</td>\n",
       "      <td>10, Tebing Lane, #01-02, Sengkang, Singapore, ...</td>\n",
       "      <td>Cafe Frenzie Bistro &amp; Bar</td>\n",
       "      <td></td>\n",
       "      <td></td>\n",
       "      <td></td>\n",
       "      <td>4.5</td>\n",
       "      <td>['Burgers', 'Pizza', 'Western']</td>\n",
       "    </tr>\n",
       "    <tr>\n",
       "      <th>2060095</th>\n",
       "      <td>deliveroo/food/27999</td>\n",
       "      <td>2017-07-03T17:55:01.668428</td>\n",
       "      <td>204 Telok Ayer Street, Singapore, 068640</td>\n",
       "      <td>MOJO</td>\n",
       "      <td>Chinatown</td>\n",
       "      <td>Open until 21:00</td>\n",
       "      <td>+6562200723</td>\n",
       "      <td></td>\n",
       "      <td>Japanese</td>\n",
       "    </tr>\n",
       "  </tbody>\n",
       "</table>\n",
       "</div>"
      ],
      "text/plain": [
       "                                              loc                   timestamp  \\\n",
       "1421554  foodpanda/menu_item/AV2dMfH_cSlXBuMN7wFZ  2017-08-01 13:00:06.509207   \n",
       "2060095                      deliveroo/food/27999  2017-07-03T17:55:01.668428   \n",
       "\n",
       "                                                   address  \\\n",
       "1421554  10, Tebing Lane, #01-02, Sengkang, Singapore, ...   \n",
       "2060095           204 Telok Ayer Street, Singapore, 068640   \n",
       "\n",
       "                              name neighbourhood           opening  \\\n",
       "1421554  Cafe Frenzie Bistro & Bar                                   \n",
       "2060095                       MOJO     Chinatown  Open until 21:00   \n",
       "\n",
       "               phone rating                              tag  \n",
       "1421554                 4.5  ['Burgers', 'Pizza', 'Western']  \n",
       "2060095  +6562200723                                Japanese  "
      ]
     },
     "execution_count": 92,
     "metadata": {},
     "output_type": "execute_result"
    }
   ],
   "source": [
    "restaurant_details.sample(2,random_state=2008)"
   ]
  },
  {
   "cell_type": "code",
   "execution_count": 113,
   "metadata": {},
   "outputs": [
    {
     "name": "stdout",
     "output_type": "stream",
     "text": [
      "CPU times: user 5.64 s, sys: 28 ms, total: 5.66 s\n",
      "Wall time: 5.66 s\n"
     ]
    }
   ],
   "source": [
    "%%time\n",
    "# merge records based on name\n",
    "tup = lambda g: tuple(g)\n",
    "unq = lambda g:  sorted(list(set(g)))\n",
    "fn = {\"loc\":tup, \"timestamp\":tup, \"address\":unq, \"neighbourhood\":unq, \"opening\":unq,\n",
    "     \"phone\":unq, \"rating\":unq, \"tag\":unq}\n",
    "restaurant = restaurant_details.groupby(\"name\").agg(fn)\n",
    "# free the \"name\" column\n",
    "restaurant.reset_index(inplace=True)\n",
    "# ref dict: restaurant name : restaurant index\n",
    "restaurant_ref = restaurant.set_index([\"name\"]).to_dict()[\"index\"]\n",
    "# update index to be \"delivery_\"+xxx\n",
    "restaurant.reset_index(inplace=True)\n",
    "restaurant[\"index\"] = \"delivery_\"+restaurant[\"index\"].apply(str)\n",
    "restaurant.set_index(\"index\", inplace=True)"
   ]
  },
  {
   "cell_type": "code",
   "execution_count": 118,
   "metadata": {},
   "outputs": [
    {
     "name": "stdout",
     "output_type": "stream",
     "text": [
      "(6845, 9)\n",
      "['name', 'loc', 'tag', 'rating', 'address', 'timestamp', 'opening', 'neighbourhood', 'phone']\n"
     ]
    },
    {
     "data": {
      "text/html": [
       "<div>\n",
       "<style scoped>\n",
       "    .dataframe tbody tr th:only-of-type {\n",
       "        vertical-align: middle;\n",
       "    }\n",
       "\n",
       "    .dataframe tbody tr th {\n",
       "        vertical-align: top;\n",
       "    }\n",
       "\n",
       "    .dataframe thead th {\n",
       "        text-align: right;\n",
       "    }\n",
       "</style>\n",
       "<table border=\"1\" class=\"dataframe\">\n",
       "  <thead>\n",
       "    <tr style=\"text-align: right;\">\n",
       "      <th></th>\n",
       "      <th>name</th>\n",
       "      <th>loc</th>\n",
       "      <th>tag</th>\n",
       "      <th>rating</th>\n",
       "      <th>address</th>\n",
       "      <th>timestamp</th>\n",
       "      <th>opening</th>\n",
       "      <th>neighbourhood</th>\n",
       "      <th>phone</th>\n",
       "    </tr>\n",
       "    <tr>\n",
       "      <th>index</th>\n",
       "      <th></th>\n",
       "      <th></th>\n",
       "      <th></th>\n",
       "      <th></th>\n",
       "      <th></th>\n",
       "      <th></th>\n",
       "      <th></th>\n",
       "      <th></th>\n",
       "      <th></th>\n",
       "    </tr>\n",
       "  </thead>\n",
       "  <tbody>\n",
       "    <tr>\n",
       "      <th>delivery_3461</th>\n",
       "      <td>Menya Musash - Westgate</td>\n",
       "      <td>(deliveroo/food/141830, deliveroo/food/141831,...</td>\n",
       "      <td>[Free Delivery, Japanese]</td>\n",
       "      <td>[]</td>\n",
       "      <td>[3 Gateway Drive #02-07, Singapore, 608532]</td>\n",
       "      <td>(2017-07-03T17:55:01.668428, 2017-07-03T17:55:...</td>\n",
       "      <td>[Open until 21:30, Opens at 11:30]</td>\n",
       "      <td>[Teban]</td>\n",
       "      <td>[+6564659381]</td>\n",
       "    </tr>\n",
       "    <tr>\n",
       "      <th>delivery_1518</th>\n",
       "      <td>Don't Tell Mama</td>\n",
       "      <td>(foodpanda/menu_item/AV1B0-jpcSlXBuMN30Ke, foo...</td>\n",
       "      <td>[['Mexican', 'Korean', 'Tacos', 'Burritos', 'C...</td>\n",
       "      <td>[4.2, 4.3]</td>\n",
       "      <td>[, 52 Tanjong Pagar Road, 088473 Singapore, 52...</td>\n",
       "      <td>(2017-07-15 00:25:05.695006, 2017-07-15 00:25:...</td>\n",
       "      <td>[]</td>\n",
       "      <td>[]</td>\n",
       "      <td>[]</td>\n",
       "    </tr>\n",
       "  </tbody>\n",
       "</table>\n",
       "</div>"
      ],
      "text/plain": [
       "                                  name  \\\n",
       "index                                    \n",
       "delivery_3461  Menya Musash - Westgate   \n",
       "delivery_1518          Don't Tell Mama   \n",
       "\n",
       "                                                             loc  \\\n",
       "index                                                              \n",
       "delivery_3461  (deliveroo/food/141830, deliveroo/food/141831,...   \n",
       "delivery_1518  (foodpanda/menu_item/AV1B0-jpcSlXBuMN30Ke, foo...   \n",
       "\n",
       "                                                             tag      rating  \\\n",
       "index                                                                          \n",
       "delivery_3461                          [Free Delivery, Japanese]          []   \n",
       "delivery_1518  [['Mexican', 'Korean', 'Tacos', 'Burritos', 'C...  [4.2, 4.3]   \n",
       "\n",
       "                                                         address  \\\n",
       "index                                                              \n",
       "delivery_3461        [3 Gateway Drive #02-07, Singapore, 608532]   \n",
       "delivery_1518  [, 52 Tanjong Pagar Road, 088473 Singapore, 52...   \n",
       "\n",
       "                                                       timestamp  \\\n",
       "index                                                              \n",
       "delivery_3461  (2017-07-03T17:55:01.668428, 2017-07-03T17:55:...   \n",
       "delivery_1518  (2017-07-15 00:25:05.695006, 2017-07-15 00:25:...   \n",
       "\n",
       "                                          opening neighbourhood          phone  \n",
       "index                                                                           \n",
       "delivery_3461  [Open until 21:30, Opens at 11:30]       [Teban]  [+6564659381]  \n",
       "delivery_1518                                  []            []             []  "
      ]
     },
     "execution_count": 118,
     "metadata": {},
     "output_type": "execute_result"
    }
   ],
   "source": [
    "print restaurant.shape\n",
    "print restaurant.columns.tolist()\n",
    "restaurant.sample(2, random_state=2008)"
   ]
  },
  {
   "cell_type": "code",
   "execution_count": 119,
   "metadata": {},
   "outputs": [
    {
     "name": "stdout",
     "output_type": "stream",
     "text": [
      "saved: restaurant_entities__20180316.json\n"
     ]
    }
   ],
   "source": [
    "## save to json\n",
    "file_name = \"__\".join([\"restaurant_entities\", f.today()]) + \".json\"\n",
    "restaurant.to_json(file_name, orient='index')\n",
    "print \"saved: %s\"%file_name"
   ]
  },
  {
   "cell_type": "code",
   "execution_count": 134,
   "metadata": {},
   "outputs": [
    {
     "name": "stdout",
     "output_type": "stream",
     "text": [
      "saved: restaurant_entities__20180316.p\n"
     ]
    }
   ],
   "source": [
    "## save to p file\n",
    "file_name = \"__\".join([\"restaurant_entities\", f.today()]) + \".p\"\n",
    "f.save_file(restaurant, file_name)"
   ]
  },
  {
   "cell_type": "markdown",
   "metadata": {},
   "source": [
    "# Food entities"
   ]
  },
  {
   "cell_type": "markdown",
   "metadata": {},
   "source": [
    "** clean name of the food **"
   ]
  },
  {
   "cell_type": "code",
   "execution_count": 123,
   "metadata": {},
   "outputs": [
    {
     "name": "stdout",
     "output_type": "stream",
     "text": [
      "CPU times: user 7min 54s, sys: 5.49 s, total: 8min\n",
      "Wall time: 7min 55s\n"
     ]
    }
   ],
   "source": [
    "%%time\n",
    "food_details = f.get_food_details(df1, restaurant_ref)"
   ]
  },
  {
   "cell_type": "code",
   "execution_count": 124,
   "metadata": {},
   "outputs": [
    {
     "name": "stdout",
     "output_type": "stream",
     "text": [
      "(3718267, 7)\n",
      "['loc', 'timestamp', 'desc', 'food_name', 'price', 'tag', 'vendors']\n"
     ]
    },
    {
     "data": {
      "text/html": [
       "<div>\n",
       "<style scoped>\n",
       "    .dataframe tbody tr th:only-of-type {\n",
       "        vertical-align: middle;\n",
       "    }\n",
       "\n",
       "    .dataframe tbody tr th {\n",
       "        vertical-align: top;\n",
       "    }\n",
       "\n",
       "    .dataframe thead th {\n",
       "        text-align: right;\n",
       "    }\n",
       "</style>\n",
       "<table border=\"1\" class=\"dataframe\">\n",
       "  <thead>\n",
       "    <tr style=\"text-align: right;\">\n",
       "      <th></th>\n",
       "      <th>loc</th>\n",
       "      <th>timestamp</th>\n",
       "      <th>desc</th>\n",
       "      <th>food_name</th>\n",
       "      <th>price</th>\n",
       "      <th>tag</th>\n",
       "      <th>vendors</th>\n",
       "    </tr>\n",
       "  </thead>\n",
       "  <tbody>\n",
       "    <tr>\n",
       "      <th>1421554</th>\n",
       "      <td>foodpanda/menu_item/AV2dMfH_cSlXBuMN7wFZ</td>\n",
       "      <td>2017-08-01 13:00:06.509207</td>\n",
       "      <td>Served with chilli mayo</td>\n",
       "      <td>Popcorn Chicken</td>\n",
       "      <td>[{'price': 14.34, 'title': 'default'}]</td>\n",
       "      <td>Snacks</td>\n",
       "      <td>delivery_862</td>\n",
       "    </tr>\n",
       "    <tr>\n",
       "      <th>2060095</th>\n",
       "      <td>deliveroo/food/27999</td>\n",
       "      <td>2017-07-03T17:55:01.668428</td>\n",
       "      <td>Quinoa, Garlic</td>\n",
       "      <td>Foie Gras Chahan</td>\n",
       "      <td>19.26</td>\n",
       "      <td>Sharing Plates</td>\n",
       "      <td>delivery_3290</td>\n",
       "    </tr>\n",
       "  </tbody>\n",
       "</table>\n",
       "</div>"
      ],
      "text/plain": [
       "                                              loc                   timestamp  \\\n",
       "1421554  foodpanda/menu_item/AV2dMfH_cSlXBuMN7wFZ  2017-08-01 13:00:06.509207   \n",
       "2060095                      deliveroo/food/27999  2017-07-03T17:55:01.668428   \n",
       "\n",
       "                            desc         food_name  \\\n",
       "1421554  Served with chilli mayo   Popcorn Chicken   \n",
       "2060095           Quinoa, Garlic  Foie Gras Chahan   \n",
       "\n",
       "                                          price             tag        vendors  \n",
       "1421554  [{'price': 14.34, 'title': 'default'}]          Snacks   delivery_862  \n",
       "2060095                                   19.26  Sharing Plates  delivery_3290  "
      ]
     },
     "execution_count": 124,
     "metadata": {},
     "output_type": "execute_result"
    }
   ],
   "source": [
    "print food_details.shape\n",
    "print food_details.columns.tolist()\n",
    "food_details.sample(2, random_state=2008)"
   ]
  },
  {
   "cell_type": "code",
   "execution_count": 127,
   "metadata": {},
   "outputs": [
    {
     "name": "stdout",
     "output_type": "stream",
     "text": [
      "with 200779 unique menu names in 3718267 records\n"
     ]
    }
   ],
   "source": [
    "# ref dict: food_name: clean_name\n",
    "food_names = set(food_details[\"food_name\"].tolist())\n",
    "print \"with %d unique menu names in %d records\"%(len(food_names), food_details.shape[0])\n",
    "clean_food_ref = {s:f.clean_name_v2(s) for s in food_names}"
   ]
  },
  {
   "cell_type": "code",
   "execution_count": 136,
   "metadata": {},
   "outputs": [
    {
     "name": "stdout",
     "output_type": "stream",
     "text": [
      "CPU times: user 46.4 s, sys: 476 ms, total: 46.9 s\n",
      "Wall time: 46.5 s\n"
     ]
    }
   ],
   "source": [
    "%%time\n",
    "# merge records based on name\n",
    "tup = lambda g: tuple(g)\n",
    "unq = lambda g:  sorted(list(set(g)))\n",
    "fn = {\"food_name\":f.count_freq, \"vendors\": unq, \"desc\":unq, \"price\":tup, \n",
    "      \"tag\":unq, \"loc\":unq, \"timestamp\":unq}\n",
    "food_details[\"clean_name\"] = food_details[\"food_name\"].apply(lambda s: clean_food_ref[s])\n",
    "food_items = food_details.groupby(\"clean_name\").agg(fn)\n",
    "# free the \"clean_name\" column\n",
    "food_items.reset_index(inplace=True)\n",
    "# # ref dict: restaurant name : restaurant index\n",
    "# restaurant_ref = restaurant.set_index([\"name\"]).to_dict()[\"index\"]\n",
    "# update index to be \"food_\"+xxx\n",
    "food_items.reset_index(inplace=True)\n",
    "food_items[\"index\"] = \"food_\"+food_items[\"index\"].apply(str)\n",
    "food_items.set_index(\"index\", inplace=True)"
   ]
  },
  {
   "cell_type": "code",
   "execution_count": 137,
   "metadata": {},
   "outputs": [
    {
     "name": "stdout",
     "output_type": "stream",
     "text": [
      "(139780, 8)\n",
      "['clean_name', 'loc', 'food_name', 'timestamp', 'price', 'vendors', 'tag', 'desc']\n"
     ]
    },
    {
     "data": {
      "text/html": [
       "<div>\n",
       "<style scoped>\n",
       "    .dataframe tbody tr th:only-of-type {\n",
       "        vertical-align: middle;\n",
       "    }\n",
       "\n",
       "    .dataframe tbody tr th {\n",
       "        vertical-align: top;\n",
       "    }\n",
       "\n",
       "    .dataframe thead th {\n",
       "        text-align: right;\n",
       "    }\n",
       "</style>\n",
       "<table border=\"1\" class=\"dataframe\">\n",
       "  <thead>\n",
       "    <tr style=\"text-align: right;\">\n",
       "      <th></th>\n",
       "      <th>clean_name</th>\n",
       "      <th>loc</th>\n",
       "      <th>food_name</th>\n",
       "      <th>timestamp</th>\n",
       "      <th>price</th>\n",
       "      <th>vendors</th>\n",
       "      <th>tag</th>\n",
       "      <th>desc</th>\n",
       "    </tr>\n",
       "    <tr>\n",
       "      <th>index</th>\n",
       "      <th></th>\n",
       "      <th></th>\n",
       "      <th></th>\n",
       "      <th></th>\n",
       "      <th></th>\n",
       "      <th></th>\n",
       "      <th></th>\n",
       "      <th></th>\n",
       "    </tr>\n",
       "  </thead>\n",
       "  <tbody>\n",
       "    <tr>\n",
       "      <th>food_130659</th>\n",
       "      <td>toro cha shao persons</td>\n",
       "      <td>[deliveroo/food/19109, deliveroo/food/AV06uSiz...</td>\n",
       "      <td>[(Toro Cha Shao 2-3 persons, 5)]</td>\n",
       "      <td>[2017-07-03T17:55:01.668428, 2017-07-13T14:37:...</td>\n",
       "      <td>(16.5, 16.5, 16.5, 16.5, 16.5)</td>\n",
       "      <td>[delivery_5687]</td>\n",
       "      <td>[Chef's Recommendation Roast]</td>\n",
       "      <td>[]</td>\n",
       "    </tr>\n",
       "    <tr>\n",
       "      <th>food_127787</th>\n",
       "      <td>the guanyin</td>\n",
       "      <td>[deliveroo/food/AV2ZY3TUcSlXBuMN4ZOF, delivero...</td>\n",
       "      <td>[(The Guanyin, 172)]</td>\n",
       "      <td>[2017-08-01T00:00:04.909498, 2017-09-01 01:00:...</td>\n",
       "      <td>([{'price': 4.71, 'title': 'default'}], [{'pri...</td>\n",
       "      <td>[delivery_3921, delivery_3922, delivery_3923, ...</td>\n",
       "      <td>[Kopi - Teh, Kopi Teh, Kopi and Teh, Kopi-Teh,...</td>\n",
       "      <td>[, Currently sold out, Default, Per serving.]</td>\n",
       "    </tr>\n",
       "  </tbody>\n",
       "</table>\n",
       "</div>"
      ],
      "text/plain": [
       "                        clean_name  \\\n",
       "index                                \n",
       "food_130659  toro cha shao persons   \n",
       "food_127787            the guanyin   \n",
       "\n",
       "                                                           loc  \\\n",
       "index                                                            \n",
       "food_130659  [deliveroo/food/19109, deliveroo/food/AV06uSiz...   \n",
       "food_127787  [deliveroo/food/AV2ZY3TUcSlXBuMN4ZOF, delivero...   \n",
       "\n",
       "                                    food_name  \\\n",
       "index                                           \n",
       "food_130659  [(Toro Cha Shao 2-3 persons, 5)]   \n",
       "food_127787              [(The Guanyin, 172)]   \n",
       "\n",
       "                                                     timestamp  \\\n",
       "index                                                            \n",
       "food_130659  [2017-07-03T17:55:01.668428, 2017-07-13T14:37:...   \n",
       "food_127787  [2017-08-01T00:00:04.909498, 2017-09-01 01:00:...   \n",
       "\n",
       "                                                         price  \\\n",
       "index                                                            \n",
       "food_130659                     (16.5, 16.5, 16.5, 16.5, 16.5)   \n",
       "food_127787  ([{'price': 4.71, 'title': 'default'}], [{'pri...   \n",
       "\n",
       "                                                       vendors  \\\n",
       "index                                                            \n",
       "food_130659                                    [delivery_5687]   \n",
       "food_127787  [delivery_3921, delivery_3922, delivery_3923, ...   \n",
       "\n",
       "                                                           tag  \\\n",
       "index                                                            \n",
       "food_130659                      [Chef's Recommendation Roast]   \n",
       "food_127787  [Kopi - Teh, Kopi Teh, Kopi and Teh, Kopi-Teh,...   \n",
       "\n",
       "                                                      desc  \n",
       "index                                                       \n",
       "food_130659                                             []  \n",
       "food_127787  [, Currently sold out, Default, Per serving.]  "
      ]
     },
     "execution_count": 137,
     "metadata": {},
     "output_type": "execute_result"
    }
   ],
   "source": [
    "print food_items.shape\n",
    "print food_items.columns.tolist()\n",
    "food_items.sample(2, random_state=2008)"
   ]
  },
  {
   "cell_type": "markdown",
   "metadata": {},
   "source": [
    "** construct test case **"
   ]
  },
  {
   "cell_type": "code",
   "execution_count": 138,
   "metadata": {},
   "outputs": [
    {
     "name": "stdout",
     "output_type": "stream",
     "text": [
      "saved: 001_entity_identification_test_case_20180316.csv\n"
     ]
    }
   ],
   "source": [
    "# save test case to csv\n",
    "file_name = \"001_entity_identification_test_case_\" + f.today()+\".csv\"\n",
    "test_case = food_items.sample(100, random_state=2008)[[\"food_name\", \"clean_name\"]]\n",
    "test_case[\"food_name\"] = test_case[\"food_name\"].apply(lambda s: s[0][0])\n",
    "test_case.to_csv(file_name,index=False)\n",
    "print \"saved: %s\"%file_name"
   ]
  },
  {
   "cell_type": "code",
   "execution_count": 139,
   "metadata": {},
   "outputs": [
    {
     "name": "stdout",
     "output_type": "stream",
     "text": [
      "saved: food_entities__20180316.json\n"
     ]
    }
   ],
   "source": [
    "## save to json\n",
    "file_name = \"__\".join([\"food_entities\", f.today()]) + \".json\"\n",
    "food_items.to_json(file_name, orient='index')\n",
    "print \"saved: %s\"%file_name"
   ]
  },
  {
   "cell_type": "code",
   "execution_count": 140,
   "metadata": {},
   "outputs": [
    {
     "name": "stdout",
     "output_type": "stream",
     "text": [
      "saved: food_entities__20180316.p\n"
     ]
    }
   ],
   "source": [
    "## save to p file\n",
    "file_name = \"__\".join([\"food_entities\", f.today()]) + \".p\"\n",
    "f.save_file(food_items, file_name)"
   ]
  },
  {
   "cell_type": "code",
   "execution_count": null,
   "metadata": {
    "collapsed": true
   },
   "outputs": [],
   "source": []
  }
 ],
 "metadata": {
  "kernelspec": {
   "display_name": "Python 2",
   "language": "python",
   "name": "python2"
  },
  "language_info": {
   "codemirror_mode": {
    "name": "ipython",
    "version": 2
   },
   "file_extension": ".py",
   "mimetype": "text/x-python",
   "name": "python",
   "nbconvert_exporter": "python",
   "pygments_lexer": "ipython2",
   "version": "2.7.14"
  }
 },
 "nbformat": 4,
 "nbformat_minor": 2
}
