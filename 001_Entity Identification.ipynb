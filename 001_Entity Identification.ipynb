{
 "cells": [
  {
   "cell_type": "markdown",
   "metadata": {},
   "source": [
    "# Data retrival"
   ]
  },
  {
   "cell_type": "code",
   "execution_count": 1,
   "metadata": {
    "collapsed": true
   },
   "outputs": [],
   "source": [
    "%load_ext autotime\n",
    "%load_ext autoreload\n",
    "%autoreload 2"
   ]
  },
  {
   "cell_type": "code",
   "execution_count": 2,
   "metadata": {},
   "outputs": [
    {
     "name": "stdout",
     "output_type": "stream",
     "text": [
      "time: 6.97 ms\n"
     ]
    }
   ],
   "source": [
    "from datetime import datetime\n",
    "startTime = datetime.now()"
   ]
  },
  {
   "cell_type": "code",
   "execution_count": 3,
   "metadata": {},
   "outputs": [
    {
     "name": "stdout",
     "output_type": "stream",
     "text": [
      "20180403\n",
      "\n",
      "time: 8.76 ms\n"
     ]
    }
   ],
   "source": [
    "import myfunctions as f\n",
    "print f.today()\n",
    "print \"\"\n",
    "# python version\n",
    "# import sys\n",
    "# print \"system_info: %s\"%sys.version\n",
    "# current working directory\n",
    "# import os\n",
    "# print \"path_info: %s\"%os.getcwd() "
   ]
  },
  {
   "cell_type": "code",
   "execution_count": 4,
   "metadata": {},
   "outputs": [
    {
     "name": "stdout",
     "output_type": "stream",
     "text": [
      "time: 6.92 ms\n"
     ]
    }
   ],
   "source": [
    "# setup elastic search\n",
    "# f.initialise_es(1)\n",
    "foodpanda, deliveroo, wte, websites = f.delivery_para()"
   ]
  },
  {
   "cell_type": "markdown",
   "metadata": {},
   "source": [
    "** Retriving all food items **"
   ]
  },
  {
   "cell_type": "code",
   "execution_count": null,
   "metadata": {},
   "outputs": [
    {
     "name": "stdout",
     "output_type": "stream",
     "text": [
      "time: 6.64 ms\n"
     ]
    }
   ],
   "source": [
    "doc_type = \"food\""
   ]
  },
  {
   "cell_type": "code",
   "execution_count": null,
   "metadata": {},
   "outputs": [],
   "source": [
    "website = websites[0]\n",
    "f.initialise_es(0)\n",
    "website.update({\"all_rec_\"+doc_type : f.retrive_from_es(website, doc_type)})"
   ]
  },
  {
   "cell_type": "code",
   "execution_count": null,
   "metadata": {
    "collapsed": true
   },
   "outputs": [],
   "source": [
    "website = websites[1]\n",
    "f.initialise_es(0)\n",
    "website.update({\"all_rec_\"+doc_type : f.retrive_from_es(website, doc_type)})"
   ]
  },
  {
   "cell_type": "code",
   "execution_count": null,
   "metadata": {
    "collapsed": true
   },
   "outputs": [],
   "source": [
    "website = websites[2]\n",
    "f.initialise_es(0)\n",
    "website.update({\"all_rec_\"+doc_type : f.retrive_from_es(website, doc_type)})"
   ]
  },
  {
   "cell_type": "markdown",
   "metadata": {},
   "source": [
    "** Data: keep all index and dates **"
   ]
  },
  {
   "cell_type": "code",
   "execution_count": null,
   "metadata": {
    "collapsed": true
   },
   "outputs": [],
   "source": [
    "### fomulate location\n",
    "def fomulate_loc(w):\n",
    "    \"\"\"formulate storage location according to es data\"\"\"\n",
    "    w['all_rec_food'][\"loc\"] = w['all_rec_food'][\"_index\"] + \"/\" + \\\n",
    "    w[\"food\"] + \"/\" + \\\n",
    "    w['all_rec_food'][\"_id\"]\n",
    "\n",
    "def fomulate_timestamp(w):\n",
    "    if w[\"_index\"] == 'what_to_eat':\n",
    "        w['all_rec_food'][\"timestamp\"] = w['all_rec_food']['_source.startTimestampGMT']\n",
    "    else:\n",
    "        d = f.retrive_from_es(w, \"crawling_cycle\")\n",
    "        cycle_time = d.set_index(w['cycle_id']).to_dict()[w['cycleStart']]\n",
    "        # remove na for food names\n",
    "        w['all_rec_food'] = w['all_rec_food'][~w['all_rec_food'][w[\"food_name\"]].isnull()]\n",
    "        # assign time according to food cycle\n",
    "        w['all_rec_food'][\"timestamp\"] = w['all_rec_food'][w['food_cycle']].apply(lambda s: cycle_time[s])"
   ]
  },
  {
   "cell_type": "code",
   "execution_count": null,
   "metadata": {
    "collapsed": true
   },
   "outputs": [],
   "source": [
    "for w in websites:\n",
    "    fomulate_loc(w)     \n",
    "    fomulate_timestamp(w) \n",
    "    print \"%s:: number of records: %d\"%(w[\"_index\"],\n",
    "                                        w['all_rec_food'].shape[0])"
   ]
  },
  {
   "cell_type": "markdown",
   "metadata": {},
   "source": [
    "** Save food data with all details **"
   ]
  },
  {
   "cell_type": "code",
   "execution_count": null,
   "metadata": {
    "collapsed": true
   },
   "outputs": [],
   "source": [
    "import pandas as pd\n",
    "df1 = pd.concat(w['all_rec_food'] for w in websites)\n",
    "# reset index after concat\n",
    "df1.reset_index(inplace=True, drop=True)"
   ]
  },
  {
   "cell_type": "code",
   "execution_count": null,
   "metadata": {
    "collapsed": true
   },
   "outputs": [],
   "source": [
    "print df1.shape\n",
    "print df1.columns.tolist()\n",
    "df1.sample(2,random_state=2008)"
   ]
  },
  {
   "cell_type": "markdown",
   "metadata": {},
   "source": [
    "# Restaurant entities"
   ]
  },
  {
   "cell_type": "code",
   "execution_count": null,
   "metadata": {
    "collapsed": true
   },
   "outputs": [],
   "source": [
    "%%time\n",
    "restaurant_details = f.get_restaurant_details(df1)"
   ]
  },
  {
   "cell_type": "code",
   "execution_count": null,
   "metadata": {
    "collapsed": true
   },
   "outputs": [],
   "source": [
    "restaurant_details.sample(2,random_state=2008)"
   ]
  },
  {
   "cell_type": "code",
   "execution_count": null,
   "metadata": {
    "collapsed": true
   },
   "outputs": [],
   "source": [
    "%%time\n",
    "# merge records based on name\n",
    "tup = lambda g: tuple(g)\n",
    "unq = lambda g:  sorted(list(set(g)))\n",
    "fn = {\"loc\":tup, \"timestamp\":tup, \"address\":unq, \"neighbourhood\":unq, \"opening\":unq,\n",
    "     \"phone\":unq, \"rating\":unq, \"tag\":unq}\n",
    "restaurant = restaurant_details.groupby(\"name\").agg(fn)\n",
    "# free the \"name\" column\n",
    "restaurant.reset_index(inplace=True)\n",
    "# update index to be \"delivery_\"+xxx\n",
    "restaurant.reset_index(inplace=True)\n",
    "restaurant[\"index\"] = \"delivery_\"+restaurant[\"index\"].apply(str)\n",
    "restaurant.set_index(\"index\", inplace=True)"
   ]
  },
  {
   "cell_type": "code",
   "execution_count": null,
   "metadata": {
    "collapsed": true
   },
   "outputs": [],
   "source": [
    "print restaurant.shape\n",
    "print restaurant.columns.tolist()\n",
    "restaurant.sample(2, random_state=2008)"
   ]
  },
  {
   "cell_type": "code",
   "execution_count": null,
   "metadata": {
    "collapsed": true
   },
   "outputs": [],
   "source": [
    "## save to json\n",
    "file_name = \"__\".join([\"restaurant_entities\", f.today()]) + \".json\"\n",
    "restaurant.to_json(file_name, orient='index')\n",
    "print \"saved: %s\"%file_name"
   ]
  },
  {
   "cell_type": "code",
   "execution_count": null,
   "metadata": {
    "collapsed": true
   },
   "outputs": [],
   "source": [
    "# ref dict: restaurant name : restaurant index\n",
    "restaurant.reset_index(inplace=True)\n",
    "restaurant_ref = restaurant.set_index([\"name\"]).to_dict()[\"index\"]"
   ]
  },
  {
   "cell_type": "markdown",
   "metadata": {},
   "source": [
    "# Food entities"
   ]
  },
  {
   "cell_type": "markdown",
   "metadata": {},
   "source": [
    "** clean name of the food **"
   ]
  },
  {
   "cell_type": "code",
   "execution_count": null,
   "metadata": {
    "collapsed": true
   },
   "outputs": [],
   "source": [
    "%%time\n",
    "food_details = f.get_food_details(df1, restaurant_ref)"
   ]
  },
  {
   "cell_type": "code",
   "execution_count": null,
   "metadata": {
    "collapsed": true
   },
   "outputs": [],
   "source": [
    "print food_details.shape\n",
    "print food_details.columns.tolist()\n",
    "food_details.sample(2, random_state=2008)"
   ]
  },
  {
   "cell_type": "code",
   "execution_count": null,
   "metadata": {
    "collapsed": true
   },
   "outputs": [],
   "source": [
    "# ref dict: food_name: clean_name\n",
    "food_names = set(food_details[\"food_name\"].tolist())\n",
    "print \"with %d unique menu names in %d records\"%(len(food_names), food_details.shape[0])\n",
    "clean_food_ref = {s:f.clean_name_v2(s) for s in food_names}"
   ]
  },
  {
   "cell_type": "code",
   "execution_count": null,
   "metadata": {
    "collapsed": true
   },
   "outputs": [],
   "source": [
    "%%time\n",
    "# merge records based on name\n",
    "tup = lambda g: tuple(g)\n",
    "unq = lambda g:  sorted(list(set(g)))\n",
    "fn = {\"food_name\":f.count_freq, \"vendors\": unq, \"desc\":unq, \"price\":tup, \n",
    "      \"tag\":unq, \"loc\":unq, \"timestamp\":unq}\n",
    "food_details[\"clean_name\"] = food_details[\"food_name\"].apply(lambda s: clean_food_ref[s])\n",
    "food_items = food_details.groupby(\"clean_name\").agg(fn)\n",
    "# free the \"clean_name\" column\n",
    "food_items.reset_index(inplace=True)\n",
    "# update index to be \"food_\"+xxx\n",
    "food_items.reset_index(inplace=True)\n",
    "food_items[\"index\"] = \"food_\"+food_items[\"index\"].apply(str)\n",
    "food_items.set_index(\"index\", inplace=True)"
   ]
  },
  {
   "cell_type": "code",
   "execution_count": null,
   "metadata": {
    "collapsed": true
   },
   "outputs": [],
   "source": [
    "print food_items.shape\n",
    "print food_items.columns.tolist()\n",
    "food_items.sample(2, random_state=2008)"
   ]
  },
  {
   "cell_type": "code",
   "execution_count": null,
   "metadata": {
    "collapsed": true
   },
   "outputs": [],
   "source": [
    "## save to p file\n",
    "file_name = \"__\".join([\"food_entities\", f.today()]) + \".p\"\n",
    "f.save_file(food_items, file_name)"
   ]
  },
  {
   "cell_type": "markdown",
   "metadata": {},
   "source": [
    "** construct test case **"
   ]
  },
  {
   "cell_type": "code",
   "execution_count": null,
   "metadata": {
    "collapsed": true
   },
   "outputs": [],
   "source": [
    "# save test case to csv\n",
    "file_name = \"001_entity_identification_test_case_\" + f.today()+\".csv\"\n",
    "test_case = food_items.sample(100, random_state=2008)[[\"food_name\", \"clean_name\"]]\n",
    "test_case[\"food_name\"] = test_case[\"food_name\"].apply(lambda s: s[0][0])\n",
    "test_case.to_csv(file_name,index=False)\n",
    "print \"saved: %s\"%file_name"
   ]
  },
  {
   "cell_type": "markdown",
   "metadata": {},
   "source": [
    "** total time **"
   ]
  },
  {
   "cell_type": "code",
   "execution_count": null,
   "metadata": {
    "collapsed": true
   },
   "outputs": [],
   "source": [
    "print datetime.now() - startTime "
   ]
  },
  {
   "cell_type": "code",
   "execution_count": null,
   "metadata": {
    "collapsed": true
   },
   "outputs": [],
   "source": []
  }
 ],
 "metadata": {
  "kernelspec": {
   "display_name": "Python 2",
   "language": "python",
   "name": "python2"
  },
  "language_info": {
   "codemirror_mode": {
    "name": "ipython",
    "version": 2
   },
   "file_extension": ".py",
   "mimetype": "text/x-python",
   "name": "python",
   "nbconvert_exporter": "python",
   "pygments_lexer": "ipython2",
   "version": "2.7.14"
  }
 },
 "nbformat": 4,
 "nbformat_minor": 2
}
