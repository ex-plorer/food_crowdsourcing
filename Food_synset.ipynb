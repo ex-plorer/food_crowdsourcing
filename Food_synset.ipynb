{
 "cells": [
  {
   "cell_type": "markdown",
   "metadata": {},
   "source": [
    "# Food synset entities\n"
   ]
  },
  {
   "cell_type": "code",
   "execution_count": 1,
   "metadata": {},
   "outputs": [
    {
     "data": {
      "text/plain": [
       "'20180208'"
      ]
     },
     "execution_count": 1,
     "metadata": {},
     "output_type": "execute_result"
    }
   ],
   "source": [
    "import myfunctions as f\n",
    "f.today()"
   ]
  },
  {
   "cell_type": "code",
   "execution_count": 2,
   "metadata": {},
   "outputs": [
    {
     "name": "stdout",
     "output_type": "stream",
     "text": [
      "system_info: 2.7.14 |Anaconda custom (64-bit)| (default, Oct 27 2017, 18:21:12) \n",
      "[GCC 7.2.0]\n",
      "path_info: /home/yueliu/Desktop/workspace_yue/Documentation_201712\n"
     ]
    }
   ],
   "source": [
    "import sys\n",
    "print \"system_info: %s\"%sys.version\n",
    "# current working directory\n",
    "import os\n",
    "print \"path_info: %s\"%os.getcwd()  "
   ]
  },
  {
   "cell_type": "markdown",
   "metadata": {},
   "source": [
    "## Food synset attributes\n",
    ">From delivery sites:\n",
    "\n",
    "    1. food/index\n",
    "    2. food/food_name \t\tassigned name to the food item\n",
    "    3. food/synonyms\t \tsynonyms of the food item\n",
    "    4. food/menu_names \t\tname variations at different restaurants\n",
    "\n",
    "\n",
    "> From reviews:\n",
    "\n",
    "    1. food/review\t\t\t\t\tlocations of storage of the review\n",
    "    2. food/review.text\t\t\t\treview containing the food item \n",
    "    3. food/review.clean_text\t    processed review containing the food item\n",
    "    4. food/review.restaurant       restaurant index\t    ",
    "\n",
    "    5. food/review.image     \t    image in review"
   ]
  },
  {
   "cell_type": "markdown",
   "metadata": {},
   "source": [
    "### From delivery records"
   ]
  },
  {
   "cell_type": "code",
   "execution_count": 8,
   "metadata": {},
   "outputs": [
    {
     "name": "stdout",
     "output_type": "stream",
     "text": [
      "retrived: all_food_vendor__standard__20180207.p\n"
     ]
    }
   ],
   "source": [
    "file_name = \"all_food_vendor__standard__20180207.p\"\n",
    "df_retrived = f.retrive_file(file_name)"
   ]
  },
  {
   "cell_type": "code",
   "execution_count": 10,
   "metadata": {},
   "outputs": [
    {
     "name": "stdout",
     "output_type": "stream",
     "text": [
      "Got 333572 food-vendor records\n",
      "Got 92298 unique food items \n",
      "['food_name', 'vendor_name', 'locs', 'clean_name', 'lemma_name', 'lemma_name_2', 'standard_name']\n"
     ]
    }
   ],
   "source": [
    "print (\"Got %d food-vendor records\" % df_retrived.shape[0])\n",
    "print (\"Got %d unique food items \" % df_retrived[\"standard_name\"].nunique())\n",
    "print df_retrived.columns.tolist()"
   ]
  },
  {
   "cell_type": "code",
   "execution_count": 39,
   "metadata": {},
   "outputs": [
    {
     "name": "stdout",
     "output_type": "stream",
     "text": [
      "retrived: restaurant_entities__20180207.p\n"
     ]
    }
   ],
   "source": [
    "# selct columns for delivery records\n",
    "cols = ['standard_name', 'clean_name','food_name', 'vendor_name', 'locs', ]\n",
    "df = df_retrived[cols]\n",
    "# rename as cols in food synset\n",
    "col_names = [\"food_name\", \"synonyms\", \"menu_names\", \"restaurant\", \"locs\",  ]\n",
    "df.columns = col_names\n",
    "\n",
    "# merge records based on food_name\n",
    "tup = lambda g: tuple(g)\n",
    "unq = lambda g:  sorted(list(set(g)))\n",
    "enlist = lambda g:  [item[1] for sublist in g for item in sublist]\n",
    "fn = { \"synonyms\":unq, \"menu_names\":tup, \"restaurant\":unq, \"locs\":enlist}\n",
    "de2 = df.groupby(\"food_name\").agg(fn)\n",
    "de2.reset_index(inplace=True)\n",
    "de2[\"menu_names\"] = de2[\"menu_names\"].apply(lambda food_lst: \n",
    "                                            sorted([(x,food_lst.count(x)) for x in set(food_lst)\n",
    "                                                   ], key=lambda x: (-x[1], x)))\n",
    "de2.reset_index(inplace=True)\n",
    "de2[\"index\"] = de2[\"index\"].apply(lambda s: \"food_\"+ str(s))\n",
    "\n",
    "# map restaurants to their respective index, for restaurants from delivery sites only\n",
    "file_name = \"restaurant_entities__20180207.p\"\n",
    "restaurant_entities = f.retrive_file(file_name)\n",
    "restaurant_entities[\"type\"] = restaurant_entities[\"index\"].apply(lambda s: s.split(\"_\")[0])\n",
    "restaurant_entities = restaurant_entities[restaurant_entities[\"type\"]==\"delivery\"]\n",
    "restaurant_index_ref = restaurant_entities.set_index(\"restaurant.name\").to_dict()[\"index\"]\n",
    "de2[\"restaurant\"] = de2[\"restaurant\"].apply(lambda lst: \n",
    "                                            sorted([restaurant_index_ref[r] for r in lst]))"
   ]
  },
  {
   "cell_type": "code",
   "execution_count": 46,
   "metadata": {},
   "outputs": [
    {
     "data": {
      "text/html": [
       "<div>\n",
       "<style scoped>\n",
       "    .dataframe tbody tr th:only-of-type {\n",
       "        vertical-align: middle;\n",
       "    }\n",
       "\n",
       "    .dataframe tbody tr th {\n",
       "        vertical-align: top;\n",
       "    }\n",
       "\n",
       "    .dataframe thead th {\n",
       "        text-align: right;\n",
       "    }\n",
       "</style>\n",
       "<table border=\"1\" class=\"dataframe\">\n",
       "  <thead>\n",
       "    <tr style=\"text-align: right;\">\n",
       "      <th></th>\n",
       "      <th>index</th>\n",
       "      <th>food_name</th>\n",
       "      <th>locs</th>\n",
       "      <th>synonyms</th>\n",
       "      <th>menu_names</th>\n",
       "      <th>restaurant</th>\n",
       "    </tr>\n",
       "  </thead>\n",
       "  <tbody>\n",
       "    <tr>\n",
       "      <th>0</th>\n",
       "      <td>food_0</td>\n",
       "      <td>-PRON- ann</td>\n",
       "      <td>[deliveroo/food/68155, deliveroo/food/AV062oM7...</td>\n",
       "      <td>[em ann]</td>\n",
       "      <td>[(Em Ann M., 3)]</td>\n",
       "      <td>[delivery_3748, delivery_3749, delivery_3750]</td>\n",
       "    </tr>\n",
       "    <tr>\n",
       "      <th>1</th>\n",
       "      <td>food_1</td>\n",
       "      <td>-PRON- bai vege</td>\n",
       "      <td>[foodpanda/menu_item/AV44Ejd8W4PLiMnQOaiu, foo...</td>\n",
       "      <td>[you bai vege]</td>\n",
       "      <td>[(H6. You Bai Vege, 2)]</td>\n",
       "      <td>[delivery_221, delivery_222]</td>\n",
       "    </tr>\n",
       "  </tbody>\n",
       "</table>\n",
       "</div>"
      ],
      "text/plain": [
       "    index        food_name                                               locs  \\\n",
       "0  food_0       -PRON- ann  [deliveroo/food/68155, deliveroo/food/AV062oM7...   \n",
       "1  food_1  -PRON- bai vege  [foodpanda/menu_item/AV44Ejd8W4PLiMnQOaiu, foo...   \n",
       "\n",
       "         synonyms               menu_names  \\\n",
       "0        [em ann]         [(Em Ann M., 3)]   \n",
       "1  [you bai vege]  [(H6. You Bai Vege, 2)]   \n",
       "\n",
       "                                      restaurant  \n",
       "0  [delivery_3748, delivery_3749, delivery_3750]  \n",
       "1                   [delivery_221, delivery_222]  "
      ]
     },
     "execution_count": 46,
     "metadata": {},
     "output_type": "execute_result"
    }
   ],
   "source": [
    "de2.head(2)"
   ]
  },
  {
   "cell_type": "code",
   "execution_count": 37,
   "metadata": {},
   "outputs": [
    {
     "name": "stdout",
     "output_type": "stream",
     "text": [
      "Got 92298 unique food items \n"
     ]
    }
   ],
   "source": [
    "print (\"Got %d unique food items \" % de2[\"index\"].nunique())"
   ]
  },
  {
   "cell_type": "markdown",
   "metadata": {},
   "source": [
    "### From review"
   ]
  },
  {
   "cell_type": "code",
   "execution_count": 47,
   "metadata": {},
   "outputs": [
    {
     "name": "stdout",
     "output_type": "stream",
     "text": [
      "retrived: /home/yueliu/Desktop/workspace_yue/burpple__review__clean__20180205.p\n"
     ]
    }
   ],
   "source": [
    "review_path = \"/home/yueliu/Desktop/workspace_yue\"\n",
    "file_name = \"burpple__review__clean__20180205.p\"    \n",
    "file_name = os.path.join(review_path, file_name)\n",
    "df_retrived = f.retrive_file(file_name)\n",
    "\n",
    "import pandas as pd\n",
    "pd.options.mode.chained_assignment = None \n",
    "cols = ['loc', 'title', 'body', 'restaurant.name']\n",
    "rev = df_retrived[cols]\n",
    "sep = \"***____***\"\n",
    "rev[\"text\"] = rev[\"title\"] + sep + rev[\"body\"]\n",
    "rev.fillna(\"\", inplace=True)\n",
    "rev_loc_rest_ref = rev.set_index(\"loc\").to_dict()[\"restaurant.name\"]\n",
    "rev_loc_rev_ref = rev.set_index(\"loc\").to_dict()[\"text\"]"
   ]
  },
  {
   "cell_type": "code",
   "execution_count": 74,
   "metadata": {},
   "outputs": [
    {
     "name": "stdout",
     "output_type": "stream",
     "text": [
      "retrived: /home/yueliu/Desktop/workspace_yue/review_with_synsets__20180207.p\n"
     ]
    }
   ],
   "source": [
    "file_name = \"review_with_synsets__20180207.p\"\n",
    "file_name = os.path.join(review_path, file_name)\n",
    "loc_food = f.retrive_file(file_name)"
   ]
  },
  {
   "cell_type": "code",
   "execution_count": 81,
   "metadata": {},
   "outputs": [
    {
     "name": "stdout",
     "output_type": "stream",
     "text": [
      "retrived: restaurant_entities__20180207.p\n"
     ]
    }
   ],
   "source": [
    "# merge records based on food_name\n",
    "unq = lambda g:  sorted(list(set(g)))\n",
    "enlist = lambda g:  [item for sublist in g for item in sublist]\n",
    "fn = { \"standard_text\":unq, \"loc\":enlist}\n",
    "bu2 = loc_food.groupby(\"food_items\").agg(fn)\n",
    "bu2.reset_index(inplace=True)\n",
    "bu2[\"review.restaurant\"] = bu2[\"loc\"].apply(lambda lst: [rev_loc_rest_ref[l] for l in lst])\n",
    "bu2[\"review.text\"] = bu2[\"loc\"].apply(lambda lst: [rev_loc_rev_ref[l] for l in lst])\n",
    "bu2[\"review.image\"] = bu2[\"loc\"].apply(lambda lst: [l.split(\"/\")[-1] for l in lst])\n",
    "# map restaurants to their respective index, for restaurants from burpple only\n",
    "file_name = \"restaurant_entities__20180207.p\"\n",
    "restaurant_entities = f.retrive_file(file_name)\n",
    "restaurant_entities[\"type\"] = restaurant_entities[\"index\"].apply(lambda s: s.split(\"_\")[0])\n",
    "restaurant_entities = restaurant_entities[restaurant_entities[\"type\"]==\"burpple\"]\n",
    "restaurant_index_ref = restaurant_entities.set_index(\"restaurant.name\").to_dict()[\"index\"]\n",
    "bu2[\"review.restaurant\"] = bu2[\"review.restaurant\"].apply(lambda lst: \n",
    "                                            sorted([restaurant_index_ref[r] for r in lst]))\n",
    "bu2.rename(index=str, columns={\"food_items\": \"food_name\", \n",
    "                               \"loc\": \"review\", \n",
    "                               \"standard_text\": \"review.clean_text\"}, inplace=True)"
   ]
  },
  {
   "cell_type": "code",
   "execution_count": 96,
   "metadata": {},
   "outputs": [
    {
     "data": {
      "text/html": [
       "<div>\n",
       "<style scoped>\n",
       "    .dataframe tbody tr th:only-of-type {\n",
       "        vertical-align: middle;\n",
       "    }\n",
       "\n",
       "    .dataframe tbody tr th {\n",
       "        vertical-align: top;\n",
       "    }\n",
       "\n",
       "    .dataframe thead th {\n",
       "        text-align: right;\n",
       "    }\n",
       "</style>\n",
       "<table border=\"1\" class=\"dataframe\">\n",
       "  <thead>\n",
       "    <tr style=\"text-align: right;\">\n",
       "      <th></th>\n",
       "      <th>food_name</th>\n",
       "      <th>review</th>\n",
       "      <th>review.clean_text</th>\n",
       "      <th>review.restaurant</th>\n",
       "      <th>review.text</th>\n",
       "      <th>review.image</th>\n",
       "    </tr>\n",
       "  </thead>\n",
       "  <tbody>\n",
       "    <tr>\n",
       "      <th>0</th>\n",
       "      <td>-PRON- ann</td>\n",
       "      <td>[burppleinitial/review/vGui2G8q]</td>\n",
       "      <td>[maggie mee goreng from the rooftop at screeni...</td>\n",
       "      <td>[burpple_12581]</td>\n",
       "      <td>[Maggi Mee Goreng from The Rooftop at Screenin...</td>\n",
       "      <td>[vGui2G8q]</td>\n",
       "    </tr>\n",
       "    <tr>\n",
       "      <th>1</th>\n",
       "      <td>-PRON- beef</td>\n",
       "      <td>[burppleinitial/review/XwPDjO8V, burppleinitia...</td>\n",
       "      <td>[-PRON- beef, -PRON- beef can understand why p...</td>\n",
       "      <td>[burpple_0, burpple_10107, burpple_10138, burp...</td>\n",
       "      <td>[@juneleety and I finally used our beanstro vo...</td>\n",
       "      <td>[XwPDjO8V, AWWNXiyw, 9xOY4Zr5, heKHuAj5, 1m1CD...</td>\n",
       "    </tr>\n",
       "  </tbody>\n",
       "</table>\n",
       "</div>"
      ],
      "text/plain": [
       "     food_name                                             review  \\\n",
       "0   -PRON- ann                   [burppleinitial/review/vGui2G8q]   \n",
       "1  -PRON- beef  [burppleinitial/review/XwPDjO8V, burppleinitia...   \n",
       "\n",
       "                                   review.clean_text  \\\n",
       "0  [maggie mee goreng from the rooftop at screeni...   \n",
       "1  [-PRON- beef, -PRON- beef can understand why p...   \n",
       "\n",
       "                                   review.restaurant  \\\n",
       "0                                    [burpple_12581]   \n",
       "1  [burpple_0, burpple_10107, burpple_10138, burp...   \n",
       "\n",
       "                                         review.text  \\\n",
       "0  [Maggi Mee Goreng from The Rooftop at Screenin...   \n",
       "1  [@juneleety and I finally used our beanstro vo...   \n",
       "\n",
       "                                        review.image  \n",
       "0                                         [vGui2G8q]  \n",
       "1  [XwPDjO8V, AWWNXiyw, 9xOY4Zr5, heKHuAj5, 1m1CD...  "
      ]
     },
     "execution_count": 96,
     "metadata": {},
     "output_type": "execute_result"
    }
   ],
   "source": [
    "bu2.head(2)"
   ]
  },
  {
   "cell_type": "markdown",
   "metadata": {},
   "source": [
    "### Join"
   ]
  },
  {
   "cell_type": "code",
   "execution_count": 97,
   "metadata": {},
   "outputs": [
    {
     "name": "stdout",
     "output_type": "stream",
     "text": [
      "(92298, 11)\n",
      "['index', 'food_name', 'locs', 'synonyms', 'menu_names', 'restaurant', 'review', 'review.clean_text', 'review.restaurant', 'review.text', 'review.image']\n"
     ]
    },
    {
     "data": {
      "text/html": [
       "<div>\n",
       "<style scoped>\n",
       "    .dataframe tbody tr th:only-of-type {\n",
       "        vertical-align: middle;\n",
       "    }\n",
       "\n",
       "    .dataframe tbody tr th {\n",
       "        vertical-align: top;\n",
       "    }\n",
       "\n",
       "    .dataframe thead th {\n",
       "        text-align: right;\n",
       "    }\n",
       "</style>\n",
       "<table border=\"1\" class=\"dataframe\">\n",
       "  <thead>\n",
       "    <tr style=\"text-align: right;\">\n",
       "      <th></th>\n",
       "      <th>index</th>\n",
       "      <th>food_name</th>\n",
       "      <th>locs</th>\n",
       "      <th>synonyms</th>\n",
       "      <th>menu_names</th>\n",
       "      <th>restaurant</th>\n",
       "      <th>review</th>\n",
       "      <th>review.clean_text</th>\n",
       "      <th>review.restaurant</th>\n",
       "      <th>review.text</th>\n",
       "      <th>review.image</th>\n",
       "    </tr>\n",
       "  </thead>\n",
       "  <tbody>\n",
       "    <tr>\n",
       "      <th>0</th>\n",
       "      <td>food_0</td>\n",
       "      <td>-PRON- ann</td>\n",
       "      <td>[deliveroo/food/68155, deliveroo/food/AV062oM7...</td>\n",
       "      <td>[em ann]</td>\n",
       "      <td>[(Em Ann M., 3)]</td>\n",
       "      <td>[delivery_3748, delivery_3749, delivery_3750]</td>\n",
       "      <td>[burppleinitial/review/vGui2G8q]</td>\n",
       "      <td>[maggie mee goreng from the rooftop at screeni...</td>\n",
       "      <td>[burpple_12581]</td>\n",
       "      <td>[Maggi Mee Goreng from The Rooftop at Screenin...</td>\n",
       "      <td>[vGui2G8q]</td>\n",
       "    </tr>\n",
       "    <tr>\n",
       "      <th>1</th>\n",
       "      <td>food_1</td>\n",
       "      <td>-PRON- bai vege</td>\n",
       "      <td>[foodpanda/menu_item/AV44Ejd8W4PLiMnQOaiu, foo...</td>\n",
       "      <td>[you bai vege]</td>\n",
       "      <td>[(H6. You Bai Vege, 2)]</td>\n",
       "      <td>[delivery_221, delivery_222]</td>\n",
       "      <td>NaN</td>\n",
       "      <td>NaN</td>\n",
       "      <td>NaN</td>\n",
       "      <td>NaN</td>\n",
       "      <td>NaN</td>\n",
       "    </tr>\n",
       "  </tbody>\n",
       "</table>\n",
       "</div>"
      ],
      "text/plain": [
       "    index        food_name                                               locs  \\\n",
       "0  food_0       -PRON- ann  [deliveroo/food/68155, deliveroo/food/AV062oM7...   \n",
       "1  food_1  -PRON- bai vege  [foodpanda/menu_item/AV44Ejd8W4PLiMnQOaiu, foo...   \n",
       "\n",
       "         synonyms               menu_names  \\\n",
       "0        [em ann]         [(Em Ann M., 3)]   \n",
       "1  [you bai vege]  [(H6. You Bai Vege, 2)]   \n",
       "\n",
       "                                      restaurant  \\\n",
       "0  [delivery_3748, delivery_3749, delivery_3750]   \n",
       "1                   [delivery_221, delivery_222]   \n",
       "\n",
       "                             review  \\\n",
       "0  [burppleinitial/review/vGui2G8q]   \n",
       "1                               NaN   \n",
       "\n",
       "                                   review.clean_text review.restaurant  \\\n",
       "0  [maggie mee goreng from the rooftop at screeni...   [burpple_12581]   \n",
       "1                                                NaN               NaN   \n",
       "\n",
       "                                         review.text review.image  \n",
       "0  [Maggi Mee Goreng from The Rooftop at Screenin...   [vGui2G8q]  \n",
       "1                                                NaN          NaN  "
      ]
     },
     "execution_count": 97,
     "metadata": {},
     "output_type": "execute_result"
    }
   ],
   "source": [
    "food_synset = pd.merge(de2, bu2, how='left', on=['food_name'])\n",
    "print food_synset.shape\n",
    "print food_synset.columns.tolist()\n",
    "food_synset.head(2)"
   ]
  },
  {
   "cell_type": "code",
   "execution_count": 98,
   "metadata": {},
   "outputs": [
    {
     "name": "stdout",
     "output_type": "stream",
     "text": [
      "saved: food_entities__20180208.p\n"
     ]
    }
   ],
   "source": [
    "file_name = \"__\".join([\"food_entities\", f.today()]) + \".p\"\n",
    "f.save_file(food_synset, file_name)"
   ]
  },
  {
   "cell_type": "code",
   "execution_count": null,
   "metadata": {
    "collapsed": true
   },
   "outputs": [],
   "source": []
  }
 ],
 "metadata": {
  "kernelspec": {
   "display_name": "Python 2",
   "language": "python",
   "name": "python2"
  },
  "language_info": {
   "codemirror_mode": {
    "name": "ipython",
    "version": 2
   },
   "file_extension": ".py",
   "mimetype": "text/x-python",
   "name": "python",
   "nbconvert_exporter": "python",
   "pygments_lexer": "ipython2",
   "version": "2.7.14"
  }
 },
 "nbformat": 4,
 "nbformat_minor": 2
}
