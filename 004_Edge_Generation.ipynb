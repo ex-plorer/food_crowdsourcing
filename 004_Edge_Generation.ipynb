{
 "cells": [
  {
   "cell_type": "code",
   "execution_count": null,
   "metadata": {},
   "outputs": [],
   "source": [
    "%load_ext autoreload\n",
    "%autoreload 2\n",
    "import myfunctions as f\n",
    "f.today()"
   ]
  },
  {
   "cell_type": "code",
   "execution_count": null,
   "metadata": {},
   "outputs": [],
   "source": [
    "# python version\n",
    "import sys\n",
    "print \"system_info: %s\"%sys.version\n",
    "# current working directory\n",
    "import os\n",
    "print \"path_info: %s\"%os.getcwd() "
   ]
  },
  {
   "cell_type": "code",
   "execution_count": null,
   "metadata": {},
   "outputs": [],
   "source": [
    "file_name = \"food_entities__20180321.p\"   \n",
    "df_retrived = f.retrive_file(file_name)\n",
    "df_retrived.reset_index(inplace=True)"
   ]
  },
  {
   "cell_type": "code",
   "execution_count": 4,
   "metadata": {},
   "outputs": [
    {
     "name": "stdout",
     "output_type": "stream",
     "text": [
      "(105218, 13)\n",
      "['index', 'assigned_name', 'name_variants', 'menu_name', 'tag', 'price', 'desc', 'vendors', 'identification_index', 'loc', 'timestamp', 'price_average', 'review_loc']\n"
     ]
    },
    {
     "data": {
      "text/html": [
       "<div>\n",
       "<style scoped>\n",
       "    .dataframe tbody tr th:only-of-type {\n",
       "        vertical-align: middle;\n",
       "    }\n",
       "\n",
       "    .dataframe tbody tr th {\n",
       "        vertical-align: top;\n",
       "    }\n",
       "\n",
       "    .dataframe thead th {\n",
       "        text-align: right;\n",
       "    }\n",
       "</style>\n",
       "<table border=\"1\" class=\"dataframe\">\n",
       "  <thead>\n",
       "    <tr style=\"text-align: right;\">\n",
       "      <th></th>\n",
       "      <th>index</th>\n",
       "      <th>assigned_name</th>\n",
       "      <th>name_variants</th>\n",
       "      <th>menu_name</th>\n",
       "      <th>tag</th>\n",
       "      <th>price</th>\n",
       "      <th>desc</th>\n",
       "      <th>vendors</th>\n",
       "      <th>identification_index</th>\n",
       "      <th>loc</th>\n",
       "      <th>timestamp</th>\n",
       "      <th>price_average</th>\n",
       "      <th>review_loc</th>\n",
       "    </tr>\n",
       "  </thead>\n",
       "  <tbody>\n",
       "    <tr>\n",
       "      <th>0</th>\n",
       "      <td>food_item_0</td>\n",
       "      <td></td>\n",
       "      <td>[, afternoon set for, ala carte, ala carte set...</td>\n",
       "      <td>[(Set 1, 646), (Set 2, 633), (Set 4, 599), (Se...</td>\n",
       "      <td>[  Fragrance Mala Hotpot,  CHINESE NEW YEAR Sp...</td>\n",
       "      <td>[1.8, 1.8, 1.8, 1.8, 1.8, 1.8, 1.8, 1.8, 1.8, ...</td>\n",
       "      <td>[, \\t1 Caesar Salad,\\n\\t1 Mesclun Salad,\\n\\t2 ...</td>\n",
       "      <td>[delivery_0, delivery_10, delivery_1001, deliv...</td>\n",
       "      <td>(food_0, food_522, food_948, food_961, food_11...</td>\n",
       "      <td>[deliveroo/food/1000, deliveroo/food/1001, del...</td>\n",
       "      <td>[2017-06-05T07:25:24.501860, 2017-06-07 01:35:...</td>\n",
       "      <td>26.952902</td>\n",
       "      <td>[]</td>\n",
       "    </tr>\n",
       "  </tbody>\n",
       "</table>\n",
       "</div>"
      ],
      "text/plain": [
       "         index assigned_name  \\\n",
       "0  food_item_0                 \n",
       "\n",
       "                                       name_variants  \\\n",
       "0  [, afternoon set for, ala carte, ala carte set...   \n",
       "\n",
       "                                           menu_name  \\\n",
       "0  [(Set 1, 646), (Set 2, 633), (Set 4, 599), (Se...   \n",
       "\n",
       "                                                 tag  \\\n",
       "0  [  Fragrance Mala Hotpot,  CHINESE NEW YEAR Sp...   \n",
       "\n",
       "                                               price  \\\n",
       "0  [1.8, 1.8, 1.8, 1.8, 1.8, 1.8, 1.8, 1.8, 1.8, ...   \n",
       "\n",
       "                                                desc  \\\n",
       "0  [, \\t1 Caesar Salad,\\n\\t1 Mesclun Salad,\\n\\t2 ...   \n",
       "\n",
       "                                             vendors  \\\n",
       "0  [delivery_0, delivery_10, delivery_1001, deliv...   \n",
       "\n",
       "                                identification_index  \\\n",
       "0  (food_0, food_522, food_948, food_961, food_11...   \n",
       "\n",
       "                                                 loc  \\\n",
       "0  [deliveroo/food/1000, deliveroo/food/1001, del...   \n",
       "\n",
       "                                           timestamp  price_average review_loc  \n",
       "0  [2017-06-05T07:25:24.501860, 2017-06-07 01:35:...      26.952902         []  "
      ]
     },
     "execution_count": 4,
     "metadata": {},
     "output_type": "execute_result"
    }
   ],
   "source": [
    "print df_retrived.shape\n",
    "print df_retrived.columns.tolist()\n",
    "df_retrived.head(1)"
   ]
  },
  {
   "cell_type": "markdown",
   "metadata": {},
   "source": [
    "** Food-restaurant edges **\n",
    "\n",
    "Food offered by the restaurant based on delivery menus, or mentioned in reviews of the restaurant"
   ]
  },
  {
   "cell_type": "code",
   "execution_count": 5,
   "metadata": {},
   "outputs": [
    {
     "name": "stdout",
     "output_type": "stream",
     "text": [
      "number of food_vendor relations found: 418083\n",
      "CPU times: user 1.07 s, sys: 36 ms, total: 1.1 s\n",
      "Wall time: 1.11 s\n"
     ]
    }
   ],
   "source": [
    "%%time\n",
    "# food restaurant_delivery_boolean\n",
    "edge_type = \"food_vendor\"\n",
    "ref_restaurant_food = df_retrived.set_index(\"index\").to_dict()[\"vendors\"]\n",
    "res = dict()\n",
    "index = 0\n",
    "for food in df_retrived[\"index\"].tolist():\n",
    "    for r in ref_restaurant_food[food]:\n",
    "            res.update({\"_\".join([edge_type,str(index)]):{\n",
    "                            \"index\":\"_\".join([edge_type,str(index)]),\n",
    "                        \"from_id\": food, \n",
    "                        \"weight\":1, \n",
    "                        \"to_id\":r, \n",
    "                        \"type\": edge_type}})\n",
    "            index+=1\n",
    "print \"number of %s relations found: %d\"%(edge_type,index)\n"
   ]
  },
  {
   "cell_type": "code",
   "execution_count": 6,
   "metadata": {},
   "outputs": [
    {
     "data": {
      "text/plain": [
       "{'food_vendor_362100': {'from_id': 'food_item_90191',\n",
       "  'index': 'food_vendor_362100',\n",
       "  'to_id': 'delivery_3799',\n",
       "  'type': 'food_vendor',\n",
       "  'weight': 1},\n",
       " 'food_vendor_362101': {'from_id': 'food_item_90191',\n",
       "  'index': 'food_vendor_362101',\n",
       "  'to_id': 'delivery_6138',\n",
       "  'type': 'food_vendor',\n",
       "  'weight': 1}}"
      ]
     },
     "execution_count": 6,
     "metadata": {},
     "output_type": "execute_result"
    }
   ],
   "source": [
    "# print sample\n",
    "from itertools import islice\n",
    "dict(islice(res.iteritems(), 0, 2))"
   ]
  },
  {
   "cell_type": "code",
   "execution_count": 7,
   "metadata": {},
   "outputs": [
    {
     "name": "stdout",
     "output_type": "stream",
     "text": [
      "saved: food_vendor.json\n"
     ]
    }
   ],
   "source": [
    "# write file\n",
    "file_name = 'food_vendor.json'\n",
    "import json\n",
    "with open(file_name, 'w') as outfile:\n",
    "    json.dump(json.dumps(res), outfile)\n",
    "print \"saved: %s\"%file_name"
   ]
  },
  {
   "cell_type": "markdown",
   "metadata": {},
   "source": [
    "** Resraurant-restaurant edges **\n",
    "\n",
    "Number of common food offered by restaurants"
   ]
  },
  {
   "cell_type": "code",
   "execution_count": 8,
   "metadata": {},
   "outputs": [
    {
     "name": "stdout",
     "output_type": "stream",
     "text": [
      "number of vendor_vendor relations found: 17286436\n",
      "CPU times: user 1min 26s, sys: 6.07 s, total: 1min 32s\n",
      "Wall time: 1min 31s\n"
     ]
    }
   ],
   "source": [
    "%%time\n",
    "# restaurant_delivery, restaurant_delivery, freq\n",
    "edge_type = \"vendor_vendor\"\n",
    "ref_restaurant_food = df_retrived.set_index(\"index\").to_dict()[\"vendors\"]\n",
    "# frquency of vendor-vendor pair\n",
    "rr_pair = f.flatten([f.combi(l) for l in ref_restaurant_food.values()])\n",
    "rr_freq = f.count_freq([tuple(sorted(l)) for l in rr_pair])\n",
    "# writing file\n",
    "res2 = dict()\n",
    "index = 0\n",
    "for freq in rr_freq:\n",
    "    res2.update({\"_\".join([edge_type,str(index)]):{\n",
    "        \"index\":\"_\".join([edge_type,str(index)]),\n",
    "        \"from_id\": freq[0][1], \n",
    "        \"weight\":freq[1], \n",
    "        \"to_id\":freq[0][0], \n",
    "        \"type\": edge_type}})\n",
    "    index+=1\n",
    "    res2.update({\"_\".join([edge_type,str(index)]):{\n",
    "        \"index\":\"_\".join([edge_type,str(index)]),\n",
    "        \"from_id\": freq[0][0], \n",
    "        \"weight\":freq[1], \n",
    "        \"to_id\":freq[0][1], \n",
    "        \"type\": edge_type}})\n",
    "    index+=1\n",
    "print \"number of %s relations found: %d\"%(edge_type,index)"
   ]
  },
  {
   "cell_type": "code",
   "execution_count": 9,
   "metadata": {},
   "outputs": [
    {
     "data": {
      "text/plain": [
       "{'vendor_vendor_6968562': {'from_id': 'delivery_84',\n",
       "  'index': 'vendor_vendor_6968562',\n",
       "  'to_id': 'delivery_3943',\n",
       "  'type': 'vendor_vendor',\n",
       "  'weight': 2},\n",
       " 'vendor_vendor_6968563': {'from_id': 'delivery_3943',\n",
       "  'index': 'vendor_vendor_6968563',\n",
       "  'to_id': 'delivery_84',\n",
       "  'type': 'vendor_vendor',\n",
       "  'weight': 2}}"
      ]
     },
     "execution_count": 9,
     "metadata": {},
     "output_type": "execute_result"
    }
   ],
   "source": [
    "# print sample\n",
    "from itertools import islice\n",
    "dict(islice(res2.iteritems(), 0, 2))"
   ]
  },
  {
   "cell_type": "code",
   "execution_count": 10,
   "metadata": {},
   "outputs": [
    {
     "name": "stdout",
     "output_type": "stream",
     "text": [
      "saved: vendor_vendor.json\n"
     ]
    }
   ],
   "source": [
    "# write file\n",
    "file_name = 'vendor_vendor.json'\n",
    "\n",
    "import json\n",
    "with open(file_name, 'w') as outfile:\n",
    "    json.dump(json.dumps(res2), outfile)\n",
    "print \"saved: %s\"%file_name"
   ]
  },
  {
   "cell_type": "markdown",
   "metadata": {},
   "source": [
    "** module for writing file to elastic search **"
   ]
  },
  {
   "cell_type": "code",
   "execution_count": null,
   "metadata": {
    "collapsed": true
   },
   "outputs": [],
   "source": []
  }
 ],
 "metadata": {
  "kernelspec": {
   "display_name": "Python 2",
   "language": "python",
   "name": "python2"
  },
  "language_info": {
   "codemirror_mode": {
    "name": "ipython",
    "version": 2
   },
   "file_extension": ".py",
   "mimetype": "text/x-python",
   "name": "python",
   "nbconvert_exporter": "python",
   "pygments_lexer": "ipython2",
   "version": "2.7.14"
  }
 },
 "nbformat": 4,
 "nbformat_minor": 2
}
