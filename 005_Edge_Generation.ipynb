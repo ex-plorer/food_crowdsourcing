{
 "cells": [
  {
   "cell_type": "markdown",
   "metadata": {},
   "source": [
    "# Food-restaurant edges"
   ]
  },
  {
   "cell_type": "markdown",
   "metadata": {},
   "source": [
    "Food offered by the restaurant based on delivery menus, or mentioned in reviews of the restaurant"
   ]
  },
  {
   "cell_type": "code",
   "execution_count": 1,
   "metadata": {},
   "outputs": [
    {
     "data": {
      "text/plain": [
       "'20180320'"
      ]
     },
     "execution_count": 1,
     "metadata": {},
     "output_type": "execute_result"
    }
   ],
   "source": [
    "%load_ext autoreload\n",
    "%autoreload 2\n",
    "import myfunctions as f\n",
    "f.today()"
   ]
  },
  {
   "cell_type": "code",
   "execution_count": 2,
   "metadata": {},
   "outputs": [
    {
     "name": "stdout",
     "output_type": "stream",
     "text": [
      "system_info: 2.7.14 |Anaconda custom (64-bit)| (default, Oct 27 2017, 18:21:12) \n",
      "[GCC 7.2.0]\n",
      "path_info: /home/yueliu/Desktop/workspace_yue/Documentation_201712\n"
     ]
    }
   ],
   "source": [
    "# python version\n",
    "import sys\n",
    "print \"system_info: %s\"%sys.version\n",
    "# current working directory\n",
    "import os\n",
    "print \"path_info: %s\"%os.getcwd() "
   ]
  },
  {
   "cell_type": "code",
   "execution_count": 14,
   "metadata": {},
   "outputs": [
    {
     "name": "stdout",
     "output_type": "stream",
     "text": [
      "retrived: food_entities__20180320.p\n"
     ]
    }
   ],
   "source": [
    "file_name = \"food_entities__20180320.p\"   \n",
    "df_retrived = f.retrive_file(file_name)\n",
    "df_retrived.reset_index(inplace=True)"
   ]
  },
  {
   "cell_type": "code",
   "execution_count": 15,
   "metadata": {},
   "outputs": [
    {
     "name": "stdout",
     "output_type": "stream",
     "text": [
      "(105218, 14)\n",
      "['index', 'assigned_name', 'name_variants', 'menu_name', 'tag', 'price', 'desc', 'vendors', 'identification_index', 'loc', 'price_average', 'review_loc', 'first_record', 'latest_record']\n"
     ]
    },
    {
     "data": {
      "text/html": [
       "<div>\n",
       "<style scoped>\n",
       "    .dataframe tbody tr th:only-of-type {\n",
       "        vertical-align: middle;\n",
       "    }\n",
       "\n",
       "    .dataframe tbody tr th {\n",
       "        vertical-align: top;\n",
       "    }\n",
       "\n",
       "    .dataframe thead th {\n",
       "        text-align: right;\n",
       "    }\n",
       "</style>\n",
       "<table border=\"1\" class=\"dataframe\">\n",
       "  <thead>\n",
       "    <tr style=\"text-align: right;\">\n",
       "      <th></th>\n",
       "      <th>index</th>\n",
       "      <th>assigned_name</th>\n",
       "      <th>name_variants</th>\n",
       "      <th>menu_name</th>\n",
       "      <th>tag</th>\n",
       "      <th>price</th>\n",
       "      <th>desc</th>\n",
       "      <th>vendors</th>\n",
       "      <th>identification_index</th>\n",
       "      <th>loc</th>\n",
       "      <th>price_average</th>\n",
       "      <th>review_loc</th>\n",
       "      <th>first_record</th>\n",
       "      <th>latest_record</th>\n",
       "    </tr>\n",
       "  </thead>\n",
       "  <tbody>\n",
       "    <tr>\n",
       "      <th>0</th>\n",
       "      <td>food_item_0</td>\n",
       "      <td></td>\n",
       "      <td>[, afternoon set for, ala carte, ala carte set...</td>\n",
       "      <td>[(Set 1, 646), (Set 2, 633), (Set 4, 599), (Se...</td>\n",
       "      <td>[  Fragrance Mala Hotpot,  CHINESE NEW YEAR Sp...</td>\n",
       "      <td>[1.8, 1.8, 1.8, 1.8, 1.8, 1.8, 1.8, 1.8, 1.8, ...</td>\n",
       "      <td>[, \\t1 Caesar Salad,\\n\\t1 Mesclun Salad,\\n\\t2 ...</td>\n",
       "      <td>[delivery_0, delivery_10, delivery_1001, deliv...</td>\n",
       "      <td>(food_0, food_522, food_948, food_961, food_11...</td>\n",
       "      <td>[deliveroo/food/1000, deliveroo/food/1001, del...</td>\n",
       "      <td>26.952902</td>\n",
       "      <td>[]</td>\n",
       "      <td>2017-06-05</td>\n",
       "      <td>2018-03-01</td>\n",
       "    </tr>\n",
       "  </tbody>\n",
       "</table>\n",
       "</div>"
      ],
      "text/plain": [
       "         index assigned_name  \\\n",
       "0  food_item_0                 \n",
       "\n",
       "                                       name_variants  \\\n",
       "0  [, afternoon set for, ala carte, ala carte set...   \n",
       "\n",
       "                                           menu_name  \\\n",
       "0  [(Set 1, 646), (Set 2, 633), (Set 4, 599), (Se...   \n",
       "\n",
       "                                                 tag  \\\n",
       "0  [  Fragrance Mala Hotpot,  CHINESE NEW YEAR Sp...   \n",
       "\n",
       "                                               price  \\\n",
       "0  [1.8, 1.8, 1.8, 1.8, 1.8, 1.8, 1.8, 1.8, 1.8, ...   \n",
       "\n",
       "                                                desc  \\\n",
       "0  [, \\t1 Caesar Salad,\\n\\t1 Mesclun Salad,\\n\\t2 ...   \n",
       "\n",
       "                                             vendors  \\\n",
       "0  [delivery_0, delivery_10, delivery_1001, deliv...   \n",
       "\n",
       "                                identification_index  \\\n",
       "0  (food_0, food_522, food_948, food_961, food_11...   \n",
       "\n",
       "                                                 loc  price_average  \\\n",
       "0  [deliveroo/food/1000, deliveroo/food/1001, del...      26.952902   \n",
       "\n",
       "  review_loc first_record latest_record  \n",
       "0         []   2017-06-05    2018-03-01  "
      ]
     },
     "execution_count": 15,
     "metadata": {},
     "output_type": "execute_result"
    }
   ],
   "source": [
    "print df_retrived.shape\n",
    "print df_retrived.columns.tolist()\n",
    "df_retrived.head(1)"
   ]
  },
  {
   "cell_type": "markdown",
   "metadata": {},
   "source": [
    "** generate edges **\n"
   ]
  },
  {
   "cell_type": "code",
   "execution_count": 19,
   "metadata": {},
   "outputs": [
    {
     "name": "stdout",
     "output_type": "stream",
     "text": [
      "number of food_vendor relations found: 418083\n",
      "CPU times: user 888 ms, sys: 60 ms, total: 948 ms\n",
      "Wall time: 939 ms\n"
     ]
    }
   ],
   "source": [
    "%%time\n",
    "# food restaurant_delivery_boolean\n",
    "edge_type = \"food_vendor\"\n",
    "ref_restaurant_food = df_retrived.set_index(\"index\").to_dict()[\"vendors\"]\n",
    "res = []\n",
    "index = 0\n",
    "for food in df_retrived[\"index\"].tolist():\n",
    "    for r in ref_restaurant_food[food]:\n",
    "        res.append({\"index\":\"_\".join([edge_type,str(index)]), \n",
    "                    \"from_edge\": food, \n",
    "                    \"value\":1, \n",
    "                    \"to_edge\":r, \n",
    "                    \"type\": edge_type})\n",
    "        index+=1\n",
    "print \"number of food_vendor relations found: %d\"%index"
   ]
  },
  {
   "cell_type": "code",
   "execution_count": 20,
   "metadata": {},
   "outputs": [
    {
     "data": {
      "text/plain": [
       "[{'from_edge': 'food_item_0',\n",
       "  'index': 'food_vendor_0',\n",
       "  'to_edge': 'delivery_0',\n",
       "  'type': 'food_vendor',\n",
       "  'value': 1},\n",
       " {'from_edge': 'food_item_0',\n",
       "  'index': 'food_vendor_1',\n",
       "  'to_edge': 'delivery_10',\n",
       "  'type': 'food_vendor',\n",
       "  'value': 1},\n",
       " {'from_edge': 'food_item_0',\n",
       "  'index': 'food_vendor_2',\n",
       "  'to_edge': 'delivery_1001',\n",
       "  'type': 'food_vendor',\n",
       "  'value': 1}]"
      ]
     },
     "execution_count": 20,
     "metadata": {},
     "output_type": "execute_result"
    }
   ],
   "source": [
    "res[:3]"
   ]
  },
  {
   "cell_type": "markdown",
   "metadata": {},
   "source": [
    "** module for writing file to elastic search **"
   ]
  },
  {
   "cell_type": "code",
   "execution_count": null,
   "metadata": {
    "collapsed": true
   },
   "outputs": [],
   "source": []
  }
 ],
 "metadata": {
  "kernelspec": {
   "display_name": "Python 2",
   "language": "python",
   "name": "python2"
  },
  "language_info": {
   "codemirror_mode": {
    "name": "ipython",
    "version": 2
   },
   "file_extension": ".py",
   "mimetype": "text/x-python",
   "name": "python",
   "nbconvert_exporter": "python",
   "pygments_lexer": "ipython2",
   "version": "2.7.14"
  }
 },
 "nbformat": 4,
 "nbformat_minor": 2
}
