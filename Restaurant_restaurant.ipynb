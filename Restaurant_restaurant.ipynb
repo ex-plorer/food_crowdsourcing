{
 "cells": [
  {
   "cell_type": "markdown",
   "metadata": {},
   "source": [
    "# Restaurant-restaurant edges"
   ]
  },
  {
   "cell_type": "markdown",
   "metadata": {},
   "source": [
    "Count number of food items that restaurant offer in common"
   ]
  },
  {
   "cell_type": "code",
   "execution_count": 1,
   "metadata": {},
   "outputs": [
    {
     "name": "stdout",
     "output_type": "stream",
     "text": [
      "system_info: 2.7.14 |Anaconda custom (64-bit)| (default, Oct 27 2017, 18:21:12) \n",
      "[GCC 7.2.0]\n",
      "path_info: /home/yueliu/Desktop/workspace_yue/Documentation_201712\n"
     ]
    }
   ],
   "source": [
    "# python version\n",
    "import sys\n",
    "print \"system_info: %s\"%sys.version\n",
    "# current working directory\n",
    "import os\n",
    "print \"path_info: %s\"%os.getcwd() "
   ]
  },
  {
   "cell_type": "code",
   "execution_count": 2,
   "metadata": {},
   "outputs": [
    {
     "name": "stdout",
     "output_type": "stream",
     "text": [
      "20180207\n"
     ]
    }
   ],
   "source": [
    "import myfunctions as f\n",
    "print f.today()"
   ]
  },
  {
   "cell_type": "markdown",
   "metadata": {},
   "source": [
    "## 1. Restaurants \n"
   ]
  },
  {
   "cell_type": "code",
   "execution_count": 3,
   "metadata": {},
   "outputs": [
    {
     "name": "stdout",
     "output_type": "stream",
     "text": [
      "retrived: restaurant_entities__20180207.p\n"
     ]
    }
   ],
   "source": [
    "file_name = \"restaurant_entities__20180207.p\"   \n",
    "df_retrived = f.retrive_file(file_name)"
   ]
  },
  {
   "cell_type": "code",
   "execution_count": 4,
   "metadata": {},
   "outputs": [
    {
     "name": "stdout",
     "output_type": "stream",
     "text": [
      "(20857, 5)\n",
      "['index', 'restaurant.name', 'loc', 'restaurants.food', 'food_cnt']\n"
     ]
    },
    {
     "data": {
      "text/html": [
       "<div>\n",
       "<style scoped>\n",
       "    .dataframe tbody tr th:only-of-type {\n",
       "        vertical-align: middle;\n",
       "    }\n",
       "\n",
       "    .dataframe tbody tr th {\n",
       "        vertical-align: top;\n",
       "    }\n",
       "\n",
       "    .dataframe thead th {\n",
       "        text-align: right;\n",
       "    }\n",
       "</style>\n",
       "<table border=\"1\" class=\"dataframe\">\n",
       "  <thead>\n",
       "    <tr style=\"text-align: right;\">\n",
       "      <th></th>\n",
       "      <th>index</th>\n",
       "      <th>restaurant.name</th>\n",
       "      <th>loc</th>\n",
       "      <th>restaurants.food</th>\n",
       "      <th>food_cnt</th>\n",
       "    </tr>\n",
       "  </thead>\n",
       "  <tbody>\n",
       "    <tr>\n",
       "      <th>0</th>\n",
       "      <td>burpple_0</td>\n",
       "      <td></td>\n",
       "      <td>[burppleinitial/review/-2SkWOrZ, burppleinitia...</td>\n",
       "      <td>[(and, 31), (for, 27), (good, 18), (sauce, 10)...</td>\n",
       "      <td>204</td>\n",
       "    </tr>\n",
       "  </tbody>\n",
       "</table>\n",
       "</div>"
      ],
      "text/plain": [
       "       index restaurant.name  \\\n",
       "0  burpple_0                   \n",
       "\n",
       "                                                 loc  \\\n",
       "0  [burppleinitial/review/-2SkWOrZ, burppleinitia...   \n",
       "\n",
       "                                    restaurants.food  food_cnt  \n",
       "0  [(and, 31), (for, 27), (good, 18), (sauce, 10)...       204  "
      ]
     },
     "execution_count": 4,
     "metadata": {},
     "output_type": "execute_result"
    }
   ],
   "source": [
    "print df_retrived.shape\n",
    "print df_retrived.columns.tolist()\n",
    "df_retrived.head(1)"
   ]
  },
  {
   "cell_type": "code",
   "execution_count": 19,
   "metadata": {},
   "outputs": [
    {
     "name": "stdout",
     "output_type": "stream",
     "text": [
      "number of reataurants offering food: 20857\n"
     ]
    }
   ],
   "source": [
    "df_retrived[\"all_food\"] = df_retrived[\"restaurants.food\"].apply(lambda lst: set([l[0] for l in lst]))\n",
    "restaurant_food = df_retrived.set_index(\"index\").to_dict()[\"all_food\"]\n",
    "print \"number of reataurants offering food: %d\"%len(restaurant_food)"
   ]
  },
  {
   "cell_type": "code",
   "execution_count": null,
   "metadata": {},
   "outputs": [],
   "source": [
    "%%time\n",
    "restaurants_with_food = restaurant_food.keys()\n",
    "rr_food_cnt = []\n",
    "\n",
    "index = 0\n",
    "for i in range(len(restaurants_with_food)):\n",
    "    r1 = restaurants_with_food[i]\n",
    "    set1 = restaurant_food[r1]\n",
    "    for j in range(i+1,len(restaurants_with_food)):\n",
    "        r2 = restaurants_with_food[j]\n",
    "        set2 = restaurant_food[r2]\n",
    "        # id, from , to, value, type\n",
    "        rr_food_cnt.append([index, r1, len(set1.intersection(set2)), r2, \"rr_food_cnt\"])\n",
    "        index += 1\n",
    "        rr_food_cnt.append([index, r1, len(set1.intersection(set2)), r2, \"rr_food_cnt\"])\n",
    "        index += 1\n",
    "print \"number of rr_food_cnt relations found: %d\"%index"
   ]
  },
  {
   "cell_type": "code",
   "execution_count": null,
   "metadata": {},
   "outputs": [],
   "source": [
    "file_name = \"__\".join([\"rr_food_cnt\", f.today()]) + \".p\"\n",
    "f.save_file(rr_food_cnt, file_name)"
   ]
  },
  {
   "cell_type": "code",
   "execution_count": null,
   "metadata": {
    "collapsed": true
   },
   "outputs": [],
   "source": []
  }
 ],
 "metadata": {
  "kernelspec": {
   "display_name": "Python 2",
   "language": "python",
   "name": "python2"
  },
  "language_info": {
   "codemirror_mode": {
    "name": "ipython",
    "version": 2
   },
   "file_extension": ".py",
   "mimetype": "text/x-python",
   "name": "python",
   "nbconvert_exporter": "python",
   "pygments_lexer": "ipython2",
   "version": "2.7.14"
  }
 },
 "nbformat": 4,
 "nbformat_minor": 2
}
