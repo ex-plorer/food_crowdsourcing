{
 "cells": [
  {
   "cell_type": "markdown",
   "metadata": {},
   "source": [
    "> 27183 food items with reviews"
   ]
  },
  {
   "cell_type": "code",
   "execution_count": 1,
   "metadata": {},
   "outputs": [],
   "source": [
    "from datetime import datetime\n",
    "startTime = datetime.now()"
   ]
  },
  {
   "cell_type": "markdown",
   "metadata": {},
   "source": [
    "** retrive Burpple data from ES **"
   ]
  },
  {
   "cell_type": "code",
   "execution_count": 3,
   "metadata": {},
   "outputs": [
    {
     "name": "stdout",
     "output_type": "stream",
     "text": [
      "The autotime extension is already loaded. To reload it, use:\n",
      "  %reload_ext autotime\n",
      "The autoreload extension is already loaded. To reload it, use:\n",
      "  %reload_ext autoreload\n"
     ]
    },
    {
     "data": {
      "text/plain": [
       "'20180410'"
      ]
     },
     "execution_count": 3,
     "metadata": {},
     "output_type": "execute_result"
    },
    {
     "name": "stdout",
     "output_type": "stream",
     "text": [
      "time: 361 ms\n"
     ]
    }
   ],
   "source": [
    "%load_ext autotime\n",
    "%load_ext autoreload\n",
    "%autoreload 2\n",
    "import myfunctions as f\n",
    "f.today()"
   ]
  },
  {
   "cell_type": "code",
   "execution_count": 4,
   "metadata": {},
   "outputs": [
    {
     "name": "stdout",
     "output_type": "stream",
     "text": [
      "time: 14.5 ms\n"
     ]
    }
   ],
   "source": [
    "# burpple parameters\n",
    "burpples = f.burpple_para()"
   ]
  },
  {
   "cell_type": "code",
   "execution_count": 5,
   "metadata": {},
   "outputs": [
    {
     "name": "stdout",
     "output_type": "stream",
     "text": [
      "time: 16.8 ms\n"
     ]
    }
   ],
   "source": [
    "i = 1\n",
    "dfs = []"
   ]
  },
  {
   "cell_type": "code",
   "execution_count": 8,
   "metadata": {},
   "outputs": [
    {
     "name": "stdout",
     "output_type": "stream",
     "text": [
      "time: 52.1 s\n"
     ]
    }
   ],
   "source": [
    "# retrive data - part 1\n",
    "if 1==1:\n",
    "    recs = f.retrive_data(burpples[i], \"review\")"
   ]
  },
  {
   "cell_type": "code",
   "execution_count": 9,
   "metadata": {},
   "outputs": [
    {
     "name": "stdout",
     "output_type": "stream",
     "text": [
      "time: 54.3 s\n"
     ]
    }
   ],
   "source": [
    "df = f.select_burpple_fields(recs)\n",
    "dfs.append(df)\n",
    "i = i-1"
   ]
  },
  {
   "cell_type": "code",
   "execution_count": 10,
   "metadata": {},
   "outputs": [
    {
     "name": "stdout",
     "output_type": "stream",
     "text": [
      "time: 7.14 s\n"
     ]
    }
   ],
   "source": [
    "# retrive data - part 0\n",
    "if 1==1:\n",
    "    recs = f.retrive_data(burpples[i], \"review\")"
   ]
  },
  {
   "cell_type": "code",
   "execution_count": 11,
   "metadata": {},
   "outputs": [
    {
     "name": "stdout",
     "output_type": "stream",
     "text": [
      "time: 4.65 s\n"
     ]
    }
   ],
   "source": [
    "df = f.select_burpple_fields(recs)\n",
    "dfs.append(df)"
   ]
  },
  {
   "cell_type": "markdown",
   "metadata": {},
   "source": [
    "** consolidate burpple records **"
   ]
  },
  {
   "cell_type": "code",
   "execution_count": 12,
   "metadata": {},
   "outputs": [
    {
     "name": "stdout",
     "output_type": "stream",
     "text": [
      "time: 6.84 s\n"
     ]
    }
   ],
   "source": [
    "df = f.consolidate_burpple_records(dfs)"
   ]
  },
  {
   "cell_type": "code",
   "execution_count": 13,
   "metadata": {},
   "outputs": [
    {
     "name": "stdout",
     "output_type": "stream",
     "text": [
      "(323104, 9)\n",
      "['_id', 'loc', '_source.title', '_source.body', '_source.crawlTimeStamp', '_source.foodImgUrl', '_source.username', '_source.restaurant.id', '_source.restaurant.name']\n"
     ]
    },
    {
     "data": {
      "text/html": [
       "<div>\n",
       "<style scoped>\n",
       "    .dataframe tbody tr th:only-of-type {\n",
       "        vertical-align: middle;\n",
       "    }\n",
       "\n",
       "    .dataframe tbody tr th {\n",
       "        vertical-align: top;\n",
       "    }\n",
       "\n",
       "    .dataframe thead th {\n",
       "        text-align: right;\n",
       "    }\n",
       "</style>\n",
       "<table border=\"1\" class=\"dataframe\">\n",
       "  <thead>\n",
       "    <tr style=\"text-align: right;\">\n",
       "      <th></th>\n",
       "      <th>_id</th>\n",
       "      <th>loc</th>\n",
       "      <th>_source.title</th>\n",
       "      <th>_source.body</th>\n",
       "      <th>_source.crawlTimeStamp</th>\n",
       "      <th>_source.foodImgUrl</th>\n",
       "      <th>_source.username</th>\n",
       "      <th>_source.restaurant.id</th>\n",
       "      <th>_source.restaurant.name</th>\n",
       "    </tr>\n",
       "  </thead>\n",
       "  <tbody>\n",
       "    <tr>\n",
       "      <th>242662</th>\n",
       "      <td>jnF_zvaY</td>\n",
       "      <td>burppleinitial/review/jnF_zvaY</td>\n",
       "      <td>Aged Cheddar, Fig &amp; #Cognac Jam and Candied Wa...</td>\n",
       "      <td>Aged Cheddar, Fig &amp; #Cognac Jam and Candied Wa...</td>\n",
       "      <td>2017-04-03 11:00:52.282519</td>\n",
       "      <td>https://s3.burpple.com/foods/669ed7d8855d40aab...</td>\n",
       "      <td>@18930</td>\n",
       "      <td>79509</td>\n",
       "      <td>The Humble Loaf</td>\n",
       "    </tr>\n",
       "    <tr>\n",
       "      <th>74846</th>\n",
       "      <td>CzDetUln</td>\n",
       "      <td>burppleinitial/review/CzDetUln</td>\n",
       "      <td>Orange Brioche</td>\n",
       "      <td></td>\n",
       "      <td>2017-04-03 11:00:52.282519</td>\n",
       "      <td>https://s3.burpple.com/foods/18d18ccb332f616d2...</td>\n",
       "      <td>@iSteven</td>\n",
       "      <td>116616</td>\n",
       "      <td>Artisan Boulangerie Co. (Great World City)</td>\n",
       "    </tr>\n",
       "  </tbody>\n",
       "</table>\n",
       "</div>"
      ],
      "text/plain": [
       "             _id                             loc  \\\n",
       "242662  jnF_zvaY  burppleinitial/review/jnF_zvaY   \n",
       "74846   CzDetUln  burppleinitial/review/CzDetUln   \n",
       "\n",
       "                                            _source.title  \\\n",
       "242662  Aged Cheddar, Fig & #Cognac Jam and Candied Wa...   \n",
       "74846                                      Orange Brioche   \n",
       "\n",
       "                                             _source.body  \\\n",
       "242662  Aged Cheddar, Fig & #Cognac Jam and Candied Wa...   \n",
       "74846                                                       \n",
       "\n",
       "            _source.crawlTimeStamp  \\\n",
       "242662  2017-04-03 11:00:52.282519   \n",
       "74846   2017-04-03 11:00:52.282519   \n",
       "\n",
       "                                       _source.foodImgUrl _source.username  \\\n",
       "242662  https://s3.burpple.com/foods/669ed7d8855d40aab...           @18930   \n",
       "74846   https://s3.burpple.com/foods/18d18ccb332f616d2...         @iSteven   \n",
       "\n",
       "       _source.restaurant.id                     _source.restaurant.name  \n",
       "242662                 79509                             The Humble Loaf  \n",
       "74846                 116616  Artisan Boulangerie Co. (Great World City)  "
      ]
     },
     "execution_count": 13,
     "metadata": {},
     "output_type": "execute_result"
    },
    {
     "name": "stdout",
     "output_type": "stream",
     "text": [
      "time: 222 ms\n"
     ]
    }
   ],
   "source": [
    "print df.shape\n",
    "print df.columns.tolist()\n",
    "df.sample(2, random_state=2008)"
   ]
  },
  {
   "cell_type": "markdown",
   "metadata": {},
   "source": [
    "** obtain review objects with clean text **"
   ]
  },
  {
   "cell_type": "code",
   "execution_count": 15,
   "metadata": {},
   "outputs": [
    {
     "name": "stdout",
     "output_type": "stream",
     "text": [
      "time: 59 s\n"
     ]
    }
   ],
   "source": [
    "# add new columns\n",
    "import pandas as pd\n",
    "pd.options.mode.chained_assignment = None # default is warn\n",
    "# cols = ['loc','_source.title','_source.body','_source.restaurant.name']\n",
    "# df = df[cols] \n",
    "df.columns = [col.replace(\"_source.\", \"\") for col in df.columns.tolist()]\n",
    "# decompose full review into respetive cols\n",
    "df[\"full_review\"] = df['title'] + \" \" + df['body']\n",
    "# twitter style cleaning\n",
    "df[\"review_text\"], df[\"hashtags\"], df[\"mentions\"], df[\"dollars\"], df[\"scores\"], df[\"urls\"] = \\\n",
    "zip(*df[\"full_review\"].apply(f.clean_review))\n",
    "df = df[[ col for col in df.columns.tolist() if col != \"full_review\"]]\n",
    "# On review text, perform clean_name_v2()\n",
    "df[\"clean_review\"] = df[\"review_text\"].apply(f.clean_name_v2)"
   ]
  },
  {
   "cell_type": "code",
   "execution_count": 16,
   "metadata": {},
   "outputs": [
    {
     "name": "stdout",
     "output_type": "stream",
     "text": [
      "(323104, 16)\n",
      "['_id', 'loc', 'title', 'body', 'crawlTimeStamp', 'foodImgUrl', 'username', 'restaurant.id', 'restaurant.name', 'review_text', 'hashtags', 'mentions', 'dollars', 'scores', 'urls', 'clean_review']\n"
     ]
    },
    {
     "data": {
      "text/html": [
       "<div>\n",
       "<style scoped>\n",
       "    .dataframe tbody tr th:only-of-type {\n",
       "        vertical-align: middle;\n",
       "    }\n",
       "\n",
       "    .dataframe tbody tr th {\n",
       "        vertical-align: top;\n",
       "    }\n",
       "\n",
       "    .dataframe thead th {\n",
       "        text-align: right;\n",
       "    }\n",
       "</style>\n",
       "<table border=\"1\" class=\"dataframe\">\n",
       "  <thead>\n",
       "    <tr style=\"text-align: right;\">\n",
       "      <th></th>\n",
       "      <th>_id</th>\n",
       "      <th>loc</th>\n",
       "      <th>title</th>\n",
       "      <th>body</th>\n",
       "      <th>crawlTimeStamp</th>\n",
       "      <th>foodImgUrl</th>\n",
       "      <th>username</th>\n",
       "      <th>restaurant.id</th>\n",
       "      <th>restaurant.name</th>\n",
       "      <th>review_text</th>\n",
       "      <th>hashtags</th>\n",
       "      <th>mentions</th>\n",
       "      <th>dollars</th>\n",
       "      <th>scores</th>\n",
       "      <th>urls</th>\n",
       "      <th>clean_review</th>\n",
       "    </tr>\n",
       "  </thead>\n",
       "  <tbody>\n",
       "    <tr>\n",
       "      <th>242662</th>\n",
       "      <td>jnF_zvaY</td>\n",
       "      <td>burppleinitial/review/jnF_zvaY</td>\n",
       "      <td>Aged Cheddar, Fig &amp; #Cognac Jam and Candied Wa...</td>\n",
       "      <td>Aged Cheddar, Fig &amp; #Cognac Jam and Candied Wa...</td>\n",
       "      <td>2017-04-03 11:00:52.282519</td>\n",
       "      <td>https://s3.burpple.com/foods/669ed7d8855d40aab...</td>\n",
       "      <td>@18930</td>\n",
       "      <td>79509</td>\n",
       "      <td>The Humble Loaf</td>\n",
       "      <td>Aged Cheddar, Fig and Jam and Candied Walnuts ...</td>\n",
       "      <td>(#Cognac, #lunch, #weekend, #Cognac, #lunch, #...</td>\n",
       "      <td>()</td>\n",
       "      <td>()</td>\n",
       "      <td>()</td>\n",
       "      <td>()</td>\n",
       "      <td>aged cheddar fig and jam and candied walnuts o...</td>\n",
       "    </tr>\n",
       "    <tr>\n",
       "      <th>74846</th>\n",
       "      <td>CzDetUln</td>\n",
       "      <td>burppleinitial/review/CzDetUln</td>\n",
       "      <td>Orange Brioche</td>\n",
       "      <td></td>\n",
       "      <td>2017-04-03 11:00:52.282519</td>\n",
       "      <td>https://s3.burpple.com/foods/18d18ccb332f616d2...</td>\n",
       "      <td>@iSteven</td>\n",
       "      <td>116616</td>\n",
       "      <td>Artisan Boulangerie Co. (Great World City)</td>\n",
       "      <td>Orange Brioche</td>\n",
       "      <td>()</td>\n",
       "      <td>()</td>\n",
       "      <td>()</td>\n",
       "      <td>()</td>\n",
       "      <td>()</td>\n",
       "      <td>orange brioche</td>\n",
       "    </tr>\n",
       "  </tbody>\n",
       "</table>\n",
       "</div>"
      ],
      "text/plain": [
       "             _id                             loc  \\\n",
       "242662  jnF_zvaY  burppleinitial/review/jnF_zvaY   \n",
       "74846   CzDetUln  burppleinitial/review/CzDetUln   \n",
       "\n",
       "                                                    title  \\\n",
       "242662  Aged Cheddar, Fig & #Cognac Jam and Candied Wa...   \n",
       "74846                                      Orange Brioche   \n",
       "\n",
       "                                                     body  \\\n",
       "242662  Aged Cheddar, Fig & #Cognac Jam and Candied Wa...   \n",
       "74846                                                       \n",
       "\n",
       "                    crawlTimeStamp  \\\n",
       "242662  2017-04-03 11:00:52.282519   \n",
       "74846   2017-04-03 11:00:52.282519   \n",
       "\n",
       "                                               foodImgUrl  username  \\\n",
       "242662  https://s3.burpple.com/foods/669ed7d8855d40aab...    @18930   \n",
       "74846   https://s3.burpple.com/foods/18d18ccb332f616d2...  @iSteven   \n",
       "\n",
       "       restaurant.id                             restaurant.name  \\\n",
       "242662         79509                             The Humble Loaf   \n",
       "74846         116616  Artisan Boulangerie Co. (Great World City)   \n",
       "\n",
       "                                              review_text  \\\n",
       "242662  Aged Cheddar, Fig and Jam and Candied Walnuts ...   \n",
       "74846                                      Orange Brioche   \n",
       "\n",
       "                                                 hashtags mentions dollars  \\\n",
       "242662  (#Cognac, #lunch, #weekend, #Cognac, #lunch, #...       ()      ()   \n",
       "74846                                                  ()       ()      ()   \n",
       "\n",
       "       scores urls                                       clean_review  \n",
       "242662     ()   ()  aged cheddar fig and jam and candied walnuts o...  \n",
       "74846      ()   ()                                     orange brioche  "
      ]
     },
     "execution_count": 16,
     "metadata": {},
     "output_type": "execute_result"
    },
    {
     "name": "stdout",
     "output_type": "stream",
     "text": [
      "time: 1.13 s\n"
     ]
    }
   ],
   "source": [
    "print df.shape\n",
    "print df.columns.tolist()\n",
    "df.sample(2,random_state=2008)"
   ]
  },
  {
   "cell_type": "markdown",
   "metadata": {},
   "source": [
    "** retrive food entities **"
   ]
  },
  {
   "cell_type": "code",
   "execution_count": 17,
   "metadata": {},
   "outputs": [
    {
     "name": "stdout",
     "output_type": "stream",
     "text": [
      "retrived: food_entities__20180410.p\n",
      "time: 36.7 s\n"
     ]
    }
   ],
   "source": [
    "file_name = \"food_entities__20180410.p\"\n",
    "food = f.retrive_file(file_name)"
   ]
  },
  {
   "cell_type": "code",
   "execution_count": 18,
   "metadata": {},
   "outputs": [
    {
     "name": "stdout",
     "output_type": "stream",
     "text": [
      "number of food searched for: 143255\n",
      "time: 4.3 s\n"
     ]
    }
   ],
   "source": [
    "food_entities = food.reset_index()\n",
    "# remove food of \" and \"-PRON-\"\n",
    "food_entities = food_entities[~food_entities[\"assigned_name\"].isin([\"\", \"-PRON-\"])]\n",
    "# food name variant : food_item_index\n",
    "index_ref = dict()\n",
    "def add_ref(line):\n",
    "    v = line[\"index\"]\n",
    "    index_ref.update({k:v for k in line[\"name_variants\"]})\n",
    "food_entities.apply(add_ref, axis =1)\n",
    "food_items = index_ref.keys()\n",
    "print \"number of food searched for: %d\"%len(food_items)"
   ]
  },
  {
   "cell_type": "code",
   "execution_count": 19,
   "metadata": {},
   "outputs": [
    {
     "name": "stdout",
     "output_type": "stream",
     "text": [
      "time: 23.9 ms\n"
     ]
    }
   ],
   "source": [
    "file_name = \"words_to_remove_20180308.csv\"\n",
    "rmv = pd.read_csv(file_name, header=None)[0].tolist()\n",
    "rmv = rmv+['can', 'sweet', 'love', 'up', 'no', 'me', 'back', 'fluffy', 'hot', 'spicy', 'crisp', 'salty', 'house', 'red', 'fat', 'roasted', 'white', 'refreshing', 'black', 'cold', 'deep fried', 'pieces', 'toasted', 'skin', 'cheesy', 'hungry', 'pop', 'miss', 'option', 'fried', 'tomato', 'vanilla', 'plus', 'potato', 'thai', 'spice', 'infused', 'sauces', 'to share', 'lover', 'surprise', 'balanced', 'choice', 'french', 'green', 'steamed', 'italian', 'wake up', 'silver', 'savoury flavours', 'western', 'set for', 'pan fried', 'the original', 'decadence', 'the great', 'uplifting', 'all in', 'meaty', 'spice level', 'per slice', 'discovery', 'smokey', 'all time favourites', 'sticky', 'the double', 'pint', 'mad', 'singapore style', 'alcoholic', 'serves', 'nutty', 'salted', 'lunch set', 'boost', 'anything', 'dips', 'vietnamese', 'set lunch', 'lager', 'for pax', 'below', 'bundle']"
   ]
  },
  {
   "cell_type": "code",
   "execution_count": 20,
   "metadata": {},
   "outputs": [
    {
     "name": "stdout",
     "output_type": "stream",
     "text": [
      "number of food items removed: 434\n",
      "time: 14.9 ms\n"
     ]
    }
   ],
   "source": [
    "print \"number of food items removed: %d\"%len(rmv)"
   ]
  },
  {
   "cell_type": "markdown",
   "metadata": {},
   "source": [
    "** search for food entities **"
   ]
  },
  {
   "cell_type": "code",
   "execution_count": 22,
   "metadata": {},
   "outputs": [
    {
     "name": "stdout",
     "output_type": "stream",
     "text": [
      "CPU times: user 5h 33min 18s, sys: 2min 48s, total: 5h 36min 6s\n",
      "Wall time: 5h 33min 4s\n"
     ]
    }
   ],
   "source": [
    "\"\"\"\n",
    "saved: burpple__review__food__20180320.p\n",
    "CPU times: user 5h 33min 18s, sys: 2min 48s, total: 5h 36min 6s\n",
    "Wall time: 5h 33min 4s\n",
    "\"\"\"\n",
    "def search_food(review):\n",
    "    return [s for s in f.search_food(review, values=food_items) if s not in rmv]\n",
    "\n",
    "if 1==1:\n",
    "    df[\"food_items\"] = df[\"clean_review\"].apply(search_food)    \n",
    "    # ref name_variation to food index\n",
    "    df[\"food_index\"] = df[\"food_items\"].apply(lambda l: \n",
    "                                              sorted([index_ref[s] for s in l]))\n",
    "    # remove original review_text\n",
    "    cols = df.columns.tolist()\n",
    "    cols.remove(\"review_text\")\n",
    "    df = df[cols]"
   ]
  },
  {
   "cell_type": "code",
   "execution_count": 23,
   "metadata": {},
   "outputs": [
    {
     "name": "stdout",
     "output_type": "stream",
     "text": [
      "saved: burpple__review__food__20180320.p\n"
     ]
    }
   ],
   "source": [
    "file_name = \"burpple__review__food__\"+f.today()+\".p\" \n",
    "f.save_file(df, file_name)"
   ]
  },
  {
   "cell_type": "code",
   "execution_count": 33,
   "metadata": {},
   "outputs": [
    {
     "name": "stdout",
     "output_type": "stream",
     "text": [
      "saved: burpple_reviews__20180321.json\n"
     ]
    }
   ],
   "source": [
    "## save to json\n",
    "file_name = \"__\".join([\"burpple_reviews\", f.today()]) + \".json\"\n",
    "df.set_index(\"loc\").to_json(file_name, orient='index')\n",
    "print \"saved: %s\"%file_name"
   ]
  },
  {
   "cell_type": "code",
   "execution_count": 24,
   "metadata": {},
   "outputs": [
    {
     "data": {
      "text/html": [
       "<div>\n",
       "<style scoped>\n",
       "    .dataframe tbody tr th:only-of-type {\n",
       "        vertical-align: middle;\n",
       "    }\n",
       "\n",
       "    .dataframe tbody tr th {\n",
       "        vertical-align: top;\n",
       "    }\n",
       "\n",
       "    .dataframe thead th {\n",
       "        text-align: right;\n",
       "    }\n",
       "</style>\n",
       "<table border=\"1\" class=\"dataframe\">\n",
       "  <thead>\n",
       "    <tr style=\"text-align: right;\">\n",
       "      <th></th>\n",
       "      <th>loc</th>\n",
       "      <th>title</th>\n",
       "      <th>body</th>\n",
       "      <th>restaurant.name</th>\n",
       "      <th>hashtags</th>\n",
       "      <th>mentions</th>\n",
       "      <th>dollars</th>\n",
       "      <th>scores</th>\n",
       "      <th>urls</th>\n",
       "      <th>clean_review</th>\n",
       "      <th>food_items</th>\n",
       "      <th>food_index</th>\n",
       "    </tr>\n",
       "  </thead>\n",
       "  <tbody>\n",
       "    <tr>\n",
       "      <th>242662</th>\n",
       "      <td>burppleinitial/review/jnF_zvaY</td>\n",
       "      <td>Aged Cheddar, Fig &amp; #Cognac Jam and Candied Wa...</td>\n",
       "      <td>Aged Cheddar, Fig &amp; #Cognac Jam and Candied Wa...</td>\n",
       "      <td>The Humble Loaf</td>\n",
       "      <td>(#Cognac, #lunch, #weekend, #Cognac, #lunch, #...</td>\n",
       "      <td>()</td>\n",
       "      <td>()</td>\n",
       "      <td>()</td>\n",
       "      <td>()</td>\n",
       "      <td>aged cheddar fig and jam and candied walnuts o...</td>\n",
       "      <td>[toast, jam, walnuts]</td>\n",
       "      <td>[food_item_102154, food_item_47881, food_item_...</td>\n",
       "    </tr>\n",
       "    <tr>\n",
       "      <th>74846</th>\n",
       "      <td>burppleinitial/review/CzDetUln</td>\n",
       "      <td>Orange Brioche</td>\n",
       "      <td></td>\n",
       "      <td>Artisan Boulangerie Co. (Great World City)</td>\n",
       "      <td>()</td>\n",
       "      <td>()</td>\n",
       "      <td>()</td>\n",
       "      <td>()</td>\n",
       "      <td>()</td>\n",
       "      <td>orange brioche</td>\n",
       "      <td>[orange brioche]</td>\n",
       "      <td>[food_item_65293]</td>\n",
       "    </tr>\n",
       "  </tbody>\n",
       "</table>\n",
       "</div>"
      ],
      "text/plain": [
       "                                   loc  \\\n",
       "242662  burppleinitial/review/jnF_zvaY   \n",
       "74846   burppleinitial/review/CzDetUln   \n",
       "\n",
       "                                                    title  \\\n",
       "242662  Aged Cheddar, Fig & #Cognac Jam and Candied Wa...   \n",
       "74846                                      Orange Brioche   \n",
       "\n",
       "                                                     body  \\\n",
       "242662  Aged Cheddar, Fig & #Cognac Jam and Candied Wa...   \n",
       "74846                                                       \n",
       "\n",
       "                                   restaurant.name  \\\n",
       "242662                             The Humble Loaf   \n",
       "74846   Artisan Boulangerie Co. (Great World City)   \n",
       "\n",
       "                                                 hashtags mentions dollars  \\\n",
       "242662  (#Cognac, #lunch, #weekend, #Cognac, #lunch, #...       ()      ()   \n",
       "74846                                                  ()       ()      ()   \n",
       "\n",
       "       scores urls                                       clean_review  \\\n",
       "242662     ()   ()  aged cheddar fig and jam and candied walnuts o...   \n",
       "74846      ()   ()                                     orange brioche   \n",
       "\n",
       "                   food_items  \\\n",
       "242662  [toast, jam, walnuts]   \n",
       "74846        [orange brioche]   \n",
       "\n",
       "                                               food_index  \n",
       "242662  [food_item_102154, food_item_47881, food_item_...  \n",
       "74846                                   [food_item_65293]  "
      ]
     },
     "execution_count": 24,
     "metadata": {},
     "output_type": "execute_result"
    }
   ],
   "source": [
    "df.sample(2, random_state=2008)"
   ]
  },
  {
   "cell_type": "code",
   "execution_count": 25,
   "metadata": {},
   "outputs": [
    {
     "name": "stdout",
     "output_type": "stream",
     "text": [
      "number of food name variations itendtified: 27183\n"
     ]
    }
   ],
   "source": [
    "freq = f.count_freq(f.flatten(df[\"food_items\"].tolist()))\n",
    "print \"number of food name variations itendtified: %d\"%len(freq)"
   ]
  },
  {
   "cell_type": "code",
   "execution_count": 26,
   "metadata": {},
   "outputs": [
    {
     "name": "stdout",
     "output_type": "stream",
     "text": [
      "number of unique food items itendtified: 21273\n"
     ]
    }
   ],
   "source": [
    "freq = f.count_freq(f.flatten(df[\"food_index\"].tolist()))\n",
    "print \"number of unique food items itendtified: %d\"%len(freq)"
   ]
  },
  {
   "cell_type": "code",
   "execution_count": 27,
   "metadata": {},
   "outputs": [
    {
     "data": {
      "text/plain": [
       "[('food_item_22793', 10169),\n",
       " ('food_item_57771', 8579),\n",
       " ('food_item_17273', 8081),\n",
       " ('food_item_46138', 7774),\n",
       " ('food_item_13603', 7614),\n",
       " ('food_item_101898', 7377),\n",
       " ('food_item_29415', 7280),\n",
       " ('food_item_76059', 6474),\n",
       " ('food_item_86592', 5984),\n",
       " ('food_item_63740', 5882)]"
      ]
     },
     "execution_count": 27,
     "metadata": {},
     "output_type": "execute_result"
    }
   ],
   "source": [
    "# most popular food items\n",
    "freq[:10]"
   ]
  },
  {
   "cell_type": "markdown",
   "metadata": {},
   "source": [
    "** link review locs to entities ** "
   ]
  },
  {
   "cell_type": "code",
   "execution_count": 28,
   "metadata": {
    "collapsed": true
   },
   "outputs": [],
   "source": [
    "# obtain review locs for each food item\n",
    "loc_ref = df.set_index(\"loc\").to_dict()[\"food_index\"]\n",
    "inv_loc_ref = f.inverse_dict(loc_ref)\n",
    "# append review locs to food entities\n",
    "food.reset_index(inplace=True)\n",
    "def map_loc(s):\n",
    "    try:\n",
    "        return inv_loc_ref[s]\n",
    "    except:\n",
    "        return []\n",
    "food[\"review_loc\"] = food[\"index\"].apply(map_loc)\n",
    "food.set_index(\"index\", inplace=True)"
   ]
  },
  {
   "cell_type": "code",
   "execution_count": 29,
   "metadata": {},
   "outputs": [
    {
     "data": {
      "text/html": [
       "<div>\n",
       "<style scoped>\n",
       "    .dataframe tbody tr th:only-of-type {\n",
       "        vertical-align: middle;\n",
       "    }\n",
       "\n",
       "    .dataframe tbody tr th {\n",
       "        vertical-align: top;\n",
       "    }\n",
       "\n",
       "    .dataframe thead th {\n",
       "        text-align: right;\n",
       "    }\n",
       "</style>\n",
       "<table border=\"1\" class=\"dataframe\">\n",
       "  <thead>\n",
       "    <tr style=\"text-align: right;\">\n",
       "      <th></th>\n",
       "      <th>assigned_name</th>\n",
       "      <th>name_variants</th>\n",
       "      <th>menu_name</th>\n",
       "      <th>tag</th>\n",
       "      <th>price</th>\n",
       "      <th>desc</th>\n",
       "      <th>vendors</th>\n",
       "      <th>identification_index</th>\n",
       "      <th>loc</th>\n",
       "      <th>timestamp</th>\n",
       "      <th>price_average</th>\n",
       "      <th>review_loc</th>\n",
       "    </tr>\n",
       "    <tr>\n",
       "      <th>index</th>\n",
       "      <th></th>\n",
       "      <th></th>\n",
       "      <th></th>\n",
       "      <th></th>\n",
       "      <th></th>\n",
       "      <th></th>\n",
       "      <th></th>\n",
       "      <th></th>\n",
       "      <th></th>\n",
       "      <th></th>\n",
       "      <th></th>\n",
       "      <th></th>\n",
       "    </tr>\n",
       "  </thead>\n",
       "  <tbody>\n",
       "    <tr>\n",
       "      <th>food_item_13994</th>\n",
       "      <td>cannelloni di malanzane</td>\n",
       "      <td>[cannelloni di malanzane]</td>\n",
       "      <td>[(Cannelloni Di Malanzane, 15)]</td>\n",
       "      <td>[Specialita]</td>\n",
       "      <td>[31.03, 31.03, 31.03, 31.03, 31.03, 31.03, 31....</td>\n",
       "      <td>[, Baked eggplant cannelloni, goat ricotta che...</td>\n",
       "      <td>[delivery_3055, delivery_3056]</td>\n",
       "      <td>(food_17362,)</td>\n",
       "      <td>[deliveroo/food/39541, deliveroo/food/82634, d...</td>\n",
       "      <td>[2017-07-03T17:55:01.668428, 2017-07-13T14:37:...</td>\n",
       "      <td>31.03</td>\n",
       "      <td>[]</td>\n",
       "    </tr>\n",
       "    <tr>\n",
       "      <th>food_item_6491</th>\n",
       "      <td>beef mandi</td>\n",
       "      <td>[beef mandi]</td>\n",
       "      <td>[(Beef Mandi, 18)]</td>\n",
       "      <td>[Favourites, Mandi]</td>\n",
       "      <td>[8.0, 8.0, 8.0, 8.0, 8.0, 8.0, 8.0, 8.0, 8.0, ...</td>\n",
       "      <td>[, Default]</td>\n",
       "      <td>[delivery_199]</td>\n",
       "      <td>(food_8022,)</td>\n",
       "      <td>[foodpanda/menu_item/112620, foodpanda/menu_it...</td>\n",
       "      <td>[2017-07-11 01:13:18.670689, 2017-07-15 00:25:...</td>\n",
       "      <td>8.00</td>\n",
       "      <td>[]</td>\n",
       "    </tr>\n",
       "  </tbody>\n",
       "</table>\n",
       "</div>"
      ],
      "text/plain": [
       "                           assigned_name              name_variants  \\\n",
       "index                                                                 \n",
       "food_item_13994  cannelloni di malanzane  [cannelloni di malanzane]   \n",
       "food_item_6491                beef mandi               [beef mandi]   \n",
       "\n",
       "                                       menu_name                  tag  \\\n",
       "index                                                                   \n",
       "food_item_13994  [(Cannelloni Di Malanzane, 15)]         [Specialita]   \n",
       "food_item_6491                [(Beef Mandi, 18)]  [Favourites, Mandi]   \n",
       "\n",
       "                                                             price  \\\n",
       "index                                                                \n",
       "food_item_13994  [31.03, 31.03, 31.03, 31.03, 31.03, 31.03, 31....   \n",
       "food_item_6491   [8.0, 8.0, 8.0, 8.0, 8.0, 8.0, 8.0, 8.0, 8.0, ...   \n",
       "\n",
       "                                                              desc  \\\n",
       "index                                                                \n",
       "food_item_13994  [, Baked eggplant cannelloni, goat ricotta che...   \n",
       "food_item_6491                                         [, Default]   \n",
       "\n",
       "                                        vendors identification_index  \\\n",
       "index                                                                  \n",
       "food_item_13994  [delivery_3055, delivery_3056]        (food_17362,)   \n",
       "food_item_6491                   [delivery_199]         (food_8022,)   \n",
       "\n",
       "                                                               loc  \\\n",
       "index                                                                \n",
       "food_item_13994  [deliveroo/food/39541, deliveroo/food/82634, d...   \n",
       "food_item_6491   [foodpanda/menu_item/112620, foodpanda/menu_it...   \n",
       "\n",
       "                                                         timestamp  \\\n",
       "index                                                                \n",
       "food_item_13994  [2017-07-03T17:55:01.668428, 2017-07-13T14:37:...   \n",
       "food_item_6491   [2017-07-11 01:13:18.670689, 2017-07-15 00:25:...   \n",
       "\n",
       "                 price_average review_loc  \n",
       "index                                      \n",
       "food_item_13994          31.03         []  \n",
       "food_item_6491            8.00         []  "
      ]
     },
     "execution_count": 29,
     "metadata": {},
     "output_type": "execute_result"
    }
   ],
   "source": [
    "food.sample(2, random_state=2008)"
   ]
  },
  {
   "cell_type": "code",
   "execution_count": 36,
   "metadata": {},
   "outputs": [
    {
     "name": "stdout",
     "output_type": "stream",
     "text": [
      "saved: food_entities__20180321.json\n"
     ]
    }
   ],
   "source": [
    "## save to json\n",
    "file_name = \"__\".join([\"food_entities\", f.today()]) + \".json\"\n",
    "food.to_json(file_name, orient='index')\n",
    "print \"saved: %s\"%file_name"
   ]
  },
  {
   "cell_type": "code",
   "execution_count": 37,
   "metadata": {},
   "outputs": [
    {
     "name": "stdout",
     "output_type": "stream",
     "text": [
      "saved: food_entities__20180321.p\n"
     ]
    }
   ],
   "source": [
    "## save to p file\n",
    "file_name = \"__\".join([\"food_entities\", f.today()]) + \".p\"\n",
    "f.save_file(food, file_name)"
   ]
  }
 ],
 "metadata": {
  "kernelspec": {
   "display_name": "Python 2",
   "language": "python",
   "name": "python2"
  },
  "language_info": {
   "codemirror_mode": {
    "name": "ipython",
    "version": 2
   },
   "file_extension": ".py",
   "mimetype": "text/x-python",
   "name": "python",
   "nbconvert_exporter": "python",
   "pygments_lexer": "ipython2",
   "version": "2.7.14"
  }
 },
 "nbformat": 4,
 "nbformat_minor": 2
}
