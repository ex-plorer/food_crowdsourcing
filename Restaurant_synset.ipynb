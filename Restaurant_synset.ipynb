{
 "cells": [
  {
   "cell_type": "markdown",
   "metadata": {},
   "source": [
    "# Restaurants from delivery sites & reviews"
   ]
  },
  {
   "cell_type": "markdown",
   "metadata": {},
   "source": [
    "Restaurants are identified by names, similar names are not yet merged.  "
   ]
  },
  {
   "cell_type": "code",
   "execution_count": 1,
   "metadata": {},
   "outputs": [
    {
     "name": "stdout",
     "output_type": "stream",
     "text": [
      "system_info: 2.7.14 |Anaconda custom (64-bit)| (default, Oct 27 2017, 18:21:12) \n",
      "[GCC 7.2.0]\n",
      "path_info: /home/yueliu/Desktop/workspace_yue/Documentation_201712\n"
     ]
    }
   ],
   "source": [
    "# python version\n",
    "import sys\n",
    "print \"system_info: %s\"%sys.version\n",
    "# current working directory\n",
    "import os\n",
    "print \"path_info: %s\"%os.getcwd() "
   ]
  },
  {
   "cell_type": "code",
   "execution_count": 2,
   "metadata": {},
   "outputs": [
    {
     "name": "stdout",
     "output_type": "stream",
     "text": [
      "20180207\n"
     ]
    }
   ],
   "source": [
    "import myfunctions as f\n",
    "print f.today()"
   ]
  },
  {
   "cell_type": "markdown",
   "metadata": {},
   "source": [
    "## 1. Restaurants from reviews\n",
    "    attributes\n",
    ">     1. Burpple review locs\n",
    "    2. Food items mentioned in reviews: (sorted list of food_name & frequency mentioned in reviews)"
   ]
  },
  {
   "cell_type": "code",
   "execution_count": 3,
   "metadata": {},
   "outputs": [
    {
     "name": "stdout",
     "output_type": "stream",
     "text": [
      "retrived: /home/yueliu/Desktop/workspace_yue/burpple__review__clean__20180205.p\n"
     ]
    }
   ],
   "source": [
    "review_path = \"/home/yueliu/Desktop/workspace_yue\"\n",
    "file_name = \"burpple__review__clean__20180205.p\"    \n",
    "file_name = os.path.join(review_path, file_name)\n",
    "df_retrived = f.retrive_file(file_name)"
   ]
  },
  {
   "cell_type": "code",
   "execution_count": 4,
   "metadata": {},
   "outputs": [
    {
     "name": "stdout",
     "output_type": "stream",
     "text": [
      "(323104, 10)\n",
      "['loc', 'title', 'body', 'restaurant.name', 'review_text', 'hashtags', 'mentions', 'dollars', 'scores', 'urls']\n"
     ]
    },
    {
     "data": {
      "text/html": [
       "<div>\n",
       "<style scoped>\n",
       "    .dataframe tbody tr th:only-of-type {\n",
       "        vertical-align: middle;\n",
       "    }\n",
       "\n",
       "    .dataframe tbody tr th {\n",
       "        vertical-align: top;\n",
       "    }\n",
       "\n",
       "    .dataframe thead th {\n",
       "        text-align: right;\n",
       "    }\n",
       "</style>\n",
       "<table border=\"1\" class=\"dataframe\">\n",
       "  <thead>\n",
       "    <tr style=\"text-align: right;\">\n",
       "      <th></th>\n",
       "      <th>loc</th>\n",
       "      <th>title</th>\n",
       "      <th>body</th>\n",
       "      <th>restaurant.name</th>\n",
       "      <th>review_text</th>\n",
       "      <th>hashtags</th>\n",
       "      <th>mentions</th>\n",
       "      <th>dollars</th>\n",
       "      <th>scores</th>\n",
       "      <th>urls</th>\n",
       "    </tr>\n",
       "  </thead>\n",
       "  <tbody>\n",
       "    <tr>\n",
       "      <th>0</th>\n",
       "      <td>burppleinitial/review/--0EG2cp</td>\n",
       "      <td>Sicilian Lemon Creme andCaramelized Red Mixed ...</td>\n",
       "      <td></td>\n",
       "      <td>OSO Ristorante</td>\n",
       "      <td>Sicilian Lemon Creme andCaramelized Red Mixed ...</td>\n",
       "      <td>(#igsg, #igers, #igfood, #yum, #yummy, #instaf...</td>\n",
       "      <td>()</td>\n",
       "      <td>()</td>\n",
       "      <td>()</td>\n",
       "      <td>()</td>\n",
       "    </tr>\n",
       "  </tbody>\n",
       "</table>\n",
       "</div>"
      ],
      "text/plain": [
       "                              loc  \\\n",
       "0  burppleinitial/review/--0EG2cp   \n",
       "\n",
       "                                               title body restaurant.name  \\\n",
       "0  Sicilian Lemon Creme andCaramelized Red Mixed ...       OSO Ristorante   \n",
       "\n",
       "                                         review_text  \\\n",
       "0  Sicilian Lemon Creme andCaramelized Red Mixed ...   \n",
       "\n",
       "                                            hashtags mentions dollars scores  \\\n",
       "0  (#igsg, #igers, #igfood, #yum, #yummy, #instaf...       ()      ()     ()   \n",
       "\n",
       "  urls  \n",
       "0   ()  "
      ]
     },
     "execution_count": 4,
     "metadata": {},
     "output_type": "execute_result"
    }
   ],
   "source": [
    "print df_retrived.shape\n",
    "print df_retrived.columns.tolist()\n",
    "df_retrived.head(1)"
   ]
  },
  {
   "cell_type": "code",
   "execution_count": 5,
   "metadata": {},
   "outputs": [],
   "source": [
    "restaurants = df_retrived.groupby('restaurant.name')['loc'].apply(list).to_frame()\n",
    "restaurants.reset_index(inplace=True)\n",
    "restaurants.reset_index(inplace=True)\n",
    "restaurants[\"index\"] = restaurants[\"index\"].apply(lambda s: \"burpple_\"+ str(s))"
   ]
  },
  {
   "cell_type": "code",
   "execution_count": 6,
   "metadata": {},
   "outputs": [
    {
     "name": "stdout",
     "output_type": "stream",
     "text": [
      "number of reataurants: 14455\n"
     ]
    }
   ],
   "source": [
    "print \"number of reataurants: %d\"%restaurants.shape[0]"
   ]
  },
  {
   "cell_type": "code",
   "execution_count": 7,
   "metadata": {
    "collapsed": true
   },
   "outputs": [],
   "source": [
    "# map loc to food items\n",
    "# get a dictonary of {loc:[food_items]}"
   ]
  },
  {
   "cell_type": "code",
   "execution_count": 8,
   "metadata": {},
   "outputs": [
    {
     "name": "stdout",
     "output_type": "stream",
     "text": [
      "retrived: /home/yueliu/Desktop/workspace_yue/review_with_synsets__20180207.p\n"
     ]
    }
   ],
   "source": [
    "file_name = \"review_with_synsets__20180207.p\"\n",
    "file_name = os.path.join(review_path, file_name)\n",
    "loc_food = f.retrive_file(file_name)"
   ]
  },
  {
   "cell_type": "code",
   "execution_count": 9,
   "metadata": {},
   "outputs": [
    {
     "name": "stdout",
     "output_type": "stream",
     "text": [
      "number of food review loc with food items: 271124\n"
     ]
    }
   ],
   "source": [
    "from collections import defaultdict\n",
    "loc_food_ref = defaultdict(set)\n",
    "def get_loc_food_ref(line):\n",
    "    food_item = line[\"food_items\"]\n",
    "    for loc in line[\"loc\"]:\n",
    "        loc_food_ref[loc].update([food_item])\n",
    "loc_food.apply(get_loc_food_ref,1)\n",
    "print \"number of food review loc with food items: %d\"%len(loc_food_ref)"
   ]
  },
  {
   "cell_type": "code",
   "execution_count": 10,
   "metadata": {
    "collapsed": true
   },
   "outputs": [],
   "source": [
    "def map_food(loc_lst):\n",
    "    food_lst = []\n",
    "    for loc in loc_lst:\n",
    "        try:\n",
    "            food_lst.append(list(loc_food_ref[loc]))\n",
    "        except:\n",
    "             pass \n",
    "    food_lst =  [item for sublist in food_lst  for item in sublist]\n",
    "    return sorted([(x,food_lst.count(x)) for x in set(food_lst)], key=lambda x: (-x[1], x))\n",
    "\n",
    "restaurants[\"restaurants.food\"] = restaurants[\"loc\"].apply(map_food)"
   ]
  },
  {
   "cell_type": "code",
   "execution_count": 11,
   "metadata": {},
   "outputs": [
    {
     "data": {
      "text/html": [
       "<div>\n",
       "<style scoped>\n",
       "    .dataframe tbody tr th:only-of-type {\n",
       "        vertical-align: middle;\n",
       "    }\n",
       "\n",
       "    .dataframe tbody tr th {\n",
       "        vertical-align: top;\n",
       "    }\n",
       "\n",
       "    .dataframe thead th {\n",
       "        text-align: right;\n",
       "    }\n",
       "</style>\n",
       "<table border=\"1\" class=\"dataframe\">\n",
       "  <thead>\n",
       "    <tr style=\"text-align: right;\">\n",
       "      <th></th>\n",
       "      <th>index</th>\n",
       "      <th>restaurant.name</th>\n",
       "      <th>loc</th>\n",
       "      <th>restaurants.food</th>\n",
       "    </tr>\n",
       "  </thead>\n",
       "  <tbody>\n",
       "    <tr>\n",
       "      <th>827</th>\n",
       "      <td>burpple_827</td>\n",
       "      <td>Artisan Boulangerie Co. (The Metropolis)</td>\n",
       "      <td>[burppleinitial/review/2SDrwA81, burppleinitia...</td>\n",
       "      <td>[(and, 3), (for, 2), (ham and cheese, 2), (san...</td>\n",
       "    </tr>\n",
       "    <tr>\n",
       "      <th>8022</th>\n",
       "      <td>burpple_8022</td>\n",
       "      <td>Mr Bean (Outram Park MRT)</td>\n",
       "      <td>[burppleinitial/review/ATTt4Ft6]</td>\n",
       "      <td>[(hazelnut praline, 1)]</td>\n",
       "    </tr>\n",
       "    <tr>\n",
       "      <th>8603</th>\n",
       "      <td>burpple_8603</td>\n",
       "      <td>OTC Cafe</td>\n",
       "      <td>[burpple/review/3LkNIriY, burpple/review/E6_Wt...</td>\n",
       "      <td>[(for, 12), (and, 6), (food, 6), (good, 5), (s...</td>\n",
       "    </tr>\n",
       "    <tr>\n",
       "      <th>10425</th>\n",
       "      <td>burpple_10425</td>\n",
       "      <td>Select Cafeteria @ CHervons</td>\n",
       "      <td>[burppleinitial/review/tLHIEjPP]</td>\n",
       "      <td>[]</td>\n",
       "    </tr>\n",
       "    <tr>\n",
       "      <th>6275</th>\n",
       "      <td>burpple_6275</td>\n",
       "      <td>Killiney Caf (Marina Square)</td>\n",
       "      <td>[burppleinitial/review/-BRQ2mzW, burppleinitia...</td>\n",
       "      <td>[(mee rebus, 2), (and, 1), (food, 1), (for, 1)...</td>\n",
       "    </tr>\n",
       "  </tbody>\n",
       "</table>\n",
       "</div>"
      ],
      "text/plain": [
       "               index                           restaurant.name  \\\n",
       "827      burpple_827  Artisan Boulangerie Co. (The Metropolis)   \n",
       "8022    burpple_8022                 Mr Bean (Outram Park MRT)   \n",
       "8603    burpple_8603                                  OTC Cafe   \n",
       "10425  burpple_10425               Select Cafeteria @ CHervons   \n",
       "6275    burpple_6275              Killiney Caf (Marina Square)   \n",
       "\n",
       "                                                     loc  \\\n",
       "827    [burppleinitial/review/2SDrwA81, burppleinitia...   \n",
       "8022                    [burppleinitial/review/ATTt4Ft6]   \n",
       "8603   [burpple/review/3LkNIriY, burpple/review/E6_Wt...   \n",
       "10425                   [burppleinitial/review/tLHIEjPP]   \n",
       "6275   [burppleinitial/review/-BRQ2mzW, burppleinitia...   \n",
       "\n",
       "                                        restaurants.food  \n",
       "827    [(and, 3), (for, 2), (ham and cheese, 2), (san...  \n",
       "8022                             [(hazelnut praline, 1)]  \n",
       "8603   [(for, 12), (and, 6), (food, 6), (good, 5), (s...  \n",
       "10425                                                 []  \n",
       "6275   [(mee rebus, 2), (and, 1), (food, 1), (for, 1)...  "
      ]
     },
     "execution_count": 11,
     "metadata": {},
     "output_type": "execute_result"
    }
   ],
   "source": [
    "restaurants.sample(5)"
   ]
  },
  {
   "cell_type": "code",
   "execution_count": 12,
   "metadata": {
    "collapsed": true
   },
   "outputs": [],
   "source": [
    "from copy import deepcopy\n",
    "restaurant_entities = deepcopy(restaurants)"
   ]
  },
  {
   "cell_type": "markdown",
   "metadata": {},
   "source": [
    "## 2. Restaurants from delivery sites\n",
    "    attributes\n",
    ">     1. Delivery sites locs\n",
    "    2. Food items offered: (sorted list of food_name & count of delivery sites)"
   ]
  },
  {
   "cell_type": "code",
   "execution_count": 13,
   "metadata": {},
   "outputs": [
    {
     "name": "stdout",
     "output_type": "stream",
     "text": [
      "retrived: all_food_vendor__standard__20180207.p\n"
     ]
    }
   ],
   "source": [
    "file_name = \"all_food_vendor__standard__20180207.p\"\n",
    "#file_name = os.path.join(review_path, file_name)\n",
    "df_retrived = f.retrive_file(file_name)"
   ]
  },
  {
   "cell_type": "code",
   "execution_count": 14,
   "metadata": {},
   "outputs": [
    {
     "name": "stdout",
     "output_type": "stream",
     "text": [
      "(333572, 7)\n",
      "['food_name', 'vendor_name', 'locs', 'clean_name', 'lemma_name', 'lemma_name_2', 'standard_name']\n"
     ]
    },
    {
     "data": {
      "text/html": [
       "<div>\n",
       "<style scoped>\n",
       "    .dataframe tbody tr th:only-of-type {\n",
       "        vertical-align: middle;\n",
       "    }\n",
       "\n",
       "    .dataframe tbody tr th {\n",
       "        vertical-align: top;\n",
       "    }\n",
       "\n",
       "    .dataframe thead th {\n",
       "        text-align: right;\n",
       "    }\n",
       "</style>\n",
       "<table border=\"1\" class=\"dataframe\">\n",
       "  <thead>\n",
       "    <tr style=\"text-align: right;\">\n",
       "      <th></th>\n",
       "      <th>food_name</th>\n",
       "      <th>vendor_name</th>\n",
       "      <th>locs</th>\n",
       "      <th>clean_name</th>\n",
       "      <th>lemma_name</th>\n",
       "      <th>lemma_name_2</th>\n",
       "      <th>standard_name</th>\n",
       "    </tr>\n",
       "  </thead>\n",
       "  <tbody>\n",
       "    <tr>\n",
       "      <th>4</th>\n",
       "      <td>\u0003Japanese Pickle Roll (6 pcs)</td>\n",
       "      <td>Sen of Japan</td>\n",
       "      <td>[(2017-07-03T17:55:01.668428, deliveroo/food/7...</td>\n",
       "      <td>japanese pickle roll</td>\n",
       "      <td>japanese pickle roll</td>\n",
       "      <td>japanese pickle roll</td>\n",
       "      <td>japanese pickle roll</td>\n",
       "    </tr>\n",
       "  </tbody>\n",
       "</table>\n",
       "</div>"
      ],
      "text/plain": [
       "                       food_name   vendor_name  \\\n",
       "4  \u0003Japanese Pickle Roll (6 pcs)  Sen of Japan   \n",
       "\n",
       "                                                locs            clean_name  \\\n",
       "4  [(2017-07-03T17:55:01.668428, deliveroo/food/7...  japanese pickle roll   \n",
       "\n",
       "             lemma_name          lemma_name_2         standard_name  \n",
       "4  japanese pickle roll  japanese pickle roll  japanese pickle roll  "
      ]
     },
     "execution_count": 14,
     "metadata": {},
     "output_type": "execute_result"
    }
   ],
   "source": [
    "print df_retrived.shape\n",
    "print df_retrived.columns.tolist()\n",
    "df_retrived.head(1)"
   ]
  },
  {
   "cell_type": "code",
   "execution_count": 15,
   "metadata": {
    "collapsed": true
   },
   "outputs": [],
   "source": [
    "import pandas as pd\n",
    "pd.options.mode.chained_assignment = None # default is warn\n",
    "cols = [\"vendor_name\", \"locs\", \"standard_name\"]\n",
    "df = df_retrived[cols]\n",
    "df.rename(index=str, columns={\"vendor_name\": \"restaurant.name\"}, inplace=True)\n",
    "\n",
    "def zip_food_loc(line):\n",
    "    return [line[\"standard_name\"],line[\"locs\"]]\n",
    "df[\"loc\"] = df.apply(zip_food_loc, 1)"
   ]
  },
  {
   "cell_type": "code",
   "execution_count": 16,
   "metadata": {
    "collapsed": true
   },
   "outputs": [],
   "source": [
    "restaurants = df.groupby('restaurant.name')['loc'].apply(list).to_frame()\n",
    "restaurants.reset_index(inplace=True)\n",
    "restaurants.reset_index(inplace=True)\n",
    "restaurants[\"index\"] = restaurants[\"index\"].apply(lambda s: \"delivery_\"+ str(s))\n",
    "\n",
    "def count_food(lst):\n",
    "    food_lst = []\n",
    "    for p in lst:\n",
    "        food_name = p[0]\n",
    "        locs = p[1]\n",
    "        delivery_sites = set()\n",
    "        for loc in locs:\n",
    "            delivery_sites.add(loc[1].split(\"/\")[0])\n",
    "        food_lst.append((food_name, len(delivery_sites)))\n",
    "    return sorted(food_lst, key=lambda x: (-x[1], x))   \n",
    "restaurants[\"restaurants.food\"] = restaurants[\"loc\"].apply(count_food)"
   ]
  },
  {
   "cell_type": "code",
   "execution_count": 17,
   "metadata": {},
   "outputs": [
    {
     "name": "stdout",
     "output_type": "stream",
     "text": [
      "Some food is offered by some restaurant on multiple websites: True\n"
     ]
    }
   ],
   "source": [
    "# confirm indeed some food has more than 1 occurance\n",
    "l = restaurants[\"restaurants.food\"].tolist()\n",
    "flat_list = [item for sublist in l for item in sublist]\n",
    "selected = [i for i in flat_list if i[1]>1]\n",
    "print \"Some food is offered by some restaurant on multiple websites: %s\"%(len(selected) > 0)"
   ]
  },
  {
   "cell_type": "code",
   "execution_count": 18,
   "metadata": {},
   "outputs": [
    {
     "data": {
      "text/html": [
       "<div>\n",
       "<style scoped>\n",
       "    .dataframe tbody tr th:only-of-type {\n",
       "        vertical-align: middle;\n",
       "    }\n",
       "\n",
       "    .dataframe tbody tr th {\n",
       "        vertical-align: top;\n",
       "    }\n",
       "\n",
       "    .dataframe thead th {\n",
       "        text-align: right;\n",
       "    }\n",
       "</style>\n",
       "<table border=\"1\" class=\"dataframe\">\n",
       "  <thead>\n",
       "    <tr style=\"text-align: right;\">\n",
       "      <th></th>\n",
       "      <th>index</th>\n",
       "      <th>restaurant.name</th>\n",
       "      <th>loc</th>\n",
       "      <th>restaurants.food</th>\n",
       "    </tr>\n",
       "  </thead>\n",
       "  <tbody>\n",
       "    <tr>\n",
       "      <th>0</th>\n",
       "      <td>delivery_0</td>\n",
       "      <td></td>\n",
       "      <td>[[trivento bird bee red mendoza argentina, [('...</td>\n",
       "      <td>[(aglio aglio, 1), (albarino ria baixas, 1), (...</td>\n",
       "    </tr>\n",
       "    <tr>\n",
       "      <th>1</th>\n",
       "      <td>delivery_1</td>\n",
       "      <td>Aloha Pok</td>\n",
       "      <td>[[aloha standard nalu tuna, [('2017-07-03T17:5...</td>\n",
       "      <td>[(aloha poke standard nalu salmon, 1), (aloha ...</td>\n",
       "    </tr>\n",
       "  </tbody>\n",
       "</table>\n",
       "</div>"
      ],
      "text/plain": [
       "        index restaurant.name  \\\n",
       "0  delivery_0                   \n",
       "1  delivery_1       Aloha Pok   \n",
       "\n",
       "                                                 loc  \\\n",
       "0  [[trivento bird bee red mendoza argentina, [('...   \n",
       "1  [[aloha standard nalu tuna, [('2017-07-03T17:5...   \n",
       "\n",
       "                                    restaurants.food  \n",
       "0  [(aglio aglio, 1), (albarino ria baixas, 1), (...  \n",
       "1  [(aloha poke standard nalu salmon, 1), (aloha ...  "
      ]
     },
     "execution_count": 18,
     "metadata": {},
     "output_type": "execute_result"
    }
   ],
   "source": [
    "restaurants.head(2)"
   ]
  },
  {
   "cell_type": "code",
   "execution_count": 19,
   "metadata": {
    "collapsed": true
   },
   "outputs": [],
   "source": [
    "# extract loc to be list\n",
    "def extract_loc(lst):\n",
    "    all_locs = []\n",
    "    for food in lst:\n",
    "        food_locs = food[1]\n",
    "        for l in food_locs:\n",
    "            all_locs.append(l[1])\n",
    "    return all_locs\n",
    "restaurants[\"loc\"] = restaurants[\"loc\"].apply(extract_loc)"
   ]
  },
  {
   "cell_type": "code",
   "execution_count": 20,
   "metadata": {
    "scrolled": true
   },
   "outputs": [
    {
     "data": {
      "text/html": [
       "<div>\n",
       "<style scoped>\n",
       "    .dataframe tbody tr th:only-of-type {\n",
       "        vertical-align: middle;\n",
       "    }\n",
       "\n",
       "    .dataframe tbody tr th {\n",
       "        vertical-align: top;\n",
       "    }\n",
       "\n",
       "    .dataframe thead th {\n",
       "        text-align: right;\n",
       "    }\n",
       "</style>\n",
       "<table border=\"1\" class=\"dataframe\">\n",
       "  <thead>\n",
       "    <tr style=\"text-align: right;\">\n",
       "      <th></th>\n",
       "      <th>index</th>\n",
       "      <th>restaurant.name</th>\n",
       "      <th>loc</th>\n",
       "      <th>restaurants.food</th>\n",
       "    </tr>\n",
       "  </thead>\n",
       "  <tbody>\n",
       "    <tr>\n",
       "      <th>5916</th>\n",
       "      <td>delivery_5916</td>\n",
       "      <td>Wang Thai Kitchen</td>\n",
       "      <td>[foodpanda/menu_item/AWAMUOk_vFWOHWF12xDN, foo...</td>\n",
       "      <td>[(chicken in dry curry, 2), (clay pot tang hoo...</td>\n",
       "    </tr>\n",
       "    <tr>\n",
       "      <th>2625</th>\n",
       "      <td>delivery_2625</td>\n",
       "      <td>Killiney (Lor Telok)</td>\n",
       "      <td>[foodpanda/menu_item/AV1B4BOWcSlXBuMN34yS, foo...</td>\n",
       "      <td>[(belacan fry rice, 1), (burger, 1), (chee che...</td>\n",
       "    </tr>\n",
       "    <tr>\n",
       "      <th>2416</th>\n",
       "      <td>delivery_2416</td>\n",
       "      <td>Jalan Kayu Prata Cafe (18 Tai Seng)</td>\n",
       "      <td>[foodpanda/menu_item/AV1BocNTcSlXBuMN3hvT, foo...</td>\n",
       "      <td>[(aloo, 1), (aloo mutter masala, 1), (banana p...</td>\n",
       "    </tr>\n",
       "    <tr>\n",
       "      <th>5259</th>\n",
       "      <td>delivery_5259</td>\n",
       "      <td>Teuscher</td>\n",
       "      <td>[deliveroo/food/32988, deliveroo/food/AV06ww6t...</td>\n",
       "      <td>[(piece bailey truffle box, 1), (piece lake of...</td>\n",
       "    </tr>\n",
       "    <tr>\n",
       "      <th>545</th>\n",
       "      <td>delivery_545</td>\n",
       "      <td>Basil Thai Kitchen  - Paragon</td>\n",
       "      <td>[deliveroo/food/90364, deliveroo/food/AV066Dmb...</td>\n",
       "      <td>[(basil beef with jasmine rice, 1), (basil bee...</td>\n",
       "    </tr>\n",
       "  </tbody>\n",
       "</table>\n",
       "</div>"
      ],
      "text/plain": [
       "              index                      restaurant.name  \\\n",
       "5916  delivery_5916                    Wang Thai Kitchen   \n",
       "2625  delivery_2625                 Killiney (Lor Telok)   \n",
       "2416  delivery_2416  Jalan Kayu Prata Cafe (18 Tai Seng)   \n",
       "5259  delivery_5259                             Teuscher   \n",
       "545    delivery_545        Basil Thai Kitchen  - Paragon   \n",
       "\n",
       "                                                    loc  \\\n",
       "5916  [foodpanda/menu_item/AWAMUOk_vFWOHWF12xDN, foo...   \n",
       "2625  [foodpanda/menu_item/AV1B4BOWcSlXBuMN34yS, foo...   \n",
       "2416  [foodpanda/menu_item/AV1BocNTcSlXBuMN3hvT, foo...   \n",
       "5259  [deliveroo/food/32988, deliveroo/food/AV06ww6t...   \n",
       "545   [deliveroo/food/90364, deliveroo/food/AV066Dmb...   \n",
       "\n",
       "                                       restaurants.food  \n",
       "5916  [(chicken in dry curry, 2), (clay pot tang hoo...  \n",
       "2625  [(belacan fry rice, 1), (burger, 1), (chee che...  \n",
       "2416  [(aloo, 1), (aloo mutter masala, 1), (banana p...  \n",
       "5259  [(piece bailey truffle box, 1), (piece lake of...  \n",
       "545   [(basil beef with jasmine rice, 1), (basil bee...  "
      ]
     },
     "execution_count": 20,
     "metadata": {},
     "output_type": "execute_result"
    }
   ],
   "source": [
    "restaurants.sample(5)"
   ]
  },
  {
   "cell_type": "markdown",
   "metadata": {},
   "source": [
    "## 3. Merge records"
   ]
  },
  {
   "cell_type": "code",
   "execution_count": 21,
   "metadata": {
    "collapsed": true
   },
   "outputs": [],
   "source": [
    "restaurant_entities = pd.concat([restaurant_entities, restaurants],ignore_index=True)"
   ]
  },
  {
   "cell_type": "code",
   "execution_count": 22,
   "metadata": {
    "collapsed": true
   },
   "outputs": [],
   "source": [
    "restaurant_entities[\"food_cnt\"] = restaurant_entities[\"restaurants.food\"].apply(len)"
   ]
  },
  {
   "cell_type": "code",
   "execution_count": 23,
   "metadata": {},
   "outputs": [
    {
     "name": "stdout",
     "output_type": "stream",
     "text": [
      "20857 restaurant entities with 20013 names\n",
      "20304 restaurant entities with food items\n"
     ]
    }
   ],
   "source": [
    "print \"%d restaurant entities with %d names\"%(restaurant_entities.shape[0],\n",
    "                                              restaurant_entities[\"restaurant.name\"].nunique())\n",
    "print \"%d restaurant entities with food items\"%(restaurant_entities[\n",
    "    restaurant_entities[\"food_cnt\"]>0].shape[0])"
   ]
  },
  {
   "cell_type": "code",
   "execution_count": 24,
   "metadata": {},
   "outputs": [
    {
     "data": {
      "text/html": [
       "<div>\n",
       "<style scoped>\n",
       "    .dataframe tbody tr th:only-of-type {\n",
       "        vertical-align: middle;\n",
       "    }\n",
       "\n",
       "    .dataframe tbody tr th {\n",
       "        vertical-align: top;\n",
       "    }\n",
       "\n",
       "    .dataframe thead th {\n",
       "        text-align: right;\n",
       "    }\n",
       "</style>\n",
       "<table border=\"1\" class=\"dataframe\">\n",
       "  <thead>\n",
       "    <tr style=\"text-align: right;\">\n",
       "      <th></th>\n",
       "      <th>index</th>\n",
       "      <th>restaurant.name</th>\n",
       "      <th>loc</th>\n",
       "      <th>restaurants.food</th>\n",
       "      <th>food_cnt</th>\n",
       "    </tr>\n",
       "  </thead>\n",
       "  <tbody>\n",
       "    <tr>\n",
       "      <th>17886</th>\n",
       "      <td>delivery_3431</td>\n",
       "      <td>Myra's Beach Club</td>\n",
       "      <td>[what_to_eat/food/AVx3K6_1cSlXBuMNSitF, what_t...</td>\n",
       "      <td>[(aglio aglio beef, 1), (aglio aglio chicken, ...</td>\n",
       "      <td>97</td>\n",
       "    </tr>\n",
       "    <tr>\n",
       "      <th>10381</th>\n",
       "      <td>burpple_10381</td>\n",
       "      <td>Seafood Park Tze Char  (Tampines)</td>\n",
       "      <td>[burppleinitial/review/04KdkUft, burppleinitia...</td>\n",
       "      <td>[(for, 2), (beef dry hor fun, 1), (crispy, 1),...</td>\n",
       "      <td>10</td>\n",
       "    </tr>\n",
       "    <tr>\n",
       "      <th>5330</th>\n",
       "      <td>burpple_5330</td>\n",
       "      <td>Hup Choon Seafood</td>\n",
       "      <td>[burppleinitial/review/-OvAjVWY, burpple/revie...</td>\n",
       "      <td>[(for, 3), (and, 2), (food, 2), (all in, 1), (...</td>\n",
       "      <td>18</td>\n",
       "    </tr>\n",
       "    <tr>\n",
       "      <th>20329</th>\n",
       "      <td>delivery_5874</td>\n",
       "      <td>Victory Boat Noodle Cafe</td>\n",
       "      <td>[what_to_eat/food/AV9zNptrvFWOHWF1XFqz, what_t...</td>\n",
       "      <td>[(beef boat noodle, 1), (boil beef ball, 1), (...</td>\n",
       "      <td>33</td>\n",
       "    </tr>\n",
       "    <tr>\n",
       "      <th>14873</th>\n",
       "      <td>delivery_418</td>\n",
       "      <td>Authentic Mun Chee Kee King of Pig's Organ Soup</td>\n",
       "      <td>[what_to_eat/food/AVx3JkoYcSlXBuMNSgw2, what_t...</td>\n",
       "      <td>[(braise big intestine, 1), (braise pork rice,...</td>\n",
       "      <td>16</td>\n",
       "    </tr>\n",
       "  </tbody>\n",
       "</table>\n",
       "</div>"
      ],
      "text/plain": [
       "               index                                  restaurant.name  \\\n",
       "17886  delivery_3431                               Myra's Beach Club    \n",
       "10381  burpple_10381                Seafood Park Tze Char  (Tampines)   \n",
       "5330    burpple_5330                                Hup Choon Seafood   \n",
       "20329  delivery_5874                         Victory Boat Noodle Cafe   \n",
       "14873   delivery_418  Authentic Mun Chee Kee King of Pig's Organ Soup   \n",
       "\n",
       "                                                     loc  \\\n",
       "17886  [what_to_eat/food/AVx3K6_1cSlXBuMNSitF, what_t...   \n",
       "10381  [burppleinitial/review/04KdkUft, burppleinitia...   \n",
       "5330   [burppleinitial/review/-OvAjVWY, burpple/revie...   \n",
       "20329  [what_to_eat/food/AV9zNptrvFWOHWF1XFqz, what_t...   \n",
       "14873  [what_to_eat/food/AVx3JkoYcSlXBuMNSgw2, what_t...   \n",
       "\n",
       "                                        restaurants.food  food_cnt  \n",
       "17886  [(aglio aglio beef, 1), (aglio aglio chicken, ...        97  \n",
       "10381  [(for, 2), (beef dry hor fun, 1), (crispy, 1),...        10  \n",
       "5330   [(for, 3), (and, 2), (food, 2), (all in, 1), (...        18  \n",
       "20329  [(beef boat noodle, 1), (boil beef ball, 1), (...        33  \n",
       "14873  [(braise big intestine, 1), (braise pork rice,...        16  "
      ]
     },
     "execution_count": 24,
     "metadata": {},
     "output_type": "execute_result"
    }
   ],
   "source": [
    "restaurant_entities.sample(5)"
   ]
  },
  {
   "cell_type": "code",
   "execution_count": 25,
   "metadata": {},
   "outputs": [
    {
     "name": "stdout",
     "output_type": "stream",
     "text": [
      "saved: restaurant_entities__20180207.p\n"
     ]
    }
   ],
   "source": [
    "file_name = \"__\".join([\"restaurant_entities\", f.today()]) + \".p\"\n",
    "f.save_file(restaurant_entities, file_name)"
   ]
  }
 ],
 "metadata": {
  "kernelspec": {
   "display_name": "Python 2",
   "language": "python",
   "name": "python2"
  },
  "language_info": {
   "codemirror_mode": {
    "name": "ipython",
    "version": 2
   },
   "file_extension": ".py",
   "mimetype": "text/x-python",
   "name": "python",
   "nbconvert_exporter": "python",
   "pygments_lexer": "ipython2",
   "version": "2.7.14"
  }
 },
 "nbformat": 4,
 "nbformat_minor": 2
}
