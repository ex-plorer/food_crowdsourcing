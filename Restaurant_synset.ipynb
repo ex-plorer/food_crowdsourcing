{
 "cells": [
  {
   "cell_type": "markdown",
   "metadata": {},
   "source": [
    "# Restaurants from delivery sites & reviews"
   ]
  },
  {
   "cell_type": "markdown",
   "metadata": {},
   "source": [
    "Restaurants are identified by names, similar names are not yet merged.  "
   ]
  },
  {
   "cell_type": "code",
   "execution_count": 1,
   "metadata": {},
   "outputs": [
    {
     "name": "stdout",
     "output_type": "stream",
     "text": [
      "system_info: 2.7.14 |Anaconda custom (64-bit)| (default, Oct 27 2017, 18:21:12) \n",
      "[GCC 7.2.0]\n",
      "path_info: /home/yueliu/Desktop/workspace_yue/Documentation_201712\n"
     ]
    }
   ],
   "source": [
    "# python version\n",
    "import sys\n",
    "print \"system_info: %s\"%sys.version\n",
    "# current working directory\n",
    "import os\n",
    "print \"path_info: %s\"%os.getcwd() "
   ]
  },
  {
   "cell_type": "code",
   "execution_count": 2,
   "metadata": {},
   "outputs": [
    {
     "name": "stdout",
     "output_type": "stream",
     "text": [
      "20180207\n"
     ]
    }
   ],
   "source": [
    "import myfunctions as f\n",
    "print f.today()"
   ]
  },
  {
   "cell_type": "markdown",
   "metadata": {},
   "source": [
    "## 1. Restaurants from reviews\n",
    "    attributes\n",
    ">     1. Burpple review locs\n",
    "    2. Food items mentioned in reviews: (sorted list of food_name & frequency mentioned in reviews)"
   ]
  },
  {
   "cell_type": "code",
   "execution_count": 3,
   "metadata": {},
   "outputs": [
    {
     "name": "stdout",
     "output_type": "stream",
     "text": [
      "retrived: /home/yueliu/Desktop/workspace_yue/burpple__review__clean__20180205.p\n"
     ]
    }
   ],
   "source": [
    "review_path = \"/home/yueliu/Desktop/workspace_yue\"\n",
    "file_name = \"burpple__review__clean__20180205.p\"    \n",
    "file_name = os.path.join(review_path, file_name)\n",
    "df_retrived = f.retrive_file(file_name)"
   ]
  },
  {
   "cell_type": "code",
   "execution_count": 4,
   "metadata": {},
   "outputs": [
    {
     "name": "stdout",
     "output_type": "stream",
     "text": [
      "(323104, 10)\n",
      "['loc', 'title', 'body', 'restaurant.name', 'review_text', 'hashtags', 'mentions', 'dollars', 'scores', 'urls']\n"
     ]
    },
    {
     "data": {
      "text/html": [
       "<div>\n",
       "<style scoped>\n",
       "    .dataframe tbody tr th:only-of-type {\n",
       "        vertical-align: middle;\n",
       "    }\n",
       "\n",
       "    .dataframe tbody tr th {\n",
       "        vertical-align: top;\n",
       "    }\n",
       "\n",
       "    .dataframe thead th {\n",
       "        text-align: right;\n",
       "    }\n",
       "</style>\n",
       "<table border=\"1\" class=\"dataframe\">\n",
       "  <thead>\n",
       "    <tr style=\"text-align: right;\">\n",
       "      <th></th>\n",
       "      <th>loc</th>\n",
       "      <th>title</th>\n",
       "      <th>body</th>\n",
       "      <th>restaurant.name</th>\n",
       "      <th>review_text</th>\n",
       "      <th>hashtags</th>\n",
       "      <th>mentions</th>\n",
       "      <th>dollars</th>\n",
       "      <th>scores</th>\n",
       "      <th>urls</th>\n",
       "    </tr>\n",
       "  </thead>\n",
       "  <tbody>\n",
       "    <tr>\n",
       "      <th>0</th>\n",
       "      <td>burppleinitial/review/--0EG2cp</td>\n",
       "      <td>Sicilian Lemon Creme andCaramelized Red Mixed ...</td>\n",
       "      <td></td>\n",
       "      <td>OSO Ristorante</td>\n",
       "      <td>Sicilian Lemon Creme andCaramelized Red Mixed ...</td>\n",
       "      <td>(#igsg, #igers, #igfood, #yum, #yummy, #instaf...</td>\n",
       "      <td>()</td>\n",
       "      <td>()</td>\n",
       "      <td>()</td>\n",
       "      <td>()</td>\n",
       "    </tr>\n",
       "  </tbody>\n",
       "</table>\n",
       "</div>"
      ],
      "text/plain": [
       "                              loc  \\\n",
       "0  burppleinitial/review/--0EG2cp   \n",
       "\n",
       "                                               title body restaurant.name  \\\n",
       "0  Sicilian Lemon Creme andCaramelized Red Mixed ...       OSO Ristorante   \n",
       "\n",
       "                                         review_text  \\\n",
       "0  Sicilian Lemon Creme andCaramelized Red Mixed ...   \n",
       "\n",
       "                                            hashtags mentions dollars scores  \\\n",
       "0  (#igsg, #igers, #igfood, #yum, #yummy, #instaf...       ()      ()     ()   \n",
       "\n",
       "  urls  \n",
       "0   ()  "
      ]
     },
     "execution_count": 4,
     "metadata": {},
     "output_type": "execute_result"
    }
   ],
   "source": [
    "print df_retrived.shape\n",
    "print df_retrived.columns.tolist()\n",
    "df_retrived.head(1)"
   ]
  },
  {
   "cell_type": "code",
   "execution_count": 5,
   "metadata": {
    "collapsed": true
   },
   "outputs": [],
   "source": [
    "restaurants = df_retrived.groupby('restaurant.name')['loc'].apply(list).to_frame()\n",
    "restaurants.reset_index(inplace=True)\n",
    "restaurants.reset_index(inplace=True)\n",
    "restaurants[\"index\"] = restaurants[\"index\"].apply(lambda s: \"burpple_\"+ str(s))"
   ]
  },
  {
   "cell_type": "code",
   "execution_count": 6,
   "metadata": {},
   "outputs": [
    {
     "name": "stdout",
     "output_type": "stream",
     "text": [
      "number of reataurants: 14455\n"
     ]
    }
   ],
   "source": [
    "print \"number of reataurants: %d\"%restaurants.shape[0]"
   ]
  },
  {
   "cell_type": "code",
   "execution_count": 7,
   "metadata": {
    "collapsed": true
   },
   "outputs": [],
   "source": [
    "# map loc to food items\n",
    "# get a dictonary of {loc:[food_items]}"
   ]
  },
  {
   "cell_type": "code",
   "execution_count": 8,
   "metadata": {},
   "outputs": [
    {
     "name": "stdout",
     "output_type": "stream",
     "text": [
      "retrived: /home/yueliu/Desktop/workspace_yue/review_with_synsets__20180207.p\n"
     ]
    }
   ],
   "source": [
    "file_name = \"review_with_synsets__20180207.p\"\n",
    "file_name = os.path.join(review_path, file_name)\n",
    "loc_food = f.retrive_file(file_name)"
   ]
  },
  {
   "cell_type": "code",
   "execution_count": 9,
   "metadata": {},
   "outputs": [
    {
     "name": "stdout",
     "output_type": "stream",
     "text": [
      "number of food review loc with food items: 9540\n"
     ]
    }
   ],
   "source": [
    "from collections import defaultdict\n",
    "loc_food_ref = defaultdict(set)\n",
    "def get_loc_food_ref(line):\n",
    "    food_item = line[\"food_items\"]\n",
    "    for loc in line[\"loc\"]:\n",
    "        loc_food_ref[loc].update([food_item])\n",
    "loc_food.apply(get_loc_food_ref,1)\n",
    "print \"number of food review loc with food items: %d\"%len(loc_food_ref)"
   ]
  },
  {
   "cell_type": "code",
   "execution_count": 10,
   "metadata": {
    "collapsed": true
   },
   "outputs": [],
   "source": [
    "def map_food(loc_lst):\n",
    "    food_lst = []\n",
    "    for loc in loc_lst:\n",
    "        try:\n",
    "            food_lst.append(list(loc_food_ref[loc]))\n",
    "        except:\n",
    "             pass \n",
    "    food_lst =  [item for sublist in food_lst  for item in sublist]\n",
    "    return sorted([(x,food_lst.count(x)) for x in set(food_lst)], key=lambda x: (-x[1], x))\n",
    "\n",
    "restaurants[\"restaurants.food\"] = restaurants[\"loc\"].apply(map_food)"
   ]
  },
  {
   "cell_type": "code",
   "execution_count": 11,
   "metadata": {},
   "outputs": [
    {
     "data": {
      "text/html": [
       "<div>\n",
       "<style scoped>\n",
       "    .dataframe tbody tr th:only-of-type {\n",
       "        vertical-align: middle;\n",
       "    }\n",
       "\n",
       "    .dataframe tbody tr th {\n",
       "        vertical-align: top;\n",
       "    }\n",
       "\n",
       "    .dataframe thead th {\n",
       "        text-align: right;\n",
       "    }\n",
       "</style>\n",
       "<table border=\"1\" class=\"dataframe\">\n",
       "  <thead>\n",
       "    <tr style=\"text-align: right;\">\n",
       "      <th></th>\n",
       "      <th>index</th>\n",
       "      <th>restaurant.name</th>\n",
       "      <th>loc</th>\n",
       "      <th>restaurants.food</th>\n",
       "    </tr>\n",
       "  </thead>\n",
       "  <tbody>\n",
       "    <tr>\n",
       "      <th>10179</th>\n",
       "      <td>burpple_10179</td>\n",
       "      <td>Saizeriya (Bukit Timah Plaza)</td>\n",
       "      <td>[burppleinitial/review/2zcgkF2e, burppleinitia...</td>\n",
       "      <td>[]</td>\n",
       "    </tr>\n",
       "    <tr>\n",
       "      <th>342</th>\n",
       "      <td>burpple_342</td>\n",
       "      <td>A-One Claypot House (ChinaTown Point)</td>\n",
       "      <td>[burppleinitial/review/4znBYLRw, burppleinitia...</td>\n",
       "      <td>[]</td>\n",
       "    </tr>\n",
       "    <tr>\n",
       "      <th>13178</th>\n",
       "      <td>burpple_13178</td>\n",
       "      <td>Tuk Tuk Cha (Tampines 1)</td>\n",
       "      <td>[burppleinitial/review/4G7I6XhE, burppleinitia...</td>\n",
       "      <td>[]</td>\n",
       "    </tr>\n",
       "    <tr>\n",
       "      <th>1281</th>\n",
       "      <td>burpple_1281</td>\n",
       "      <td>Bcasse Bakery (Dempsey Hill)</td>\n",
       "      <td>[burppleinitial/review/0a88NTZO, burppleinitia...</td>\n",
       "      <td>[(asparagus salad, 2), (apple tart, 1), (choic...</td>\n",
       "    </tr>\n",
       "    <tr>\n",
       "      <th>1135</th>\n",
       "      <td>burpple_1135</td>\n",
       "      <td>Bali Thai (Causeway Point)</td>\n",
       "      <td>[burppleinitial/review/-jqUXJoA, burppleinitia...</td>\n",
       "      <td>[]</td>\n",
       "    </tr>\n",
       "  </tbody>\n",
       "</table>\n",
       "</div>"
      ],
      "text/plain": [
       "               index                        restaurant.name  \\\n",
       "10179  burpple_10179          Saizeriya (Bukit Timah Plaza)   \n",
       "342      burpple_342  A-One Claypot House (ChinaTown Point)   \n",
       "13178  burpple_13178               Tuk Tuk Cha (Tampines 1)   \n",
       "1281    burpple_1281           Bcasse Bakery (Dempsey Hill)   \n",
       "1135    burpple_1135             Bali Thai (Causeway Point)   \n",
       "\n",
       "                                                     loc  \\\n",
       "10179  [burppleinitial/review/2zcgkF2e, burppleinitia...   \n",
       "342    [burppleinitial/review/4znBYLRw, burppleinitia...   \n",
       "13178  [burppleinitial/review/4G7I6XhE, burppleinitia...   \n",
       "1281   [burppleinitial/review/0a88NTZO, burppleinitia...   \n",
       "1135   [burppleinitial/review/-jqUXJoA, burppleinitia...   \n",
       "\n",
       "                                        restaurants.food  \n",
       "10179                                                 []  \n",
       "342                                                   []  \n",
       "13178                                                 []  \n",
       "1281   [(asparagus salad, 2), (apple tart, 1), (choic...  \n",
       "1135                                                  []  "
      ]
     },
     "execution_count": 11,
     "metadata": {},
     "output_type": "execute_result"
    }
   ],
   "source": [
    "restaurants.sample(5)"
   ]
  },
  {
   "cell_type": "code",
   "execution_count": 12,
   "metadata": {
    "collapsed": true
   },
   "outputs": [],
   "source": [
    "from copy import deepcopy\n",
    "restaurant_entities = deepcopy(restaurants)"
   ]
  },
  {
   "cell_type": "markdown",
   "metadata": {},
   "source": [
    "## 2. Restaurants from delivery sites\n",
    "    attributes\n",
    ">     1. Delivery sites locs\n",
    "    2. Food items offered: (sorted list of food_name & count of delivery sites)"
   ]
  },
  {
   "cell_type": "code",
   "execution_count": 13,
   "metadata": {},
   "outputs": [
    {
     "name": "stdout",
     "output_type": "stream",
     "text": [
      "retrived: all_food_vendor__standard__20180207.p\n"
     ]
    }
   ],
   "source": [
    "file_name = \"all_food_vendor__standard__20180207.p\"\n",
    "#file_name = os.path.join(review_path, file_name)\n",
    "df_retrived = f.retrive_file(file_name)"
   ]
  },
  {
   "cell_type": "code",
   "execution_count": 14,
   "metadata": {},
   "outputs": [
    {
     "name": "stdout",
     "output_type": "stream",
     "text": [
      "(333572, 7)\n",
      "['food_name', 'vendor_name', 'locs', 'clean_name', 'lemma_name', 'lemma_name_2', 'standard_name']\n"
     ]
    },
    {
     "data": {
      "text/html": [
       "<div>\n",
       "<style scoped>\n",
       "    .dataframe tbody tr th:only-of-type {\n",
       "        vertical-align: middle;\n",
       "    }\n",
       "\n",
       "    .dataframe tbody tr th {\n",
       "        vertical-align: top;\n",
       "    }\n",
       "\n",
       "    .dataframe thead th {\n",
       "        text-align: right;\n",
       "    }\n",
       "</style>\n",
       "<table border=\"1\" class=\"dataframe\">\n",
       "  <thead>\n",
       "    <tr style=\"text-align: right;\">\n",
       "      <th></th>\n",
       "      <th>food_name</th>\n",
       "      <th>vendor_name</th>\n",
       "      <th>locs</th>\n",
       "      <th>clean_name</th>\n",
       "      <th>lemma_name</th>\n",
       "      <th>lemma_name_2</th>\n",
       "      <th>standard_name</th>\n",
       "    </tr>\n",
       "  </thead>\n",
       "  <tbody>\n",
       "    <tr>\n",
       "      <th>4</th>\n",
       "      <td>\u0003Japanese Pickle Roll (6 pcs)</td>\n",
       "      <td>Sen of Japan</td>\n",
       "      <td>[(2017-07-03T17:55:01.668428, deliveroo/food/7...</td>\n",
       "      <td>japanese pickle roll</td>\n",
       "      <td>japanese pickle roll</td>\n",
       "      <td>japanese pickle roll</td>\n",
       "      <td>japanese pickle roll</td>\n",
       "    </tr>\n",
       "  </tbody>\n",
       "</table>\n",
       "</div>"
      ],
      "text/plain": [
       "                       food_name   vendor_name  \\\n",
       "4  \u0003Japanese Pickle Roll (6 pcs)  Sen of Japan   \n",
       "\n",
       "                                                locs            clean_name  \\\n",
       "4  [(2017-07-03T17:55:01.668428, deliveroo/food/7...  japanese pickle roll   \n",
       "\n",
       "             lemma_name          lemma_name_2         standard_name  \n",
       "4  japanese pickle roll  japanese pickle roll  japanese pickle roll  "
      ]
     },
     "execution_count": 14,
     "metadata": {},
     "output_type": "execute_result"
    }
   ],
   "source": [
    "print df_retrived.shape\n",
    "print df_retrived.columns.tolist()\n",
    "df_retrived.head(1)"
   ]
  },
  {
   "cell_type": "code",
   "execution_count": 15,
   "metadata": {
    "collapsed": true
   },
   "outputs": [],
   "source": [
    "import pandas as pd\n",
    "pd.options.mode.chained_assignment = None # default is warn\n",
    "cols = [\"vendor_name\", \"locs\", \"standard_name\"]\n",
    "df = df_retrived[cols]\n",
    "df.rename(index=str, columns={\"vendor_name\": \"restaurant.name\"}, inplace=True)\n",
    "\n",
    "def zip_food_loc(line):\n",
    "    return [line[\"standard_name\"],line[\"locs\"]]\n",
    "df[\"loc\"] = df.apply(zip_food_loc, 1)"
   ]
  },
  {
   "cell_type": "code",
   "execution_count": 16,
   "metadata": {
    "collapsed": true
   },
   "outputs": [],
   "source": [
    "restaurants = df.groupby('restaurant.name')['loc'].apply(list).to_frame()\n",
    "restaurants.reset_index(inplace=True)\n",
    "restaurants.reset_index(inplace=True)\n",
    "restaurants[\"index\"] = restaurants[\"index\"].apply(lambda s: \"delivery_\"+ str(s))\n",
    "\n",
    "def count_food(lst):\n",
    "    food_lst = []\n",
    "    for p in lst:\n",
    "        food_name = p[0]\n",
    "        locs = p[1]\n",
    "        delivery_sites = set()\n",
    "        for loc in locs:\n",
    "            delivery_sites.add(loc[1].split(\"/\")[0])\n",
    "        food_lst.append((food_name, len(delivery_sites)))\n",
    "    return sorted(food_lst, key=lambda x: (-x[1], x))   \n",
    "restaurants[\"restaurants.food\"] = restaurants[\"loc\"].apply(count_food)"
   ]
  },
  {
   "cell_type": "code",
   "execution_count": 17,
   "metadata": {},
   "outputs": [
    {
     "name": "stdout",
     "output_type": "stream",
     "text": [
      "Some food is offered by some restaurant on multiple websites: True\n"
     ]
    }
   ],
   "source": [
    "# confirm indeed some food has more than 1 occurance\n",
    "l = restaurants[\"restaurants.food\"].tolist()\n",
    "flat_list = [item for sublist in l for item in sublist]\n",
    "selected = [i for i in flat_list if i[1]>1]\n",
    "print \"Some food is offered by some restaurant on multiple websites: %s\"%(len(selected) > 0)"
   ]
  },
  {
   "cell_type": "code",
   "execution_count": 18,
   "metadata": {},
   "outputs": [
    {
     "data": {
      "text/html": [
       "<div>\n",
       "<style scoped>\n",
       "    .dataframe tbody tr th:only-of-type {\n",
       "        vertical-align: middle;\n",
       "    }\n",
       "\n",
       "    .dataframe tbody tr th {\n",
       "        vertical-align: top;\n",
       "    }\n",
       "\n",
       "    .dataframe thead th {\n",
       "        text-align: right;\n",
       "    }\n",
       "</style>\n",
       "<table border=\"1\" class=\"dataframe\">\n",
       "  <thead>\n",
       "    <tr style=\"text-align: right;\">\n",
       "      <th></th>\n",
       "      <th>index</th>\n",
       "      <th>restaurant.name</th>\n",
       "      <th>loc</th>\n",
       "      <th>restaurants.food</th>\n",
       "    </tr>\n",
       "  </thead>\n",
       "  <tbody>\n",
       "    <tr>\n",
       "      <th>0</th>\n",
       "      <td>delivery_0</td>\n",
       "      <td></td>\n",
       "      <td>[[trivento bird bee red mendoza argentina, [('...</td>\n",
       "      <td>[(aglio aglio, 1), (albarino ria baixas, 1), (...</td>\n",
       "    </tr>\n",
       "    <tr>\n",
       "      <th>1</th>\n",
       "      <td>delivery_1</td>\n",
       "      <td>Aloha Pok</td>\n",
       "      <td>[[aloha standard nalu tuna, [('2017-07-03T17:5...</td>\n",
       "      <td>[(aloha poke standard nalu salmon, 1), (aloha ...</td>\n",
       "    </tr>\n",
       "  </tbody>\n",
       "</table>\n",
       "</div>"
      ],
      "text/plain": [
       "        index restaurant.name  \\\n",
       "0  delivery_0                   \n",
       "1  delivery_1       Aloha Pok   \n",
       "\n",
       "                                                 loc  \\\n",
       "0  [[trivento bird bee red mendoza argentina, [('...   \n",
       "1  [[aloha standard nalu tuna, [('2017-07-03T17:5...   \n",
       "\n",
       "                                    restaurants.food  \n",
       "0  [(aglio aglio, 1), (albarino ria baixas, 1), (...  \n",
       "1  [(aloha poke standard nalu salmon, 1), (aloha ...  "
      ]
     },
     "execution_count": 18,
     "metadata": {},
     "output_type": "execute_result"
    }
   ],
   "source": [
    "restaurants.head(2)"
   ]
  },
  {
   "cell_type": "code",
   "execution_count": 19,
   "metadata": {
    "collapsed": true
   },
   "outputs": [],
   "source": [
    "# extract loc to be list\n",
    "def extract_loc(lst):\n",
    "    all_locs = []\n",
    "    for food in lst:\n",
    "        food_locs = food[1]\n",
    "        for l in food_locs:\n",
    "            all_locs.append(l[1])\n",
    "    return all_locs\n",
    "restaurants[\"loc\"] = restaurants[\"loc\"].apply(extract_loc)"
   ]
  },
  {
   "cell_type": "code",
   "execution_count": 20,
   "metadata": {
    "scrolled": true
   },
   "outputs": [
    {
     "data": {
      "text/html": [
       "<div>\n",
       "<style scoped>\n",
       "    .dataframe tbody tr th:only-of-type {\n",
       "        vertical-align: middle;\n",
       "    }\n",
       "\n",
       "    .dataframe tbody tr th {\n",
       "        vertical-align: top;\n",
       "    }\n",
       "\n",
       "    .dataframe thead th {\n",
       "        text-align: right;\n",
       "    }\n",
       "</style>\n",
       "<table border=\"1\" class=\"dataframe\">\n",
       "  <thead>\n",
       "    <tr style=\"text-align: right;\">\n",
       "      <th></th>\n",
       "      <th>index</th>\n",
       "      <th>restaurant.name</th>\n",
       "      <th>loc</th>\n",
       "      <th>restaurants.food</th>\n",
       "    </tr>\n",
       "  </thead>\n",
       "  <tbody>\n",
       "    <tr>\n",
       "      <th>5078</th>\n",
       "      <td>delivery_5078</td>\n",
       "      <td>Sushi Burrito</td>\n",
       "      <td>[deliveroo/food/140462, deliveroo/food/AV07Ceb...</td>\n",
       "      <td>[(chawan mushi, 2), (cherry tomato salad, 2), ...</td>\n",
       "    </tr>\n",
       "    <tr>\n",
       "      <th>4024</th>\n",
       "      <td>delivery_4024</td>\n",
       "      <td>Pho4u Halal Vietnamese Cuisine</td>\n",
       "      <td>[foodpanda/menu_item/AV44BjegW4PLiMnQOVSi, foo...</td>\n",
       "      <td>[(banh mi, 1), (canh ga chien, 1), (cha gio, 1...</td>\n",
       "    </tr>\n",
       "    <tr>\n",
       "      <th>541</th>\n",
       "      <td>delivery_541</td>\n",
       "      <td>Barrio by Mex Out - 313 @Somerset</td>\n",
       "      <td>[deliveroo/food/AWCwWjstvFWOHWF15iyj, delivero...</td>\n",
       "      <td>[(barbacoa quesadilla, 1), (burn nachos, 1), (...</td>\n",
       "    </tr>\n",
       "    <tr>\n",
       "      <th>847</th>\n",
       "      <td>delivery_847</td>\n",
       "      <td>Camellia Chinese Bistro</td>\n",
       "      <td>[deliveroo/food/69271, deliveroo/food/AV0620rG...</td>\n",
       "      <td>[(bake cartilage with special sauce, 1), (brai...</td>\n",
       "    </tr>\n",
       "    <tr>\n",
       "      <th>2800</th>\n",
       "      <td>delivery_2800</td>\n",
       "      <td>Krispy Kreme (Suntec City)</td>\n",
       "      <td>[foodpanda/menu_item/AV435W4_W4PLiMnQOJtB, foo...</td>\n",
       "      <td>[(chocolate cookie crunch, 1), (chocolate dip ...</td>\n",
       "    </tr>\n",
       "  </tbody>\n",
       "</table>\n",
       "</div>"
      ],
      "text/plain": [
       "              index                    restaurant.name  \\\n",
       "5078  delivery_5078                      Sushi Burrito   \n",
       "4024  delivery_4024     Pho4u Halal Vietnamese Cuisine   \n",
       "541    delivery_541  Barrio by Mex Out - 313 @Somerset   \n",
       "847    delivery_847            Camellia Chinese Bistro   \n",
       "2800  delivery_2800         Krispy Kreme (Suntec City)   \n",
       "\n",
       "                                                    loc  \\\n",
       "5078  [deliveroo/food/140462, deliveroo/food/AV07Ceb...   \n",
       "4024  [foodpanda/menu_item/AV44BjegW4PLiMnQOVSi, foo...   \n",
       "541   [deliveroo/food/AWCwWjstvFWOHWF15iyj, delivero...   \n",
       "847   [deliveroo/food/69271, deliveroo/food/AV0620rG...   \n",
       "2800  [foodpanda/menu_item/AV435W4_W4PLiMnQOJtB, foo...   \n",
       "\n",
       "                                       restaurants.food  \n",
       "5078  [(chawan mushi, 2), (cherry tomato salad, 2), ...  \n",
       "4024  [(banh mi, 1), (canh ga chien, 1), (cha gio, 1...  \n",
       "541   [(barbacoa quesadilla, 1), (burn nachos, 1), (...  \n",
       "847   [(bake cartilage with special sauce, 1), (brai...  \n",
       "2800  [(chocolate cookie crunch, 1), (chocolate dip ...  "
      ]
     },
     "execution_count": 20,
     "metadata": {},
     "output_type": "execute_result"
    }
   ],
   "source": [
    "restaurants.sample(5)"
   ]
  },
  {
   "cell_type": "markdown",
   "metadata": {},
   "source": [
    "## 3. Merge records"
   ]
  },
  {
   "cell_type": "code",
   "execution_count": 21,
   "metadata": {
    "collapsed": true
   },
   "outputs": [],
   "source": [
    "restaurant_entities = pd.concat([restaurant_entities, restaurants],ignore_index=True)"
   ]
  },
  {
   "cell_type": "code",
   "execution_count": 22,
   "metadata": {
    "collapsed": true
   },
   "outputs": [],
   "source": [
    "restaurant_entities[\"food_cnt\"] = restaurant_entities[\"restaurants.food\"].apply(len)"
   ]
  },
  {
   "cell_type": "code",
   "execution_count": 23,
   "metadata": {},
   "outputs": [
    {
     "name": "stdout",
     "output_type": "stream",
     "text": [
      "20857 restaurant entities with 20013 names\n",
      "10095 restaurant entities with food items\n"
     ]
    }
   ],
   "source": [
    "print \"%d restaurant entities with %d names\"%(restaurant_entities.shape[0],\n",
    "                                              restaurant_entities[\"restaurant.name\"].nunique())\n",
    "print \"%d restaurant entities with food items\"%(restaurant_entities[\n",
    "    restaurant_entities[\"food_cnt\"]>0].shape[0])"
   ]
  },
  {
   "cell_type": "code",
   "execution_count": 24,
   "metadata": {},
   "outputs": [
    {
     "data": {
      "text/html": [
       "<div>\n",
       "<style scoped>\n",
       "    .dataframe tbody tr th:only-of-type {\n",
       "        vertical-align: middle;\n",
       "    }\n",
       "\n",
       "    .dataframe tbody tr th {\n",
       "        vertical-align: top;\n",
       "    }\n",
       "\n",
       "    .dataframe thead th {\n",
       "        text-align: right;\n",
       "    }\n",
       "</style>\n",
       "<table border=\"1\" class=\"dataframe\">\n",
       "  <thead>\n",
       "    <tr style=\"text-align: right;\">\n",
       "      <th></th>\n",
       "      <th>index</th>\n",
       "      <th>restaurant.name</th>\n",
       "      <th>loc</th>\n",
       "      <th>restaurants.food</th>\n",
       "      <th>food_cnt</th>\n",
       "    </tr>\n",
       "  </thead>\n",
       "  <tbody>\n",
       "    <tr>\n",
       "      <th>14415</th>\n",
       "      <td>burpple_14415</td>\n",
       "      <td>somerset 313</td>\n",
       "      <td>[burppleinitial/review/NTIOtUBk]</td>\n",
       "      <td>[]</td>\n",
       "      <td>0</td>\n",
       "    </tr>\n",
       "    <tr>\n",
       "      <th>2830</th>\n",
       "      <td>burpple_2830</td>\n",
       "      <td>Cookwerx by Chef Taj</td>\n",
       "      <td>[burppleinitial/review/CZXGtB-5, burppleinitia...</td>\n",
       "      <td>[]</td>\n",
       "      <td>0</td>\n",
       "    </tr>\n",
       "    <tr>\n",
       "      <th>2535</th>\n",
       "      <td>burpple_2535</td>\n",
       "      <td>Chocolate Atelier</td>\n",
       "      <td>[burppleinitial/review/LHf6MVOl]</td>\n",
       "      <td>[(and, 1), (flavour, 1), (for, 1)]</td>\n",
       "      <td>3</td>\n",
       "    </tr>\n",
       "    <tr>\n",
       "      <th>14764</th>\n",
       "      <td>delivery_309</td>\n",
       "      <td>AlibabaR - Yong Huat (Since 1949)</td>\n",
       "      <td>[deliveroo/food/62570, deliveroo/food/AV061swm...</td>\n",
       "      <td>[(fishball mince meat noodle dry, 1), (fishbal...</td>\n",
       "      <td>18</td>\n",
       "    </tr>\n",
       "    <tr>\n",
       "      <th>15655</th>\n",
       "      <td>delivery_1200</td>\n",
       "      <td>Craftsmen - Tanah Merah</td>\n",
       "      <td>[deliveroo/food/136008, deliveroo/food/AV07BsS...</td>\n",
       "      <td>[(back bacon, 1), (bake bean, 1), (butter choc...</td>\n",
       "      <td>45</td>\n",
       "    </tr>\n",
       "  </tbody>\n",
       "</table>\n",
       "</div>"
      ],
      "text/plain": [
       "               index                    restaurant.name  \\\n",
       "14415  burpple_14415                       somerset 313   \n",
       "2830    burpple_2830               Cookwerx by Chef Taj   \n",
       "2535    burpple_2535                  Chocolate Atelier   \n",
       "14764   delivery_309  AlibabaR - Yong Huat (Since 1949)   \n",
       "15655  delivery_1200            Craftsmen - Tanah Merah   \n",
       "\n",
       "                                                     loc  \\\n",
       "14415                   [burppleinitial/review/NTIOtUBk]   \n",
       "2830   [burppleinitial/review/CZXGtB-5, burppleinitia...   \n",
       "2535                    [burppleinitial/review/LHf6MVOl]   \n",
       "14764  [deliveroo/food/62570, deliveroo/food/AV061swm...   \n",
       "15655  [deliveroo/food/136008, deliveroo/food/AV07BsS...   \n",
       "\n",
       "                                        restaurants.food  food_cnt  \n",
       "14415                                                 []         0  \n",
       "2830                                                  []         0  \n",
       "2535                  [(and, 1), (flavour, 1), (for, 1)]         3  \n",
       "14764  [(fishball mince meat noodle dry, 1), (fishbal...        18  \n",
       "15655  [(back bacon, 1), (bake bean, 1), (butter choc...        45  "
      ]
     },
     "execution_count": 24,
     "metadata": {},
     "output_type": "execute_result"
    }
   ],
   "source": [
    "restaurant_entities.sample(5)"
   ]
  },
  {
   "cell_type": "code",
   "execution_count": 25,
   "metadata": {},
   "outputs": [
    {
     "name": "stdout",
     "output_type": "stream",
     "text": [
      "saved: restaurant_entities__20180207.p\n"
     ]
    }
   ],
   "source": [
    "file_name = \"__\".join([\"restaurant_entities\", f.today()]) + \".p\"\n",
    "f.save_file(restaurant_entities, file_name)"
   ]
  }
 ],
 "metadata": {
  "kernelspec": {
   "display_name": "Python 2",
   "language": "python",
   "name": "python2"
  },
  "language_info": {
   "codemirror_mode": {
    "name": "ipython",
    "version": 2
   },
   "file_extension": ".py",
   "mimetype": "text/x-python",
   "name": "python",
   "nbconvert_exporter": "python",
   "pygments_lexer": "ipython2",
   "version": "2.7.14"
  }
 },
 "nbformat": 4,
 "nbformat_minor": 2
}
