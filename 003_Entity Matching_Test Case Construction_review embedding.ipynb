{
 "cells": [
  {
   "cell_type": "code",
   "execution_count": 39,
   "metadata": {},
   "outputs": [
    {
     "name": "stdout",
     "output_type": "stream",
     "text": [
      "The autoreload extension is already loaded. To reload it, use:\n",
      "  %reload_ext autoreload\n"
     ]
    },
    {
     "data": {
      "text/plain": [
       "'20180314'"
      ]
     },
     "execution_count": 39,
     "metadata": {},
     "output_type": "execute_result"
    }
   ],
   "source": [
    "%load_ext autoreload\n",
    "%autoreload 2\n",
    "import myfunctions as f\n",
    "f.today()"
   ]
  },
  {
   "cell_type": "code",
   "execution_count": 40,
   "metadata": {},
   "outputs": [
    {
     "name": "stdout",
     "output_type": "stream",
     "text": [
      "system_info: 2.7.14 |Anaconda custom (64-bit)| (default, Oct 27 2017, 18:21:12) \n",
      "[GCC 7.2.0]\n",
      "path_info: /home/yueliu/Desktop/workspace_yue/Documentation_201712\n"
     ]
    }
   ],
   "source": [
    "# python version\n",
    "import sys\n",
    "print \"system_info: %s\"%sys.version\n",
    "# current working directory\n",
    "import os\n",
    "print \"path_info: %s\"%os.getcwd() "
   ]
  },
  {
   "cell_type": "markdown",
   "metadata": {},
   "source": [
    "**food names**"
   ]
  },
  {
   "cell_type": "code",
   "execution_count": 41,
   "metadata": {},
   "outputs": [
    {
     "name": "stdout",
     "output_type": "stream",
     "text": [
      "number of food items: 139778\n"
     ]
    }
   ],
   "source": [
    "import pandas as pd\n",
    "file_name = \"food_items_20180314.csv\"\n",
    "food_items = pd.read_csv(file_name,header=None).iloc[:,0].tolist()\n",
    "food_items = [s for s in food_items if s==s]\n",
    "print \"number of food items: %d\"%len(food_items)"
   ]
  },
  {
   "cell_type": "markdown",
   "metadata": {},
   "source": [
    "** burpple reviews**"
   ]
  },
  {
   "cell_type": "code",
   "execution_count": 42,
   "metadata": {},
   "outputs": [
    {
     "name": "stdout",
     "output_type": "stream",
     "text": [
      "retrived: burpple__review__clean__20180314.p\n",
      "CPU times: user 18.4 s, sys: 516 ms, total: 18.9 s\n",
      "Wall time: 18.9 s\n"
     ]
    }
   ],
   "source": [
    "%%time\n",
    "file_name = \"burpple__review__clean__20180314.p\"    \n",
    "df = f.retrive_file(file_name)"
   ]
  },
  {
   "cell_type": "code",
   "execution_count": 43,
   "metadata": {
    "collapsed": true
   },
   "outputs": [],
   "source": [
    "df[\"clean_review\"] = df[\"review_text\"].apply(lambda s: f.clean_name_v2(s))"
   ]
  },
  {
   "cell_type": "code",
   "execution_count": 44,
   "metadata": {},
   "outputs": [
    {
     "name": "stdout",
     "output_type": "stream",
     "text": [
      "(323104, 11)\n",
      "['loc', 'title', 'body', 'restaurant.name', 'review_text', 'hashtags', 'mentions', 'dollars', 'scores', 'urls', 'clean_review']\n"
     ]
    },
    {
     "data": {
      "text/html": [
       "<div>\n",
       "<style scoped>\n",
       "    .dataframe tbody tr th:only-of-type {\n",
       "        vertical-align: middle;\n",
       "    }\n",
       "\n",
       "    .dataframe tbody tr th {\n",
       "        vertical-align: top;\n",
       "    }\n",
       "\n",
       "    .dataframe thead th {\n",
       "        text-align: right;\n",
       "    }\n",
       "</style>\n",
       "<table border=\"1\" class=\"dataframe\">\n",
       "  <thead>\n",
       "    <tr style=\"text-align: right;\">\n",
       "      <th></th>\n",
       "      <th>loc</th>\n",
       "      <th>title</th>\n",
       "      <th>body</th>\n",
       "      <th>restaurant.name</th>\n",
       "      <th>review_text</th>\n",
       "      <th>hashtags</th>\n",
       "      <th>mentions</th>\n",
       "      <th>dollars</th>\n",
       "      <th>scores</th>\n",
       "      <th>urls</th>\n",
       "      <th>clean_review</th>\n",
       "    </tr>\n",
       "  </thead>\n",
       "  <tbody>\n",
       "    <tr>\n",
       "      <th>242662</th>\n",
       "      <td>burppleinitial/review/jnF_zvaY</td>\n",
       "      <td>Aged Cheddar, Fig &amp; #Cognac Jam and Candied Wa...</td>\n",
       "      <td>Aged Cheddar, Fig &amp; #Cognac Jam and Candied Wa...</td>\n",
       "      <td>The Humble Loaf</td>\n",
       "      <td>Aged Cheddar, Fig and Jam and Candied Walnuts ...</td>\n",
       "      <td>(#Cognac, #lunch, #weekend, #Cognac, #lunch, #...</td>\n",
       "      <td>()</td>\n",
       "      <td>()</td>\n",
       "      <td>()</td>\n",
       "      <td>()</td>\n",
       "      <td>aged cheddar fig and jam and candied walnuts o...</td>\n",
       "    </tr>\n",
       "    <tr>\n",
       "      <th>74846</th>\n",
       "      <td>burppleinitial/review/CzDetUln</td>\n",
       "      <td>Orange Brioche</td>\n",
       "      <td></td>\n",
       "      <td>Artisan Boulangerie Co. (Great World City)</td>\n",
       "      <td>Orange Brioche</td>\n",
       "      <td>()</td>\n",
       "      <td>()</td>\n",
       "      <td>()</td>\n",
       "      <td>()</td>\n",
       "      <td>()</td>\n",
       "      <td>orange brioche</td>\n",
       "    </tr>\n",
       "  </tbody>\n",
       "</table>\n",
       "</div>"
      ],
      "text/plain": [
       "                                   loc  \\\n",
       "242662  burppleinitial/review/jnF_zvaY   \n",
       "74846   burppleinitial/review/CzDetUln   \n",
       "\n",
       "                                                    title  \\\n",
       "242662  Aged Cheddar, Fig & #Cognac Jam and Candied Wa...   \n",
       "74846                                      Orange Brioche   \n",
       "\n",
       "                                                     body  \\\n",
       "242662  Aged Cheddar, Fig & #Cognac Jam and Candied Wa...   \n",
       "74846                                                       \n",
       "\n",
       "                                   restaurant.name  \\\n",
       "242662                             The Humble Loaf   \n",
       "74846   Artisan Boulangerie Co. (Great World City)   \n",
       "\n",
       "                                              review_text  \\\n",
       "242662  Aged Cheddar, Fig and Jam and Candied Walnuts ...   \n",
       "74846                                      Orange Brioche   \n",
       "\n",
       "                                                 hashtags mentions dollars  \\\n",
       "242662  (#Cognac, #lunch, #weekend, #Cognac, #lunch, #...       ()      ()   \n",
       "74846                                                  ()       ()      ()   \n",
       "\n",
       "       scores urls                                       clean_review  \n",
       "242662     ()   ()  aged cheddar fig and jam and candied walnuts o...  \n",
       "74846      ()   ()                                     orange brioche  "
      ]
     },
     "execution_count": 44,
     "metadata": {},
     "output_type": "execute_result"
    }
   ],
   "source": [
    "print df.shape\n",
    "print df.columns.tolist()\n",
    "df.sample(2, random_state=2008)"
   ]
  },
  {
   "cell_type": "code",
   "execution_count": 45,
   "metadata": {},
   "outputs": [
    {
     "name": "stdout",
     "output_type": "stream",
     "text": [
      "number of unique reviews: 277772\n"
     ]
    }
   ],
   "source": [
    "all_reviews = sorted([s for s in set(df[\"clean_review\"].tolist()) if len(s)>0])\n",
    "print \"number of unique reviews: %d\"%len(all_reviews)"
   ]
  },
  {
   "cell_type": "markdown",
   "metadata": {},
   "source": [
    "** look for food names in a review **"
   ]
  },
  {
   "cell_type": "code",
   "execution_count": 82,
   "metadata": {
    "collapsed": true
   },
   "outputs": [],
   "source": [
    "file_name = \"words_to_remove_20180308.csv\"\n",
    "rmv = pd.read_csv(file_name, header=None)[0].tolist()\n",
    "rmv = rmv+['can', 'sweet', 'love', 'up', 'no', 'me', 'back', 'fluffy', 'hot', 'spicy', 'crisp', 'salty', 'house', 'red', 'fat', 'roasted', 'white', 'refreshing', 'black', 'cold', 'deep fried', 'pieces', 'toasted', 'skin', 'cheesy', 'hungry', 'pop', 'miss', 'option', 'fried', 'tomato', 'vanilla', 'plus', 'potato', 'thai', 'spice', 'infused', 'sauces', 'to share', 'lover', 'surprise', 'balanced', 'choice', 'french', 'green', 'steamed', 'italian', 'wake up', 'silver', 'savoury flavours', 'western', 'set for', 'pan fried', 'the original', 'decadence', 'the great', 'uplifting', 'all in', 'meaty', 'spice level', 'per slice', 'discovery', 'smokey', 'all time favourites', 'sticky', 'the double', 'pint', 'mad', 'singapore style', 'alcoholic', 'serves', 'nutty', 'salted', 'lunch set', 'boost', 'anything', 'dips', 'vietnamese', 'set lunch', 'lager', 'for pax', 'below', 'bundle']"
   ]
  },
  {
   "cell_type": "code",
   "execution_count": 83,
   "metadata": {
    "collapsed": true
   },
   "outputs": [],
   "source": [
    "def search_food(review):\n",
    "    return [s for s in f.search_food(review) if s not in rmv]"
   ]
  },
  {
   "cell_type": "code",
   "execution_count": 84,
   "metadata": {},
   "outputs": [
    {
     "name": "stdout",
     "output_type": "stream",
     "text": [
      "CPU times: user 47.7 s, sys: 468 ms, total: 48.2 s\n",
      "Wall time: 47.8 s\n"
     ]
    }
   ],
   "source": [
    "%%time\n",
    "df_sample = df.sample(1000, random_state=2008)\n",
    "df_sample[\"food_items\"] = df_sample[\"clean_review\"].apply(search_food)"
   ]
  },
  {
   "cell_type": "code",
   "execution_count": null,
   "metadata": {
    "collapsed": true
   },
   "outputs": [],
   "source": [
    "\"\"\"\n",
    "CPU times: user 4h 37min 15s, sys: 58.5 s, total: 4h 38min 14s\n",
    "Wall time: 4h 37min 12s\n",
    "\"\"\"\n",
    "%%time\n",
    "if 1==0:\n",
    "    df[\"food_items\"] = df[\"clean_review\"].apply(search_food)\n",
    "    file_name = \"burpple__review__food__\"+f.today()+\".p\" \n",
    "    f.save_file(df, file_name)"
   ]
  },
  {
   "cell_type": "code",
   "execution_count": 158,
   "metadata": {},
   "outputs": [
    {
     "name": "stdout",
     "output_type": "stream",
     "text": [
      "retrived: burpple__review__food__20180315.p\n",
      "CPU times: user 4h 39min 46s, sys: 2min 19s, total: 4h 42min 6s\n",
      "Wall time: 4h 39min 38s\n"
     ]
    }
   ],
   "source": [
    "%%time\n",
    "file_name = \"burpple__review__food__20180315.p\" \n",
    "df_sample = f.retrive_file(file_name)\n",
    "df_sample[\"food_items\"] = df_sample[\"clean_review\"].apply(search_food)"
   ]
  },
  {
   "cell_type": "code",
   "execution_count": 159,
   "metadata": {},
   "outputs": [
    {
     "name": "stdout",
     "output_type": "stream",
     "text": [
      "(323104, 12)\n",
      "['loc', 'title', 'body', 'restaurant.name', 'review_text', 'hashtags', 'mentions', 'dollars', 'scores', 'urls', 'clean_review', 'food_items']\n"
     ]
    },
    {
     "data": {
      "text/html": [
       "<div>\n",
       "<style scoped>\n",
       "    .dataframe tbody tr th:only-of-type {\n",
       "        vertical-align: middle;\n",
       "    }\n",
       "\n",
       "    .dataframe tbody tr th {\n",
       "        vertical-align: top;\n",
       "    }\n",
       "\n",
       "    .dataframe thead th {\n",
       "        text-align: right;\n",
       "    }\n",
       "</style>\n",
       "<table border=\"1\" class=\"dataframe\">\n",
       "  <thead>\n",
       "    <tr style=\"text-align: right;\">\n",
       "      <th></th>\n",
       "      <th>loc</th>\n",
       "      <th>title</th>\n",
       "      <th>body</th>\n",
       "      <th>restaurant.name</th>\n",
       "      <th>review_text</th>\n",
       "      <th>hashtags</th>\n",
       "      <th>mentions</th>\n",
       "      <th>dollars</th>\n",
       "      <th>scores</th>\n",
       "      <th>urls</th>\n",
       "      <th>clean_review</th>\n",
       "      <th>food_items</th>\n",
       "    </tr>\n",
       "  </thead>\n",
       "  <tbody>\n",
       "    <tr>\n",
       "      <th>242662</th>\n",
       "      <td>burppleinitial/review/jnF_zvaY</td>\n",
       "      <td>Aged Cheddar, Fig &amp; #Cognac Jam and Candied Wa...</td>\n",
       "      <td>Aged Cheddar, Fig &amp; #Cognac Jam and Candied Wa...</td>\n",
       "      <td>The Humble Loaf</td>\n",
       "      <td>Aged Cheddar, Fig and Jam and Candied Walnuts ...</td>\n",
       "      <td>(#Cognac, #lunch, #weekend, #Cognac, #lunch, #...</td>\n",
       "      <td>()</td>\n",
       "      <td>()</td>\n",
       "      <td>()</td>\n",
       "      <td>()</td>\n",
       "      <td>aged cheddar fig and jam and candied walnuts o...</td>\n",
       "      <td>[jam, toast, walnuts]</td>\n",
       "    </tr>\n",
       "    <tr>\n",
       "      <th>74846</th>\n",
       "      <td>burppleinitial/review/CzDetUln</td>\n",
       "      <td>Orange Brioche</td>\n",
       "      <td></td>\n",
       "      <td>Artisan Boulangerie Co. (Great World City)</td>\n",
       "      <td>Orange Brioche</td>\n",
       "      <td>()</td>\n",
       "      <td>()</td>\n",
       "      <td>()</td>\n",
       "      <td>()</td>\n",
       "      <td>()</td>\n",
       "      <td>orange brioche</td>\n",
       "      <td>[orange brioche]</td>\n",
       "    </tr>\n",
       "  </tbody>\n",
       "</table>\n",
       "</div>"
      ],
      "text/plain": [
       "                                   loc  \\\n",
       "242662  burppleinitial/review/jnF_zvaY   \n",
       "74846   burppleinitial/review/CzDetUln   \n",
       "\n",
       "                                                    title  \\\n",
       "242662  Aged Cheddar, Fig & #Cognac Jam and Candied Wa...   \n",
       "74846                                      Orange Brioche   \n",
       "\n",
       "                                                     body  \\\n",
       "242662  Aged Cheddar, Fig & #Cognac Jam and Candied Wa...   \n",
       "74846                                                       \n",
       "\n",
       "                                   restaurant.name  \\\n",
       "242662                             The Humble Loaf   \n",
       "74846   Artisan Boulangerie Co. (Great World City)   \n",
       "\n",
       "                                              review_text  \\\n",
       "242662  Aged Cheddar, Fig and Jam and Candied Walnuts ...   \n",
       "74846                                      Orange Brioche   \n",
       "\n",
       "                                                 hashtags mentions dollars  \\\n",
       "242662  (#Cognac, #lunch, #weekend, #Cognac, #lunch, #...       ()      ()   \n",
       "74846                                                  ()       ()      ()   \n",
       "\n",
       "       scores urls                                       clean_review  \\\n",
       "242662     ()   ()  aged cheddar fig and jam and candied walnuts o...   \n",
       "74846      ()   ()                                     orange brioche   \n",
       "\n",
       "                   food_items  \n",
       "242662  [jam, toast, walnuts]  \n",
       "74846        [orange brioche]  "
      ]
     },
     "execution_count": 159,
     "metadata": {},
     "output_type": "execute_result"
    }
   ],
   "source": [
    "print df_sample.shape\n",
    "print df_sample.columns.tolist()\n",
    "df_sample.sample(2, random_state=2008)"
   ]
  },
  {
   "cell_type": "code",
   "execution_count": 160,
   "metadata": {},
   "outputs": [
    {
     "name": "stdout",
     "output_type": "stream",
     "text": [
      "Aged Cheddar, Fig & #Cognac Jam and Candied Walnuts on Toast #lunch #weekend specialAged Cheddar, Fig & #Cognac Jam and Candied Walnuts on Toast #lunch #weekend special\n",
      "aged cheddar fig and jam and candied walnuts on toast special aged cheddar fig and jam and candied walnuts on toast special\n",
      "['jam', 'toast', 'walnuts']\n",
      "\n",
      "Orange Brioche\n",
      "orange brioche\n",
      "['orange brioche']\n",
      "\n",
      "This is the best shot of a terribly mottled cheesecake.Utter disappointment to buy a cake with the top already half peeled off. Also, hardly any cheese taste. A sugary aftertaste is all you get.\n",
      "this is the best shot of terribly mottled cheesecake utter disappointment to buy cake with the top already half peeled off also hardly any cheese taste sugary aftertaste is all you get\n",
      "['cheesecake']\n",
      "\n",
      "The Inside\n",
      "the inside\n",
      "[]\n",
      "\n",
      "Molten Lava Cake\n",
      "molten lava cake\n",
      "['molten lava cake']\n",
      "\n",
      "Pumpkin softserve with Matcha mochi balls $15 ^^!\n",
      "pumpkin softserve with matcha mochi balls\n",
      "['matcha', 'mochi', 'pumpkin']\n",
      "\n",
      "His Tea.His Tea. Her Coffee. Delayed gratification.\n",
      "his tea his tea her coffee delayed gratification\n",
      "['coffee', 'tea']\n",
      "\n",
      "Prata Craze\n",
      "prata craze\n",
      "['prata']\n",
      "\n",
      "Charcoal WafflesCharcoal waffles with earl grey lavender ice cream! Yummm this is so good! Tried the gourmet waffle but tasted a little bit bitter, probably cause of the chocolate drizzled on it.\n",
      "charcoal waffles charcoal waffles with earl grey lavender ice cream yummm this is so good tried the gourmet waffle but tasted little bit bitter probably cause of the chocolate drizzled on it\n",
      "['charcoal waffles', 'chocolate', 'earl grey lavender', 'ice cream', 'waffles with']\n",
      "\n",
      "Baked AlaskanLovely hole-in-the-wall place; friendliest servers; and superb food.\n",
      "baked alaskan lovely hole in the wall place friendliest servers and superb food\n",
      "[]\n",
      "\n",
      "Very Berry Croffle  $11Freshly baked Croffles served with salted caramel ice cream, fresh strawberries, blueberries & maple syrup\n",
      "very berry croffle freshly baked croffles served with salted caramel ice cream fresh strawberries blueberries and maple syrup\n",
      "['blueberries', 'maple syrup', 'salted caramel ice cream', 'strawberries', 'very berry']\n",
      "\n",
      "Pasta Al Fungi Creamy pesto with mushrooms.\n",
      "pasta al fungi creamy pesto with mushrooms\n",
      "['mushrooms', 'pasta al fungi', 'pesto']\n",
      "\n",
      "Super colorful rainbow cheese cake that tastes of skittles!#burpple\n",
      "super colorful rainbow cheese cake that tastes of skittles\n",
      "['rainbow cheese cake']\n",
      "\n",
      "Been awhile since I had peanut butter jelly this one was probably the best I've had.well done @artistrycafesg \n",
      "Rating over 5: \n",
      "been awhile since had peanut butter jelly this one was probably the best ve had well done rating over\n",
      "['peanut butter jelly', 'well done']\n",
      "\n",
      "Savory CrepesMust try, marche's food never let you down.\n",
      "savory crepes must try marche food never let you down\n",
      "[]\n",
      "\n",
      "Pork shabu kimchi ramen!Ajisen always the choice for good and economical ramen fix! #singapore #ramen #japanese #igsg #sgig #sgeats #sgfoodies #shabushabu #instagood #instadaily #igdaily #photography #photooftheday #japanesefood #foodporn #foodgasm #vscocam #vscofood #instafood #travel #travelgram #bbctravel #eathealthy #healthylifestyle #explore #Burpple #culture\n",
      "pork shabu kimchi ramen ajisen always the choice for good and economical ramen fix\n",
      "['kimchi ramen', 'pork shabu kimchi']\n",
      "\n",
      "#fuzel @fuzelapp #burpple #marina - company new year lunch 2015 :)\n",
      "company new year lunch\n",
      "[]\n",
      "\n",
      "Steamboat\n",
      "steamboat\n",
      "[]\n",
      "\n",
      "Yummy Japanese food!!So full \n",
      "yummy japanese food so full\n",
      "[]\n",
      "\n",
      "Pork Rice NoodleNoodles with lots of raw vegetables and bbq pork. Healthy and filling\n",
      "pork rice noodle noodles with lots of raw vegetables and bbq pork healthy and filling\n",
      "['noodles', 'pork rice', 'rice noodle', 'vegetables']\n",
      "\n"
     ]
    },
    {
     "data": {
      "text/plain": [
       "242662    None\n",
       "74846     None\n",
       "163155    None\n",
       "46430     None\n",
       "235333    None\n",
       "165023    None\n",
       "135319    None\n",
       "169967    None\n",
       "9050      None\n",
       "316692    None\n",
       "98829     None\n",
       "299469    None\n",
       "31960     None\n",
       "82631     None\n",
       "117142    None\n",
       "157777    None\n",
       "238480    None\n",
       "175095    None\n",
       "156187    None\n",
       "271053    None\n",
       "dtype: object"
      ]
     },
     "execution_count": 160,
     "metadata": {},
     "output_type": "execute_result"
    }
   ],
   "source": [
    "def print_info(line):\n",
    "    print line[\"title\"]+ line[\"body\"]\n",
    "    print line[\"clean_review\"]\n",
    "    print line[\"food_items\"]\n",
    "    print \"\"\n",
    "    \n",
    "df_sample.sample(20, random_state=2008).apply(print_info,axis=1)"
   ]
  },
  {
   "cell_type": "code",
   "execution_count": 161,
   "metadata": {},
   "outputs": [
    {
     "name": "stdout",
     "output_type": "stream",
     "text": [
      "number of unique food items itendtified: 27469\n"
     ]
    }
   ],
   "source": [
    "freq = f.count_freq(f.flatten(df_sample[\"food_items\"].tolist()))\n",
    "print \"number of unique food items itendtified: %d\"%len(freq)"
   ]
  },
  {
   "cell_type": "code",
   "execution_count": 162,
   "metadata": {},
   "outputs": [
    {
     "data": {
      "text/plain": [
       "[('coffee', 9807),\n",
       " ('meat', 6902),\n",
       " ('ice cream', 5983),\n",
       " ('rice', 5537),\n",
       " ('soup', 5145),\n",
       " ('egg', 4536),\n",
       " ('noodles', 4500),\n",
       " ('cake', 4016),\n",
       " ('cheese', 3925),\n",
       " ('pork', 3771)]"
      ]
     },
     "execution_count": 162,
     "metadata": {},
     "output_type": "execute_result"
    }
   ],
   "source": [
    "# most popular food items\n",
    "freq[:10]"
   ]
  },
  {
   "cell_type": "code",
   "execution_count": 163,
   "metadata": {},
   "outputs": [
    {
     "name": "stdout",
     "output_type": "stream",
     "text": [
      "number of multi-grams need to be substituted: 25241\n"
     ]
    }
   ],
   "source": [
    "# replace multi-gram token by unigram token\n",
    "ref_dict = {s[0]:s[0].replace(\" \", \"_\") for s in freq if len(s[0].split())>1}\n",
    "print \"number of multi-grams need to be substituted: %d\"%len(ref_dict)"
   ]
  },
  {
   "cell_type": "code",
   "execution_count": 164,
   "metadata": {},
   "outputs": [],
   "source": [
    "def replace_food(s, _ref_dict = ref_dict):\n",
    "    s = \" \"+ s +\" \"\n",
    "    for k, v in _ref_dict.items():\n",
    "        s = s.replace(\" \"+k+\" \", \" \"+v+\" \")\n",
    "    return s.strip()\n",
    "df_sample[\"review_food\"] = df_sample[\"clean_review\"].apply(replace_food)"
   ]
  },
  {
   "cell_type": "code",
   "execution_count": 165,
   "metadata": {},
   "outputs": [
    {
     "name": "stdout",
     "output_type": "stream",
     "text": [
      "(323104, 13)\n",
      "['loc', 'title', 'body', 'restaurant.name', 'review_text', 'hashtags', 'mentions', 'dollars', 'scores', 'urls', 'clean_review', 'food_items', 'review_food']\n"
     ]
    },
    {
     "data": {
      "text/html": [
       "<div>\n",
       "<style scoped>\n",
       "    .dataframe tbody tr th:only-of-type {\n",
       "        vertical-align: middle;\n",
       "    }\n",
       "\n",
       "    .dataframe tbody tr th {\n",
       "        vertical-align: top;\n",
       "    }\n",
       "\n",
       "    .dataframe thead th {\n",
       "        text-align: right;\n",
       "    }\n",
       "</style>\n",
       "<table border=\"1\" class=\"dataframe\">\n",
       "  <thead>\n",
       "    <tr style=\"text-align: right;\">\n",
       "      <th></th>\n",
       "      <th>loc</th>\n",
       "      <th>title</th>\n",
       "      <th>body</th>\n",
       "      <th>restaurant.name</th>\n",
       "      <th>review_text</th>\n",
       "      <th>hashtags</th>\n",
       "      <th>mentions</th>\n",
       "      <th>dollars</th>\n",
       "      <th>scores</th>\n",
       "      <th>urls</th>\n",
       "      <th>clean_review</th>\n",
       "      <th>food_items</th>\n",
       "      <th>review_food</th>\n",
       "    </tr>\n",
       "  </thead>\n",
       "  <tbody>\n",
       "    <tr>\n",
       "      <th>242662</th>\n",
       "      <td>burppleinitial/review/jnF_zvaY</td>\n",
       "      <td>Aged Cheddar, Fig &amp; #Cognac Jam and Candied Wa...</td>\n",
       "      <td>Aged Cheddar, Fig &amp; #Cognac Jam and Candied Wa...</td>\n",
       "      <td>The Humble Loaf</td>\n",
       "      <td>Aged Cheddar, Fig and Jam and Candied Walnuts ...</td>\n",
       "      <td>(#Cognac, #lunch, #weekend, #Cognac, #lunch, #...</td>\n",
       "      <td>()</td>\n",
       "      <td>()</td>\n",
       "      <td>()</td>\n",
       "      <td>()</td>\n",
       "      <td>aged cheddar fig and jam and candied walnuts o...</td>\n",
       "      <td>[jam, toast, walnuts]</td>\n",
       "      <td>aged cheddar fig and jam and candied walnuts o...</td>\n",
       "    </tr>\n",
       "    <tr>\n",
       "      <th>74846</th>\n",
       "      <td>burppleinitial/review/CzDetUln</td>\n",
       "      <td>Orange Brioche</td>\n",
       "      <td></td>\n",
       "      <td>Artisan Boulangerie Co. (Great World City)</td>\n",
       "      <td>Orange Brioche</td>\n",
       "      <td>()</td>\n",
       "      <td>()</td>\n",
       "      <td>()</td>\n",
       "      <td>()</td>\n",
       "      <td>()</td>\n",
       "      <td>orange brioche</td>\n",
       "      <td>[orange brioche]</td>\n",
       "      <td>orange_brioche</td>\n",
       "    </tr>\n",
       "  </tbody>\n",
       "</table>\n",
       "</div>"
      ],
      "text/plain": [
       "                                   loc  \\\n",
       "242662  burppleinitial/review/jnF_zvaY   \n",
       "74846   burppleinitial/review/CzDetUln   \n",
       "\n",
       "                                                    title  \\\n",
       "242662  Aged Cheddar, Fig & #Cognac Jam and Candied Wa...   \n",
       "74846                                      Orange Brioche   \n",
       "\n",
       "                                                     body  \\\n",
       "242662  Aged Cheddar, Fig & #Cognac Jam and Candied Wa...   \n",
       "74846                                                       \n",
       "\n",
       "                                   restaurant.name  \\\n",
       "242662                             The Humble Loaf   \n",
       "74846   Artisan Boulangerie Co. (Great World City)   \n",
       "\n",
       "                                              review_text  \\\n",
       "242662  Aged Cheddar, Fig and Jam and Candied Walnuts ...   \n",
       "74846                                      Orange Brioche   \n",
       "\n",
       "                                                 hashtags mentions dollars  \\\n",
       "242662  (#Cognac, #lunch, #weekend, #Cognac, #lunch, #...       ()      ()   \n",
       "74846                                                  ()       ()      ()   \n",
       "\n",
       "       scores urls                                       clean_review  \\\n",
       "242662     ()   ()  aged cheddar fig and jam and candied walnuts o...   \n",
       "74846      ()   ()                                     orange brioche   \n",
       "\n",
       "                   food_items  \\\n",
       "242662  [jam, toast, walnuts]   \n",
       "74846        [orange brioche]   \n",
       "\n",
       "                                              review_food  \n",
       "242662  aged cheddar fig and jam and candied walnuts o...  \n",
       "74846                                      orange_brioche  "
      ]
     },
     "execution_count": 165,
     "metadata": {},
     "output_type": "execute_result"
    }
   ],
   "source": [
    "print df_sample.shape\n",
    "print df_sample.columns.tolist()\n",
    "df_sample.sample(2, random_state=2008)"
   ]
  },
  {
   "cell_type": "code",
   "execution_count": 166,
   "metadata": {},
   "outputs": [
    {
     "name": "stdout",
     "output_type": "stream",
     "text": [
      "12 training epochs so far.\n",
      "33,060 terms in the food2vec vocabulary.\n",
      "CPU times: user 1h 41min 20s, sys: 23.4 s, total: 1h 41min 43s\n",
      "Wall time: 25min 34s\n"
     ]
    }
   ],
   "source": [
    "%%time\n",
    "from gensim.models import Word2Vec\n",
    "sentences = [l.split() for l in df_sample[\"review_food\"].tolist()]\n",
    "word2vec_filepath = os.path.join(os.getcwd(), 'word2vec_model_review')\n",
    "\n",
    "# train the model, Commonly, used min_count=20, ,use min_count=1 to find spelling errors\n",
    "if 1==1:\n",
    "    # initiate the model and perform the first epoch of training\n",
    "    food2vec = Word2Vec(sentences, size=300, window=5,\n",
    "                        min_count=5, sg=1, workers=4)\n",
    "    food2vec.save(word2vec_filepath)\n",
    "    # perform another 11 epochs of training\n",
    "    for i in range(1,12):\n",
    "        food2vec.train(sentences)\n",
    "        food2vec.save(word2vec_filepath)\n",
    "        \n",
    "# load the finished model from disk\n",
    "food2vec = Word2Vec.load(word2vec_filepath)\n",
    "food2vec.init_sims()\n",
    "\n",
    "print u'{} training epochs so far.'.format(food2vec.train_count)\n",
    "print u'{:,} terms in the food2vec vocabulary.'.format(len(food2vec.vocab))"
   ]
  },
  {
   "cell_type": "code",
   "execution_count": 167,
   "metadata": {
    "collapsed": true
   },
   "outputs": [],
   "source": [
    "# build a dictionary of terms and term counts from the food2vec model vocabulary\n",
    "vocab_freq = {term:voc.count for term, voc in food2vec.vocab.iteritems()}\n",
    "# build a list of the terms, integer indices,\n",
    "# and term counts from the food2vec model vocabulary\n",
    "import pandas as pd\n",
    "ordered_vocab = [(term, voc.index, voc.count) for term, voc in food2vec.vocab.iteritems()]\n",
    "# sort by the term counts, so the most common terms appear first\n",
    "ordered_vocab = sorted(ordered_vocab, key=lambda (term, index, count): -count)\n",
    "# unzip the terms, integer indices, and counts into separate lists\n",
    "ordered_terms, term_indices, term_counts = zip(*ordered_vocab)\n",
    "# create a DataFrame with the food2vec vectors as data, and the terms as row labels\n",
    "word_vectors = pd.DataFrame(food2vec.syn0norm[term_indices, :],index=ordered_terms)\n",
    "# select a subset of words considered for pairs\n",
    "all_words = list(word_vectors.index)"
   ]
  },
  {
   "cell_type": "code",
   "execution_count": 170,
   "metadata": {},
   "outputs": [
    {
     "name": "stdout",
     "output_type": "stream",
     "text": [
      "number of food items: 1667\n"
     ]
    }
   ],
   "source": [
    "# only food items\n",
    "selected = (set(food_items)-set(rmv))\n",
    "word_subset = [ w for w in all_words if w in selected]\n",
    "print \"number of food items: %d\"%len(word_subset)"
   ]
  },
  {
   "cell_type": "code",
   "execution_count": 171,
   "metadata": {},
   "outputs": [
    {
     "data": {
      "text/plain": [
       "(1667, 1667)"
      ]
     },
     "execution_count": 171,
     "metadata": {},
     "output_type": "execute_result"
    }
   ],
   "source": [
    "# SIMILARITY MATRIX of food items only\n",
    "# selecting only food items\n",
    "cols = word_vectors.columns.tolist()\n",
    "word_vectors[\"token\"] = word_vectors.index\n",
    "word_vectors = word_vectors[word_vectors[\"token\"].isin(word_subset)]\n",
    "word_vectors = word_vectors[cols]\n",
    "# get similarity matrix\n",
    "from sklearn.metrics.pairwise import cosine_similarity\n",
    "sims = cosine_similarity(word_vectors.values.tolist())\n",
    "df_sims = pd.DataFrame(sims, index=word_vectors.index, columns=word_vectors.index)\n",
    "df_sims.shape"
   ]
  },
  {
   "cell_type": "markdown",
   "metadata": {},
   "source": [
    "** print some most similar food items **"
   ]
  },
  {
   "cell_type": "code",
   "execution_count": 172,
   "metadata": {},
   "outputs": [],
   "source": [
    "def get_related_terms(token, topn=10):\n",
    "    \"\"\"\n",
    "    look up the topn most similar terms to token and print them as a formatted list\n",
    "    \"\"\"\n",
    "    vals = df_sims[token]\n",
    "    ranks = vals.rank(ascending=False) \n",
    "    most_sim = sorted(list(df_sims[token].to_dict().items()),key=lambda x:-x[1]) \n",
    "    most_sim = [s for s in most_sim if s[0]!=token]\n",
    "    for word, similarity in most_sim[:topn]:\n",
    "        print u'{:20} {}'.format(word, round(similarity, 3))"
   ]
  },
  {
   "cell_type": "code",
   "execution_count": 173,
   "metadata": {},
   "outputs": [
    {
     "name": "stdout",
     "output_type": "stream",
     "text": [
      "coffee\n",
      "espresso             0.481\n",
      "latte                0.477\n",
      "cappuccino           0.472\n",
      "coffees              0.451\n",
      "kopi                 0.445\n",
      "santino              0.441\n",
      "aeropress            0.441\n",
      "mocha                0.424\n",
      "supremo              0.409\n",
      "piccolo              0.399\n",
      "None\n"
     ]
    }
   ],
   "source": [
    "i = 0\n",
    "print word_subset[i]\n",
    "print get_related_terms(word_subset[i], topn=10)"
   ]
  },
  {
   "cell_type": "code",
   "execution_count": 174,
   "metadata": {},
   "outputs": [
    {
     "name": "stdout",
     "output_type": "stream",
     "text": [
      "rice\n",
      "grains               0.436\n",
      "cabbage              0.358\n",
      "zosui                0.343\n",
      "dhal                 0.331\n",
      "tonjiru              0.33\n",
      "quinoa               0.329\n",
      "noodle               0.327\n",
      "cabbages             0.326\n",
      "noodles              0.324\n",
      "barley               0.322\n",
      "None\n"
     ]
    }
   ],
   "source": [
    "i = i+1\n",
    "print word_subset[i]\n",
    "print get_related_terms(word_subset[i], topn=10)"
   ]
  },
  {
   "cell_type": "code",
   "execution_count": 175,
   "metadata": {},
   "outputs": [
    {
     "name": "stdout",
     "output_type": "stream",
     "text": [
      "cake\n",
      "cakes                0.581\n",
      "cheesecake           0.499\n",
      "tart                 0.468\n",
      "cupcake              0.43\n",
      "chocolate            0.411\n",
      "cookie               0.407\n",
      "cupcakes             0.403\n",
      "hummingbird          0.387\n",
      "strawberry           0.373\n",
      "tiramisu             0.365\n",
      "None\n"
     ]
    }
   ],
   "source": [
    "i = i+1\n",
    "print word_subset[i]\n",
    "print get_related_terms(word_subset[i], topn=10)"
   ]
  },
  {
   "cell_type": "markdown",
   "metadata": {},
   "source": [
    "** get N most dissimilar food item pairs **"
   ]
  },
  {
   "cell_type": "code",
   "execution_count": 232,
   "metadata": {},
   "outputs": [
    {
     "name": "stdout",
     "output_type": "stream",
     "text": [
      "retrived: all_food_vendor__lemma__20180314.p\n",
      "range of similarity among pairs: -0.2005 to -0.0576\n"
     ]
    },
    {
     "data": {
      "text/html": [
       "<div>\n",
       "<style scoped>\n",
       "    .dataframe tbody tr th:only-of-type {\n",
       "        vertical-align: middle;\n",
       "    }\n",
       "\n",
       "    .dataframe tbody tr th {\n",
       "        vertical-align: top;\n",
       "    }\n",
       "\n",
       "    .dataframe thead th {\n",
       "        text-align: right;\n",
       "    }\n",
       "</style>\n",
       "<table border=\"1\" class=\"dataframe\">\n",
       "  <thead>\n",
       "    <tr style=\"text-align: right;\">\n",
       "      <th></th>\n",
       "      <th>food_0</th>\n",
       "      <th>food_1</th>\n",
       "      <th>sim_score</th>\n",
       "      <th>IS_SAME</th>\n",
       "    </tr>\n",
       "  </thead>\n",
       "  <tbody>\n",
       "    <tr>\n",
       "      <th>2043291</th>\n",
       "      <td>P-Granchio</td>\n",
       "      <td>Pretzella</td>\n",
       "      <td>-0.079352</td>\n",
       "      <td>0</td>\n",
       "    </tr>\n",
       "    <tr>\n",
       "      <th>32280</th>\n",
       "      <td>Roti</td>\n",
       "      <td>W4 Seafood</td>\n",
       "      <td>-0.076308</td>\n",
       "      <td>0</td>\n",
       "    </tr>\n",
       "    <tr>\n",
       "      <th>1699786</th>\n",
       "      <td>Limoncello</td>\n",
       "      <td>Natto</td>\n",
       "      <td>-0.087547</td>\n",
       "      <td>0</td>\n",
       "    </tr>\n",
       "    <tr>\n",
       "      <th>657783</th>\n",
       "      <td>Mac 12</td>\n",
       "      <td>Tilapia</td>\n",
       "      <td>-0.068403</td>\n",
       "      <td>0</td>\n",
       "    </tr>\n",
       "    <tr>\n",
       "      <th>2518990</th>\n",
       "      <td>Pav</td>\n",
       "      <td>VG3. Spinach</td>\n",
       "      <td>-0.079520</td>\n",
       "      <td>0</td>\n",
       "    </tr>\n",
       "  </tbody>\n",
       "</table>\n",
       "</div>"
      ],
      "text/plain": [
       "              food_0        food_1  sim_score  IS_SAME\n",
       "2043291  P-Granchio      Pretzella  -0.079352        0\n",
       "32280           Roti    W4 Seafood  -0.076308        0\n",
       "1699786   Limoncello        Natto   -0.087547        0\n",
       "657783        Mac 12      Tilapia   -0.068403        0\n",
       "2518990          Pav  VG3. Spinach  -0.079520        0"
      ]
     },
     "execution_count": 232,
     "metadata": {},
     "output_type": "execute_result"
    }
   ],
   "source": [
    "num_selected = 10000\n",
    "selected = df_sims.stack().reset_index().nsmallest(3*num_selected, 0, keep=\"first\")\n",
    "col = \"sim_score\"\n",
    "selected.columns = [\"food_0\", \"food_1\", col]\n",
    "# food_name_ref - clean_name - manu_name-=\n",
    "file_name = \"all_food_vendor__lemma__20180314.p\"\n",
    "food_df = f.retrive_file(file_name)\n",
    "food_name_ref = food_df.set_index(\"clean_name\").to_dict()[\"food_name\"]\n",
    "# selected ma\n",
    "def pair_to_list(line):\n",
    "    p = sorted([line[\"food_0\"], line[\"food_1\"]])\n",
    "    return tuple([food_name_ref[s] for s in p])\n",
    "selected[\"food_0\"], selected[\"food_1\"] = zip(*selected.apply(pair_to_list, axis=1))\n",
    "selected = selected.nsmallest(num_selected, col, keep=\"first\")\n",
    "# define them as pairs of different entities\n",
    "selected[\"IS_SAME\"] = 0\n",
    "print \"range of similarity among pairs: %.4f to %.4f\" %(min(selected[col]), \n",
    "                                                       max(selected[col]))\n",
    "\n",
    "selected.sample(5, random_state=2008)"
   ]
  },
  {
   "cell_type": "code",
   "execution_count": 233,
   "metadata": {
    "collapsed": true
   },
   "outputs": [],
   "source": [
    "file_name = \"002_entity matching_food_test_case_\"+f.today()+\".csv\"\n",
    "selected.to_csv(file_name, index=False)"
   ]
  },
  {
   "cell_type": "code",
   "execution_count": null,
   "metadata": {
    "collapsed": true
   },
   "outputs": [],
   "source": []
  }
 ],
 "metadata": {
  "kernelspec": {
   "display_name": "Python 2",
   "language": "python",
   "name": "python2"
  },
  "language_info": {
   "codemirror_mode": {
    "name": "ipython",
    "version": 2
   },
   "file_extension": ".py",
   "mimetype": "text/x-python",
   "name": "python",
   "nbconvert_exporter": "python",
   "pygments_lexer": "ipython2",
   "version": "2.7.14"
  }
 },
 "nbformat": 4,
 "nbformat_minor": 2
}
