{
 "cells": [
  {
   "cell_type": "markdown",
   "metadata": {},
   "source": [
    "# Food synset entities\n"
   ]
  },
  {
   "cell_type": "markdown",
   "metadata": {},
   "source": [
    "### Summary \n",
    "105218 food entities"
   ]
  },
  {
   "cell_type": "code",
   "execution_count": 1,
   "metadata": {
    "collapsed": true
   },
   "outputs": [],
   "source": [
    "from datetime import datetime\n",
    "startTime = datetime.now()"
   ]
  },
  {
   "cell_type": "code",
   "execution_count": 2,
   "metadata": {},
   "outputs": [
    {
     "data": {
      "text/plain": [
       "'20180409'"
      ]
     },
     "execution_count": 2,
     "metadata": {},
     "output_type": "execute_result"
    }
   ],
   "source": [
    "%load_ext autotime\n",
    "%load_ext autoreload\n",
    "%autoreload 2\n",
    "import myfunctions as f\n",
    "f.today()"
   ]
  },
  {
   "cell_type": "code",
   "execution_count": 3,
   "metadata": {},
   "outputs": [
    {
     "name": "stdout",
     "output_type": "stream",
     "text": [
      "system_info: 2.7.14 |Anaconda custom (64-bit)| (default, Oct 27 2017, 18:21:12) \n",
      "[GCC 7.2.0]\n",
      "path_info: /home/yueliu/Desktop/workspace_yue/Documentation_201712\n",
      "time: 14.1 ms\n"
     ]
    }
   ],
   "source": [
    "import sys\n",
    "print \"system_info: %s\"%sys.version\n",
    "# current working directory\n",
    "import os\n",
    "print \"path_info: %s\"%os.getcwd()  "
   ]
  },
  {
   "cell_type": "markdown",
   "metadata": {},
   "source": [
    "** current food synset **"
   ]
  },
  {
   "cell_type": "code",
   "execution_count": 4,
   "metadata": {},
   "outputs": [
    {
     "name": "stdout",
     "output_type": "stream",
     "text": [
      "retrived: food_entities__20180409.p\n",
      "time: 36.8 s\n"
     ]
    }
   ],
   "source": [
    "file_name = \"food_entities__20180409.p\"\n",
    "df_retrived = f.retrive_file(file_name)"
   ]
  },
  {
   "cell_type": "code",
   "execution_count": 5,
   "metadata": {},
   "outputs": [
    {
     "name": "stdout",
     "output_type": "stream",
     "text": [
      "Got 143973 food records\n",
      "Got 143973 unique food items \n",
      "['clean_name', 'loc', 'food_name', 'timestamp', 'price', 'vendors', 'tag', 'desc']\n",
      "time: 55.6 ms\n"
     ]
    }
   ],
   "source": [
    "print (\"Got %d food records\" % df_retrived.shape[0])\n",
    "print (\"Got %d unique food items \" % df_retrived[\"clean_name\"].nunique())\n",
    "print df_retrived.columns.tolist()"
   ]
  },
  {
   "cell_type": "code",
   "execution_count": 6,
   "metadata": {},
   "outputs": [
    {
     "data": {
      "text/html": [
       "<div>\n",
       "<style scoped>\n",
       "    .dataframe tbody tr th:only-of-type {\n",
       "        vertical-align: middle;\n",
       "    }\n",
       "\n",
       "    .dataframe tbody tr th {\n",
       "        vertical-align: top;\n",
       "    }\n",
       "\n",
       "    .dataframe thead th {\n",
       "        text-align: right;\n",
       "    }\n",
       "</style>\n",
       "<table border=\"1\" class=\"dataframe\">\n",
       "  <thead>\n",
       "    <tr style=\"text-align: right;\">\n",
       "      <th></th>\n",
       "      <th>clean_name</th>\n",
       "      <th>loc</th>\n",
       "      <th>food_name</th>\n",
       "      <th>timestamp</th>\n",
       "      <th>price</th>\n",
       "      <th>vendors</th>\n",
       "      <th>tag</th>\n",
       "      <th>desc</th>\n",
       "    </tr>\n",
       "    <tr>\n",
       "      <th>index</th>\n",
       "      <th></th>\n",
       "      <th></th>\n",
       "      <th></th>\n",
       "      <th></th>\n",
       "      <th></th>\n",
       "      <th></th>\n",
       "      <th></th>\n",
       "      <th></th>\n",
       "    </tr>\n",
       "  </thead>\n",
       "  <tbody>\n",
       "    <tr>\n",
       "      <th>food_53819</th>\n",
       "      <td>grill pepper chicken</td>\n",
       "      <td>[foodpanda/menu_item/10850, foodpanda/menu_ite...</td>\n",
       "      <td>[(W48. Grill Pepper Chicken, 82)]</td>\n",
       "      <td>[2017-07-11 01:13:18.670689, 2017-07-15 00:25:...</td>\n",
       "      <td>(9.63, 9.63, 9.63, 9.63, 9.63, 9.63, 9.63, 9.6...</td>\n",
       "      <td>[delivery_202]</td>\n",
       "      <td>[Western]</td>\n",
       "      <td>[nan, Default]</td>\n",
       "    </tr>\n",
       "    <tr>\n",
       "      <th>food_131936</th>\n",
       "      <td>the roots</td>\n",
       "      <td>[deliveroo/food/26634, deliveroo/food/AV06vmHe...</td>\n",
       "      <td>[(The Roots, 10)]</td>\n",
       "      <td>[2017-07-03T17:55:01.668428, 2017-07-13T14:37:...</td>\n",
       "      <td>(16.05, 16.05, 16.05, 16.05, 16.05, 16.05, 16....</td>\n",
       "      <td>[delivery_6137, delivery_6138]</td>\n",
       "      <td>[Burgers, Burgers ]</td>\n",
       "      <td>[Seasonal vegetables, cheese fritter, coleslaw...</td>\n",
       "    </tr>\n",
       "  </tbody>\n",
       "</table>\n",
       "</div>"
      ],
      "text/plain": [
       "                       clean_name  \\\n",
       "index                               \n",
       "food_53819   grill pepper chicken   \n",
       "food_131936             the roots   \n",
       "\n",
       "                                                           loc  \\\n",
       "index                                                            \n",
       "food_53819   [foodpanda/menu_item/10850, foodpanda/menu_ite...   \n",
       "food_131936  [deliveroo/food/26634, deliveroo/food/AV06vmHe...   \n",
       "\n",
       "                                     food_name  \\\n",
       "index                                            \n",
       "food_53819   [(W48. Grill Pepper Chicken, 82)]   \n",
       "food_131936                  [(The Roots, 10)]   \n",
       "\n",
       "                                                     timestamp  \\\n",
       "index                                                            \n",
       "food_53819   [2017-07-11 01:13:18.670689, 2017-07-15 00:25:...   \n",
       "food_131936  [2017-07-03T17:55:01.668428, 2017-07-13T14:37:...   \n",
       "\n",
       "                                                         price  \\\n",
       "index                                                            \n",
       "food_53819   (9.63, 9.63, 9.63, 9.63, 9.63, 9.63, 9.63, 9.6...   \n",
       "food_131936  (16.05, 16.05, 16.05, 16.05, 16.05, 16.05, 16....   \n",
       "\n",
       "                                    vendors                  tag  \\\n",
       "index                                                              \n",
       "food_53819                   [delivery_202]            [Western]   \n",
       "food_131936  [delivery_6137, delivery_6138]  [Burgers, Burgers ]   \n",
       "\n",
       "                                                          desc  \n",
       "index                                                           \n",
       "food_53819                                      [nan, Default]  \n",
       "food_131936  [Seasonal vegetables, cheese fritter, coleslaw...  "
      ]
     },
     "execution_count": 6,
     "metadata": {},
     "output_type": "execute_result"
    },
    {
     "name": "stdout",
     "output_type": "stream",
     "text": [
      "time: 118 ms\n"
     ]
    }
   ],
   "source": [
    "df_retrived.sample(2, random_state=2008)"
   ]
  },
  {
   "cell_type": "markdown",
   "metadata": {},
   "source": [
    "** entity linking by lemmatization **"
   ]
  },
  {
   "cell_type": "code",
   "execution_count": 9,
   "metadata": {},
   "outputs": [
    {
     "name": "stdout",
     "output_type": "stream",
     "text": [
      "time: 2.05 s\n"
     ]
    }
   ],
   "source": [
    "import spacy\n",
    "nlp = spacy.load('en_core_web_sm')\n",
    "def lemma_name(s):\n",
    "    return \" \".join([token.lemma_ for token in nlp(unicode(f.get_string(s), \"utf-8\"))])"
   ]
  },
  {
   "cell_type": "code",
   "execution_count": null,
   "metadata": {},
   "outputs": [],
   "source": [
    "if 1==1:\n",
    "    df_retrived[\"lemma_name\"] = df_retrived[\"clean_name\"].apply(lemma_name)\n",
    "    print (\"Got %d unique lemmatized name \" % df_retrived[\"lemma_name\"].nunique())"
   ]
  },
  {
   "cell_type": "code",
   "execution_count": null,
   "metadata": {},
   "outputs": [],
   "source": [
    "df_retrived.sample(2, random_state=2008)"
   ]
  },
  {
   "cell_type": "markdown",
   "metadata": {},
   "source": [
    "** entity linking by sim-hash **"
   ]
  },
  {
   "cell_type": "code",
   "execution_count": null,
   "metadata": {
    "collapsed": true
   },
   "outputs": [],
   "source": [
    "# warnings: big bucket found, len(dups) > 200, not affect results much\n",
    "import warnings\n",
    "warnings.filterwarnings('ignore')\n",
    "df = f.simhash_name(df_retrived, width=2, k =4, col=\"lemma_name\")\n",
    "#13min 37s"
   ]
  },
  {
   "cell_type": "code",
   "execution_count": null,
   "metadata": {},
   "outputs": [],
   "source": [
    "print (\"Got %d unique name \" % df_retrived[\"name\"].nunique())"
   ]
  },
  {
   "cell_type": "code",
   "execution_count": null,
   "metadata": {},
   "outputs": [],
   "source": [
    "df.sample(2, random_state=2008)"
   ]
  },
  {
   "cell_type": "markdown",
   "metadata": {},
   "source": [
    "** entity linking by removing unecessary words **"
   ]
  },
  {
   "cell_type": "code",
   "execution_count": null,
   "metadata": {
    "scrolled": true
   },
   "outputs": [],
   "source": [
    "# import file, longer words first\n",
    "file_name = \"words_to_remove_20180308.csv\"\n",
    "import pandas as pd\n",
    "rmv = pd.read_csv(file_name, header=None)[0].tolist()\n",
    "rmv.sort(key=lambda item: (-len(item), item))\n",
    "print \"number of words to remove: %d\"%len(rmv) "
   ]
  },
  {
   "cell_type": "code",
   "execution_count": null,
   "metadata": {},
   "outputs": [],
   "source": [
    "def shorten_name(name):\n",
    "    name = \" \" + name + \" \"\n",
    "    for s in rmv:\n",
    "        if \" \" + s + \" \" in name:\n",
    "            name = name.replace(\" \" + s + \" \", \" \")\n",
    "    return name.strip()\n",
    "df[\"assigned_name\"] = df[\"name\"].apply(shorten_name)\n",
    "df.reset_index(inplace=True)"
   ]
  },
  {
   "cell_type": "code",
   "execution_count": null,
   "metadata": {},
   "outputs": [],
   "source": [
    "print (\"Got %d unique short name \" % df[\"assigned_name\"].nunique())"
   ]
  },
  {
   "cell_type": "code",
   "execution_count": null,
   "metadata": {},
   "outputs": [],
   "source": [
    "df.sample(2, random_state=2008)"
   ]
  },
  {
   "cell_type": "code",
   "execution_count": null,
   "metadata": {},
   "outputs": [],
   "source": [
    "%%time\n",
    "# merge records based on name\n",
    "tup = lambda g: tuple(g)\n",
    "sort_tup= lambda g: sorted(f.flatten(g), key=lambda x:-x[-1])\n",
    "unq = lambda g:  sorted(list(set(g)))\n",
    "unq_enlist = lambda g:  sorted(list(set(f.flatten(g))))\n",
    "fn = {\"food_name\":sort_tup, \n",
    "      \"clean_name\":unq, \n",
    "      \"lemma_name\":unq,\n",
    "      \"vendors\":unq_enlist,  \n",
    "      \"loc\":unq_enlist, \n",
    "      \"timestamp\":unq_enlist, \n",
    "      \"price\":tup,\n",
    "      \"tag\":unq_enlist, \n",
    "      \"desc\":unq_enlist,\n",
    "      \"index\":tup\n",
    "     }\n",
    "df2 = df.groupby(\"assigned_name\").agg(fn)\n",
    "df2.reset_index(inplace=True)"
   ]
  },
  {
   "cell_type": "markdown",
   "metadata": {},
   "source": [
    "** select useful columns **"
   ]
  },
  {
   "cell_type": "code",
   "execution_count": null,
   "metadata": {
    "collapsed": true
   },
   "outputs": [],
   "source": [
    "df2.rename(columns={'clean_name': 'name_variants', \n",
    "                     'food_name':\"menu_name\",\n",
    "                     'index':'identification_index'}, inplace=True)\n",
    "cols = ['assigned_name', 'name_variants', 'menu_name',\n",
    "        'tag', 'price', 'desc','vendors', 'identification_index', 'loc','timestamp', \n",
    "        ]\n",
    "df2 = df2[cols]"
   ]
  },
  {
   "cell_type": "code",
   "execution_count": null,
   "metadata": {
    "collapsed": true
   },
   "outputs": [],
   "source": [
    "# get proper price\n",
    "import re\n",
    "import numpy as np\n",
    "def eval_price(price):\n",
    "    return [float(i) for i in re.findall(\"\\d+\\.\\d+\", str(price))]\n",
    "df2[\"price\"] = df2[\"price\"].apply(eval_price)\n",
    "def avg_price(lst):\n",
    "    return round(np.mean(lst),2)\n",
    "df2[\"price_average\"] = df2[\"price\"].apply(avg_price)"
   ]
  },
  {
   "cell_type": "markdown",
   "metadata": {},
   "source": [
    "** set index and save file**"
   ]
  },
  {
   "cell_type": "code",
   "execution_count": null,
   "metadata": {
    "collapsed": true
   },
   "outputs": [],
   "source": [
    "df2.reset_index(inplace=True)\n",
    "df2[\"index\"] = \"food_item_\" + df2[\"index\"].apply(str)\n",
    "df2.set_index(\"index\", inplace=True)"
   ]
  },
  {
   "cell_type": "code",
   "execution_count": null,
   "metadata": {},
   "outputs": [],
   "source": [
    "print df2.shape\n",
    "print df2.columns.tolist()\n",
    "df2.sample(2,random_state=2008*2)"
   ]
  },
  {
   "cell_type": "code",
   "execution_count": null,
   "metadata": {},
   "outputs": [],
   "source": [
    "## save to p file\n",
    "file_name = \"__\".join([\"food_entities\", f.today()]) + \".p\"\n",
    "f.save_file(df2, file_name)"
   ]
  },
  {
   "cell_type": "markdown",
   "metadata": {},
   "source": [
    "** public version **"
   ]
  },
  {
   "cell_type": "code",
   "execution_count": null,
   "metadata": {},
   "outputs": [],
   "source": [
    "public_cols = ['assigned_name', 'name_variants', 'price_average']\n",
    "## save to json\n",
    "file_name = \"__\".join([\"public_food_entities\", f.today()]) + \".json\"\n",
    "df2[public_cols].to_json(file_name, orient='index')\n",
    "print \"saved: %s\"%file_name"
   ]
  },
  {
   "cell_type": "code",
   "execution_count": null,
   "metadata": {
    "collapsed": true
   },
   "outputs": [],
   "source": [
    "# total time\n",
    "print datetime.now() - startTime "
   ]
  }
 ],
 "metadata": {
  "kernelspec": {
   "display_name": "Python 2",
   "language": "python",
   "name": "python2"
  },
  "language_info": {
   "codemirror_mode": {
    "name": "ipython",
    "version": 2
   },
   "file_extension": ".py",
   "mimetype": "text/x-python",
   "name": "python",
   "nbconvert_exporter": "python",
   "pygments_lexer": "ipython2",
   "version": "2.7.14"
  }
 },
 "nbformat": 4,
 "nbformat_minor": 2
}
