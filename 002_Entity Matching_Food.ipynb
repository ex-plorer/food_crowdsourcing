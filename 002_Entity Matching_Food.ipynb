{
 "cells": [
  {
   "cell_type": "markdown",
   "metadata": {},
   "source": [
    "# Food synset entities\n"
   ]
  },
  {
   "cell_type": "code",
   "execution_count": 10,
   "metadata": {},
   "outputs": [
    {
     "data": {
      "text/plain": [
       "'20180316'"
      ]
     },
     "execution_count": 10,
     "metadata": {},
     "output_type": "execute_result"
    }
   ],
   "source": [
    "import myfunctions as f\n",
    "f.today()"
   ]
  },
  {
   "cell_type": "code",
   "execution_count": 11,
   "metadata": {},
   "outputs": [
    {
     "name": "stdout",
     "output_type": "stream",
     "text": [
      "system_info: 2.7.14 |Anaconda custom (64-bit)| (default, Oct 27 2017, 18:21:12) \n",
      "[GCC 7.2.0]\n",
      "path_info: /home/yueliu/Desktop/workspace_yue/Documentation_201712\n"
     ]
    }
   ],
   "source": [
    "import sys\n",
    "print \"system_info: %s\"%sys.version\n",
    "# current working directory\n",
    "import os\n",
    "print \"path_info: %s\"%os.getcwd()  "
   ]
  },
  {
   "cell_type": "markdown",
   "metadata": {},
   "source": [
    "** current food synset **"
   ]
  },
  {
   "cell_type": "code",
   "execution_count": 12,
   "metadata": {},
   "outputs": [
    {
     "name": "stdout",
     "output_type": "stream",
     "text": [
      "retrived: food_entities__20180316.p\n"
     ]
    }
   ],
   "source": [
    "file_name = \"food_entities__20180316.p\"\n",
    "df_retrived = f.retrive_file(file_name)"
   ]
  },
  {
   "cell_type": "code",
   "execution_count": 13,
   "metadata": {},
   "outputs": [
    {
     "name": "stdout",
     "output_type": "stream",
     "text": [
      "Got 139780 food records\n",
      "Got 139780 unique food items \n",
      "['clean_name', 'loc', 'food_name', 'timestamp', 'price', 'vendors', 'tag', 'desc']\n"
     ]
    }
   ],
   "source": [
    "print (\"Got %d food records\" % df_retrived.shape[0])\n",
    "print (\"Got %d unique food items \" % df_retrived[\"clean_name\"].nunique())\n",
    "print df_retrived.columns.tolist()"
   ]
  },
  {
   "cell_type": "code",
   "execution_count": 15,
   "metadata": {},
   "outputs": [
    {
     "data": {
      "text/html": [
       "<div>\n",
       "<style scoped>\n",
       "    .dataframe tbody tr th:only-of-type {\n",
       "        vertical-align: middle;\n",
       "    }\n",
       "\n",
       "    .dataframe tbody tr th {\n",
       "        vertical-align: top;\n",
       "    }\n",
       "\n",
       "    .dataframe thead th {\n",
       "        text-align: right;\n",
       "    }\n",
       "</style>\n",
       "<table border=\"1\" class=\"dataframe\">\n",
       "  <thead>\n",
       "    <tr style=\"text-align: right;\">\n",
       "      <th></th>\n",
       "      <th>clean_name</th>\n",
       "      <th>loc</th>\n",
       "      <th>food_name</th>\n",
       "      <th>timestamp</th>\n",
       "      <th>price</th>\n",
       "      <th>vendors</th>\n",
       "      <th>tag</th>\n",
       "      <th>desc</th>\n",
       "    </tr>\n",
       "    <tr>\n",
       "      <th>index</th>\n",
       "      <th></th>\n",
       "      <th></th>\n",
       "      <th></th>\n",
       "      <th></th>\n",
       "      <th></th>\n",
       "      <th></th>\n",
       "      <th></th>\n",
       "      <th></th>\n",
       "    </tr>\n",
       "  </thead>\n",
       "  <tbody>\n",
       "    <tr>\n",
       "      <th>food_130659</th>\n",
       "      <td>toro cha shao persons</td>\n",
       "      <td>[deliveroo/food/19109, deliveroo/food/AV06uSiz...</td>\n",
       "      <td>[(Toro Cha Shao 2-3 persons, 5)]</td>\n",
       "      <td>[2017-07-03T17:55:01.668428, 2017-07-13T14:37:...</td>\n",
       "      <td>(16.5, 16.5, 16.5, 16.5, 16.5)</td>\n",
       "      <td>[delivery_5687]</td>\n",
       "      <td>[Chef's Recommendation Roast]</td>\n",
       "      <td>[]</td>\n",
       "    </tr>\n",
       "    <tr>\n",
       "      <th>food_127787</th>\n",
       "      <td>the guanyin</td>\n",
       "      <td>[deliveroo/food/AV2ZY3TUcSlXBuMN4ZOF, delivero...</td>\n",
       "      <td>[(The Guanyin, 172)]</td>\n",
       "      <td>[2017-08-01T00:00:04.909498, 2017-09-01 01:00:...</td>\n",
       "      <td>([{'price': 4.71, 'title': 'default'}], [{'pri...</td>\n",
       "      <td>[delivery_3921, delivery_3922, delivery_3923, ...</td>\n",
       "      <td>[Kopi - Teh, Kopi Teh, Kopi and Teh, Kopi-Teh,...</td>\n",
       "      <td>[, Currently sold out, Default, Per serving.]</td>\n",
       "    </tr>\n",
       "  </tbody>\n",
       "</table>\n",
       "</div>"
      ],
      "text/plain": [
       "                        clean_name  \\\n",
       "index                                \n",
       "food_130659  toro cha shao persons   \n",
       "food_127787            the guanyin   \n",
       "\n",
       "                                                           loc  \\\n",
       "index                                                            \n",
       "food_130659  [deliveroo/food/19109, deliveroo/food/AV06uSiz...   \n",
       "food_127787  [deliveroo/food/AV2ZY3TUcSlXBuMN4ZOF, delivero...   \n",
       "\n",
       "                                    food_name  \\\n",
       "index                                           \n",
       "food_130659  [(Toro Cha Shao 2-3 persons, 5)]   \n",
       "food_127787              [(The Guanyin, 172)]   \n",
       "\n",
       "                                                     timestamp  \\\n",
       "index                                                            \n",
       "food_130659  [2017-07-03T17:55:01.668428, 2017-07-13T14:37:...   \n",
       "food_127787  [2017-08-01T00:00:04.909498, 2017-09-01 01:00:...   \n",
       "\n",
       "                                                         price  \\\n",
       "index                                                            \n",
       "food_130659                     (16.5, 16.5, 16.5, 16.5, 16.5)   \n",
       "food_127787  ([{'price': 4.71, 'title': 'default'}], [{'pri...   \n",
       "\n",
       "                                                       vendors  \\\n",
       "index                                                            \n",
       "food_130659                                    [delivery_5687]   \n",
       "food_127787  [delivery_3921, delivery_3922, delivery_3923, ...   \n",
       "\n",
       "                                                           tag  \\\n",
       "index                                                            \n",
       "food_130659                      [Chef's Recommendation Roast]   \n",
       "food_127787  [Kopi - Teh, Kopi Teh, Kopi and Teh, Kopi-Teh,...   \n",
       "\n",
       "                                                      desc  \n",
       "index                                                       \n",
       "food_130659                                             []  \n",
       "food_127787  [, Currently sold out, Default, Per serving.]  "
      ]
     },
     "execution_count": 15,
     "metadata": {},
     "output_type": "execute_result"
    }
   ],
   "source": [
    "df_retrived.sample(2, random_state=2008)"
   ]
  },
  {
   "cell_type": "markdown",
   "metadata": {},
   "source": [
    "** entity linking by lemmatization **"
   ]
  },
  {
   "cell_type": "markdown",
   "metadata": {},
   "source": [
    ">parallel if possible"
   ]
  },
  {
   "cell_type": "code",
   "execution_count": null,
   "metadata": {},
   "outputs": [],
   "source": [
    "%%time\n",
    "df_retrived[\"lemma_name\"] = df_retrived[\"clean_name\"].apply(f.lemma_name)\n",
    "print (\"Got %d unique lemmatized name \" % df_retrived[\"lemma_name\"].nunique())"
   ]
  },
  {
   "cell_type": "code",
   "execution_count": null,
   "metadata": {},
   "outputs": [],
   "source": [
    "df_retrived.sample(2, random_state=2008)"
   ]
  },
  {
   "cell_type": "markdown",
   "metadata": {},
   "source": [
    "** entity linking by sim-hash **"
   ]
  },
  {
   "cell_type": "code",
   "execution_count": null,
   "metadata": {
    "collapsed": true
   },
   "outputs": [],
   "source": [
    "%%time\n",
    "df = f.simhash_name(df_retrived, width=2, k =4, col=\"lemma_name\")\n",
    "print (\"Got %d unique name \" % df_retrived[\"name\"].nunique())"
   ]
  },
  {
   "cell_type": "code",
   "execution_count": null,
   "metadata": {
    "collapsed": true
   },
   "outputs": [],
   "source": []
  },
  {
   "cell_type": "code",
   "execution_count": null,
   "metadata": {
    "collapsed": true
   },
   "outputs": [],
   "source": []
  },
  {
   "cell_type": "code",
   "execution_count": null,
   "metadata": {
    "collapsed": true
   },
   "outputs": [],
   "source": []
  },
  {
   "cell_type": "code",
   "execution_count": null,
   "metadata": {
    "collapsed": true
   },
   "outputs": [],
   "source": []
  },
  {
   "cell_type": "markdown",
   "metadata": {},
   "source": [
    "# Old script"
   ]
  },
  {
   "cell_type": "markdown",
   "metadata": {},
   "source": [
    "** group food items by names **"
   ]
  },
  {
   "cell_type": "code",
   "execution_count": 39,
   "metadata": {},
   "outputs": [
    {
     "name": "stdout",
     "output_type": "stream",
     "text": [
      "retrived: restaurant_entities__20180207.p\n"
     ]
    }
   ],
   "source": [
    "# selct columns for delivery records\n",
    "cols = ['standard_name', 'clean_name','food_name', 'vendor_name', 'locs', ]\n",
    "df = df_retrived[cols]\n",
    "# rename as cols in food synset\n",
    "col_names = [\"food_name\", \"synonyms\", \"menu_names\", \"restaurant\", \"locs\",  ]\n",
    "df.columns = col_names\n",
    "\n",
    "# merge records based on food_name\n",
    "tup = lambda g: tuple(g)\n",
    "unq = lambda g:  sorted(list(set(g)))\n",
    "enlist = lambda g:  [item[1] for sublist in g for item in sublist]\n",
    "fn = { \"synonyms\":unq, \"menu_names\":tup, \"restaurant\":unq, \"locs\":enlist}\n",
    "de2 = df.groupby(\"food_name\").agg(fn)\n",
    "de2.reset_index(inplace=True)\n",
    "de2[\"menu_names\"] = de2[\"menu_names\"].apply(lambda food_lst: \n",
    "                                            sorted([(x,food_lst.count(x)) for x in set(food_lst)\n",
    "                                                   ], key=lambda x: (-x[1], x)))\n",
    "de2.reset_index(inplace=True)\n",
    "de2[\"index\"] = de2[\"index\"].apply(lambda s: \"food_\"+ str(s))\n",
    "\n",
    "# map restaurants to their respective index, for restaurants from delivery sites only\n",
    "file_name = \"restaurant_entities__20180207.p\"\n",
    "restaurant_entities = f.retrive_file(file_name)\n",
    "restaurant_entities[\"type\"] = restaurant_entities[\"index\"].apply(lambda s: s.split(\"_\")[0])\n",
    "restaurant_entities = restaurant_entities[restaurant_entities[\"type\"]==\"delivery\"]\n",
    "restaurant_index_ref = restaurant_entities.set_index(\"restaurant.name\").to_dict()[\"index\"]\n",
    "de2[\"restaurant\"] = de2[\"restaurant\"].apply(lambda lst: \n",
    "                                            sorted([restaurant_index_ref[r] for r in lst]))"
   ]
  },
  {
   "cell_type": "code",
   "execution_count": 46,
   "metadata": {},
   "outputs": [
    {
     "data": {
      "text/html": [
       "<div>\n",
       "<style scoped>\n",
       "    .dataframe tbody tr th:only-of-type {\n",
       "        vertical-align: middle;\n",
       "    }\n",
       "\n",
       "    .dataframe tbody tr th {\n",
       "        vertical-align: top;\n",
       "    }\n",
       "\n",
       "    .dataframe thead th {\n",
       "        text-align: right;\n",
       "    }\n",
       "</style>\n",
       "<table border=\"1\" class=\"dataframe\">\n",
       "  <thead>\n",
       "    <tr style=\"text-align: right;\">\n",
       "      <th></th>\n",
       "      <th>index</th>\n",
       "      <th>food_name</th>\n",
       "      <th>locs</th>\n",
       "      <th>synonyms</th>\n",
       "      <th>menu_names</th>\n",
       "      <th>restaurant</th>\n",
       "    </tr>\n",
       "  </thead>\n",
       "  <tbody>\n",
       "    <tr>\n",
       "      <th>0</th>\n",
       "      <td>food_0</td>\n",
       "      <td>-PRON- ann</td>\n",
       "      <td>[deliveroo/food/68155, deliveroo/food/AV062oM7...</td>\n",
       "      <td>[em ann]</td>\n",
       "      <td>[(Em Ann M., 3)]</td>\n",
       "      <td>[delivery_3748, delivery_3749, delivery_3750]</td>\n",
       "    </tr>\n",
       "    <tr>\n",
       "      <th>1</th>\n",
       "      <td>food_1</td>\n",
       "      <td>-PRON- bai vege</td>\n",
       "      <td>[foodpanda/menu_item/AV44Ejd8W4PLiMnQOaiu, foo...</td>\n",
       "      <td>[you bai vege]</td>\n",
       "      <td>[(H6. You Bai Vege, 2)]</td>\n",
       "      <td>[delivery_221, delivery_222]</td>\n",
       "    </tr>\n",
       "  </tbody>\n",
       "</table>\n",
       "</div>"
      ],
      "text/plain": [
       "    index        food_name                                               locs  \\\n",
       "0  food_0       -PRON- ann  [deliveroo/food/68155, deliveroo/food/AV062oM7...   \n",
       "1  food_1  -PRON- bai vege  [foodpanda/menu_item/AV44Ejd8W4PLiMnQOaiu, foo...   \n",
       "\n",
       "         synonyms               menu_names  \\\n",
       "0        [em ann]         [(Em Ann M., 3)]   \n",
       "1  [you bai vege]  [(H6. You Bai Vege, 2)]   \n",
       "\n",
       "                                      restaurant  \n",
       "0  [delivery_3748, delivery_3749, delivery_3750]  \n",
       "1                   [delivery_221, delivery_222]  "
      ]
     },
     "execution_count": 46,
     "metadata": {},
     "output_type": "execute_result"
    }
   ],
   "source": [
    "de2.head(2)"
   ]
  },
  {
   "cell_type": "code",
   "execution_count": 37,
   "metadata": {},
   "outputs": [
    {
     "name": "stdout",
     "output_type": "stream",
     "text": [
      "Got 92298 unique food items \n"
     ]
    }
   ],
   "source": [
    "print (\"Got %d unique food items \" % de2[\"index\"].nunique())"
   ]
  },
  {
   "cell_type": "markdown",
   "metadata": {},
   "source": [
    "### From review"
   ]
  },
  {
   "cell_type": "code",
   "execution_count": 47,
   "metadata": {},
   "outputs": [
    {
     "name": "stdout",
     "output_type": "stream",
     "text": [
      "retrived: /home/yueliu/Desktop/workspace_yue/burpple__review__clean__20180205.p\n"
     ]
    }
   ],
   "source": [
    "review_path = \"/home/yueliu/Desktop/workspace_yue\"\n",
    "file_name = \"burpple__review__clean__20180205.p\"    \n",
    "file_name = os.path.join(review_path, file_name)\n",
    "df_retrived = f.retrive_file(file_name)\n",
    "\n",
    "import pandas as pd\n",
    "pd.options.mode.chained_assignment = None \n",
    "cols = ['loc', 'title', 'body', 'restaurant.name']\n",
    "rev = df_retrived[cols]\n",
    "sep = \"***____***\"\n",
    "rev[\"text\"] = rev[\"title\"] + sep + rev[\"body\"]\n",
    "rev.fillna(\"\", inplace=True)\n",
    "rev_loc_rest_ref = rev.set_index(\"loc\").to_dict()[\"restaurant.name\"]\n",
    "rev_loc_rev_ref = rev.set_index(\"loc\").to_dict()[\"text\"]"
   ]
  },
  {
   "cell_type": "code",
   "execution_count": 74,
   "metadata": {},
   "outputs": [
    {
     "name": "stdout",
     "output_type": "stream",
     "text": [
      "retrived: /home/yueliu/Desktop/workspace_yue/review_with_synsets__20180207.p\n"
     ]
    }
   ],
   "source": [
    "file_name = \"review_with_synsets__20180207.p\"\n",
    "file_name = os.path.join(review_path, file_name)\n",
    "loc_food = f.retrive_file(file_name)"
   ]
  },
  {
   "cell_type": "code",
   "execution_count": 101,
   "metadata": {},
   "outputs": [
    {
     "name": "stdout",
     "output_type": "stream",
     "text": [
      "retrived: restaurant_entities__20180207.p\n"
     ]
    }
   ],
   "source": [
    "# merge records based on food_name\n",
    "unq = lambda g:  sorted(list(set(g)))\n",
    "enlist = lambda g:  [item for sublist in g for item in sublist]\n",
    "fn = { \"standard_text\":unq, \"loc\":enlist}\n",
    "bu2 = loc_food.groupby(\"food_items\").agg(fn)\n",
    "bu2.reset_index(inplace=True)\n",
    "bu2[\"review.restaurant\"] = bu2[\"loc\"].apply(lambda lst: [rev_loc_rest_ref[l] for l in lst])\n",
    "bu2[\"review.text\"] = bu2[\"loc\"].apply(lambda lst: [rev_loc_rev_ref[l] for l in lst])\n",
    "bu2[\"review.image\"] = bu2[\"loc\"].apply(lambda lst: [l.split(\"/\")[-1] for l in lst])\n",
    "# map restaurants to their respective index, for restaurants from burpple only\n",
    "file_name = \"restaurant_entities__20180207.p\"\n",
    "restaurant_entities = f.retrive_file(file_name)\n",
    "restaurant_entities[\"type\"] = restaurant_entities[\"index\"].apply(lambda s: s.split(\"_\")[0])\n",
    "restaurant_entities = restaurant_entities[restaurant_entities[\"type\"]==\"burpple\"]\n",
    "restaurant_index_ref = restaurant_entities.set_index(\"restaurant.name\").to_dict()[\"index\"]\n",
    "# count number of reviews\n",
    "bu2[\"review.restaurant\"] = bu2[\"review.restaurant\"].apply(lambda lst: \n",
    "                                            sorted([restaurant_index_ref[r] for r in lst]))\n",
    "bu2[\"review.restaurant\"] = bu2[\"review.restaurant\"].apply(lambda lst: \n",
    "          sorted([(x,lst.count(x)) for x in set(lst)], key=lambda x: (-x[1], x)))\n",
    "\n",
    "bu2.rename(index=str, columns={\"food_items\": \"food_name\", \n",
    "                               \"loc\": \"review\", \n",
    "                               \"standard_text\": \"review.clean_text\"}, inplace=True)"
   ]
  },
  {
   "cell_type": "code",
   "execution_count": 102,
   "metadata": {},
   "outputs": [
    {
     "data": {
      "text/html": [
       "<div>\n",
       "<style scoped>\n",
       "    .dataframe tbody tr th:only-of-type {\n",
       "        vertical-align: middle;\n",
       "    }\n",
       "\n",
       "    .dataframe tbody tr th {\n",
       "        vertical-align: top;\n",
       "    }\n",
       "\n",
       "    .dataframe thead th {\n",
       "        text-align: right;\n",
       "    }\n",
       "</style>\n",
       "<table border=\"1\" class=\"dataframe\">\n",
       "  <thead>\n",
       "    <tr style=\"text-align: right;\">\n",
       "      <th></th>\n",
       "      <th>food_name</th>\n",
       "      <th>review</th>\n",
       "      <th>review.clean_text</th>\n",
       "      <th>review.restaurant</th>\n",
       "      <th>review.text</th>\n",
       "      <th>review.image</th>\n",
       "    </tr>\n",
       "  </thead>\n",
       "  <tbody>\n",
       "    <tr>\n",
       "      <th>0</th>\n",
       "      <td>-PRON- ann</td>\n",
       "      <td>[burppleinitial/review/vGui2G8q]</td>\n",
       "      <td>[maggie mee goreng from the rooftop at screeni...</td>\n",
       "      <td>[(burpple_12581, 1)]</td>\n",
       "      <td>[Maggi Mee Goreng from The Rooftop at Screenin...</td>\n",
       "      <td>[vGui2G8q]</td>\n",
       "    </tr>\n",
       "    <tr>\n",
       "      <th>1</th>\n",
       "      <td>-PRON- beef</td>\n",
       "      <td>[burppleinitial/review/XwPDjO8V, burppleinitia...</td>\n",
       "      <td>[-PRON- beef, -PRON- beef can understand why p...</td>\n",
       "      <td>[(burpple_8187, 28), (burpple_11792, 7), (burp...</td>\n",
       "      <td>[@juneleety and I finally used our beanstro vo...</td>\n",
       "      <td>[XwPDjO8V, AWWNXiyw, 9xOY4Zr5, heKHuAj5, 1m1CD...</td>\n",
       "    </tr>\n",
       "  </tbody>\n",
       "</table>\n",
       "</div>"
      ],
      "text/plain": [
       "     food_name                                             review  \\\n",
       "0   -PRON- ann                   [burppleinitial/review/vGui2G8q]   \n",
       "1  -PRON- beef  [burppleinitial/review/XwPDjO8V, burppleinitia...   \n",
       "\n",
       "                                   review.clean_text  \\\n",
       "0  [maggie mee goreng from the rooftop at screeni...   \n",
       "1  [-PRON- beef, -PRON- beef can understand why p...   \n",
       "\n",
       "                                   review.restaurant  \\\n",
       "0                               [(burpple_12581, 1)]   \n",
       "1  [(burpple_8187, 28), (burpple_11792, 7), (burp...   \n",
       "\n",
       "                                         review.text  \\\n",
       "0  [Maggi Mee Goreng from The Rooftop at Screenin...   \n",
       "1  [@juneleety and I finally used our beanstro vo...   \n",
       "\n",
       "                                        review.image  \n",
       "0                                         [vGui2G8q]  \n",
       "1  [XwPDjO8V, AWWNXiyw, 9xOY4Zr5, heKHuAj5, 1m1CD...  "
      ]
     },
     "execution_count": 102,
     "metadata": {},
     "output_type": "execute_result"
    }
   ],
   "source": [
    "bu2.head(2)"
   ]
  },
  {
   "cell_type": "markdown",
   "metadata": {},
   "source": [
    "### Join"
   ]
  },
  {
   "cell_type": "code",
   "execution_count": 103,
   "metadata": {},
   "outputs": [
    {
     "name": "stdout",
     "output_type": "stream",
     "text": [
      "(92298, 11)\n",
      "['index', 'food_name', 'locs', 'synonyms', 'menu_names', 'restaurant', 'review', 'review.clean_text', 'review.restaurant', 'review.text', 'review.image']\n"
     ]
    },
    {
     "data": {
      "text/html": [
       "<div>\n",
       "<style scoped>\n",
       "    .dataframe tbody tr th:only-of-type {\n",
       "        vertical-align: middle;\n",
       "    }\n",
       "\n",
       "    .dataframe tbody tr th {\n",
       "        vertical-align: top;\n",
       "    }\n",
       "\n",
       "    .dataframe thead th {\n",
       "        text-align: right;\n",
       "    }\n",
       "</style>\n",
       "<table border=\"1\" class=\"dataframe\">\n",
       "  <thead>\n",
       "    <tr style=\"text-align: right;\">\n",
       "      <th></th>\n",
       "      <th>index</th>\n",
       "      <th>food_name</th>\n",
       "      <th>locs</th>\n",
       "      <th>synonyms</th>\n",
       "      <th>menu_names</th>\n",
       "      <th>restaurant</th>\n",
       "      <th>review</th>\n",
       "      <th>review.clean_text</th>\n",
       "      <th>review.restaurant</th>\n",
       "      <th>review.text</th>\n",
       "      <th>review.image</th>\n",
       "    </tr>\n",
       "  </thead>\n",
       "  <tbody>\n",
       "    <tr>\n",
       "      <th>0</th>\n",
       "      <td>food_0</td>\n",
       "      <td>-PRON- ann</td>\n",
       "      <td>[deliveroo/food/68155, deliveroo/food/AV062oM7...</td>\n",
       "      <td>[em ann]</td>\n",
       "      <td>[(Em Ann M., 3)]</td>\n",
       "      <td>[delivery_3748, delivery_3749, delivery_3750]</td>\n",
       "      <td>[burppleinitial/review/vGui2G8q]</td>\n",
       "      <td>[maggie mee goreng from the rooftop at screeni...</td>\n",
       "      <td>[(burpple_12581, 1)]</td>\n",
       "      <td>[Maggi Mee Goreng from The Rooftop at Screenin...</td>\n",
       "      <td>[vGui2G8q]</td>\n",
       "    </tr>\n",
       "    <tr>\n",
       "      <th>1</th>\n",
       "      <td>food_1</td>\n",
       "      <td>-PRON- bai vege</td>\n",
       "      <td>[foodpanda/menu_item/AV44Ejd8W4PLiMnQOaiu, foo...</td>\n",
       "      <td>[you bai vege]</td>\n",
       "      <td>[(H6. You Bai Vege, 2)]</td>\n",
       "      <td>[delivery_221, delivery_222]</td>\n",
       "      <td>NaN</td>\n",
       "      <td>NaN</td>\n",
       "      <td>NaN</td>\n",
       "      <td>NaN</td>\n",
       "      <td>NaN</td>\n",
       "    </tr>\n",
       "  </tbody>\n",
       "</table>\n",
       "</div>"
      ],
      "text/plain": [
       "    index        food_name                                               locs  \\\n",
       "0  food_0       -PRON- ann  [deliveroo/food/68155, deliveroo/food/AV062oM7...   \n",
       "1  food_1  -PRON- bai vege  [foodpanda/menu_item/AV44Ejd8W4PLiMnQOaiu, foo...   \n",
       "\n",
       "         synonyms               menu_names  \\\n",
       "0        [em ann]         [(Em Ann M., 3)]   \n",
       "1  [you bai vege]  [(H6. You Bai Vege, 2)]   \n",
       "\n",
       "                                      restaurant  \\\n",
       "0  [delivery_3748, delivery_3749, delivery_3750]   \n",
       "1                   [delivery_221, delivery_222]   \n",
       "\n",
       "                             review  \\\n",
       "0  [burppleinitial/review/vGui2G8q]   \n",
       "1                               NaN   \n",
       "\n",
       "                                   review.clean_text     review.restaurant  \\\n",
       "0  [maggie mee goreng from the rooftop at screeni...  [(burpple_12581, 1)]   \n",
       "1                                                NaN                   NaN   \n",
       "\n",
       "                                         review.text review.image  \n",
       "0  [Maggi Mee Goreng from The Rooftop at Screenin...   [vGui2G8q]  \n",
       "1                                                NaN          NaN  "
      ]
     },
     "execution_count": 103,
     "metadata": {},
     "output_type": "execute_result"
    }
   ],
   "source": [
    "food_synset = pd.merge(de2, bu2, how='left', on=['food_name'])\n",
    "print food_synset.shape\n",
    "print food_synset.columns.tolist()\n",
    "food_synset.head(2)"
   ]
  },
  {
   "cell_type": "code",
   "execution_count": 104,
   "metadata": {},
   "outputs": [
    {
     "name": "stdout",
     "output_type": "stream",
     "text": [
      "saved: food_entities__20180208.p\n"
     ]
    }
   ],
   "source": [
    "file_name = \"__\".join([\"food_entities\", f.today()]) + \".p\"\n",
    "f.save_file(food_synset, file_name)"
   ]
  }
 ],
 "metadata": {
  "kernelspec": {
   "display_name": "Python 2",
   "language": "python",
   "name": "python2"
  },
  "language_info": {
   "codemirror_mode": {
    "name": "ipython",
    "version": 2
   },
   "file_extension": ".py",
   "mimetype": "text/x-python",
   "name": "python",
   "nbconvert_exporter": "python",
   "pygments_lexer": "ipython2",
   "version": "2.7.14"
  }
 },
 "nbformat": 4,
 "nbformat_minor": 2
}
