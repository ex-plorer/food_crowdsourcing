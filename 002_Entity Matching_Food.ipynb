{
 "cells": [
  {
   "cell_type": "markdown",
   "metadata": {},
   "source": [
    "# Food synset entities\n"
   ]
  },
  {
   "cell_type": "markdown",
   "metadata": {},
   "source": [
    "### Summary \n",
    "105218 food entities"
   ]
  },
  {
   "cell_type": "code",
   "execution_count": 1,
   "metadata": {},
   "outputs": [
    {
     "data": {
      "text/plain": [
       "'20180317'"
      ]
     },
     "execution_count": 1,
     "metadata": {},
     "output_type": "execute_result"
    }
   ],
   "source": [
    "%load_ext autoreload\n",
    "%autoreload 2\n",
    "import myfunctions as f\n",
    "f.today()"
   ]
  },
  {
   "cell_type": "code",
   "execution_count": 2,
   "metadata": {},
   "outputs": [
    {
     "name": "stdout",
     "output_type": "stream",
     "text": [
      "system_info: 2.7.14 |Anaconda custom (64-bit)| (default, Oct 27 2017, 18:21:12) \n",
      "[GCC 7.2.0]\n",
      "path_info: /home/yueliu/Desktop/workspace_yue/Documentation_201712\n"
     ]
    }
   ],
   "source": [
    "import sys\n",
    "print \"system_info: %s\"%sys.version\n",
    "# current working directory\n",
    "import os\n",
    "print \"path_info: %s\"%os.getcwd()  "
   ]
  },
  {
   "cell_type": "markdown",
   "metadata": {},
   "source": [
    "** current food synset **"
   ]
  },
  {
   "cell_type": "code",
   "execution_count": 3,
   "metadata": {},
   "outputs": [
    {
     "name": "stdout",
     "output_type": "stream",
     "text": [
      "retrived: food_entities__20180316.p\n"
     ]
    }
   ],
   "source": [
    "file_name = \"food_entities__20180316.p\"\n",
    "df_retrived = f.retrive_file(file_name)"
   ]
  },
  {
   "cell_type": "code",
   "execution_count": 4,
   "metadata": {},
   "outputs": [
    {
     "name": "stdout",
     "output_type": "stream",
     "text": [
      "Got 139780 food records\n",
      "Got 139780 unique food items \n",
      "['clean_name', 'loc', 'food_name', 'timestamp', 'price', 'vendors', 'tag', 'desc']\n"
     ]
    }
   ],
   "source": [
    "print (\"Got %d food records\" % df_retrived.shape[0])\n",
    "print (\"Got %d unique food items \" % df_retrived[\"clean_name\"].nunique())\n",
    "print df_retrived.columns.tolist()"
   ]
  },
  {
   "cell_type": "code",
   "execution_count": 5,
   "metadata": {},
   "outputs": [
    {
     "data": {
      "text/html": [
       "<div>\n",
       "<style scoped>\n",
       "    .dataframe tbody tr th:only-of-type {\n",
       "        vertical-align: middle;\n",
       "    }\n",
       "\n",
       "    .dataframe tbody tr th {\n",
       "        vertical-align: top;\n",
       "    }\n",
       "\n",
       "    .dataframe thead th {\n",
       "        text-align: right;\n",
       "    }\n",
       "</style>\n",
       "<table border=\"1\" class=\"dataframe\">\n",
       "  <thead>\n",
       "    <tr style=\"text-align: right;\">\n",
       "      <th></th>\n",
       "      <th>clean_name</th>\n",
       "      <th>loc</th>\n",
       "      <th>food_name</th>\n",
       "      <th>timestamp</th>\n",
       "      <th>price</th>\n",
       "      <th>vendors</th>\n",
       "      <th>tag</th>\n",
       "      <th>desc</th>\n",
       "    </tr>\n",
       "    <tr>\n",
       "      <th>index</th>\n",
       "      <th></th>\n",
       "      <th></th>\n",
       "      <th></th>\n",
       "      <th></th>\n",
       "      <th></th>\n",
       "      <th></th>\n",
       "      <th></th>\n",
       "      <th></th>\n",
       "    </tr>\n",
       "  </thead>\n",
       "  <tbody>\n",
       "    <tr>\n",
       "      <th>food_130659</th>\n",
       "      <td>toro cha shao persons</td>\n",
       "      <td>[deliveroo/food/19109, deliveroo/food/AV06uSiz...</td>\n",
       "      <td>[(Toro Cha Shao 2-3 persons, 5)]</td>\n",
       "      <td>[2017-07-03T17:55:01.668428, 2017-07-13T14:37:...</td>\n",
       "      <td>(16.5, 16.5, 16.5, 16.5, 16.5)</td>\n",
       "      <td>[delivery_5687]</td>\n",
       "      <td>[Chef's Recommendation Roast]</td>\n",
       "      <td>[]</td>\n",
       "    </tr>\n",
       "    <tr>\n",
       "      <th>food_127787</th>\n",
       "      <td>the guanyin</td>\n",
       "      <td>[deliveroo/food/AV2ZY3TUcSlXBuMN4ZOF, delivero...</td>\n",
       "      <td>[(The Guanyin, 172)]</td>\n",
       "      <td>[2017-08-01T00:00:04.909498, 2017-09-01 01:00:...</td>\n",
       "      <td>([{'price': 4.71, 'title': 'default'}], [{'pri...</td>\n",
       "      <td>[delivery_3921, delivery_3922, delivery_3923, ...</td>\n",
       "      <td>[Kopi - Teh, Kopi Teh, Kopi and Teh, Kopi-Teh,...</td>\n",
       "      <td>[, Currently sold out, Default, Per serving.]</td>\n",
       "    </tr>\n",
       "  </tbody>\n",
       "</table>\n",
       "</div>"
      ],
      "text/plain": [
       "                        clean_name  \\\n",
       "index                                \n",
       "food_130659  toro cha shao persons   \n",
       "food_127787            the guanyin   \n",
       "\n",
       "                                                           loc  \\\n",
       "index                                                            \n",
       "food_130659  [deliveroo/food/19109, deliveroo/food/AV06uSiz...   \n",
       "food_127787  [deliveroo/food/AV2ZY3TUcSlXBuMN4ZOF, delivero...   \n",
       "\n",
       "                                    food_name  \\\n",
       "index                                           \n",
       "food_130659  [(Toro Cha Shao 2-3 persons, 5)]   \n",
       "food_127787              [(The Guanyin, 172)]   \n",
       "\n",
       "                                                     timestamp  \\\n",
       "index                                                            \n",
       "food_130659  [2017-07-03T17:55:01.668428, 2017-07-13T14:37:...   \n",
       "food_127787  [2017-08-01T00:00:04.909498, 2017-09-01 01:00:...   \n",
       "\n",
       "                                                         price  \\\n",
       "index                                                            \n",
       "food_130659                     (16.5, 16.5, 16.5, 16.5, 16.5)   \n",
       "food_127787  ([{'price': 4.71, 'title': 'default'}], [{'pri...   \n",
       "\n",
       "                                                       vendors  \\\n",
       "index                                                            \n",
       "food_130659                                    [delivery_5687]   \n",
       "food_127787  [delivery_3921, delivery_3922, delivery_3923, ...   \n",
       "\n",
       "                                                           tag  \\\n",
       "index                                                            \n",
       "food_130659                      [Chef's Recommendation Roast]   \n",
       "food_127787  [Kopi - Teh, Kopi Teh, Kopi and Teh, Kopi-Teh,...   \n",
       "\n",
       "                                                      desc  \n",
       "index                                                       \n",
       "food_130659                                             []  \n",
       "food_127787  [, Currently sold out, Default, Per serving.]  "
      ]
     },
     "execution_count": 5,
     "metadata": {},
     "output_type": "execute_result"
    }
   ],
   "source": [
    "df_retrived.sample(2, random_state=2008)"
   ]
  },
  {
   "cell_type": "markdown",
   "metadata": {},
   "source": [
    "** entity linking by lemmatization **"
   ]
  },
  {
   "cell_type": "code",
   "execution_count": 7,
   "metadata": {
    "collapsed": true
   },
   "outputs": [],
   "source": [
    "import spacy\n",
    "nlp = spacy.load('en_core_web_sm')\n",
    "def lemma_name(s):\n",
    "    return \" \".join([token.lemma_ for token in nlp(unicode(s, \"utf-8\"))])"
   ]
  },
  {
   "cell_type": "code",
   "execution_count": 8,
   "metadata": {},
   "outputs": [
    {
     "name": "stdout",
     "output_type": "stream",
     "text": [
      "Got 136163 unique lemmatized name \n",
      "CPU times: user 41min 27s, sys: 2h 4min 20s, total: 2h 45min 47s\n",
      "Wall time: 23min 51s\n"
     ]
    }
   ],
   "source": [
    "%%time\n",
    "df_retrived[\"lemma_name\"] = df_retrived[\"clean_name\"].apply(lemma_name)\n",
    "print (\"Got %d unique lemmatized name \" % df_retrived[\"lemma_name\"].nunique())"
   ]
  },
  {
   "cell_type": "code",
   "execution_count": 9,
   "metadata": {},
   "outputs": [
    {
     "data": {
      "text/html": [
       "<div>\n",
       "<style scoped>\n",
       "    .dataframe tbody tr th:only-of-type {\n",
       "        vertical-align: middle;\n",
       "    }\n",
       "\n",
       "    .dataframe tbody tr th {\n",
       "        vertical-align: top;\n",
       "    }\n",
       "\n",
       "    .dataframe thead th {\n",
       "        text-align: right;\n",
       "    }\n",
       "</style>\n",
       "<table border=\"1\" class=\"dataframe\">\n",
       "  <thead>\n",
       "    <tr style=\"text-align: right;\">\n",
       "      <th></th>\n",
       "      <th>clean_name</th>\n",
       "      <th>loc</th>\n",
       "      <th>food_name</th>\n",
       "      <th>timestamp</th>\n",
       "      <th>price</th>\n",
       "      <th>vendors</th>\n",
       "      <th>tag</th>\n",
       "      <th>desc</th>\n",
       "      <th>lemma_name</th>\n",
       "    </tr>\n",
       "    <tr>\n",
       "      <th>index</th>\n",
       "      <th></th>\n",
       "      <th></th>\n",
       "      <th></th>\n",
       "      <th></th>\n",
       "      <th></th>\n",
       "      <th></th>\n",
       "      <th></th>\n",
       "      <th></th>\n",
       "      <th></th>\n",
       "    </tr>\n",
       "  </thead>\n",
       "  <tbody>\n",
       "    <tr>\n",
       "      <th>food_130659</th>\n",
       "      <td>toro cha shao persons</td>\n",
       "      <td>[deliveroo/food/19109, deliveroo/food/AV06uSiz...</td>\n",
       "      <td>[(Toro Cha Shao 2-3 persons, 5)]</td>\n",
       "      <td>[2017-07-03T17:55:01.668428, 2017-07-13T14:37:...</td>\n",
       "      <td>(16.5, 16.5, 16.5, 16.5, 16.5)</td>\n",
       "      <td>[delivery_5687]</td>\n",
       "      <td>[Chef's Recommendation Roast]</td>\n",
       "      <td>[]</td>\n",
       "      <td>toro cha shao person</td>\n",
       "    </tr>\n",
       "    <tr>\n",
       "      <th>food_127787</th>\n",
       "      <td>the guanyin</td>\n",
       "      <td>[deliveroo/food/AV2ZY3TUcSlXBuMN4ZOF, delivero...</td>\n",
       "      <td>[(The Guanyin, 172)]</td>\n",
       "      <td>[2017-08-01T00:00:04.909498, 2017-09-01 01:00:...</td>\n",
       "      <td>([{'price': 4.71, 'title': 'default'}], [{'pri...</td>\n",
       "      <td>[delivery_3921, delivery_3922, delivery_3923, ...</td>\n",
       "      <td>[Kopi - Teh, Kopi Teh, Kopi and Teh, Kopi-Teh,...</td>\n",
       "      <td>[, Currently sold out, Default, Per serving.]</td>\n",
       "      <td>the guanyin</td>\n",
       "    </tr>\n",
       "  </tbody>\n",
       "</table>\n",
       "</div>"
      ],
      "text/plain": [
       "                        clean_name  \\\n",
       "index                                \n",
       "food_130659  toro cha shao persons   \n",
       "food_127787            the guanyin   \n",
       "\n",
       "                                                           loc  \\\n",
       "index                                                            \n",
       "food_130659  [deliveroo/food/19109, deliveroo/food/AV06uSiz...   \n",
       "food_127787  [deliveroo/food/AV2ZY3TUcSlXBuMN4ZOF, delivero...   \n",
       "\n",
       "                                    food_name  \\\n",
       "index                                           \n",
       "food_130659  [(Toro Cha Shao 2-3 persons, 5)]   \n",
       "food_127787              [(The Guanyin, 172)]   \n",
       "\n",
       "                                                     timestamp  \\\n",
       "index                                                            \n",
       "food_130659  [2017-07-03T17:55:01.668428, 2017-07-13T14:37:...   \n",
       "food_127787  [2017-08-01T00:00:04.909498, 2017-09-01 01:00:...   \n",
       "\n",
       "                                                         price  \\\n",
       "index                                                            \n",
       "food_130659                     (16.5, 16.5, 16.5, 16.5, 16.5)   \n",
       "food_127787  ([{'price': 4.71, 'title': 'default'}], [{'pri...   \n",
       "\n",
       "                                                       vendors  \\\n",
       "index                                                            \n",
       "food_130659                                    [delivery_5687]   \n",
       "food_127787  [delivery_3921, delivery_3922, delivery_3923, ...   \n",
       "\n",
       "                                                           tag  \\\n",
       "index                                                            \n",
       "food_130659                      [Chef's Recommendation Roast]   \n",
       "food_127787  [Kopi - Teh, Kopi Teh, Kopi and Teh, Kopi-Teh,...   \n",
       "\n",
       "                                                      desc  \\\n",
       "index                                                        \n",
       "food_130659                                             []   \n",
       "food_127787  [, Currently sold out, Default, Per serving.]   \n",
       "\n",
       "                       lemma_name  \n",
       "index                              \n",
       "food_130659  toro cha shao person  \n",
       "food_127787           the guanyin  "
      ]
     },
     "execution_count": 9,
     "metadata": {},
     "output_type": "execute_result"
    }
   ],
   "source": [
    "df_retrived.sample(2, random_state=2008)"
   ]
  },
  {
   "cell_type": "markdown",
   "metadata": {},
   "source": [
    "** entity linking by sim-hash **"
   ]
  },
  {
   "cell_type": "code",
   "execution_count": null,
   "metadata": {
    "collapsed": true
   },
   "outputs": [],
   "source": [
    "%%time\n",
    "# warnings: big bucket found, len(dups) > 200, not affect results much\n",
    "import warnings\n",
    "warnings.filterwarnings('ignore')\n",
    "df = f.simhash_name(df_retrived, width=2, k =4, col=\"lemma_name\")\n",
    "#13min 37s"
   ]
  },
  {
   "cell_type": "code",
   "execution_count": 14,
   "metadata": {},
   "outputs": [
    {
     "name": "stdout",
     "output_type": "stream",
     "text": [
      "Got 129709 unique name \n"
     ]
    }
   ],
   "source": [
    "print (\"Got %d unique name \" % df_retrived[\"name\"].nunique())"
   ]
  },
  {
   "cell_type": "code",
   "execution_count": 12,
   "metadata": {},
   "outputs": [
    {
     "data": {
      "text/html": [
       "<div>\n",
       "<style scoped>\n",
       "    .dataframe tbody tr th:only-of-type {\n",
       "        vertical-align: middle;\n",
       "    }\n",
       "\n",
       "    .dataframe tbody tr th {\n",
       "        vertical-align: top;\n",
       "    }\n",
       "\n",
       "    .dataframe thead th {\n",
       "        text-align: right;\n",
       "    }\n",
       "</style>\n",
       "<table border=\"1\" class=\"dataframe\">\n",
       "  <thead>\n",
       "    <tr style=\"text-align: right;\">\n",
       "      <th></th>\n",
       "      <th>clean_name</th>\n",
       "      <th>loc</th>\n",
       "      <th>food_name</th>\n",
       "      <th>timestamp</th>\n",
       "      <th>price</th>\n",
       "      <th>vendors</th>\n",
       "      <th>tag</th>\n",
       "      <th>desc</th>\n",
       "      <th>lemma_name</th>\n",
       "      <th>name</th>\n",
       "    </tr>\n",
       "    <tr>\n",
       "      <th>index</th>\n",
       "      <th></th>\n",
       "      <th></th>\n",
       "      <th></th>\n",
       "      <th></th>\n",
       "      <th></th>\n",
       "      <th></th>\n",
       "      <th></th>\n",
       "      <th></th>\n",
       "      <th></th>\n",
       "      <th></th>\n",
       "    </tr>\n",
       "  </thead>\n",
       "  <tbody>\n",
       "    <tr>\n",
       "      <th>food_130659</th>\n",
       "      <td>toro cha shao persons</td>\n",
       "      <td>[deliveroo/food/19109, deliveroo/food/AV06uSiz...</td>\n",
       "      <td>[(Toro Cha Shao 2-3 persons, 5)]</td>\n",
       "      <td>[2017-07-03T17:55:01.668428, 2017-07-13T14:37:...</td>\n",
       "      <td>(16.5, 16.5, 16.5, 16.5, 16.5)</td>\n",
       "      <td>[delivery_5687]</td>\n",
       "      <td>[Chef's Recommendation Roast]</td>\n",
       "      <td>[]</td>\n",
       "      <td>toro cha shao person</td>\n",
       "      <td>toro cha shao person</td>\n",
       "    </tr>\n",
       "    <tr>\n",
       "      <th>food_127787</th>\n",
       "      <td>the guanyin</td>\n",
       "      <td>[deliveroo/food/AV2ZY3TUcSlXBuMN4ZOF, delivero...</td>\n",
       "      <td>[(The Guanyin, 172)]</td>\n",
       "      <td>[2017-08-01T00:00:04.909498, 2017-09-01 01:00:...</td>\n",
       "      <td>([{'price': 4.71, 'title': 'default'}], [{'pri...</td>\n",
       "      <td>[delivery_3921, delivery_3922, delivery_3923, ...</td>\n",
       "      <td>[Kopi - Teh, Kopi Teh, Kopi and Teh, Kopi-Teh,...</td>\n",
       "      <td>[, Currently sold out, Default, Per serving.]</td>\n",
       "      <td>the guanyin</td>\n",
       "      <td>the guanyin</td>\n",
       "    </tr>\n",
       "  </tbody>\n",
       "</table>\n",
       "</div>"
      ],
      "text/plain": [
       "                        clean_name  \\\n",
       "index                                \n",
       "food_130659  toro cha shao persons   \n",
       "food_127787            the guanyin   \n",
       "\n",
       "                                                           loc  \\\n",
       "index                                                            \n",
       "food_130659  [deliveroo/food/19109, deliveroo/food/AV06uSiz...   \n",
       "food_127787  [deliveroo/food/AV2ZY3TUcSlXBuMN4ZOF, delivero...   \n",
       "\n",
       "                                    food_name  \\\n",
       "index                                           \n",
       "food_130659  [(Toro Cha Shao 2-3 persons, 5)]   \n",
       "food_127787              [(The Guanyin, 172)]   \n",
       "\n",
       "                                                     timestamp  \\\n",
       "index                                                            \n",
       "food_130659  [2017-07-03T17:55:01.668428, 2017-07-13T14:37:...   \n",
       "food_127787  [2017-08-01T00:00:04.909498, 2017-09-01 01:00:...   \n",
       "\n",
       "                                                         price  \\\n",
       "index                                                            \n",
       "food_130659                     (16.5, 16.5, 16.5, 16.5, 16.5)   \n",
       "food_127787  ([{'price': 4.71, 'title': 'default'}], [{'pri...   \n",
       "\n",
       "                                                       vendors  \\\n",
       "index                                                            \n",
       "food_130659                                    [delivery_5687]   \n",
       "food_127787  [delivery_3921, delivery_3922, delivery_3923, ...   \n",
       "\n",
       "                                                           tag  \\\n",
       "index                                                            \n",
       "food_130659                      [Chef's Recommendation Roast]   \n",
       "food_127787  [Kopi - Teh, Kopi Teh, Kopi and Teh, Kopi-Teh,...   \n",
       "\n",
       "                                                      desc  \\\n",
       "index                                                        \n",
       "food_130659                                             []   \n",
       "food_127787  [, Currently sold out, Default, Per serving.]   \n",
       "\n",
       "                       lemma_name                  name  \n",
       "index                                                    \n",
       "food_130659  toro cha shao person  toro cha shao person  \n",
       "food_127787           the guanyin           the guanyin  "
      ]
     },
     "execution_count": 12,
     "metadata": {},
     "output_type": "execute_result"
    }
   ],
   "source": [
    "df.sample(2, random_state=2008)"
   ]
  },
  {
   "cell_type": "markdown",
   "metadata": {},
   "source": [
    "** entity linking by removing unecessary words **"
   ]
  },
  {
   "cell_type": "code",
   "execution_count": 20,
   "metadata": {
    "scrolled": true
   },
   "outputs": [
    {
     "name": "stdout",
     "output_type": "stream",
     "text": [
      "number of words to remove: 351\n"
     ]
    }
   ],
   "source": [
    "# import file, longer words first\n",
    "file_name = \"words_to_remove_20180308.csv\"\n",
    "import pandas as pd\n",
    "rmv = pd.read_csv(file_name, header=None)[0].tolist()\n",
    "rmv.sort(key=lambda item: (-len(item), item))\n",
    "print \"number of words to remove: %d\"%len(rmv) "
   ]
  },
  {
   "cell_type": "code",
   "execution_count": 69,
   "metadata": {
    "collapsed": true
   },
   "outputs": [],
   "source": [
    "def shorten_name(name):\n",
    "    name = \" \" + name + \" \"\n",
    "    for s in rmv:\n",
    "        if \" \" + s + \" \" in name:\n",
    "            name = name.replace(\" \" + s + \" \", \" \")\n",
    "    return name.strip()\n",
    "df[\"assigned_name\"] = df[\"name\"].apply(shorten_name)\n",
    "df.reset_index(inplace=True)"
   ]
  },
  {
   "cell_type": "code",
   "execution_count": 70,
   "metadata": {},
   "outputs": [
    {
     "name": "stdout",
     "output_type": "stream",
     "text": [
      "Got 105218 unique short name \n"
     ]
    }
   ],
   "source": [
    "print (\"Got %d unique short name \" % df[\"assigned_name\"].nunique())"
   ]
  },
  {
   "cell_type": "code",
   "execution_count": 74,
   "metadata": {},
   "outputs": [
    {
     "data": {
      "text/html": [
       "<div>\n",
       "<style scoped>\n",
       "    .dataframe tbody tr th:only-of-type {\n",
       "        vertical-align: middle;\n",
       "    }\n",
       "\n",
       "    .dataframe tbody tr th {\n",
       "        vertical-align: top;\n",
       "    }\n",
       "\n",
       "    .dataframe thead th {\n",
       "        text-align: right;\n",
       "    }\n",
       "</style>\n",
       "<table border=\"1\" class=\"dataframe\">\n",
       "  <thead>\n",
       "    <tr style=\"text-align: right;\">\n",
       "      <th></th>\n",
       "      <th>index</th>\n",
       "      <th>clean_name</th>\n",
       "      <th>loc</th>\n",
       "      <th>food_name</th>\n",
       "      <th>timestamp</th>\n",
       "      <th>price</th>\n",
       "      <th>vendors</th>\n",
       "      <th>tag</th>\n",
       "      <th>desc</th>\n",
       "      <th>lemma_name</th>\n",
       "      <th>name</th>\n",
       "      <th>assigned_name</th>\n",
       "    </tr>\n",
       "  </thead>\n",
       "  <tbody>\n",
       "    <tr>\n",
       "      <th>130659</th>\n",
       "      <td>food_130659</td>\n",
       "      <td>toro cha shao persons</td>\n",
       "      <td>[deliveroo/food/19109, deliveroo/food/AV06uSiz...</td>\n",
       "      <td>[(Toro Cha Shao 2-3 persons, 5)]</td>\n",
       "      <td>[2017-07-03T17:55:01.668428, 2017-07-13T14:37:...</td>\n",
       "      <td>(16.5, 16.5, 16.5, 16.5, 16.5)</td>\n",
       "      <td>[delivery_5687]</td>\n",
       "      <td>[Chef's Recommendation Roast]</td>\n",
       "      <td>[]</td>\n",
       "      <td>toro cha shao person</td>\n",
       "      <td>toro cha shao person</td>\n",
       "      <td>toro cha shao</td>\n",
       "    </tr>\n",
       "    <tr>\n",
       "      <th>127787</th>\n",
       "      <td>food_127787</td>\n",
       "      <td>the guanyin</td>\n",
       "      <td>[deliveroo/food/AV2ZY3TUcSlXBuMN4ZOF, delivero...</td>\n",
       "      <td>[(The Guanyin, 172)]</td>\n",
       "      <td>[2017-08-01T00:00:04.909498, 2017-09-01 01:00:...</td>\n",
       "      <td>([{'price': 4.71, 'title': 'default'}], [{'pri...</td>\n",
       "      <td>[delivery_3921, delivery_3922, delivery_3923, ...</td>\n",
       "      <td>[Kopi - Teh, Kopi Teh, Kopi and Teh, Kopi-Teh,...</td>\n",
       "      <td>[, Currently sold out, Default, Per serving.]</td>\n",
       "      <td>the guanyin</td>\n",
       "      <td>the guanyin</td>\n",
       "      <td>guanyin</td>\n",
       "    </tr>\n",
       "  </tbody>\n",
       "</table>\n",
       "</div>"
      ],
      "text/plain": [
       "              index             clean_name  \\\n",
       "130659  food_130659  toro cha shao persons   \n",
       "127787  food_127787            the guanyin   \n",
       "\n",
       "                                                      loc  \\\n",
       "130659  [deliveroo/food/19109, deliveroo/food/AV06uSiz...   \n",
       "127787  [deliveroo/food/AV2ZY3TUcSlXBuMN4ZOF, delivero...   \n",
       "\n",
       "                               food_name  \\\n",
       "130659  [(Toro Cha Shao 2-3 persons, 5)]   \n",
       "127787              [(The Guanyin, 172)]   \n",
       "\n",
       "                                                timestamp  \\\n",
       "130659  [2017-07-03T17:55:01.668428, 2017-07-13T14:37:...   \n",
       "127787  [2017-08-01T00:00:04.909498, 2017-09-01 01:00:...   \n",
       "\n",
       "                                                    price  \\\n",
       "130659                     (16.5, 16.5, 16.5, 16.5, 16.5)   \n",
       "127787  ([{'price': 4.71, 'title': 'default'}], [{'pri...   \n",
       "\n",
       "                                                  vendors  \\\n",
       "130659                                    [delivery_5687]   \n",
       "127787  [delivery_3921, delivery_3922, delivery_3923, ...   \n",
       "\n",
       "                                                      tag  \\\n",
       "130659                      [Chef's Recommendation Roast]   \n",
       "127787  [Kopi - Teh, Kopi Teh, Kopi and Teh, Kopi-Teh,...   \n",
       "\n",
       "                                                 desc            lemma_name  \\\n",
       "130659                                             []  toro cha shao person   \n",
       "127787  [, Currently sold out, Default, Per serving.]           the guanyin   \n",
       "\n",
       "                        name  assigned_name  \n",
       "130659  toro cha shao person  toro cha shao  \n",
       "127787           the guanyin        guanyin  "
      ]
     },
     "execution_count": 74,
     "metadata": {},
     "output_type": "execute_result"
    }
   ],
   "source": [
    "df.sample(2, random_state=2008)"
   ]
  },
  {
   "cell_type": "code",
   "execution_count": 112,
   "metadata": {},
   "outputs": [
    {
     "name": "stdout",
     "output_type": "stream",
     "text": [
      "CPU times: user 33.8 s, sys: 204 ms, total: 34 s\n",
      "Wall time: 33.9 s\n"
     ]
    }
   ],
   "source": [
    "%%time\n",
    "# merge records based on name\n",
    "tup = lambda g: tuple(g)\n",
    "sort_tup= lambda g: sorted(f.flatten(g), key=lambda x:-x[-1])\n",
    "unq = lambda g:  sorted(list(set(g)))\n",
    "unq_enlist = lambda g:  sorted(list(set(f.flatten(g))))\n",
    "fn = {\"food_name\":sort_tup, \n",
    "      \"clean_name\":unq, \n",
    "      \"lemma_name\":unq,\n",
    "      \"vendors\":unq_enlist,  \n",
    "      \"loc\":unq_enlist, \n",
    "      \"timestamp\":unq_enlist, \n",
    "      \"price\":tup,\n",
    "      \"tag\":unq_enlist, \n",
    "      \"desc\":unq_enlist,\n",
    "      \"index\":tup\n",
    "     }\n",
    "df2 = df.groupby(\"assigned_name\").agg(fn)\n",
    "df2.reset_index(inplace=True)"
   ]
  },
  {
   "cell_type": "markdown",
   "metadata": {},
   "source": [
    "** select useful columns **"
   ]
  },
  {
   "cell_type": "code",
   "execution_count": 113,
   "metadata": {
    "collapsed": true
   },
   "outputs": [],
   "source": [
    "df2.rename(columns={'clean_name': 'name_variants', \n",
    "                     'food_name':\"menu_name\",\n",
    "                     'index':'identification_index'}, inplace=True)\n",
    "cols = ['assigned_name', 'name_variants', 'menu_name',\n",
    "        'tag', 'price', 'desc','vendors', 'identification_index', 'loc','timestamp', \n",
    "        ]\n",
    "df2 = df2[cols]"
   ]
  },
  {
   "cell_type": "code",
   "execution_count": 114,
   "metadata": {
    "collapsed": true
   },
   "outputs": [],
   "source": [
    "# get proper price\n",
    "def eval_price(price):\n",
    "    return [float(i) for i in re.findall(\"\\d+\\.\\d+\", str(price))]\n",
    "df2[\"price\"] = df2[\"price\"].apply(eval_price)\n",
    "def avg_price(lst):\n",
    "    import numpy as np\n",
    "    return round(np.mean(lst),2)\n",
    "df2[\"price_average\"] = df2[\"price\"].apply(avg_price)"
   ]
  },
  {
   "cell_type": "markdown",
   "metadata": {},
   "source": [
    "** set index and save file**"
   ]
  },
  {
   "cell_type": "code",
   "execution_count": 116,
   "metadata": {
    "collapsed": true
   },
   "outputs": [],
   "source": [
    "df2.reset_index(inplace=True)\n",
    "df2[\"index\"] = \"food_item_\" + df2[\"index\"].apply(str)\n",
    "df2.set_index(\"index\", inplace=True)"
   ]
  },
  {
   "cell_type": "code",
   "execution_count": 117,
   "metadata": {},
   "outputs": [
    {
     "name": "stdout",
     "output_type": "stream",
     "text": [
      "(105218, 11)\n",
      "['assigned_name', 'name_variants', 'menu_name', 'tag', 'price', 'desc', 'vendors', 'identification_index', 'loc', 'timestamp', 'price_average']\n"
     ]
    },
    {
     "data": {
      "text/html": [
       "<div>\n",
       "<style scoped>\n",
       "    .dataframe tbody tr th:only-of-type {\n",
       "        vertical-align: middle;\n",
       "    }\n",
       "\n",
       "    .dataframe tbody tr th {\n",
       "        vertical-align: top;\n",
       "    }\n",
       "\n",
       "    .dataframe thead th {\n",
       "        text-align: right;\n",
       "    }\n",
       "</style>\n",
       "<table border=\"1\" class=\"dataframe\">\n",
       "  <thead>\n",
       "    <tr style=\"text-align: right;\">\n",
       "      <th></th>\n",
       "      <th>assigned_name</th>\n",
       "      <th>name_variants</th>\n",
       "      <th>menu_name</th>\n",
       "      <th>tag</th>\n",
       "      <th>price</th>\n",
       "      <th>desc</th>\n",
       "      <th>vendors</th>\n",
       "      <th>identification_index</th>\n",
       "      <th>loc</th>\n",
       "      <th>timestamp</th>\n",
       "      <th>price_average</th>\n",
       "    </tr>\n",
       "    <tr>\n",
       "      <th>index</th>\n",
       "      <th></th>\n",
       "      <th></th>\n",
       "      <th></th>\n",
       "      <th></th>\n",
       "      <th></th>\n",
       "      <th></th>\n",
       "      <th></th>\n",
       "      <th></th>\n",
       "      <th></th>\n",
       "      <th></th>\n",
       "      <th></th>\n",
       "    </tr>\n",
       "  </thead>\n",
       "  <tbody>\n",
       "    <tr>\n",
       "      <th>food_item_34634</th>\n",
       "      <td>fry fish head black bean</td>\n",
       "      <td>[fried fish head with black bean sauce]</td>\n",
       "      <td>[(Fried Fish Head with Black Bean Sauce (), 8)]</td>\n",
       "      <td>[Fish Head ()]</td>\n",
       "      <td>[28.0, 28.0, 28.0, 28.0, 28.0, 28.0, 28.0, 28.0]</td>\n",
       "      <td>[]</td>\n",
       "      <td>[delivery_6655]</td>\n",
       "      <td>(food_45135,)</td>\n",
       "      <td>[deliveroo/food/AV07G5kIcSlXBuMN2mzP, delivero...</td>\n",
       "      <td>[2017-07-13T14:37:04.824439, 2017-08-01T00:00:...</td>\n",
       "      <td>28.00</td>\n",
       "    </tr>\n",
       "    <tr>\n",
       "      <th>food_item_13687</th>\n",
       "      <td>calamari squid ink mayonnaise</td>\n",
       "      <td>[calamari with homemade squid ink mayonnaise, ...</td>\n",
       "      <td>[(Calamari with Homemade Squid Ink Mayonnaise,...</td>\n",
       "      <td>[Kickstarters, Kickstarters ]</td>\n",
       "      <td>[25.68, 25.68, 25.68, 25.68, 25.68, 25.68, 25....</td>\n",
       "      <td>[]</td>\n",
       "      <td>[delivery_1367]</td>\n",
       "      <td>(food_17016, food_17017)</td>\n",
       "      <td>[deliveroo/food/107274, deliveroo/food/AV068-w...</td>\n",
       "      <td>[2017-07-03T17:55:01.668428, 2017-07-13T14:37:...</td>\n",
       "      <td>25.68</td>\n",
       "    </tr>\n",
       "  </tbody>\n",
       "</table>\n",
       "</div>"
      ],
      "text/plain": [
       "                                 assigned_name  \\\n",
       "index                                            \n",
       "food_item_34634       fry fish head black bean   \n",
       "food_item_13687  calamari squid ink mayonnaise   \n",
       "\n",
       "                                                     name_variants  \\\n",
       "index                                                                \n",
       "food_item_34634            [fried fish head with black bean sauce]   \n",
       "food_item_13687  [calamari with homemade squid ink mayonnaise, ...   \n",
       "\n",
       "                                                         menu_name  \\\n",
       "index                                                                \n",
       "food_item_34634    [(Fried Fish Head with Black Bean Sauce (), 8)]   \n",
       "food_item_13687  [(Calamari with Homemade Squid Ink Mayonnaise,...   \n",
       "\n",
       "                                           tag  \\\n",
       "index                                            \n",
       "food_item_34634                 [Fish Head ()]   \n",
       "food_item_13687  [Kickstarters, Kickstarters ]   \n",
       "\n",
       "                                                             price desc  \\\n",
       "index                                                                     \n",
       "food_item_34634   [28.0, 28.0, 28.0, 28.0, 28.0, 28.0, 28.0, 28.0]   []   \n",
       "food_item_13687  [25.68, 25.68, 25.68, 25.68, 25.68, 25.68, 25....   []   \n",
       "\n",
       "                         vendors      identification_index  \\\n",
       "index                                                        \n",
       "food_item_34634  [delivery_6655]             (food_45135,)   \n",
       "food_item_13687  [delivery_1367]  (food_17016, food_17017)   \n",
       "\n",
       "                                                               loc  \\\n",
       "index                                                                \n",
       "food_item_34634  [deliveroo/food/AV07G5kIcSlXBuMN2mzP, delivero...   \n",
       "food_item_13687  [deliveroo/food/107274, deliveroo/food/AV068-w...   \n",
       "\n",
       "                                                         timestamp  \\\n",
       "index                                                                \n",
       "food_item_34634  [2017-07-13T14:37:04.824439, 2017-08-01T00:00:...   \n",
       "food_item_13687  [2017-07-03T17:55:01.668428, 2017-07-13T14:37:...   \n",
       "\n",
       "                 price_average  \n",
       "index                           \n",
       "food_item_34634          28.00  \n",
       "food_item_13687          25.68  "
      ]
     },
     "execution_count": 117,
     "metadata": {},
     "output_type": "execute_result"
    }
   ],
   "source": [
    "print df2.shape\n",
    "print df2.columns.tolist()\n",
    "df2.sample(2,random_state=2008*2)"
   ]
  },
  {
   "cell_type": "code",
   "execution_count": 118,
   "metadata": {},
   "outputs": [
    {
     "name": "stdout",
     "output_type": "stream",
     "text": [
      "saved: food_entities__20180317.json\n"
     ]
    }
   ],
   "source": [
    "# ## save to json\n",
    "# file_name = \"__\".join([\"food_entities\", f.today()]) + \".json\"\n",
    "# df2.to_json(file_name, orient='index')\n",
    "# print \"saved: %s\"%file_name"
   ]
  },
  {
   "cell_type": "code",
   "execution_count": 119,
   "metadata": {},
   "outputs": [
    {
     "name": "stdout",
     "output_type": "stream",
     "text": [
      "saved: food_entities__20180317.p\n"
     ]
    }
   ],
   "source": [
    "## save to p file\n",
    "file_name = \"__\".join([\"food_entities\", f.today()]) + \".p\"\n",
    "f.save_file(df2, file_name)"
   ]
  },
  {
   "cell_type": "code",
   "execution_count": 121,
   "metadata": {},
   "outputs": [
    {
     "name": "stdout",
     "output_type": "stream",
     "text": [
      "saved: food_items_20180317.csv\n"
     ]
    }
   ],
   "source": [
    "# file_name = \"food_items_\"+f.today()+\".csv\"\n",
    "# df2[\"assigned_name\"].to_csv(file_name, index=False, header=None)\n",
    "# print \"saved: %s\"%file_name"
   ]
  },
  {
   "cell_type": "markdown",
   "metadata": {},
   "source": [
    "** public version **"
   ]
  },
  {
   "cell_type": "code",
   "execution_count": 122,
   "metadata": {},
   "outputs": [
    {
     "name": "stdout",
     "output_type": "stream",
     "text": [
      "saved: public_food_entities__20180317.json\n"
     ]
    }
   ],
   "source": [
    "public_cols = ['assigned_name', 'name_variants', 'price_average']\n",
    "## save to json\n",
    "file_name = \"__\".join([\"public_food_entities\", f.today()]) + \".json\"\n",
    "df2[public_cols].to_json(file_name, orient='index')\n",
    "print \"saved: %s\"%file_name"
   ]
  },
  {
   "cell_type": "code",
   "execution_count": null,
   "metadata": {
    "collapsed": true
   },
   "outputs": [],
   "source": []
  }
 ],
 "metadata": {
  "kernelspec": {
   "display_name": "Python 2",
   "language": "python",
   "name": "python2"
  },
  "language_info": {
   "codemirror_mode": {
    "name": "ipython",
    "version": 2
   },
   "file_extension": ".py",
   "mimetype": "text/x-python",
   "name": "python",
   "nbconvert_exporter": "python",
   "pygments_lexer": "ipython2",
   "version": "2.7.14"
  }
 },
 "nbformat": 4,
 "nbformat_minor": 2
}
